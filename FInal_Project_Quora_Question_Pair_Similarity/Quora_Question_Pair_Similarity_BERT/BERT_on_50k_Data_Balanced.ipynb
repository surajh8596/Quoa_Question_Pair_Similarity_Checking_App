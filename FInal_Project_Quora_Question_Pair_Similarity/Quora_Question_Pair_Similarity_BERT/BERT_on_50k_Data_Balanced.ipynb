{
 "cells": [
  {
   "cell_type": "markdown",
   "metadata": {},
   "source": [
    "<h1 style=\"color:blue; background:lightblue; line-height:1.5; text-align:center\">* Quora Question Pair Similarity using BERT and ML Models*</h1>"
   ]
  },
  {
   "cell_type": "markdown",
   "metadata": {
    "id": "VHwRS2YE3iN8"
   },
   "source": [
    "<h2 style=\"color:blue; background:pink; line-height:1.5\">Import required libraries</h2>"
   ]
  },
  {
   "cell_type": "code",
   "execution_count": 1,
   "metadata": {
    "id": "eMKo8YWgkQa7"
   },
   "outputs": [],
   "source": [
    "import pandas as pd\n",
    "import numpy as np\n",
    "import warnings\n",
    "warnings.filterwarnings('ignore')\n",
    "import seaborn as sns\n",
    "sns.set_style('darkgrid')\n",
    "import matplotlib.pyplot as plt"
   ]
  },
  {
   "cell_type": "markdown",
   "metadata": {
    "id": "trwoA6njhc2d"
   },
   "source": [
    "<h2 style=\"color:blue; background:pink; line-height:1.5\">Loading Dataset which has extracted features and Preprocessed</h2>"
   ]
  },
  {
   "cell_type": "markdown",
   "metadata": {
    "id": "WOnWl3nIRYA6"
   },
   "source": [
    "**Dataset link:** https://drive.google.com/file/d/1rxPJHAvSXzOPEpIqmaAsXvhJK8p4K4JN/view?usp=sharing\n",
    "\n",
    "**Preprocessed Dataset link:** https://drive.google.com/file/d/1gKfuAAzJRs-l-0ftJgb-NQj8-PQrLqtn/view?usp=sharing"
   ]
  },
  {
   "cell_type": "code",
   "execution_count": 2,
   "metadata": {
    "colab": {
     "base_uri": "https://localhost:8080/",
     "height": 646
    },
    "id": "3zwShP5bqHtd",
    "outputId": "574f448e-9db8-400d-aec0-76b1a068cd4c"
   },
   "outputs": [
    {
     "data": {
      "text/html": [
       "<div>\n",
       "<style scoped>\n",
       "    .dataframe tbody tr th:only-of-type {\n",
       "        vertical-align: middle;\n",
       "    }\n",
       "\n",
       "    .dataframe tbody tr th {\n",
       "        vertical-align: top;\n",
       "    }\n",
       "\n",
       "    .dataframe thead th {\n",
       "        text-align: right;\n",
       "    }\n",
       "</style>\n",
       "<table border=\"1\" class=\"dataframe\">\n",
       "  <thead>\n",
       "    <tr style=\"text-align: right;\">\n",
       "      <th></th>\n",
       "      <th>question1</th>\n",
       "      <th>question2</th>\n",
       "      <th>is_duplicate</th>\n",
       "      <th>que1_len</th>\n",
       "      <th>que2_len</th>\n",
       "      <th>que1_num_words</th>\n",
       "      <th>que2_num_words</th>\n",
       "      <th>total_words</th>\n",
       "      <th>common_words</th>\n",
       "      <th>shared_words</th>\n",
       "      <th>...</th>\n",
       "      <th>ctc_max</th>\n",
       "      <th>last_word_eq</th>\n",
       "      <th>first_word_eq</th>\n",
       "      <th>abs_len_diff</th>\n",
       "      <th>mean_len</th>\n",
       "      <th>long_substr_ratio</th>\n",
       "      <th>fuzz_ratio</th>\n",
       "      <th>fuzz_partial_ratio</th>\n",
       "      <th>token_sort_ratio</th>\n",
       "      <th>token_set_ratio</th>\n",
       "    </tr>\n",
       "  </thead>\n",
       "  <tbody>\n",
       "    <tr>\n",
       "      <th>0</th>\n",
       "      <td>what minor would complement a computer science...</td>\n",
       "      <td>what is a good minor that will compliment a co...</td>\n",
       "      <td>1</td>\n",
       "      <td>52</td>\n",
       "      <td>66</td>\n",
       "      <td>8</td>\n",
       "      <td>12</td>\n",
       "      <td>19</td>\n",
       "      <td>8</td>\n",
       "      <td>0.42</td>\n",
       "      <td>...</td>\n",
       "      <td>0.499996</td>\n",
       "      <td>1.0</td>\n",
       "      <td>1.0</td>\n",
       "      <td>4.0</td>\n",
       "      <td>10.0</td>\n",
       "      <td>0.547170</td>\n",
       "      <td>81</td>\n",
       "      <td>85</td>\n",
       "      <td>81</td>\n",
       "      <td>83</td>\n",
       "    </tr>\n",
       "    <tr>\n",
       "      <th>1</th>\n",
       "      <td>how can i materialize an idea</td>\n",
       "      <td>what is the best way to materialize on an idea</td>\n",
       "      <td>1</td>\n",
       "      <td>29</td>\n",
       "      <td>46</td>\n",
       "      <td>6</td>\n",
       "      <td>10</td>\n",
       "      <td>16</td>\n",
       "      <td>2</td>\n",
       "      <td>0.12</td>\n",
       "      <td>...</td>\n",
       "      <td>0.299997</td>\n",
       "      <td>1.0</td>\n",
       "      <td>0.0</td>\n",
       "      <td>4.0</td>\n",
       "      <td>8.0</td>\n",
       "      <td>0.433333</td>\n",
       "      <td>64</td>\n",
       "      <td>72</td>\n",
       "      <td>53</td>\n",
       "      <td>79</td>\n",
       "    </tr>\n",
       "    <tr>\n",
       "      <th>2</th>\n",
       "      <td>what was the happiest day of your life and why...</td>\n",
       "      <td>what was is will be the happiest day of your life</td>\n",
       "      <td>1</td>\n",
       "      <td>53</td>\n",
       "      <td>49</td>\n",
       "      <td>12</td>\n",
       "      <td>11</td>\n",
       "      <td>22</td>\n",
       "      <td>11</td>\n",
       "      <td>0.50</td>\n",
       "      <td>...</td>\n",
       "      <td>0.666661</td>\n",
       "      <td>0.0</td>\n",
       "      <td>1.0</td>\n",
       "      <td>1.0</td>\n",
       "      <td>11.5</td>\n",
       "      <td>0.600000</td>\n",
       "      <td>75</td>\n",
       "      <td>78</td>\n",
       "      <td>84</td>\n",
       "      <td>88</td>\n",
       "    </tr>\n",
       "    <tr>\n",
       "      <th>3</th>\n",
       "      <td>what role project manager has in agile projects</td>\n",
       "      <td>what is the role of project management in agil...</td>\n",
       "      <td>1</td>\n",
       "      <td>47</td>\n",
       "      <td>68</td>\n",
       "      <td>8</td>\n",
       "      <td>11</td>\n",
       "      <td>19</td>\n",
       "      <td>8</td>\n",
       "      <td>0.42</td>\n",
       "      <td>...</td>\n",
       "      <td>0.454541</td>\n",
       "      <td>0.0</td>\n",
       "      <td>1.0</td>\n",
       "      <td>3.0</td>\n",
       "      <td>9.5</td>\n",
       "      <td>0.312500</td>\n",
       "      <td>64</td>\n",
       "      <td>70</td>\n",
       "      <td>59</td>\n",
       "      <td>71</td>\n",
       "    </tr>\n",
       "    <tr>\n",
       "      <th>4</th>\n",
       "      <td>who will win in america presidential elections...</td>\n",
       "      <td>between trump and clinton who will win us pres...</td>\n",
       "      <td>1</td>\n",
       "      <td>54</td>\n",
       "      <td>63</td>\n",
       "      <td>9</td>\n",
       "      <td>10</td>\n",
       "      <td>18</td>\n",
       "      <td>8</td>\n",
       "      <td>0.44</td>\n",
       "      <td>...</td>\n",
       "      <td>0.399996</td>\n",
       "      <td>0.0</td>\n",
       "      <td>0.0</td>\n",
       "      <td>1.0</td>\n",
       "      <td>9.5</td>\n",
       "      <td>0.400000</td>\n",
       "      <td>60</td>\n",
       "      <td>77</td>\n",
       "      <td>65</td>\n",
       "      <td>68</td>\n",
       "    </tr>\n",
       "  </tbody>\n",
       "</table>\n",
       "<p>5 rows × 25 columns</p>\n",
       "</div>"
      ],
      "text/plain": [
       "                                           question1  \\\n",
       "0  what minor would complement a computer science...   \n",
       "1                      how can i materialize an idea   \n",
       "2  what was the happiest day of your life and why...   \n",
       "3    what role project manager has in agile projects   \n",
       "4  who will win in america presidential elections...   \n",
       "\n",
       "                                           question2  is_duplicate  que1_len  \\\n",
       "0  what is a good minor that will compliment a co...             1        52   \n",
       "1     what is the best way to materialize on an idea             1        29   \n",
       "2  what was is will be the happiest day of your life             1        53   \n",
       "3  what is the role of project management in agil...             1        47   \n",
       "4  between trump and clinton who will win us pres...             1        54   \n",
       "\n",
       "   que2_len  que1_num_words  que2_num_words  total_words  common_words  \\\n",
       "0        66               8              12           19             8   \n",
       "1        46               6              10           16             2   \n",
       "2        49              12              11           22            11   \n",
       "3        68               8              11           19             8   \n",
       "4        63               9              10           18             8   \n",
       "\n",
       "   shared_words  ...   ctc_max  last_word_eq  first_word_eq  abs_len_diff  \\\n",
       "0          0.42  ...  0.499996           1.0            1.0           4.0   \n",
       "1          0.12  ...  0.299997           1.0            0.0           4.0   \n",
       "2          0.50  ...  0.666661           0.0            1.0           1.0   \n",
       "3          0.42  ...  0.454541           0.0            1.0           3.0   \n",
       "4          0.44  ...  0.399996           0.0            0.0           1.0   \n",
       "\n",
       "   mean_len  long_substr_ratio  fuzz_ratio  fuzz_partial_ratio  \\\n",
       "0      10.0           0.547170          81                  85   \n",
       "1       8.0           0.433333          64                  72   \n",
       "2      11.5           0.600000          75                  78   \n",
       "3       9.5           0.312500          64                  70   \n",
       "4       9.5           0.400000          60                  77   \n",
       "\n",
       "   token_sort_ratio  token_set_ratio  \n",
       "0                81               83  \n",
       "1                53               79  \n",
       "2                84               88  \n",
       "3                59               71  \n",
       "4                65               68  \n",
       "\n",
       "[5 rows x 25 columns]"
      ]
     },
     "execution_count": 2,
     "metadata": {},
     "output_type": "execute_result"
    }
   ],
   "source": [
    "df=pd.read_csv('data/feat_extr_data.csv')\n",
    "df.head()"
   ]
  },
  {
   "cell_type": "markdown",
   "metadata": {
    "id": "gwsUc9uL3_AV"
   },
   "source": [
    "<h2 style=\"color:blue; background:pink; line-height:1.5\">Dataset information</h2>"
   ]
  },
  {
   "cell_type": "code",
   "execution_count": 3,
   "metadata": {
    "colab": {
     "base_uri": "https://localhost:8080/"
    },
    "id": "NVHK4gBmkQa8",
    "outputId": "f10d5cab-de6d-412f-9d7a-383d315dd38d"
   },
   "outputs": [
    {
     "data": {
      "text/plain": [
       "(49998, 25)"
      ]
     },
     "execution_count": 3,
     "metadata": {},
     "output_type": "execute_result"
    }
   ],
   "source": [
    "df.shape"
   ]
  },
  {
   "cell_type": "code",
   "execution_count": 4,
   "metadata": {
    "colab": {
     "base_uri": "https://localhost:8080/"
    },
    "id": "gE9zCHN74GIO",
    "outputId": "4bdd356e-14c5-46a0-ce49-dc62af98695d"
   },
   "outputs": [
    {
     "name": "stdout",
     "output_type": "stream",
     "text": [
      "<class 'pandas.core.frame.DataFrame'>\n",
      "RangeIndex: 49998 entries, 0 to 49997\n",
      "Data columns (total 25 columns):\n",
      " #   Column              Non-Null Count  Dtype  \n",
      "---  ------              --------------  -----  \n",
      " 0   question1           49998 non-null  object \n",
      " 1   question2           49998 non-null  object \n",
      " 2   is_duplicate        49998 non-null  int64  \n",
      " 3   que1_len            49998 non-null  int64  \n",
      " 4   que2_len            49998 non-null  int64  \n",
      " 5   que1_num_words      49998 non-null  int64  \n",
      " 6   que2_num_words      49998 non-null  int64  \n",
      " 7   total_words         49998 non-null  int64  \n",
      " 8   common_words        49998 non-null  int64  \n",
      " 9   shared_words        49998 non-null  float64\n",
      " 10  cwc_min             49998 non-null  float64\n",
      " 11  cwc_max             49998 non-null  float64\n",
      " 12  csc_min             49998 non-null  float64\n",
      " 13  csc_max             49998 non-null  float64\n",
      " 14  ctc_min             49998 non-null  float64\n",
      " 15  ctc_max             49998 non-null  float64\n",
      " 16  last_word_eq        49998 non-null  float64\n",
      " 17  first_word_eq       49998 non-null  float64\n",
      " 18  abs_len_diff        49998 non-null  float64\n",
      " 19  mean_len            49998 non-null  float64\n",
      " 20  long_substr_ratio   49998 non-null  float64\n",
      " 21  fuzz_ratio          49998 non-null  int64  \n",
      " 22  fuzz_partial_ratio  49998 non-null  int64  \n",
      " 23  token_sort_ratio    49998 non-null  int64  \n",
      " 24  token_set_ratio     49998 non-null  int64  \n",
      "dtypes: float64(12), int64(11), object(2)\n",
      "memory usage: 9.5+ MB\n"
     ]
    }
   ],
   "source": [
    "df.info()"
   ]
  },
  {
   "cell_type": "markdown",
   "metadata": {
    "id": "JzO9JYN34JNr"
   },
   "source": [
    "<h2 style=\"color:blue; background:pink; line-height:1.5\">Missing values</h2>"
   ]
  },
  {
   "cell_type": "code",
   "execution_count": 5,
   "metadata": {
    "colab": {
     "base_uri": "https://localhost:8080/"
    },
    "id": "rpP-K8lYqk8S",
    "outputId": "6465bc4c-3c39-4419-ad56-09f19f0c115d"
   },
   "outputs": [
    {
     "data": {
      "text/plain": [
       "question1             0\n",
       "question2             0\n",
       "is_duplicate          0\n",
       "que1_len              0\n",
       "que2_len              0\n",
       "que1_num_words        0\n",
       "que2_num_words        0\n",
       "total_words           0\n",
       "common_words          0\n",
       "shared_words          0\n",
       "cwc_min               0\n",
       "cwc_max               0\n",
       "csc_min               0\n",
       "csc_max               0\n",
       "ctc_min               0\n",
       "ctc_max               0\n",
       "last_word_eq          0\n",
       "first_word_eq         0\n",
       "abs_len_diff          0\n",
       "mean_len              0\n",
       "long_substr_ratio     0\n",
       "fuzz_ratio            0\n",
       "fuzz_partial_ratio    0\n",
       "token_sort_ratio      0\n",
       "token_set_ratio       0\n",
       "dtype: int64"
      ]
     },
     "execution_count": 5,
     "metadata": {},
     "output_type": "execute_result"
    }
   ],
   "source": [
    "df.isnull().sum()"
   ]
  },
  {
   "cell_type": "markdown",
   "metadata": {
    "id": "3JaViFSbRqkm"
   },
   "source": [
    "<h2 style=\"color:blue; background:pink; line-height:1.5\">Data Balance check</h2>"
   ]
  },
  {
   "cell_type": "code",
   "execution_count": 6,
   "metadata": {
    "colab": {
     "base_uri": "https://localhost:8080/",
     "height": 112
    },
    "id": "dlVNa9BuRtrU",
    "outputId": "5e4a7f1c-83e2-49d5-e1c1-080855662035"
   },
   "outputs": [
    {
     "data": {
      "text/html": [
       "<div>\n",
       "<style scoped>\n",
       "    .dataframe tbody tr th:only-of-type {\n",
       "        vertical-align: middle;\n",
       "    }\n",
       "\n",
       "    .dataframe tbody tr th {\n",
       "        vertical-align: top;\n",
       "    }\n",
       "\n",
       "    .dataframe thead th {\n",
       "        text-align: right;\n",
       "    }\n",
       "</style>\n",
       "<table border=\"1\" class=\"dataframe\">\n",
       "  <thead>\n",
       "    <tr style=\"text-align: right;\">\n",
       "      <th></th>\n",
       "      <th>Class</th>\n",
       "      <th>Count</th>\n",
       "      <th>Percentage</th>\n",
       "    </tr>\n",
       "  </thead>\n",
       "  <tbody>\n",
       "    <tr>\n",
       "      <th>0</th>\n",
       "      <td>1</td>\n",
       "      <td>25000</td>\n",
       "      <td>50.002</td>\n",
       "    </tr>\n",
       "    <tr>\n",
       "      <th>1</th>\n",
       "      <td>0</td>\n",
       "      <td>24998</td>\n",
       "      <td>49.998</td>\n",
       "    </tr>\n",
       "  </tbody>\n",
       "</table>\n",
       "</div>"
      ],
      "text/plain": [
       "   Class  Count  Percentage\n",
       "0      1  25000      50.002\n",
       "1      0  24998      49.998"
      ]
     },
     "execution_count": 6,
     "metadata": {},
     "output_type": "execute_result"
    }
   ],
   "source": [
    "class_balance=pd.DataFrame(df['is_duplicate'].value_counts()).reset_index()\n",
    "class_balance.columns=[\"Class\", \"Count\"]\n",
    "class_balance['Percentage']=(class_balance['Count']/df.shape[0])*100\n",
    "class_balance"
   ]
  },
  {
   "cell_type": "code",
   "execution_count": 7,
   "metadata": {
    "colab": {
     "base_uri": "https://localhost:8080/",
     "height": 526
    },
    "id": "2gedp0ryR1CG",
    "outputId": "cfbe7db5-a8ea-4145-d4a7-5e0cf11ccbcb"
   },
   "outputs": [
    {
     "data": {
      "image/png": "[encoded data removed]",
      "text/plain": [
       "<Figure size 432x432 with 1 Axes>"
      ]
     },
     "metadata": {},
     "output_type": "display_data"
    }
   ],
   "source": [
    "label=['Non-Duplicate', 'Duplicate'] \n",
    "color=sns.color_palette('rainbow')[4:6]\n",
    "plt.figure(figsize=(6,6))\n",
    "plt.pie(x=class_balance['Count'], labels=label, colors=color, autopct='%.0f%%' , labeldistance=0.5)\n",
    "plt.title(\"Count of Non-Duplicate and Duplicate questions\", fontsize=18, color='green');"
   ]
  },
  {
   "cell_type": "markdown",
   "metadata": {},
   "source": [
    "<h2 style=\"color:blue; background:pink; line-height:1.5\">Combine question1 and question2</h2>"
   ]
  },
  {
   "cell_type": "code",
   "execution_count": 8,
   "metadata": {},
   "outputs": [
    {
     "data": {
      "text/html": [
       "<div>\n",
       "<style scoped>\n",
       "    .dataframe tbody tr th:only-of-type {\n",
       "        vertical-align: middle;\n",
       "    }\n",
       "\n",
       "    .dataframe tbody tr th {\n",
       "        vertical-align: top;\n",
       "    }\n",
       "\n",
       "    .dataframe thead th {\n",
       "        text-align: right;\n",
       "    }\n",
       "</style>\n",
       "<table border=\"1\" class=\"dataframe\">\n",
       "  <thead>\n",
       "    <tr style=\"text-align: right;\">\n",
       "      <th></th>\n",
       "      <th>is_duplicate</th>\n",
       "      <th>question1</th>\n",
       "      <th>question2</th>\n",
       "      <th>combine_question</th>\n",
       "    </tr>\n",
       "  </thead>\n",
       "  <tbody>\n",
       "    <tr>\n",
       "      <th>0</th>\n",
       "      <td>1</td>\n",
       "      <td>what minor would complement a computer science...</td>\n",
       "      <td>what is a good minor that will compliment a co...</td>\n",
       "      <td>what minor would complement a computer science...</td>\n",
       "    </tr>\n",
       "    <tr>\n",
       "      <th>1</th>\n",
       "      <td>1</td>\n",
       "      <td>how can i materialize an idea</td>\n",
       "      <td>what is the best way to materialize on an idea</td>\n",
       "      <td>how can i materialize an idea what is the best...</td>\n",
       "    </tr>\n",
       "  </tbody>\n",
       "</table>\n",
       "</div>"
      ],
      "text/plain": [
       "   is_duplicate                                          question1  \\\n",
       "0             1  what minor would complement a computer science...   \n",
       "1             1                      how can i materialize an idea   \n",
       "\n",
       "                                           question2  \\\n",
       "0  what is a good minor that will compliment a co...   \n",
       "1     what is the best way to materialize on an idea   \n",
       "\n",
       "                                    combine_question  \n",
       "0  what minor would complement a computer science...  \n",
       "1  how can i materialize an idea what is the best...  "
      ]
     },
     "execution_count": 8,
     "metadata": {},
     "output_type": "execute_result"
    }
   ],
   "source": [
    "data=df[['is_duplicate','question1','question2']]\n",
    "data['combine_question']=data['question1']+\" \"+data['question2']\n",
    "data.head(2)"
   ]
  },
  {
   "cell_type": "markdown",
   "metadata": {
    "id": "TASr03i5498_"
   },
   "source": [
    "<h2 style=\"color:blue; background:pink; line-height:1.5\">Input and output feaures</h2>"
   ]
  },
  {
   "cell_type": "code",
   "execution_count": 9,
   "metadata": {
    "colab": {
     "base_uri": "https://localhost:8080/"
    },
    "id": "kuhG3nL9kQa-",
    "outputId": "0d48815a-8f04-468a-edac-50e94eb289d0"
   },
   "outputs": [
    {
     "name": "stdout",
     "output_type": "stream",
     "text": [
      "(49998, 3) (49998,)\n"
     ]
    }
   ],
   "source": [
    "X=data.drop('is_duplicate', axis=1)\n",
    "y=data['is_duplicate']\n",
    "print(X.shape, y.shape)"
   ]
  },
  {
   "cell_type": "markdown",
   "metadata": {},
   "source": [
    "<h2 style=\"color:blue; background:pink; line-height:1.5\">Train Test Split</h2>"
   ]
  },
  {
   "cell_type": "code",
   "execution_count": 10,
   "metadata": {},
   "outputs": [
    {
     "name": "stdout",
     "output_type": "stream",
     "text": [
      "x train shape= (39998, 3)\n",
      "y train shape= (39998,)\n",
      "x test shape= (10000, 3)\n",
      "y test shape= (10000,)\n"
     ]
    }
   ],
   "source": [
    "from sklearn.model_selection import train_test_split\n",
    "x_train, x_test, y_train, y_test = train_test_split(X, y, test_size=0.2, random_state=42)\n",
    "print(\"x train shape=\", x_train.shape)\n",
    "print(\"y train shape=\", y_train.shape)\n",
    "print(\"x test shape=\", x_test.shape)\n",
    "print(\"y test shape=\", y_test.shape)"
   ]
  },
  {
   "cell_type": "markdown",
   "metadata": {},
   "source": [
    "### No need of text preprocessing because we loaded clean data"
   ]
  },
  {
   "cell_type": "markdown",
   "metadata": {
    "id": "0gCnp0hzkQbB"
   },
   "source": [
    "<h2 style=\"color:blue; background:pink; line-height:1.5\">Convert Text to Numerical Sentence Vectors using BERT</h2>"
   ]
  },
  {
   "cell_type": "code",
   "execution_count": 11,
   "metadata": {},
   "outputs": [
    {
     "name": "stdout",
     "output_type": "stream",
     "text": [
      "Collecting sentence-transformers\n",
      "  Downloading sentence-transformers-2.2.2.tar.gz (85 kB)\n",
      "Collecting transformers<5.0.0,>=4.6.0\n",
      "  Downloading transformers-4.29.2-py3-none-any.whl (7.1 MB)\n",
      "Requirement already satisfied: tqdm in c:\\users\\user\\anaconda3\\lib\\site-packages (from sentence-transformers) (4.62.3)\n",
      "Requirement already satisfied: torch>=1.6.0 in c:\\users\\user\\anaconda3\\lib\\site-packages (from sentence-transformers) (1.13.1)\n",
      "Requirement already satisfied: torchvision in c:\\users\\user\\anaconda3\\lib\\site-packages (from sentence-transformers) (0.14.1)\n",
      "Requirement already satisfied: numpy in c:\\users\\user\\anaconda3\\lib\\site-packages (from sentence-transformers) (1.22.4)\n",
      "Requirement already satisfied: scikit-learn in c:\\users\\user\\anaconda3\\lib\\site-packages (from sentence-transformers) (1.2.1)\n",
      "Requirement already satisfied: scipy in c:\\users\\user\\anaconda3\\lib\\site-packages (from sentence-transformers) (1.7.1)\n",
      "Requirement already satisfied: nltk in c:\\users\\user\\anaconda3\\lib\\site-packages (from sentence-transformers) (3.7)\n",
      "Collecting sentencepiece\n",
      "  Downloading sentencepiece-0.1.99-cp39-cp39-win_amd64.whl (977 kB)\n",
      "Collecting huggingface-hub>=0.4.0\n",
      "  Downloading huggingface_hub-0.15.1-py3-none-any.whl (236 kB)\n",
      "Requirement already satisfied: filelock in c:\\users\\user\\anaconda3\\lib\\site-packages (from huggingface-hub>=0.4.0->sentence-transformers) (3.3.1)\n",
      "Requirement already satisfied: fsspec in c:\\users\\user\\anaconda3\\lib\\site-packages (from huggingface-hub>=0.4.0->sentence-transformers) (2023.5.0)\n",
      "Requirement already satisfied: packaging>=20.9 in c:\\users\\user\\anaconda3\\lib\\site-packages (from huggingface-hub>=0.4.0->sentence-transformers) (22.0)\n",
      "Requirement already satisfied: requests in c:\\users\\user\\anaconda3\\lib\\site-packages (from huggingface-hub>=0.4.0->sentence-transformers) (2.26.0)\n",
      "Requirement already satisfied: typing-extensions>=3.7.4.3 in c:\\users\\user\\anaconda3\\lib\\site-packages (from huggingface-hub>=0.4.0->sentence-transformers) (4.4.0)\n",
      "Requirement already satisfied: pyyaml>=5.1 in c:\\users\\user\\anaconda3\\lib\\site-packages (from huggingface-hub>=0.4.0->sentence-transformers) (6.0)\n",
      "Requirement already satisfied: colorama in c:\\users\\user\\anaconda3\\lib\\site-packages (from tqdm->sentence-transformers) (0.4.6)\n",
      "Requirement already satisfied: regex!=2019.12.17 in c:\\users\\user\\anaconda3\\lib\\site-packages (from transformers<5.0.0,>=4.6.0->sentence-transformers) (2021.8.3)\n",
      "Collecting tokenizers!=0.11.3,<0.14,>=0.11.1\n",
      "  Downloading tokenizers-0.13.3-cp39-cp39-win_amd64.whl (3.5 MB)\n",
      "Requirement already satisfied: click in c:\\users\\user\\anaconda3\\lib\\site-packages (from nltk->sentence-transformers) (8.0.3)\n",
      "Requirement already satisfied: joblib in c:\\users\\user\\anaconda3\\lib\\site-packages (from nltk->sentence-transformers) (1.2.0)\n",
      "Requirement already satisfied: urllib3<1.27,>=1.21.1 in c:\\users\\user\\anaconda3\\lib\\site-packages (from requests->huggingface-hub>=0.4.0->sentence-transformers) (1.26.7)\n",
      "Requirement already satisfied: charset-normalizer~=2.0.0 in c:\\users\\user\\anaconda3\\lib\\site-packages (from requests->huggingface-hub>=0.4.0->sentence-transformers) (2.0.4)\n",
      "Requirement already satisfied: certifi>=2017.4.17 in c:\\users\\user\\anaconda3\\lib\\site-packages (from requests->huggingface-hub>=0.4.0->sentence-transformers) (2022.12.7)\n",
      "Requirement already satisfied: idna<4,>=2.5 in c:\\users\\user\\anaconda3\\lib\\site-packages (from requests->huggingface-hub>=0.4.0->sentence-transformers) (3.4)\n",
      "Requirement already satisfied: threadpoolctl>=2.0.0 in c:\\users\\user\\anaconda3\\lib\\site-packages (from scikit-learn->sentence-transformers) (2.2.0)\n",
      "Requirement already satisfied: pillow!=8.3.*,>=5.3.0 in c:\\users\\user\\anaconda3\\lib\\site-packages (from torchvision->sentence-transformers) (9.3.0)\n",
      "Building wheels for collected packages: sentence-transformers\n",
      "  Building wheel for sentence-transformers (setup.py): started\n",
      "  Building wheel for sentence-transformers (setup.py): finished with status 'done'\n",
      "  Created wheel for sentence-transformers: filename=sentence_transformers-2.2.2-py3-none-any.whl size=125938 sha256=bd6351a65b371562d5e517d2d33744ff60cbcc7975ed6010acb90d7fcfcd6257\n",
      "  Stored in directory: c:\\users\\user\\appdata\\local\\pip\\cache\\wheels\\71\\67\\06\\162a3760c40d74dd40bc855d527008d26341c2b0ecf3e8e11f\n",
      "Successfully built sentence-transformers\n",
      "Installing collected packages: tokenizers, huggingface-hub, transformers, sentencepiece, sentence-transformers\n",
      "Successfully installed huggingface-hub-0.15.1 sentence-transformers-2.2.2 sentencepiece-0.1.99 tokenizers-0.13.3 transformers-4.29.2\n"
     ]
    }
   ],
   "source": [
    "!pip install -U sentence-transformers"
   ]
  },
  {
   "cell_type": "code",
   "execution_count": 12,
   "metadata": {},
   "outputs": [
    {
     "data": {
      "application/vnd.jupyter.widget-view+json": {
       "model_id": "204426943b1d45d09ffe620f8762ba57",
       "version_major": 2,
       "version_minor": 0
      },
      "text/plain": [
       "Downloading (…)e9125/.gitattributes:   0%|          | 0.00/1.18k [00:00<?, ?B/s]"
      ]
     },
     "metadata": {},
     "output_type": "display_data"
    },
    {
     "data": {
      "application/vnd.jupyter.widget-view+json": {
       "model_id": "4bc8c63b8de848ccbde301925a0aa0aa",
       "version_major": 2,
       "version_minor": 0
      },
      "text/plain": [
       "Downloading (…)_Pooling/config.json:   0%|          | 0.00/190 [00:00<?, ?B/s]"
      ]
     },
     "metadata": {},
     "output_type": "display_data"
    },
    {
     "data": {
      "application/vnd.jupyter.widget-view+json": {
       "model_id": "4425874c88b04ce0ac84be19c3aaafc9",
       "version_major": 2,
       "version_minor": 0
      },
      "text/plain": [
       "Downloading (…)7e55de9125/README.md:   0%|          | 0.00/10.6k [00:00<?, ?B/s]"
      ]
     },
     "metadata": {},
     "output_type": "display_data"
    },
    {
     "data": {
      "application/vnd.jupyter.widget-view+json": {
       "model_id": "539de3b2851341349bc71d3d19e61881",
       "version_major": 2,
       "version_minor": 0
      },
      "text/plain": [
       "Downloading (…)55de9125/config.json:   0%|          | 0.00/612 [00:00<?, ?B/s]"
      ]
     },
     "metadata": {},
     "output_type": "display_data"
    },
    {
     "data": {
      "application/vnd.jupyter.widget-view+json": {
       "model_id": "bd03f07bc14a438aafc156b3876c11e2",
       "version_major": 2,
       "version_minor": 0
      },
      "text/plain": [
       "Downloading (…)ce_transformers.json:   0%|          | 0.00/116 [00:00<?, ?B/s]"
      ]
     },
     "metadata": {},
     "output_type": "display_data"
    },
    {
     "data": {
      "application/vnd.jupyter.widget-view+json": {
       "model_id": "7fef5ae6c9e248268f05ec9b640540da",
       "version_major": 2,
       "version_minor": 0
      },
      "text/plain": [
       "Downloading (…)125/data_config.json:   0%|          | 0.00/39.3k [00:00<?, ?B/s]"
      ]
     },
     "metadata": {},
     "output_type": "display_data"
    },
    {
     "data": {
      "application/vnd.jupyter.widget-view+json": {
       "model_id": "035d9511215a48b38b58517aa757a5c5",
       "version_major": 2,
       "version_minor": 0
      },
      "text/plain": [
       "Downloading pytorch_model.bin:   0%|          | 0.00/90.9M [00:00<?, ?B/s]"
      ]
     },
     "metadata": {},
     "output_type": "display_data"
    },
    {
     "data": {
      "application/vnd.jupyter.widget-view+json": {
       "model_id": "35ed6826208e42218b69de652bb697cf",
       "version_major": 2,
       "version_minor": 0
      },
      "text/plain": [
       "Downloading (…)nce_bert_config.json:   0%|          | 0.00/53.0 [00:00<?, ?B/s]"
      ]
     },
     "metadata": {},
     "output_type": "display_data"
    },
    {
     "data": {
      "application/vnd.jupyter.widget-view+json": {
       "model_id": "5292ac285a9440f484dad0696c669aff",
       "version_major": 2,
       "version_minor": 0
      },
      "text/plain": [
       "Downloading (…)cial_tokens_map.json:   0%|          | 0.00/112 [00:00<?, ?B/s]"
      ]
     },
     "metadata": {},
     "output_type": "display_data"
    },
    {
     "data": {
      "application/vnd.jupyter.widget-view+json": {
       "model_id": "26180028f0ba4372b3e21b503ae3eba1",
       "version_major": 2,
       "version_minor": 0
      },
      "text/plain": [
       "Downloading (…)e9125/tokenizer.json:   0%|          | 0.00/466k [00:00<?, ?B/s]"
      ]
     },
     "metadata": {},
     "output_type": "display_data"
    },
    {
     "data": {
      "application/vnd.jupyter.widget-view+json": {
       "model_id": "77ba35e2f9b44116bae8a6b12640d8f9",
       "version_major": 2,
       "version_minor": 0
      },
      "text/plain": [
       "Downloading (…)okenizer_config.json:   0%|          | 0.00/350 [00:00<?, ?B/s]"
      ]
     },
     "metadata": {},
     "output_type": "display_data"
    },
    {
     "data": {
      "application/vnd.jupyter.widget-view+json": {
       "model_id": "2d63845e944b48d09d369bdd767a82f0",
       "version_major": 2,
       "version_minor": 0
      },
      "text/plain": [
       "Downloading (…)9125/train_script.py:   0%|          | 0.00/13.2k [00:00<?, ?B/s]"
      ]
     },
     "metadata": {},
     "output_type": "display_data"
    },
    {
     "data": {
      "application/vnd.jupyter.widget-view+json": {
       "model_id": "bd8345da294d41cab5391d296452fb14",
       "version_major": 2,
       "version_minor": 0
      },
      "text/plain": [
       "Downloading (…)7e55de9125/vocab.txt:   0%|          | 0.00/232k [00:00<?, ?B/s]"
      ]
     },
     "metadata": {},
     "output_type": "display_data"
    },
    {
     "data": {
      "application/vnd.jupyter.widget-view+json": {
       "model_id": "30ecd259050a4dfa8201a2483f7b608a",
       "version_major": 2,
       "version_minor": 0
      },
      "text/plain": [
       "Downloading (…)5de9125/modules.json:   0%|          | 0.00/349 [00:00<?, ?B/s]"
      ]
     },
     "metadata": {},
     "output_type": "display_data"
    }
   ],
   "source": [
    "from sentence_transformers import SentenceTransformer, util\n",
    "model=SentenceTransformer('all-MiniLM-L6-v2')"
   ]
  },
  {
   "cell_type": "markdown",
   "metadata": {},
   "source": [
    "<h2 style=\"color:blue; background:pink; line-height:1.5\">Convert Clean Text to Documents Vectors</h2>"
   ]
  },
  {
   "cell_type": "code",
   "execution_count": 13,
   "metadata": {},
   "outputs": [
    {
     "data": {
      "text/html": [
       "<div>\n",
       "<style scoped>\n",
       "    .dataframe tbody tr th:only-of-type {\n",
       "        vertical-align: middle;\n",
       "    }\n",
       "\n",
       "    .dataframe tbody tr th {\n",
       "        vertical-align: top;\n",
       "    }\n",
       "\n",
       "    .dataframe thead th {\n",
       "        text-align: right;\n",
       "    }\n",
       "</style>\n",
       "<table border=\"1\" class=\"dataframe\">\n",
       "  <thead>\n",
       "    <tr style=\"text-align: right;\">\n",
       "      <th></th>\n",
       "      <th>question1</th>\n",
       "      <th>question2</th>\n",
       "      <th>combine_question</th>\n",
       "      <th>doc_vector</th>\n",
       "    </tr>\n",
       "  </thead>\n",
       "  <tbody>\n",
       "    <tr>\n",
       "      <th>39085</th>\n",
       "      <td>which laptop should i buy under 60k</td>\n",
       "      <td>which laptop should i buy under 60k</td>\n",
       "      <td>which laptop should i buy under 60k which lapt...</td>\n",
       "      <td>[-0.011452393, 0.08359903, -0.03809174, 0.0312...</td>\n",
       "    </tr>\n",
       "    <tr>\n",
       "      <th>30892</th>\n",
       "      <td>how hair grow after hair transplant surgery</td>\n",
       "      <td>how long does a hair transplant surgery take</td>\n",
       "      <td>how hair grow after hair transplant surgery ho...</td>\n",
       "      <td>[0.019064082, 0.0018240447, 0.0182498, -0.0501...</td>\n",
       "    </tr>\n",
       "  </tbody>\n",
       "</table>\n",
       "</div>"
      ],
      "text/plain": [
       "                                         question1  \\\n",
       "39085          which laptop should i buy under 60k   \n",
       "30892  how hair grow after hair transplant surgery   \n",
       "\n",
       "                                          question2  \\\n",
       "39085           which laptop should i buy under 60k   \n",
       "30892  how long does a hair transplant surgery take   \n",
       "\n",
       "                                        combine_question  \\\n",
       "39085  which laptop should i buy under 60k which lapt...   \n",
       "30892  how hair grow after hair transplant surgery ho...   \n",
       "\n",
       "                                              doc_vector  \n",
       "39085  [-0.011452393, 0.08359903, -0.03809174, 0.0312...  \n",
       "30892  [0.019064082, 0.0018240447, 0.0182498, -0.0501...  "
      ]
     },
     "execution_count": 13,
     "metadata": {},
     "output_type": "execute_result"
    }
   ],
   "source": [
    "x_train['doc_vector']=x_train['combine_question'].apply(model.encode)\n",
    "x_test['doc_vector']=x_test['combine_question'].apply(model.encode)\n",
    "x_train.head(2)"
   ]
  },
  {
   "cell_type": "code",
   "execution_count": 14,
   "metadata": {},
   "outputs": [
    {
     "data": {
      "text/html": [
       "<div>\n",
       "<style scoped>\n",
       "    .dataframe tbody tr th:only-of-type {\n",
       "        vertical-align: middle;\n",
       "    }\n",
       "\n",
       "    .dataframe tbody tr th {\n",
       "        vertical-align: top;\n",
       "    }\n",
       "\n",
       "    .dataframe thead th {\n",
       "        text-align: right;\n",
       "    }\n",
       "</style>\n",
       "<table border=\"1\" class=\"dataframe\">\n",
       "  <thead>\n",
       "    <tr style=\"text-align: right;\">\n",
       "      <th></th>\n",
       "      <th>question1</th>\n",
       "      <th>question2</th>\n",
       "      <th>combine_question</th>\n",
       "      <th>doc_vector</th>\n",
       "    </tr>\n",
       "  </thead>\n",
       "  <tbody>\n",
       "    <tr>\n",
       "      <th>33552</th>\n",
       "      <td>i am skinny fat what strategy should i follow ...</td>\n",
       "      <td>what will be future for r profile within few y...</td>\n",
       "      <td>i am skinny fat what strategy should i follow ...</td>\n",
       "      <td>[-0.014005228, -0.0037971667, -0.027306147, 0....</td>\n",
       "    </tr>\n",
       "    <tr>\n",
       "      <th>9427</th>\n",
       "      <td>do rich people worry about anything</td>\n",
       "      <td>what do wealthy people worry about</td>\n",
       "      <td>do rich people worry about anything what do we...</td>\n",
       "      <td>[0.12070254, 0.02946615, -0.028693503, 0.08008...</td>\n",
       "    </tr>\n",
       "  </tbody>\n",
       "</table>\n",
       "</div>"
      ],
      "text/plain": [
       "                                               question1  \\\n",
       "33552  i am skinny fat what strategy should i follow ...   \n",
       "9427                 do rich people worry about anything   \n",
       "\n",
       "                                               question2  \\\n",
       "33552  what will be future for r profile within few y...   \n",
       "9427                  what do wealthy people worry about   \n",
       "\n",
       "                                        combine_question  \\\n",
       "33552  i am skinny fat what strategy should i follow ...   \n",
       "9427   do rich people worry about anything what do we...   \n",
       "\n",
       "                                              doc_vector  \n",
       "33552  [-0.014005228, -0.0037971667, -0.027306147, 0....  \n",
       "9427   [0.12070254, 0.02946615, -0.028693503, 0.08008...  "
      ]
     },
     "execution_count": 14,
     "metadata": {},
     "output_type": "execute_result"
    }
   ],
   "source": [
    "x_test.head(2)"
   ]
  },
  {
   "cell_type": "markdown",
   "metadata": {},
   "source": [
    "<h2 style=\"color:blue; background:pink; line-height:1.5\">Final Training and Testing Input data</h2>"
   ]
  },
  {
   "cell_type": "code",
   "execution_count": 15,
   "metadata": {},
   "outputs": [
    {
     "data": {
      "text/plain": [
       "array([ 1.90640818e-02,  1.82404474e-03,  1.82498004e-02, -5.01856878e-02,\n",
       "       -3.13632265e-02, -7.25100283e-03, -9.22159664e-03, -1.80835892e-02,\n",
       "       -2.24100407e-02,  1.25865021e-03,  1.32547528e-01,  1.79323182e-02,\n",
       "        3.10442895e-02, -5.10033630e-02, -2.58102510e-02,  1.20200016e-01,\n",
       "       -5.39968088e-02, -4.50595059e-02, -8.90304148e-02,  4.58458019e-03,\n",
       "        3.96650657e-02, -8.00943896e-02, -2.89120451e-02,  1.14627667e-02,\n",
       "        9.53951553e-02, -1.32833673e-02, -3.79500240e-02, -1.20905079e-02,\n",
       "       -3.11895926e-02,  1.75824296e-02, -2.75257174e-02,  3.30171250e-02,\n",
       "       -2.69643646e-02, -1.93904359e-02, -4.38627936e-02, -1.02947745e-02,\n",
       "       -1.83569244e-03, -1.23903388e-02, -1.91018498e-03, -5.51283062e-02,\n",
       "       -4.32366617e-02, -5.19650709e-03, -2.17425283e-02, -9.82692465e-04,\n",
       "        5.02833053e-02, -3.67170498e-02, -9.93330404e-03,  3.64179350e-02,\n",
       "       -3.04683167e-02, -3.42219621e-02, -6.20147176e-02, -2.29951069e-02,\n",
       "       -2.69114319e-02, -1.40228551e-02, -1.04337307e-02,  9.55224261e-02,\n",
       "        3.09207924e-02,  7.19422400e-02,  2.73579322e-02, -3.57724018e-02,\n",
       "       -4.76810820e-02, -1.05064278e-02,  7.05929287e-03, -4.78377715e-02,\n",
       "        2.39968579e-02, -1.48430550e-02,  4.73329723e-02, -8.89771134e-02,\n",
       "        2.00691763e-02, -8.65922943e-02, -6.30122200e-02,  5.28530218e-02,\n",
       "       -2.62267012e-02,  3.36564071e-02,  1.25388289e-03,  1.61451772e-02,\n",
       "       -4.84243557e-02,  7.16927126e-02,  5.84125333e-02, -2.11469317e-03,\n",
       "        2.97559369e-02,  6.19065166e-02,  1.67699717e-02,  4.64554988e-02,\n",
       "       -5.75781018e-02,  6.54907804e-03, -2.69886106e-02,  4.46014963e-02,\n",
       "       -9.00317058e-02,  1.04036011e-01, -4.84684855e-02,  3.74398232e-02,\n",
       "       -2.65170634e-02,  2.81163193e-02,  3.31010595e-02, -4.62016314e-02,\n",
       "       -1.10807128e-01, -2.64894008e-03,  7.76571855e-02, -4.92725857e-02,\n",
       "        4.61354665e-02, -5.63793480e-02, -1.50540471e-02, -4.16183211e-02,\n",
       "       -5.10966182e-02,  2.71496363e-03, -2.51983851e-02, -1.97290182e-02,\n",
       "       -8.30754042e-02, -1.34384464e-02,  6.11406118e-02, -5.66155557e-03,\n",
       "       -5.01754545e-02, -5.48830209e-03, -1.23122390e-02,  1.11016765e-01,\n",
       "        4.70630229e-02, -6.96341097e-02, -5.81277441e-03, -4.55827639e-03,\n",
       "        2.59410720e-02,  1.31022125e-01,  5.39051220e-02, -6.44370914e-02,\n",
       "       -2.77345311e-02,  8.52209404e-02,  5.57357147e-02, -2.06644431e-33,\n",
       "       -1.20101031e-02,  4.46486063e-02,  8.84520635e-03,  3.27455364e-02,\n",
       "       -1.04979742e-02,  8.21366683e-02, -2.57999059e-02, -6.46350384e-02,\n",
       "       -3.95309292e-02, -7.89368302e-02, -8.01367089e-02,  1.84181593e-02,\n",
       "        6.39249850e-03, -7.46818259e-02, -2.12973729e-02,  2.37549152e-02,\n",
       "        7.98962936e-02,  6.56300038e-02,  2.67899539e-02,  9.52932425e-03,\n",
       "        1.97584853e-02,  6.17797226e-02, -1.18043916e-02, -1.16737531e-02,\n",
       "        8.06656256e-02, -7.55961388e-02, -3.13769653e-02, -8.73714015e-02,\n",
       "       -5.81103973e-02, -2.02553608e-02,  6.75832899e-03,  4.45142388e-02,\n",
       "        4.03259741e-03, -8.08585361e-02, -3.46375369e-02, -2.28161160e-02,\n",
       "        1.15158677e-01, -5.22742383e-02,  3.24361101e-02, -6.41816333e-02,\n",
       "        3.75039428e-02, -3.52599397e-02, -1.91611163e-02,  7.70207644e-02,\n",
       "        2.02468280e-02,  7.43362913e-03, -8.13826099e-02, -9.16461945e-02,\n",
       "       -4.52249264e-03, -1.16602033e-02,  3.31880264e-02,  4.63024788e-02,\n",
       "        4.07769419e-02, -5.25220819e-02,  1.10463180e-01,  3.77944601e-03,\n",
       "       -1.62659213e-03,  2.03635748e-02,  5.45255542e-02,  4.32042778e-02,\n",
       "        1.61422719e-03,  5.26167043e-02,  7.38678873e-02, -2.31476165e-02,\n",
       "        2.11225729e-02, -9.46948025e-03,  4.94623967e-02,  9.28258449e-02,\n",
       "       -4.46977727e-02,  2.46570483e-02,  1.41988155e-02,  3.62575762e-02,\n",
       "       -3.80999111e-02, -1.01688197e-02,  2.80075017e-02, -1.80555079e-02,\n",
       "       -3.68067622e-02,  2.69914288e-02, -6.92455322e-02,  4.25377414e-02,\n",
       "        1.05241455e-01,  5.07372469e-02, -7.75698852e-03, -2.49931365e-02,\n",
       "        4.55551371e-02, -6.90273121e-02, -6.33258000e-02,  7.21657230e-03,\n",
       "       -6.07577004e-02,  2.21083481e-02, -5.24467090e-03, -8.63479078e-03,\n",
       "       -2.70598419e-02,  3.11622564e-02,  5.48257343e-02, -1.64475868e-33,\n",
       "        1.07755221e-01, -5.16840704e-02,  2.89778970e-02,  5.86854480e-02,\n",
       "        3.25736292e-02,  2.95797493e-02, -6.66407198e-02,  1.00366749e-01,\n",
       "       -2.14876495e-02, -4.31075208e-02,  8.97293631e-03,  3.73750143e-02,\n",
       "        3.26152705e-02, -9.97930113e-03, -5.52162454e-02, -3.84905972e-02,\n",
       "       -4.72864658e-02, -5.29690422e-02, -1.82079934e-02, -2.33544856e-02,\n",
       "        3.01098973e-02,  6.94399104e-02, -1.31865544e-02, -5.21404296e-03,\n",
       "       -7.29531422e-02, -2.59430520e-02, -2.09281966e-02,  1.36940489e-02,\n",
       "        1.10196702e-01,  6.60854205e-02,  2.22245194e-02, -4.85235862e-02,\n",
       "       -4.01170589e-02,  1.01523781e-02, -3.97990970e-03,  2.47763693e-02,\n",
       "       -3.03519238e-02,  6.04841001e-02,  4.40726355e-02,  2.31178366e-02,\n",
       "       -7.81758875e-02, -1.05382793e-01,  5.13092428e-02, -8.03126320e-02,\n",
       "       -9.01497621e-03, -3.55090909e-02,  7.80383423e-02, -6.91362098e-02,\n",
       "        1.88612156e-02,  3.24523374e-02,  4.55454662e-02,  5.40177487e-02,\n",
       "        4.04273607e-02,  2.32234672e-02, -9.36303474e-03, -1.94812231e-02,\n",
       "        2.50593740e-02, -6.94395751e-02, -3.95913944e-02,  4.24614623e-02,\n",
       "       -9.10062641e-02, -1.48519486e-01,  1.62014794e-02,  1.68459378e-02,\n",
       "       -7.46018142e-02,  5.10818884e-02,  3.32297757e-02, -3.91919948e-02,\n",
       "        2.92399786e-02, -8.90581980e-02,  1.74174495e-02,  9.15407911e-02,\n",
       "        4.68121935e-03,  3.87865230e-02, -2.89309714e-02, -1.71242822e-02,\n",
       "        5.43003976e-02,  7.01725259e-02,  4.43704315e-02,  3.32949050e-02,\n",
       "       -4.04677205e-02, -4.49920595e-02,  6.50198162e-02, -2.77316086e-02,\n",
       "        7.89000317e-02, -1.03325574e-02,  2.04107910e-02, -1.41899306e-02,\n",
       "       -6.36438886e-03, -1.73419639e-02, -3.06553859e-02,  6.48412900e-03,\n",
       "       -7.06046820e-02, -1.85537085e-01,  5.94693087e-02, -1.82955890e-08,\n",
       "       -3.97877619e-02,  5.01113459e-02,  5.96106052e-02,  7.42307678e-02,\n",
       "        7.50147998e-02,  4.07655053e-02, -2.59802490e-02,  1.93986949e-02,\n",
       "       -3.66981626e-02, -3.24511789e-02, -8.66551846e-02,  1.00582339e-01,\n",
       "       -1.52977693e-04,  5.83096072e-02, -6.75407499e-02, -3.63169722e-02,\n",
       "        4.38955165e-02, -1.49671854e-02,  6.97199404e-02, -1.20372698e-01,\n",
       "       -9.95544046e-02, -8.61121528e-03,  1.70304300e-03, -1.29300065e-03,\n",
       "        6.80510607e-03, -5.57812415e-02, -3.85335311e-02,  2.28619073e-02,\n",
       "       -3.92026640e-02,  1.93537679e-03,  6.03266209e-02, -5.59603125e-02,\n",
       "       -6.97059855e-02, -3.06577962e-02, -1.07160341e-02, -5.36616594e-02,\n",
       "       -8.06901790e-03,  2.99366973e-02,  6.71166107e-02, -8.65732282e-02,\n",
       "       -7.44197518e-02,  2.50972994e-02,  2.92821098e-02, -4.77380082e-02,\n",
       "       -7.08736628e-02, -3.11216339e-02,  8.00207704e-02, -1.16433175e-02,\n",
       "       -3.02637815e-02,  3.35872881e-02,  1.11714177e-01, -1.56568680e-02,\n",
       "       -2.70384066e-02,  7.97476061e-03,  4.50224020e-02,  5.95570840e-02,\n",
       "        9.11962241e-02,  2.62580197e-02,  9.06962156e-02,  1.32295396e-02,\n",
       "       -9.17410478e-02, -3.59894671e-02, -5.04453145e-02,  2.13975625e-04],\n",
       "      dtype=float32)"
      ]
     },
     "execution_count": 15,
     "metadata": {},
     "output_type": "execute_result"
    }
   ],
   "source": [
    "x_train=list(x_train['doc_vector'])\n",
    "x_test=list(x_test['doc_vector'])\n",
    "x_train[1]"
   ]
  },
  {
   "cell_type": "code",
   "execution_count": 16,
   "metadata": {},
   "outputs": [
    {
     "data": {
      "text/plain": [
       "array([ 1.20702542e-01,  2.94661503e-02, -2.86935028e-02,  8.00869092e-02,\n",
       "        3.89416330e-02, -4.25740890e-02,  1.29374534e-01, -1.24467611e-02,\n",
       "       -5.51408380e-02, -4.58761454e-02,  2.57944688e-02,  2.63755042e-02,\n",
       "        3.56546864e-02, -1.29767761e-01, -7.87931904e-02, -1.72398426e-02,\n",
       "       -4.54453044e-02, -5.03273457e-02, -1.75064072e-01,  8.35555270e-02,\n",
       "       -7.43232146e-02, -4.35352921e-02, -1.49850855e-02,  2.88499258e-02,\n",
       "       -3.17927659e-03, -5.61316423e-02,  3.74312811e-02, -1.89720541e-02,\n",
       "       -1.22188358e-02,  5.65992109e-02, -1.92092787e-02, -4.63980772e-02,\n",
       "        4.30549011e-02, -3.18516046e-02, -8.07526801e-03,  1.31526189e-02,\n",
       "        9.96803567e-02,  4.32033837e-03, -1.31602939e-02, -8.30737203e-02,\n",
       "        3.38110980e-03, -4.67063338e-02,  2.08991896e-02, -7.02560833e-03,\n",
       "       -4.97732125e-02, -9.52271670e-02,  4.56344001e-02, -8.37497786e-02,\n",
       "        1.71702716e-03, -5.77651709e-02, -4.98370379e-02, -5.94796166e-02,\n",
       "        4.37146984e-02, -6.87112287e-02,  2.93311104e-02,  5.61579764e-02,\n",
       "       -4.01557125e-02, -1.58901755e-02,  1.98863205e-02,  3.93843576e-02,\n",
       "       -8.42458382e-02,  3.83248739e-02,  4.24004272e-02, -1.34065086e-02,\n",
       "        6.48362115e-02,  1.09164258e-02,  2.58091614e-02,  5.15612662e-02,\n",
       "       -6.40364140e-02,  3.40840616e-03,  9.60240141e-03, -4.50673215e-02,\n",
       "       -5.43853380e-02, -9.20593552e-03,  2.18859781e-02, -2.61932239e-02,\n",
       "        2.40344945e-02,  1.17634295e-03, -4.00208607e-02,  4.28181477e-02,\n",
       "        4.02994230e-02, -6.14998443e-03,  3.05626052e-03, -4.77715172e-02,\n",
       "        2.67740637e-02,  5.34715643e-03,  6.86356658e-03, -1.08714243e-02,\n",
       "        4.40943986e-02, -7.40208756e-03,  4.43929434e-03, -9.65991467e-02,\n",
       "       -1.21778166e-02,  4.05923836e-02,  1.62469447e-02,  7.77365789e-02,\n",
       "       -4.97961491e-02, -2.00467836e-02, -8.92679542e-02, -4.06937953e-03,\n",
       "       -1.66180339e-02, -2.64914166e-02,  1.19346790e-01,  7.58461133e-02,\n",
       "       -2.80389562e-02, -8.81127547e-03,  2.24843286e-02,  8.88547301e-02,\n",
       "       -3.91721539e-02, -4.10602018e-02, -9.40623134e-02, -7.87407812e-03,\n",
       "        4.08955663e-02,  4.25369367e-02, -4.94743511e-02, -2.07109507e-02,\n",
       "       -1.56033812e-02, -8.23342875e-02, -5.92946298e-02,  1.24876434e-03,\n",
       "        1.33020794e-02, -8.83742422e-03, -9.89426579e-03,  2.53293812e-02,\n",
       "        1.12551055e-03, -4.62956205e-02, -2.54818927e-02, -2.07762712e-33,\n",
       "        6.44026920e-02, -7.33605772e-03, -1.58115365e-02,  2.60733236e-02,\n",
       "       -6.71715662e-02,  4.53779958e-02,  1.22819720e-02, -1.76220778e-02,\n",
       "       -2.09472068e-02,  9.08711702e-02,  5.29018752e-02,  5.19073419e-02,\n",
       "       -3.99171412e-02, -5.06720459e-03, -4.09330316e-02,  6.42137462e-03,\n",
       "       -4.84247878e-02,  4.42370921e-02, -7.43266940e-02, -2.54746228e-02,\n",
       "        2.55555324e-02, -9.76604968e-03, -1.05204899e-02,  3.23307961e-02,\n",
       "       -1.39435297e-02, -4.02421989e-02,  5.18561825e-02, -2.83655766e-02,\n",
       "        7.74301142e-02,  1.47689097e-02, -8.49519297e-02,  2.99725514e-02,\n",
       "        6.06697910e-02, -5.99205010e-02, -8.65343511e-02,  2.02293694e-02,\n",
       "       -5.98148927e-02,  5.01759090e-02,  5.41811846e-02, -7.22489581e-02,\n",
       "        2.73921508e-02, -2.31391620e-02,  2.89402474e-02,  1.73000507e-02,\n",
       "       -2.32607182e-02,  7.26208612e-02,  2.32183002e-02,  1.06279086e-02,\n",
       "       -5.30434139e-02, -5.60164675e-02, -1.63627428e-03,  3.51271480e-02,\n",
       "        3.23737934e-02,  3.26812938e-02, -2.55691428e-02, -7.95348585e-02,\n",
       "        1.93947423e-02, -2.32607946e-02, -8.90225619e-02, -6.57237098e-02,\n",
       "       -1.06451817e-01, -4.21812525e-03, -5.47819063e-02, -5.68482801e-02,\n",
       "       -3.42021696e-02,  1.48929417e-01,  5.04917465e-02,  3.71593088e-02,\n",
       "       -2.12167948e-02,  8.00187886e-02,  5.18496819e-02, -1.63909013e-03,\n",
       "       -3.79988439e-02,  1.19180670e-02,  2.56697368e-02,  1.07460544e-01,\n",
       "       -2.24504564e-02,  9.02854577e-02,  3.01690884e-02,  1.14972172e-02,\n",
       "        4.42346781e-02, -5.87102473e-02,  7.12220222e-02,  3.61837894e-02,\n",
       "        1.83017496e-02,  2.55319346e-02, -2.17304155e-02,  3.72100584e-02,\n",
       "        3.18357423e-02,  4.38689552e-02,  2.85237115e-02, -3.53936921e-04,\n",
       "        6.03992343e-02, -1.08533129e-02, -1.33246720e-01, -1.77866971e-33,\n",
       "       -1.11581467e-01, -1.55028999e-02,  4.08893041e-02,  6.58182651e-02,\n",
       "       -3.50318216e-02, -1.63329765e-02, -3.67912860e-03, -4.96028624e-02,\n",
       "        4.17091185e-03, -2.75054108e-03, -8.37604553e-02, -5.26773185e-02,\n",
       "        5.27489930e-02, -4.38520610e-02,  8.17411840e-02, -4.10334133e-02,\n",
       "        4.31816764e-02,  1.06731756e-02,  4.37099207e-03, -2.45207688e-03,\n",
       "        1.25930151e-02, -1.90901868e-02, -1.90796982e-02,  9.70483646e-02,\n",
       "       -2.65034791e-02,  4.13114242e-02, -7.68972710e-02, -6.38507158e-02,\n",
       "       -4.93460670e-02, -4.66549620e-02, -4.09287997e-02,  4.79432009e-02,\n",
       "        6.83958642e-03, -6.07085880e-03, -2.67213918e-02, -5.67291193e-02,\n",
       "        4.15944075e-03, -7.21781924e-02,  2.52759624e-02,  2.28018761e-02,\n",
       "       -1.20785432e-02, -4.93235094e-03, -5.29756807e-02,  2.76970472e-02,\n",
       "        1.01494733e-02, -9.59712826e-03,  1.02650765e-02,  2.42153201e-02,\n",
       "        3.80729064e-02,  1.39632998e-02,  4.85580824e-02,  7.24922717e-02,\n",
       "        8.14945325e-02,  8.14834014e-02, -1.40814101e-02, -2.67535150e-02,\n",
       "       -8.42515565e-03, -4.32795584e-02, -4.85375002e-02,  1.08221121e-01,\n",
       "       -5.98203987e-02, -6.00540712e-02, -5.27851321e-02,  6.33132458e-02,\n",
       "       -5.70139959e-02, -8.85904185e-04, -3.16150114e-02, -4.47699577e-02,\n",
       "        2.35463828e-02, -3.64429317e-03,  7.13593140e-02, -1.54334575e-01,\n",
       "       -3.39350812e-02, -8.01480636e-02, -8.21856111e-02,  9.03157666e-02,\n",
       "        5.03225140e-02,  7.81770870e-02,  4.08972576e-02,  4.07066643e-02,\n",
       "        1.01229407e-01, -7.95605499e-03,  4.14948128e-02, -8.37980360e-02,\n",
       "       -2.27395929e-02,  1.45244654e-02,  4.86253314e-02, -4.38318700e-02,\n",
       "       -7.51430243e-02, -3.24800350e-02, -1.34631202e-01,  2.35155560e-02,\n",
       "       -2.78353710e-02, -8.01483393e-02,  9.34089441e-03, -1.87248244e-08,\n",
       "        5.46050854e-02, -9.89225693e-03,  1.47653101e-02, -1.56744868e-02,\n",
       "        2.49908883e-02, -6.61844239e-02, -2.90817954e-03,  1.02196880e-01,\n",
       "        1.95359662e-02,  8.38204846e-02, -6.34004595e-04,  1.18384426e-02,\n",
       "       -9.18777566e-03, -7.99212884e-03, -2.61643180e-03, -3.13642249e-02,\n",
       "       -3.71671915e-02, -2.29653958e-02, -9.16190073e-03, -2.69270386e-03,\n",
       "        6.35885373e-02, -3.15587856e-02,  3.44855972e-02,  4.21858318e-02,\n",
       "        2.62846444e-02, -9.33801115e-04, -6.36727922e-03, -2.24486757e-02,\n",
       "        3.46479914e-03,  4.02523801e-02,  2.73029152e-02, -8.59612823e-02,\n",
       "        7.04174954e-03,  1.93325970e-02,  1.46658598e-02,  1.58655532e-02,\n",
       "        7.40671232e-02, -2.76067182e-02,  5.71125597e-02,  3.70160379e-02,\n",
       "        8.60798210e-02,  3.54568101e-02,  1.56145159e-03,  7.98540339e-02,\n",
       "       -1.44394748e-02, -5.52408285e-02, -3.99917476e-02,  4.66840118e-02,\n",
       "        1.72622912e-02, -5.33611588e-02, -7.71051599e-03,  4.34053577e-02,\n",
       "        2.02981625e-02, -1.03441983e-01, -9.20213461e-02, -4.29090336e-02,\n",
       "        2.90598292e-02,  1.29242957e-01,  3.13252471e-02, -1.94641929e-02,\n",
       "        6.30100965e-02, -1.10611975e-01, -2.44363844e-02,  5.92541276e-03],\n",
       "      dtype=float32)"
      ]
     },
     "execution_count": 16,
     "metadata": {},
     "output_type": "execute_result"
    }
   ],
   "source": [
    "x_test[1]"
   ]
  },
  {
   "cell_type": "markdown",
   "metadata": {
    "id": "rDj1UQJKKnR-"
   },
   "source": [
    "<h2 style=\"color:blue; background:pink; line-height:1.5\">Building model</h2>"
   ]
  },
  {
   "cell_type": "markdown",
   "metadata": {},
   "source": [
    "<h2 style=\"color:blue; background:pink;\">Set Experiment<h2>"
   ]
  },
  {
   "cell_type": "code",
   "execution_count": 17,
   "metadata": {},
   "outputs": [
    {
     "data": {
      "text/plain": [
       "<Experiment: artifact_location='file:///D:/DATA%20SCIENCE%20Internship%20with%20Innomatics/Final_%20Project_Quora_Question_Pair_Similarity/mlruns/591167485821976991', creation_time=1685863390057, experiment_id='591167485821976991', last_update_time=1685863390057, lifecycle_stage='active', name='Advance_approach_using_pre_trained_models', tags={}>"
      ]
     },
     "execution_count": 17,
     "metadata": {},
     "output_type": "execute_result"
    }
   ],
   "source": [
    "import mlflow\n",
    "mlflow.set_experiment(\"Advance_approach_using_pre_trained_models\")"
   ]
  },
  {
   "cell_type": "markdown",
   "metadata": {
    "id": "_INAemcqsZ00"
   },
   "source": [
    "<h2 style=\"color:blue; background:lightgreen; line-height:1\">1. Logistic Regression<h2>"
   ]
  },
  {
   "cell_type": "code",
   "execution_count": 19,
   "metadata": {},
   "outputs": [
    {
     "name": "stdout",
     "output_type": "stream",
     "text": [
      "----------------------------------------------------------\n",
      "Acuuracy=0.7109\n",
      "Precission=0.7139987949387427\n",
      "Recall=0.7078853046594982\n",
      "F1 Score=0.7109289071092891\n",
      "----------------------------------------------------------\n",
      "Confusion Matrix=\n",
      "\n"
     ]
    },
    {
     "data": {
      "image/png": "[encoded data removed]",
      "text/plain": [
       "<Figure size 432x288 with 1 Axes>"
      ]
     },
     "metadata": {},
     "output_type": "display_data"
    },
    {
     "name": "stdout",
     "output_type": "stream",
     "text": [
      "----------------------------------------------------------\n",
      "Out of 10000 testing values 2891 are mis-classified.\n",
      "----------------------------------------------------------\n",
      "Classification Report=\n",
      "               precision    recall  f1-score   support\n",
      "\n",
      "           0       0.71      0.71      0.71      4978\n",
      "           1       0.71      0.71      0.71      5022\n",
      "\n",
      "    accuracy                           0.71     10000\n",
      "   macro avg       0.71      0.71      0.71     10000\n",
      "weighted avg       0.71      0.71      0.71     10000\n",
      "\n",
      "----------------------------------------------------------\n"
     ]
    }
   ],
   "source": [
    "from sklearn.linear_model import LogisticRegression\n",
    "from sklearn.metrics import classification_report, accuracy_score, recall_score, f1_score, precision_score, confusion_matrix\n",
    "import pickle\n",
    "with mlflow.start_run():\n",
    "    mlflow.set_tag(\"Owner\",\"Suraj H\")\n",
    "    mlflow.set_tag(\"Algorithm\", \"Logistic bert\")\n",
    "    \n",
    "    log_regression=LogisticRegression()\n",
    "    log_regression.fit(x_train,y_train)\n",
    "    pickle.dump(log_regression, open(\"resources_advance_approach_using_pre_trained_model/logistic_regression_bert.pkl\",\"wb\"))\n",
    "    \n",
    "    y_pred=log_regression.predict(x_test)\n",
    "    acc=accuracy_score(y_test,y_pred)\n",
    "    precision=precision_score(y_test,y_pred)\n",
    "    recall=recall_score(y_test,y_pred)\n",
    "    f1=f1_score(y_test,y_pred)\n",
    "    \n",
    "    print(\"----------------------------------------------------------\")\n",
    "    print(\"Acuuracy={}\\nPrecission={}\\nRecall={}\\nF1 Score={}\".format(acc, precision, recall, f1))\n",
    "    print(\"----------------------------------------------------------\")\n",
    "    print(\"Confusion Matrix=\\n\")\n",
    "    sns.heatmap(confusion_matrix(y_test,y_pred), annot=True, annot_kws={\"fontsize\":15}, linewidths=5, linecolor='blue',\n",
    "                yticklabels=[\"Non-Duplicate\",\"Duplicate\"], xticklabels=[\"Non-Duplicate\",\"Duplicate\"], cbar=None, fmt='g')\n",
    "    plt.xlabel(\"Predicted\",fontsize=18)\n",
    "    plt.ylabel(\"Actual\",fontsize=18)\n",
    "    plt.savefig(\"resources_advance_approach_using_pre_trained_model/log_reg_bert_conf_matrix.png\")\n",
    "    plt.show()\n",
    "    print(\"----------------------------------------------------------\")\n",
    "    print(\"Out of {} testing values {} are mis-classified.\".format(y_test.shape[0], sum(y_test!=y_pred)))\n",
    "    print(\"----------------------------------------------------------\")\n",
    "    print(\"Classification Report=\\n\", classification_report(y_test,y_pred))\n",
    "    print(\"----------------------------------------------------------\")\n",
    "    \n",
    "    mlflow.log_metrics({\"Accuracy\":acc, \"Precision\":precision, \"Recall\":recall, \"F1 Score\":f1})\n",
    "    mlflow.sklearn.log_model(log_regression, artifact_path=\"models\")\n",
    "    mlflow.log_artifact(\"resources_advance_approach_using_pre_trained_model/log_reg_bert_conf_matrix.png\")"
   ]
  },
  {
   "cell_type": "markdown",
   "metadata": {},
   "source": [
    "<h2 style=\"color:blue; background:lightgreen; line-height:1\">2. Naive Bayes<h2>"
   ]
  },
  {
   "cell_type": "code",
   "execution_count": 20,
   "metadata": {},
   "outputs": [
    {
     "name": "stdout",
     "output_type": "stream",
     "text": [
      "----------------------------------------------------------\n",
      "Acuuracy=0.6654\n",
      "Precission=0.6822531535450196\n",
      "Recall=0.6246515332536838\n",
      "F1 Score=0.6521829521829522\n",
      "----------------------------------------------------------\n",
      "Confusion Matrix=\n",
      "\n"
     ]
    },
    {
     "data": {
      "image/png": "[encoded data removed]",
      "text/plain": [
       "<Figure size 432x288 with 1 Axes>"
      ]
     },
     "metadata": {},
     "output_type": "display_data"
    },
    {
     "name": "stdout",
     "output_type": "stream",
     "text": [
      "----------------------------------------------------------\n",
      "Out of 10000 testing values 3346 are mis-classified.\n",
      "----------------------------------------------------------\n",
      "Classification Report=\n",
      "               precision    recall  f1-score   support\n",
      "\n",
      "           0       0.65      0.71      0.68      4978\n",
      "           1       0.68      0.62      0.65      5022\n",
      "\n",
      "    accuracy                           0.67     10000\n",
      "   macro avg       0.67      0.67      0.66     10000\n",
      "weighted avg       0.67      0.67      0.66     10000\n",
      "\n",
      "----------------------------------------------------------\n"
     ]
    }
   ],
   "source": [
    "from sklearn.naive_bayes import GaussianNB\n",
    "with mlflow.start_run():\n",
    "    mlflow.set_tag(\"Owner\",\"Suraj H\")\n",
    "    mlflow.set_tag(\"Algorithm\", \"Naive Bayes bert\")\n",
    "    \n",
    "    naive_classifier=GaussianNB()\n",
    "    naive_classifier.fit(x_train,y_train)\n",
    "    pickle.dump(naive_classifier, open(\"resources_advance_approach_using_pre_trained_model/naive_bert.pkl\",\"wb\"))\n",
    "    \n",
    "    y_pred=naive_classifier.predict(x_test)\n",
    "    acc=accuracy_score(y_test,y_pred)\n",
    "    precision=precision_score(y_test,y_pred)\n",
    "    recall=recall_score(y_test,y_pred)\n",
    "    f1=f1_score(y_test,y_pred)\n",
    "    \n",
    "    print(\"----------------------------------------------------------\")\n",
    "    print(\"Acuuracy={}\\nPrecission={}\\nRecall={}\\nF1 Score={}\".format(acc, precision, recall, f1))\n",
    "    print(\"----------------------------------------------------------\")\n",
    "    print(\"Confusion Matrix=\\n\")\n",
    "    sns.heatmap(confusion_matrix(y_test,y_pred), annot=True, annot_kws={\"fontsize\":15}, linewidths=5, linecolor='blue',\n",
    "                yticklabels=[\"Non-Duplicate\",\"Duplicate\"], xticklabels=[\"Non-Duplicate\",\"Duplicate\"], cbar=None, fmt='g')\n",
    "    plt.xlabel(\"Predicted\",fontsize=18)\n",
    "    plt.ylabel(\"Actual\",fontsize=18)\n",
    "    plt.savefig(\"resources_advance_approach_using_pre_trained_model/naive_bert_conf_matrix.png\")\n",
    "    plt.show()\n",
    "    print(\"----------------------------------------------------------\")\n",
    "    print(\"Out of {} testing values {} are mis-classified.\".format(y_test.shape[0], sum(y_test!=y_pred)))\n",
    "    print(\"----------------------------------------------------------\")\n",
    "    print(\"Classification Report=\\n\", classification_report(y_test,y_pred))\n",
    "    print(\"----------------------------------------------------------\")\n",
    "    \n",
    "    mlflow.log_metrics({\"Accuracy\":acc, \"Precision\":precision, \"Recall\":recall, \"F1 Score\":f1})\n",
    "    mlflow.sklearn.log_model(naive_classifier, artifact_path=\"models\")\n",
    "    mlflow.log_artifact(\"resources_advance_approach_using_pre_trained_model/naive_bert_conf_matrix.png\")"
   ]
  },
  {
   "cell_type": "markdown",
   "metadata": {},
   "source": [
    "<h2 style=\"color:blue; background:lightgreen; line-height:1\">3. Decision Tree</h2>"
   ]
  },
  {
   "cell_type": "code",
   "execution_count": 21,
   "metadata": {},
   "outputs": [
    {
     "name": "stdout",
     "output_type": "stream",
     "text": [
      "----------------------------------------------------------\n",
      "Acuuracy=0.604\n",
      "Precission=0.6044453186467349\n",
      "Recall=0.6119076065312624\n",
      "F1 Score=0.6081535721353651\n",
      "----------------------------------------------------------\n",
      "Confusion Matrix=\n",
      "\n"
     ]
    },
    {
     "data": {
      "image/png": "[encoded data removed]",
      "text/plain": [
       "<Figure size 432x288 with 1 Axes>"
      ]
     },
     "metadata": {},
     "output_type": "display_data"
    },
    {
     "name": "stdout",
     "output_type": "stream",
     "text": [
      "----------------------------------------------------------\n",
      "Out of 10000 testing values 3960 are mis-classified.\n",
      "----------------------------------------------------------\n",
      "Classification Report=\n",
      "               precision    recall  f1-score   support\n",
      "\n",
      "           0       0.60      0.60      0.60      4978\n",
      "           1       0.60      0.61      0.61      5022\n",
      "\n",
      "    accuracy                           0.60     10000\n",
      "   macro avg       0.60      0.60      0.60     10000\n",
      "weighted avg       0.60      0.60      0.60     10000\n",
      "\n",
      "----------------------------------------------------------\n"
     ]
    }
   ],
   "source": [
    "from sklearn.tree import DecisionTreeClassifier\n",
    "from sklearn.metrics import classification_report, accuracy_score, recall_score, f1_score, precision_score, confusion_matrix\n",
    "import pickle\n",
    "with mlflow.start_run():\n",
    "    mlflow.set_tag(\"Owner\",\"Suraj H\")\n",
    "    mlflow.set_tag(\"Algorithm\", \"Decision Tree bert\")\n",
    "    \n",
    "    dt_classifier=DecisionTreeClassifier()\n",
    "    dt_classifier.fit(x_train,y_train)\n",
    "    pickle.dump(dt_classifier, open(\"resources_advance_approach_using_pre_trained_model/decision_tree_bert.pkl\",\"wb\"))\n",
    "    \n",
    "    y_pred=dt_classifier.predict(x_test)\n",
    "    acc=accuracy_score(y_test,y_pred)\n",
    "    precision=precision_score(y_test,y_pred)\n",
    "    recall=recall_score(y_test,y_pred)\n",
    "    f1=f1_score(y_test,y_pred)\n",
    "    \n",
    "    print(\"----------------------------------------------------------\")\n",
    "    print(\"Acuuracy={}\\nPrecission={}\\nRecall={}\\nF1 Score={}\".format(acc, precision, recall, f1))\n",
    "    print(\"----------------------------------------------------------\")\n",
    "    print(\"Confusion Matrix=\\n\")\n",
    "    sns.heatmap(confusion_matrix(y_test,y_pred), annot=True, annot_kws={\"fontsize\":15}, linewidths=5, linecolor='blue',\n",
    "                yticklabels=[\"Non-Duplicate\",\"Duplicate\"], xticklabels=[\"Non-Duplicate\",\"Duplicate\"], cbar=None, fmt='g')\n",
    "    plt.xlabel(\"Predicted\",fontsize=18)\n",
    "    plt.ylabel(\"Actual\",fontsize=18)\n",
    "    plt.savefig(\"resources_advance_approach_using_pre_trained_model/decision_tree_bert_conf_matrix.png\")\n",
    "    plt.show()\n",
    "    print(\"----------------------------------------------------------\")\n",
    "    print(\"Out of {} testing values {} are mis-classified.\".format(y_test.shape[0], sum(y_test!=y_pred)))\n",
    "    print(\"----------------------------------------------------------\")\n",
    "    print(\"Classification Report=\\n\", classification_report(y_test,y_pred))\n",
    "    print(\"----------------------------------------------------------\")\n",
    "    \n",
    "    mlflow.log_metrics({\"Accuracy\":acc, \"Precision\":precision, \"Recall\":recall, \"F1 Score\":f1})\n",
    "    mlflow.sklearn.log_model(dt_classifier, artifact_path=\"models\")\n",
    "    mlflow.log_artifact(\"resources_advance_approach_using_pre_trained_model/decision_tree_bert_conf_matrix.png\")"
   ]
  },
  {
   "cell_type": "markdown",
   "metadata": {},
   "source": [
    "<h2 style=\"color:blue; background:lightgreen; line-height:1\">4. Random Forest</h2>"
   ]
  },
  {
   "cell_type": "code",
   "execution_count": 22,
   "metadata": {},
   "outputs": [
    {
     "name": "stdout",
     "output_type": "stream",
     "text": [
      "----------------------------------------------------------\n",
      "Acuuracy=0.7285\n",
      "Precission=0.7868689380751057\n",
      "Recall=0.6300278773397053\n",
      "F1 Score=0.699767776180471\n",
      "----------------------------------------------------------\n",
      "Confusion Matrix=\n",
      "\n"
     ]
    },
    {
     "data": {
      "image/png": "[encoded data removed]",
      "text/plain": [
       "<Figure size 432x288 with 1 Axes>"
      ]
     },
     "metadata": {},
     "output_type": "display_data"
    },
    {
     "name": "stdout",
     "output_type": "stream",
     "text": [
      "----------------------------------------------------------\n",
      "Out of 10000 testing values 2715 are mis-classified.\n",
      "----------------------------------------------------------\n",
      "Classification Report=\n",
      "               precision    recall  f1-score   support\n",
      "\n",
      "           0       0.69      0.83      0.75      4978\n",
      "           1       0.79      0.63      0.70      5022\n",
      "\n",
      "    accuracy                           0.73     10000\n",
      "   macro avg       0.74      0.73      0.73     10000\n",
      "weighted avg       0.74      0.73      0.73     10000\n",
      "\n",
      "----------------------------------------------------------\n"
     ]
    }
   ],
   "source": [
    "from sklearn.ensemble import RandomForestClassifier\n",
    "from sklearn.metrics import classification_report, accuracy_score, recall_score, f1_score, precision_score, confusion_matrix\n",
    "import pickle\n",
    "with mlflow.start_run():\n",
    "    mlflow.set_tag(\"Owner\",\"Suraj H\")\n",
    "    mlflow.set_tag(\"Algorithm\", \"Random Forest bert\")\n",
    "    \n",
    "    rf_classifier=RandomForestClassifier()\n",
    "    rf_classifier.fit(x_train,y_train)\n",
    "    pickle.dump(rf_classifier, open(\"resources_advance_approach_using_pre_trained_model/random_forest_bert.pkl\",\"wb\"))\n",
    "    \n",
    "    y_pred=rf_classifier.predict(x_test)\n",
    "    acc=accuracy_score(y_test,y_pred)\n",
    "    precision=precision_score(y_test,y_pred)\n",
    "    recall=recall_score(y_test,y_pred)\n",
    "    f1=f1_score(y_test,y_pred)\n",
    "    \n",
    "    print(\"----------------------------------------------------------\")\n",
    "    print(\"Acuuracy={}\\nPrecission={}\\nRecall={}\\nF1 Score={}\".format(acc, precision, recall, f1))\n",
    "    print(\"----------------------------------------------------------\")\n",
    "    print(\"Confusion Matrix=\\n\")\n",
    "    sns.heatmap(confusion_matrix(y_test,y_pred), annot=True, annot_kws={\"fontsize\":15}, linewidths=5, linecolor='blue',\n",
    "                yticklabels=[\"Non-Duplicate\",\"Duplicate\"], xticklabels=[\"Non-Duplicate\",\"Duplicate\"], cbar=None, fmt='g')\n",
    "    plt.xlabel(\"Predicted\",fontsize=18)\n",
    "    plt.ylabel(\"Actual\",fontsize=18)\n",
    "    plt.savefig(\"resources_advance_approach_using_pre_trained_model/random_forest_bert_conf_matrix.png\")\n",
    "    plt.show()\n",
    "    print(\"----------------------------------------------------------\")\n",
    "    print(\"Out of {} testing values {} are mis-classified.\".format(y_test.shape[0], sum(y_test!=y_pred)))\n",
    "    print(\"----------------------------------------------------------\")\n",
    "    print(\"Classification Report=\\n\", classification_report(y_test,y_pred))\n",
    "    print(\"----------------------------------------------------------\")\n",
    "    \n",
    "    mlflow.log_metrics({\"Accuracy\":acc, \"Precision\":precision, \"Recall\":recall, \"F1 Score\":f1})\n",
    "    mlflow.sklearn.log_model(rf_classifier, artifact_path=\"models\")\n",
    "    mlflow.log_artifact(\"resources_advance_approach_using_pre_trained_model/random_forest_bert_conf_matrix.png\")"
   ]
  },
  {
   "cell_type": "markdown",
   "metadata": {},
   "source": [
    "<h2 style=\"color:blue; background:lightgreen; line-height:1\">5. Gradient Boosting</h2>"
   ]
  },
  {
   "cell_type": "code",
   "execution_count": 23,
   "metadata": {},
   "outputs": [
    {
     "name": "stdout",
     "output_type": "stream",
     "text": [
      "----------------------------------------------------------\n",
      "Acuuracy=0.6878\n",
      "Precission=0.7009306260575296\n",
      "Recall=0.6598964555953803\n",
      "F1 Score=0.6797948717948719\n",
      "----------------------------------------------------------\n",
      "Confusion Matrix=\n",
      "\n"
     ]
    },
    {
     "data": {
      "image/png": "[encoded data removed]",
      "text/plain": [
       "<Figure size 432x288 with 1 Axes>"
      ]
     },
     "metadata": {},
     "output_type": "display_data"
    },
    {
     "name": "stdout",
     "output_type": "stream",
     "text": [
      "----------------------------------------------------------\n",
      "Out of 10000 testing values 3122 are mis-classified.\n",
      "----------------------------------------------------------\n",
      "Classification Report=\n",
      "               precision    recall  f1-score   support\n",
      "\n",
      "           0       0.68      0.72      0.70      4978\n",
      "           1       0.70      0.66      0.68      5022\n",
      "\n",
      "    accuracy                           0.69     10000\n",
      "   macro avg       0.69      0.69      0.69     10000\n",
      "weighted avg       0.69      0.69      0.69     10000\n",
      "\n",
      "----------------------------------------------------------\n"
     ]
    }
   ],
   "source": [
    "from sklearn.ensemble import GradientBoostingClassifier\n",
    "with mlflow.start_run():\n",
    "    mlflow.set_tag(\"Owner\",\"Suraj H\")\n",
    "    mlflow.set_tag(\"Algorithm\", \"Gradient Boost bert\")\n",
    "    \n",
    "    gb_classifier=GradientBoostingClassifier()\n",
    "    gb_classifier.fit(x_train,y_train)\n",
    "    pickle.dump(gb_classifier, open(\"resources_advance_approach_using_pre_trained_model/gradient_boostig_bert.pkl\",\"wb\"))\n",
    "    \n",
    "    y_pred=gb_classifier.predict(x_test)\n",
    "    acc=accuracy_score(y_test,y_pred)\n",
    "    precision=precision_score(y_test,y_pred)\n",
    "    recall=recall_score(y_test,y_pred)\n",
    "    f1=f1_score(y_test,y_pred)\n",
    "    \n",
    "    print(\"----------------------------------------------------------\")\n",
    "    print(\"Acuuracy={}\\nPrecission={}\\nRecall={}\\nF1 Score={}\".format(acc, precision, recall, f1))\n",
    "    print(\"----------------------------------------------------------\")\n",
    "    print(\"Confusion Matrix=\\n\")\n",
    "    sns.heatmap(confusion_matrix(y_test,y_pred), annot=True, annot_kws={\"fontsize\":15}, linewidths=5, linecolor='blue',\n",
    "                yticklabels=[\"Non-Duplicate\",\"Duplicate\"], xticklabels=[\"Non-Duplicate\",\"Duplicate\"], cbar=None, fmt='g')\n",
    "    plt.xlabel(\"Predicted\",fontsize=18)\n",
    "    plt.ylabel(\"Actual\",fontsize=18)\n",
    "    plt.savefig(\"resources_advance_approach_using_pre_trained_model/gradient_boost_bert_conf_matrix.png\")\n",
    "    plt.show()\n",
    "    print(\"----------------------------------------------------------\")\n",
    "    print(\"Out of {} testing values {} are mis-classified.\".format(y_test.shape[0], sum(y_test!=y_pred)))\n",
    "    print(\"----------------------------------------------------------\")\n",
    "    print(\"Classification Report=\\n\", classification_report(y_test,y_pred))\n",
    "    print(\"----------------------------------------------------------\")\n",
    "    \n",
    "    mlflow.log_metrics({\"Accuracy\":acc, \"Precision\":precision, \"Recall\":recall, \"F1 Score\":f1})\n",
    "    mlflow.sklearn.log_model(gb_classifier, artifact_path=\"models\")\n",
    "    mlflow.log_artifact(\"resources_advance_approach_using_pre_trained_model/gradient_boost_bert_conf_matrix.png\")"
   ]
  },
  {
   "cell_type": "markdown",
   "metadata": {},
   "source": [
    "<h2 style=\"color:blue; background:lightgreen; line-height:1\">6. Ada Boost</h2>"
   ]
  },
  {
   "cell_type": "code",
   "execution_count": 24,
   "metadata": {},
   "outputs": [
    {
     "name": "stdout",
     "output_type": "stream",
     "text": [
      "----------------------------------------------------------\n",
      "Acuuracy=0.6473\n",
      "Precission=0.6534592486142475\n",
      "Recall=0.6338112305854241\n",
      "F1 Score=0.6434852926311533\n",
      "----------------------------------------------------------\n",
      "Confusion Matrix=\n",
      "\n"
     ]
    },
    {
     "data": {
      "image/png": "[encoded data removed]",
      "text/plain": [
       "<Figure size 432x288 with 1 Axes>"
      ]
     },
     "metadata": {},
     "output_type": "display_data"
    },
    {
     "name": "stdout",
     "output_type": "stream",
     "text": [
      "----------------------------------------------------------\n",
      "Out of 10000 testing values 3527 are mis-classified.\n",
      "----------------------------------------------------------\n",
      "Classification Report=\n",
      "               precision    recall  f1-score   support\n",
      "\n",
      "           0       0.64      0.66      0.65      4978\n",
      "           1       0.65      0.63      0.64      5022\n",
      "\n",
      "    accuracy                           0.65     10000\n",
      "   macro avg       0.65      0.65      0.65     10000\n",
      "weighted avg       0.65      0.65      0.65     10000\n",
      "\n",
      "----------------------------------------------------------\n"
     ]
    }
   ],
   "source": [
    "from sklearn.ensemble import AdaBoostClassifier\n",
    "with mlflow.start_run():\n",
    "    mlflow.set_tag(\"Owner\",\"Suraj H\")\n",
    "    mlflow.set_tag(\"Algorithm\", \"Ada Boost bert\")\n",
    "    \n",
    "    ada_classifier=AdaBoostClassifier()\n",
    "    ada_classifier.fit(x_train,y_train)\n",
    "    pickle.dump(ada_classifier, open(\"resources_advance_approach_using_pre_trained_model/ada_boosting_bert.pkl\",\"wb\"))\n",
    "    \n",
    "    y_pred=ada_classifier.predict(x_test)\n",
    "    acc=accuracy_score(y_test,y_pred)\n",
    "    precision=precision_score(y_test,y_pred)\n",
    "    recall=recall_score(y_test,y_pred)\n",
    "    f1=f1_score(y_test,y_pred)\n",
    "    \n",
    "    print(\"----------------------------------------------------------\")\n",
    "    print(\"Acuuracy={}\\nPrecission={}\\nRecall={}\\nF1 Score={}\".format(acc, precision, recall, f1))\n",
    "    print(\"----------------------------------------------------------\")\n",
    "    print(\"Confusion Matrix=\\n\")\n",
    "    sns.heatmap(confusion_matrix(y_test,y_pred), annot=True, annot_kws={\"fontsize\":15}, linewidths=5, linecolor='blue',\n",
    "                yticklabels=[\"Non-Duplicate\",\"Duplicate\"], xticklabels=[\"Non-Duplicate\",\"Duplicate\"], cbar=None, fmt='g')\n",
    "    plt.xlabel(\"Predicted\",fontsize=18)\n",
    "    plt.ylabel(\"Actual\",fontsize=18)\n",
    "    plt.savefig(\"resources_advance_approach_using_pre_trained_model/ada_boost_bert_conf_matrix.png\")\n",
    "    plt.show()\n",
    "    print(\"----------------------------------------------------------\")\n",
    "    print(\"Out of {} testing values {} are mis-classified.\".format(y_test.shape[0], sum(y_test!=y_pred)))\n",
    "    print(\"----------------------------------------------------------\")\n",
    "    print(\"Classification Report=\\n\", classification_report(y_test,y_pred))\n",
    "    print(\"----------------------------------------------------------\")\n",
    "    \n",
    "    mlflow.log_metrics({\"Accuracy\":acc, \"Precision\":precision, \"Recall\":recall, \"F1 Score\":f1})\n",
    "    mlflow.sklearn.log_model(ada_classifier, artifact_path=\"models\")\n",
    "    mlflow.log_artifact(\"resources_advance_approach_using_pre_trained_model/ada_boost_bert_conf_matrix.png\")"
   ]
  },
  {
   "cell_type": "markdown",
   "metadata": {},
   "source": [
    "<h2 style=\"color:blue; background:lightgreen; line-height:1\">7. XG Boost</h2>"
   ]
  },
  {
   "cell_type": "code",
   "execution_count": 25,
   "metadata": {},
   "outputs": [
    {
     "name": "stdout",
     "output_type": "stream",
     "text": [
      "----------------------------------------------------------\n",
      "Acuuracy=0.737\n",
      "Precission=0.7441812984891792\n",
      "Recall=0.7258064516129032\n",
      "F1 Score=0.7348790322580646\n",
      "----------------------------------------------------------\n",
      "Confusion Matrix=\n",
      "\n"
     ]
    },
    {
     "data": {
      "image/png": "[encoded data removed]",
      "text/plain": [
       "<Figure size 432x288 with 1 Axes>"
      ]
     },
     "metadata": {},
     "output_type": "display_data"
    },
    {
     "name": "stdout",
     "output_type": "stream",
     "text": [
      "----------------------------------------------------------\n",
      "Out of 10000 testing values 2630 are mis-classified.\n",
      "----------------------------------------------------------\n",
      "Classification Report=\n",
      "               precision    recall  f1-score   support\n",
      "\n",
      "           0       0.73      0.75      0.74      4978\n",
      "           1       0.74      0.73      0.73      5022\n",
      "\n",
      "    accuracy                           0.74     10000\n",
      "   macro avg       0.74      0.74      0.74     10000\n",
      "weighted avg       0.74      0.74      0.74     10000\n",
      "\n",
      "----------------------------------------------------------\n"
     ]
    }
   ],
   "source": [
    "from xgboost import XGBClassifier\n",
    "from sklearn.metrics import classification_report, accuracy_score, recall_score, f1_score, precision_score, confusion_matrix\n",
    "import pickle\n",
    "with mlflow.start_run():\n",
    "    mlflow.set_tag(\"Owner\",\"Suraj H\")\n",
    "    mlflow.set_tag(\"Algorithm\", \"XG Boost bert\")\n",
    "    \n",
    "    xgb_classifier=XGBClassifier()\n",
    "    xgb_classifier.fit(x_train,y_train)\n",
    "    pickle.dump(xgb_classifier, open(\"resources_advance_approach_using_pre_trained_model/xgboost_bert.pkl\",\"wb\"))\n",
    "    \n",
    "    y_pred=xgb_classifier.predict(x_test)\n",
    "    acc=accuracy_score(y_test,y_pred)\n",
    "    precision=precision_score(y_test,y_pred)\n",
    "    recall=recall_score(y_test,y_pred)\n",
    "    f1=f1_score(y_test,y_pred)\n",
    "    \n",
    "    print(\"----------------------------------------------------------\")\n",
    "    print(\"Acuuracy={}\\nPrecission={}\\nRecall={}\\nF1 Score={}\".format(acc, precision, recall, f1))\n",
    "    print(\"----------------------------------------------------------\")\n",
    "    print(\"Confusion Matrix=\\n\")\n",
    "    sns.heatmap(confusion_matrix(y_test,y_pred), annot=True, annot_kws={\"fontsize\":15}, linewidths=5, linecolor='blue',\n",
    "                yticklabels=[\"Non-Duplicate\",\"Duplicate\"], xticklabels=[\"Non-Duplicate\",\"Duplicate\"], cbar=None, fmt='g')\n",
    "    plt.xlabel(\"Predicted\",fontsize=18)\n",
    "    plt.ylabel(\"Actual\",fontsize=18)\n",
    "    plt.savefig(\"resources_advance_approach_using_pre_trained_model/xgboost_bert_conf_matrix.png\")\n",
    "    plt.show()\n",
    "    print(\"----------------------------------------------------------\")\n",
    "    print(\"Out of {} testing values {} are mis-classified.\".format(y_test.shape[0], sum(y_test!=y_pred)))\n",
    "    print(\"----------------------------------------------------------\")\n",
    "    print(\"Classification Report=\\n\", classification_report(y_test,y_pred))\n",
    "    print(\"----------------------------------------------------------\")\n",
    "    \n",
    "    mlflow.log_metrics({\"Accuracy\":acc, \"Precision\":precision, \"Recall\":recall, \"F1 Score\":f1})\n",
    "    mlflow.sklearn.log_model(xgb_classifier, artifact_path=\"models\")\n",
    "    mlflow.log_artifact(\"resources_advance_approach_using_pre_trained_model/xgboost_bert_conf_matrix.png\")"
   ]
  },
  {
   "cell_type": "markdown",
   "metadata": {},
   "source": [
    "### Inference:\n",
    " **Accuracy of XGBoost model is high(74%).**"
   ]
  },
  {
   "cell_type": "markdown",
   "metadata": {},
   "source": [
    "**+----------------------------------------------------------------------------------------------------------------------------------------------------------------------------------------------------------------------------------------------------------------------------------------------------------------------------------------------------------------------------------------------------------------------------------+**"
   ]
  },
  {
   "cell_type": "markdown",
   "metadata": {},
   "source": [
    "<h1 style=\"color:blue; background:lightblue; line-height:1.5; text-align:center\">* Quora Question Pair Similarity using BERT, Extracted features and ML Models*</h1>"
   ]
  },
  {
   "cell_type": "markdown",
   "metadata": {},
   "source": [
    "<h2 style=\"color:blue; background:pink; line-height:1.5\">Load Clean Dataset</h2>"
   ]
  },
  {
   "cell_type": "code",
   "execution_count": 26,
   "metadata": {},
   "outputs": [
    {
     "data": {
      "text/html": [
       "<div>\n",
       "<style scoped>\n",
       "    .dataframe tbody tr th:only-of-type {\n",
       "        vertical-align: middle;\n",
       "    }\n",
       "\n",
       "    .dataframe tbody tr th {\n",
       "        vertical-align: top;\n",
       "    }\n",
       "\n",
       "    .dataframe thead th {\n",
       "        text-align: right;\n",
       "    }\n",
       "</style>\n",
       "<table border=\"1\" class=\"dataframe\">\n",
       "  <thead>\n",
       "    <tr style=\"text-align: right;\">\n",
       "      <th></th>\n",
       "      <th>question1</th>\n",
       "      <th>question2</th>\n",
       "      <th>is_duplicate</th>\n",
       "      <th>que1_len</th>\n",
       "      <th>que2_len</th>\n",
       "      <th>que1_num_words</th>\n",
       "      <th>que2_num_words</th>\n",
       "      <th>total_words</th>\n",
       "      <th>common_words</th>\n",
       "      <th>shared_words</th>\n",
       "      <th>...</th>\n",
       "      <th>ctc_max</th>\n",
       "      <th>last_word_eq</th>\n",
       "      <th>first_word_eq</th>\n",
       "      <th>abs_len_diff</th>\n",
       "      <th>mean_len</th>\n",
       "      <th>long_substr_ratio</th>\n",
       "      <th>fuzz_ratio</th>\n",
       "      <th>fuzz_partial_ratio</th>\n",
       "      <th>token_sort_ratio</th>\n",
       "      <th>token_set_ratio</th>\n",
       "    </tr>\n",
       "  </thead>\n",
       "  <tbody>\n",
       "    <tr>\n",
       "      <th>0</th>\n",
       "      <td>what minor would complement a computer science...</td>\n",
       "      <td>what is a good minor that will compliment a co...</td>\n",
       "      <td>1</td>\n",
       "      <td>52</td>\n",
       "      <td>66</td>\n",
       "      <td>8</td>\n",
       "      <td>12</td>\n",
       "      <td>19</td>\n",
       "      <td>8</td>\n",
       "      <td>0.42</td>\n",
       "      <td>...</td>\n",
       "      <td>0.499996</td>\n",
       "      <td>1.0</td>\n",
       "      <td>1.0</td>\n",
       "      <td>4.0</td>\n",
       "      <td>10.0</td>\n",
       "      <td>0.547170</td>\n",
       "      <td>81</td>\n",
       "      <td>85</td>\n",
       "      <td>81</td>\n",
       "      <td>83</td>\n",
       "    </tr>\n",
       "    <tr>\n",
       "      <th>1</th>\n",
       "      <td>how can i materialize an idea</td>\n",
       "      <td>what is the best way to materialize on an idea</td>\n",
       "      <td>1</td>\n",
       "      <td>29</td>\n",
       "      <td>46</td>\n",
       "      <td>6</td>\n",
       "      <td>10</td>\n",
       "      <td>16</td>\n",
       "      <td>2</td>\n",
       "      <td>0.12</td>\n",
       "      <td>...</td>\n",
       "      <td>0.299997</td>\n",
       "      <td>1.0</td>\n",
       "      <td>0.0</td>\n",
       "      <td>4.0</td>\n",
       "      <td>8.0</td>\n",
       "      <td>0.433333</td>\n",
       "      <td>64</td>\n",
       "      <td>72</td>\n",
       "      <td>53</td>\n",
       "      <td>79</td>\n",
       "    </tr>\n",
       "    <tr>\n",
       "      <th>2</th>\n",
       "      <td>what was the happiest day of your life and why...</td>\n",
       "      <td>what was is will be the happiest day of your life</td>\n",
       "      <td>1</td>\n",
       "      <td>53</td>\n",
       "      <td>49</td>\n",
       "      <td>12</td>\n",
       "      <td>11</td>\n",
       "      <td>22</td>\n",
       "      <td>11</td>\n",
       "      <td>0.50</td>\n",
       "      <td>...</td>\n",
       "      <td>0.666661</td>\n",
       "      <td>0.0</td>\n",
       "      <td>1.0</td>\n",
       "      <td>1.0</td>\n",
       "      <td>11.5</td>\n",
       "      <td>0.600000</td>\n",
       "      <td>75</td>\n",
       "      <td>78</td>\n",
       "      <td>84</td>\n",
       "      <td>88</td>\n",
       "    </tr>\n",
       "    <tr>\n",
       "      <th>3</th>\n",
       "      <td>what role project manager has in agile projects</td>\n",
       "      <td>what is the role of project management in agil...</td>\n",
       "      <td>1</td>\n",
       "      <td>47</td>\n",
       "      <td>68</td>\n",
       "      <td>8</td>\n",
       "      <td>11</td>\n",
       "      <td>19</td>\n",
       "      <td>8</td>\n",
       "      <td>0.42</td>\n",
       "      <td>...</td>\n",
       "      <td>0.454541</td>\n",
       "      <td>0.0</td>\n",
       "      <td>1.0</td>\n",
       "      <td>3.0</td>\n",
       "      <td>9.5</td>\n",
       "      <td>0.312500</td>\n",
       "      <td>64</td>\n",
       "      <td>70</td>\n",
       "      <td>59</td>\n",
       "      <td>71</td>\n",
       "    </tr>\n",
       "    <tr>\n",
       "      <th>4</th>\n",
       "      <td>who will win in america presidential elections...</td>\n",
       "      <td>between trump and clinton who will win us pres...</td>\n",
       "      <td>1</td>\n",
       "      <td>54</td>\n",
       "      <td>63</td>\n",
       "      <td>9</td>\n",
       "      <td>10</td>\n",
       "      <td>18</td>\n",
       "      <td>8</td>\n",
       "      <td>0.44</td>\n",
       "      <td>...</td>\n",
       "      <td>0.399996</td>\n",
       "      <td>0.0</td>\n",
       "      <td>0.0</td>\n",
       "      <td>1.0</td>\n",
       "      <td>9.5</td>\n",
       "      <td>0.400000</td>\n",
       "      <td>60</td>\n",
       "      <td>77</td>\n",
       "      <td>65</td>\n",
       "      <td>68</td>\n",
       "    </tr>\n",
       "  </tbody>\n",
       "</table>\n",
       "<p>5 rows × 25 columns</p>\n",
       "</div>"
      ],
      "text/plain": [
       "                                           question1  \\\n",
       "0  what minor would complement a computer science...   \n",
       "1                      how can i materialize an idea   \n",
       "2  what was the happiest day of your life and why...   \n",
       "3    what role project manager has in agile projects   \n",
       "4  who will win in america presidential elections...   \n",
       "\n",
       "                                           question2  is_duplicate  que1_len  \\\n",
       "0  what is a good minor that will compliment a co...             1        52   \n",
       "1     what is the best way to materialize on an idea             1        29   \n",
       "2  what was is will be the happiest day of your life             1        53   \n",
       "3  what is the role of project management in agil...             1        47   \n",
       "4  between trump and clinton who will win us pres...             1        54   \n",
       "\n",
       "   que2_len  que1_num_words  que2_num_words  total_words  common_words  \\\n",
       "0        66               8              12           19             8   \n",
       "1        46               6              10           16             2   \n",
       "2        49              12              11           22            11   \n",
       "3        68               8              11           19             8   \n",
       "4        63               9              10           18             8   \n",
       "\n",
       "   shared_words  ...   ctc_max  last_word_eq  first_word_eq  abs_len_diff  \\\n",
       "0          0.42  ...  0.499996           1.0            1.0           4.0   \n",
       "1          0.12  ...  0.299997           1.0            0.0           4.0   \n",
       "2          0.50  ...  0.666661           0.0            1.0           1.0   \n",
       "3          0.42  ...  0.454541           0.0            1.0           3.0   \n",
       "4          0.44  ...  0.399996           0.0            0.0           1.0   \n",
       "\n",
       "   mean_len  long_substr_ratio  fuzz_ratio  fuzz_partial_ratio  \\\n",
       "0      10.0           0.547170          81                  85   \n",
       "1       8.0           0.433333          64                  72   \n",
       "2      11.5           0.600000          75                  78   \n",
       "3       9.5           0.312500          64                  70   \n",
       "4       9.5           0.400000          60                  77   \n",
       "\n",
       "   token_sort_ratio  token_set_ratio  \n",
       "0                81               83  \n",
       "1                53               79  \n",
       "2                84               88  \n",
       "3                59               71  \n",
       "4                65               68  \n",
       "\n",
       "[5 rows x 25 columns]"
      ]
     },
     "execution_count": 26,
     "metadata": {},
     "output_type": "execute_result"
    }
   ],
   "source": [
    "df.head()"
   ]
  },
  {
   "cell_type": "markdown",
   "metadata": {},
   "source": [
    "<h2 style=\"color:blue; background:pink; line-height:1.5\">Divide data into Input and Output</h2>"
   ]
  },
  {
   "cell_type": "code",
   "execution_count": 27,
   "metadata": {},
   "outputs": [
    {
     "name": "stdout",
     "output_type": "stream",
     "text": [
      "(49998, 24) (49998,)\n"
     ]
    }
   ],
   "source": [
    "X=df.drop('is_duplicate', axis=1)\n",
    "y=df['is_duplicate']\n",
    "print(X.shape, y.shape)"
   ]
  },
  {
   "cell_type": "markdown",
   "metadata": {},
   "source": [
    "<h2 style=\"color:blue; background:pink; line-height:1.5\">Seperate Extracted features and apply word embedding to Question1 and Question2 Seperately and while splitting train test concatenate extracted features.</h2>"
   ]
  },
  {
   "cell_type": "code",
   "execution_count": 28,
   "metadata": {},
   "outputs": [
    {
     "name": "stdout",
     "output_type": "stream",
     "text": [
      "['what minor would complement a computer science major', 'how can i materialize an idea']\n",
      "['what is a good minor that will compliment a computer science major', 'what is the best way to materialize on an idea']\n"
     ]
    }
   ],
   "source": [
    "questions1=list(X['question1'])\n",
    "questions2=list(X['question2'])\n",
    "print(questions1[:2])\n",
    "print(questions2[:2])"
   ]
  },
  {
   "cell_type": "code",
   "execution_count": 29,
   "metadata": {},
   "outputs": [
    {
     "data": {
      "text/html": [
       "<div>\n",
       "<style scoped>\n",
       "    .dataframe tbody tr th:only-of-type {\n",
       "        vertical-align: middle;\n",
       "    }\n",
       "\n",
       "    .dataframe tbody tr th {\n",
       "        vertical-align: top;\n",
       "    }\n",
       "\n",
       "    .dataframe thead th {\n",
       "        text-align: right;\n",
       "    }\n",
       "</style>\n",
       "<table border=\"1\" class=\"dataframe\">\n",
       "  <thead>\n",
       "    <tr style=\"text-align: right;\">\n",
       "      <th></th>\n",
       "      <th>que1_len</th>\n",
       "      <th>que2_len</th>\n",
       "      <th>que1_num_words</th>\n",
       "      <th>que2_num_words</th>\n",
       "      <th>total_words</th>\n",
       "      <th>common_words</th>\n",
       "      <th>shared_words</th>\n",
       "      <th>cwc_min</th>\n",
       "      <th>cwc_max</th>\n",
       "      <th>csc_min</th>\n",
       "      <th>...</th>\n",
       "      <th>ctc_max</th>\n",
       "      <th>last_word_eq</th>\n",
       "      <th>first_word_eq</th>\n",
       "      <th>abs_len_diff</th>\n",
       "      <th>mean_len</th>\n",
       "      <th>long_substr_ratio</th>\n",
       "      <th>fuzz_ratio</th>\n",
       "      <th>fuzz_partial_ratio</th>\n",
       "      <th>token_sort_ratio</th>\n",
       "      <th>token_set_ratio</th>\n",
       "    </tr>\n",
       "  </thead>\n",
       "  <tbody>\n",
       "    <tr>\n",
       "      <th>0</th>\n",
       "      <td>52</td>\n",
       "      <td>66</td>\n",
       "      <td>8</td>\n",
       "      <td>12</td>\n",
       "      <td>19</td>\n",
       "      <td>8</td>\n",
       "      <td>0.42</td>\n",
       "      <td>0.666656</td>\n",
       "      <td>0.666656</td>\n",
       "      <td>0.999950</td>\n",
       "      <td>...</td>\n",
       "      <td>0.499996</td>\n",
       "      <td>1.0</td>\n",
       "      <td>1.0</td>\n",
       "      <td>4.0</td>\n",
       "      <td>10.0</td>\n",
       "      <td>0.547170</td>\n",
       "      <td>81</td>\n",
       "      <td>85</td>\n",
       "      <td>81</td>\n",
       "      <td>83</td>\n",
       "    </tr>\n",
       "    <tr>\n",
       "      <th>1</th>\n",
       "      <td>29</td>\n",
       "      <td>46</td>\n",
       "      <td>6</td>\n",
       "      <td>10</td>\n",
       "      <td>16</td>\n",
       "      <td>2</td>\n",
       "      <td>0.12</td>\n",
       "      <td>0.999950</td>\n",
       "      <td>0.499988</td>\n",
       "      <td>0.249994</td>\n",
       "      <td>...</td>\n",
       "      <td>0.299997</td>\n",
       "      <td>1.0</td>\n",
       "      <td>0.0</td>\n",
       "      <td>4.0</td>\n",
       "      <td>8.0</td>\n",
       "      <td>0.433333</td>\n",
       "      <td>64</td>\n",
       "      <td>72</td>\n",
       "      <td>53</td>\n",
       "      <td>79</td>\n",
       "    </tr>\n",
       "    <tr>\n",
       "      <th>2</th>\n",
       "      <td>53</td>\n",
       "      <td>49</td>\n",
       "      <td>12</td>\n",
       "      <td>11</td>\n",
       "      <td>22</td>\n",
       "      <td>11</td>\n",
       "      <td>0.50</td>\n",
       "      <td>0.999967</td>\n",
       "      <td>0.999967</td>\n",
       "      <td>0.624992</td>\n",
       "      <td>...</td>\n",
       "      <td>0.666661</td>\n",
       "      <td>0.0</td>\n",
       "      <td>1.0</td>\n",
       "      <td>1.0</td>\n",
       "      <td>11.5</td>\n",
       "      <td>0.600000</td>\n",
       "      <td>75</td>\n",
       "      <td>78</td>\n",
       "      <td>84</td>\n",
       "      <td>88</td>\n",
       "    </tr>\n",
       "    <tr>\n",
       "      <th>3</th>\n",
       "      <td>47</td>\n",
       "      <td>68</td>\n",
       "      <td>8</td>\n",
       "      <td>11</td>\n",
       "      <td>19</td>\n",
       "      <td>8</td>\n",
       "      <td>0.42</td>\n",
       "      <td>0.599988</td>\n",
       "      <td>0.499992</td>\n",
       "      <td>0.666644</td>\n",
       "      <td>...</td>\n",
       "      <td>0.454541</td>\n",
       "      <td>0.0</td>\n",
       "      <td>1.0</td>\n",
       "      <td>3.0</td>\n",
       "      <td>9.5</td>\n",
       "      <td>0.312500</td>\n",
       "      <td>64</td>\n",
       "      <td>70</td>\n",
       "      <td>59</td>\n",
       "      <td>71</td>\n",
       "    </tr>\n",
       "    <tr>\n",
       "      <th>4</th>\n",
       "      <td>54</td>\n",
       "      <td>63</td>\n",
       "      <td>9</td>\n",
       "      <td>10</td>\n",
       "      <td>18</td>\n",
       "      <td>8</td>\n",
       "      <td>0.44</td>\n",
       "      <td>0.399992</td>\n",
       "      <td>0.333328</td>\n",
       "      <td>0.666644</td>\n",
       "      <td>...</td>\n",
       "      <td>0.399996</td>\n",
       "      <td>0.0</td>\n",
       "      <td>0.0</td>\n",
       "      <td>1.0</td>\n",
       "      <td>9.5</td>\n",
       "      <td>0.400000</td>\n",
       "      <td>60</td>\n",
       "      <td>77</td>\n",
       "      <td>65</td>\n",
       "      <td>68</td>\n",
       "    </tr>\n",
       "  </tbody>\n",
       "</table>\n",
       "<p>5 rows × 22 columns</p>\n",
       "</div>"
      ],
      "text/plain": [
       "   que1_len  que2_len  que1_num_words  que2_num_words  total_words  \\\n",
       "0        52        66               8              12           19   \n",
       "1        29        46               6              10           16   \n",
       "2        53        49              12              11           22   \n",
       "3        47        68               8              11           19   \n",
       "4        54        63               9              10           18   \n",
       "\n",
       "   common_words  shared_words   cwc_min   cwc_max   csc_min  ...   ctc_max  \\\n",
       "0             8          0.42  0.666656  0.666656  0.999950  ...  0.499996   \n",
       "1             2          0.12  0.999950  0.499988  0.249994  ...  0.299997   \n",
       "2            11          0.50  0.999967  0.999967  0.624992  ...  0.666661   \n",
       "3             8          0.42  0.599988  0.499992  0.666644  ...  0.454541   \n",
       "4             8          0.44  0.399992  0.333328  0.666644  ...  0.399996   \n",
       "\n",
       "   last_word_eq  first_word_eq  abs_len_diff  mean_len  long_substr_ratio  \\\n",
       "0           1.0            1.0           4.0      10.0           0.547170   \n",
       "1           1.0            0.0           4.0       8.0           0.433333   \n",
       "2           0.0            1.0           1.0      11.5           0.600000   \n",
       "3           0.0            1.0           3.0       9.5           0.312500   \n",
       "4           0.0            0.0           1.0       9.5           0.400000   \n",
       "\n",
       "   fuzz_ratio  fuzz_partial_ratio  token_sort_ratio  token_set_ratio  \n",
       "0          81                  85                81               83  \n",
       "1          64                  72                53               79  \n",
       "2          75                  78                84               88  \n",
       "3          64                  70                59               71  \n",
       "4          60                  77                65               68  \n",
       "\n",
       "[5 rows x 22 columns]"
      ]
     },
     "execution_count": 29,
     "metadata": {},
     "output_type": "execute_result"
    }
   ],
   "source": [
    "extracted_features=['que1_len', 'que2_len',\n",
    "       'que1_num_words', 'que2_num_words', 'total_words', 'common_words',\n",
    "       'shared_words', 'cwc_min', 'cwc_max', 'csc_min', 'csc_max', 'ctc_min',\n",
    "       'ctc_max', 'last_word_eq', 'first_word_eq', 'abs_len_diff', 'mean_len',\n",
    "       'long_substr_ratio', 'fuzz_ratio', 'fuzz_partial_ratio',\n",
    "       'token_sort_ratio', 'token_set_ratio']\n",
    "\n",
    "extracted_features=X[extracted_features]\n",
    "extracted_features[:5]"
   ]
  },
  {
   "cell_type": "markdown",
   "metadata": {},
   "source": [
    "<h2 style=\"color:blue; background:pink; line-height:1.5\">Create Document vector using pre-trained BERT</h2>"
   ]
  },
  {
   "cell_type": "code",
   "execution_count": 30,
   "metadata": {},
   "outputs": [
    {
     "data": {
      "text/plain": [
       "array([-5.69832511e-02,  3.21483836e-02,  3.56425047e-02, -1.28246667e-02,\n",
       "        5.79713322e-02,  2.76717227e-02,  6.75143749e-02,  7.41180554e-02,\n",
       "       -1.96705814e-02,  6.69298172e-02, -1.39749780e-01,  1.59743370e-03,\n",
       "       -4.61229542e-03,  4.79702130e-02, -1.20710656e-02, -3.37790400e-02,\n",
       "        4.07117084e-02,  3.15812156e-02, -4.67915125e-02, -2.44256966e-02,\n",
       "        4.41854969e-02,  2.33329237e-02,  1.79691203e-02, -1.14569198e-02,\n",
       "       -8.66125710e-03,  8.73558521e-02,  8.31238553e-02, -3.63886170e-02,\n",
       "        7.89543092e-02, -5.54883145e-02,  4.84597869e-02,  7.84342661e-02,\n",
       "       -5.81536721e-03, -4.88369865e-03,  6.78026816e-03,  1.42397568e-01,\n",
       "       -5.65004200e-02,  7.60665685e-02,  2.58181449e-02, -8.59635696e-02,\n",
       "       -7.78953731e-02, -2.21426468e-02, -5.15497848e-03,  2.68387105e-02,\n",
       "        1.08901635e-01, -1.07628539e-01,  4.02475595e-02, -1.99302100e-02,\n",
       "        5.34186848e-02, -3.59151736e-02, -3.59780192e-02, -7.94058889e-02,\n",
       "       -4.23459969e-02, -9.44508314e-02, -7.53298476e-02, -2.28400882e-02,\n",
       "        4.71205115e-02, -1.27802696e-03, -1.59526337e-02, -1.02725387e-01,\n",
       "        3.69149223e-02,  6.10657968e-02,  1.82717722e-02, -7.71094533e-03,\n",
       "        5.50678261e-02,  4.35526893e-02,  1.55539317e-02,  1.60136744e-01,\n",
       "       -5.05040437e-02,  2.39077136e-02,  1.11304909e-01,  3.87040637e-02,\n",
       "       -2.62692086e-02,  4.78338785e-02,  4.47016880e-02,  1.10527351e-02,\n",
       "       -5.53947408e-03, -7.25715142e-03, -3.20658945e-02, -3.08643170e-02,\n",
       "       -5.57890162e-02,  1.48887681e-02,  4.02321108e-03,  6.28910959e-02,\n",
       "       -2.60027330e-02,  8.14186856e-02,  4.23018895e-02,  6.29470199e-02,\n",
       "        2.00882871e-02, -2.19898075e-02, -1.73157807e-02,  3.95982824e-02,\n",
       "       -4.80785184e-02, -5.27224429e-02,  2.57627890e-02,  1.85951311e-02,\n",
       "       -1.02555323e-02, -7.08613992e-02,  5.75565286e-02,  8.66963416e-02,\n",
       "       -1.73395481e-02, -1.12963067e-02,  4.48397100e-02, -7.68724158e-02,\n",
       "        3.21406052e-02, -6.64440170e-02, -2.12326050e-02, -3.75489555e-02,\n",
       "       -3.56182549e-03,  3.05870660e-02, -4.84058633e-02, -3.52442684e-03,\n",
       "       -7.83827901e-02,  4.95239757e-02,  2.51689013e-02, -1.81264021e-02,\n",
       "        5.33437803e-02, -3.49575020e-02, -1.65953804e-02, -2.15529054e-02,\n",
       "        7.61183277e-02,  2.62385886e-02, -2.65660160e-03, -1.60200279e-02,\n",
       "       -7.05347583e-02, -3.09042875e-02, -2.97301691e-02, -5.60829934e-33,\n",
       "        1.31015126e-02,  3.67927998e-02,  1.48031982e-02,  1.40407085e-01,\n",
       "        5.26077226e-02, -2.98589393e-02,  3.61175723e-02,  1.64401941e-02,\n",
       "       -1.43214911e-02,  1.15085170e-02,  7.28148296e-02,  5.67281544e-02,\n",
       "        1.60815939e-02,  7.59531260e-02,  5.46137206e-02, -4.80721183e-02,\n",
       "       -6.90713227e-02, -2.66606323e-02, -1.13011589e-02, -4.23741490e-02,\n",
       "       -8.99881721e-02, -4.90516648e-02,  3.75406668e-02, -2.02746317e-02,\n",
       "       -3.01850457e-02,  4.90560345e-02,  3.13408971e-02,  6.34332839e-03,\n",
       "       -4.28840443e-02, -3.27051803e-02,  7.38893598e-02,  3.72564606e-02,\n",
       "       -3.48276533e-02,  8.35301261e-03, -6.57666251e-02,  2.41195969e-02,\n",
       "       -1.98220946e-02, -5.26951775e-02,  9.24860984e-02,  3.22801759e-04,\n",
       "       -2.63119917e-02, -6.01005089e-03,  7.01469257e-02, -4.40137237e-02,\n",
       "        8.05935860e-02,  7.18588755e-02,  1.05660021e-01,  1.66672526e-03,\n",
       "       -2.46413779e-02,  4.04677400e-03,  5.17048016e-02,  5.26210889e-02,\n",
       "        2.81237680e-02, -7.47384727e-02, -1.84148215e-02, -5.95654212e-02,\n",
       "       -3.04819494e-02, -9.87022072e-02,  9.58657786e-02, -7.57910535e-02,\n",
       "        5.53585328e-02, -2.88969837e-02,  2.68769097e-02,  8.07181895e-02,\n",
       "       -6.00601733e-02,  7.83995241e-02, -7.21529871e-02, -1.42642995e-02,\n",
       "        4.04651091e-02, -7.30060264e-02, -3.74008976e-02,  2.38193255e-02,\n",
       "       -1.17904565e-03, -3.24300956e-04, -1.09671764e-01, -2.41581555e-02,\n",
       "       -2.02482212e-02, -5.30376099e-02,  6.73840055e-03,  8.81149340e-03,\n",
       "       -7.66415969e-02, -4.36312854e-02, -3.83106992e-02, -4.14707847e-02,\n",
       "       -3.35028283e-02,  6.01052493e-03,  8.20195302e-02,  6.48003221e-02,\n",
       "       -5.08503094e-02, -2.21050121e-02, -1.08843789e-01, -3.39921117e-02,\n",
       "       -5.63674327e-03, -8.13951939e-02,  1.47595759e-02,  2.22277845e-33,\n",
       "       -3.89285721e-02, -6.52995333e-02, -5.69887571e-02, -6.95937499e-03,\n",
       "        9.38605666e-02, -3.60118481e-03, -9.84742865e-02, -3.20789553e-02,\n",
       "       -4.28072959e-02,  6.23624884e-02,  2.44269576e-02, -2.93867439e-02,\n",
       "        2.91420333e-02, -1.23366071e-02, -6.04940727e-02, -5.38906418e-02,\n",
       "        5.88829629e-03,  4.74769026e-02,  2.17272416e-02, -1.23237763e-02,\n",
       "       -6.87007234e-02,  1.00654149e-02, -3.66148055e-02, -1.57830138e-02,\n",
       "        2.12241504e-02,  9.06020217e-03, -4.15880978e-02, -5.47393002e-02,\n",
       "       -3.71392537e-03,  3.42563190e-03, -3.84843051e-02, -1.18917309e-01,\n",
       "       -2.97848545e-02,  4.68042726e-03, -5.43166958e-02,  1.02019692e-02,\n",
       "        3.68774831e-02, -4.35268134e-02,  5.08719124e-03, -3.87788527e-02,\n",
       "        1.76802017e-02, -6.24671467e-02, -4.52979803e-02, -2.83009391e-02,\n",
       "       -5.14746085e-02, -3.74208651e-02, -4.50907052e-02,  1.06536681e-02,\n",
       "        1.45526212e-02,  1.88529491e-03,  1.08153179e-01,  5.19687571e-02,\n",
       "        3.68102379e-02, -1.44034922e-01,  2.77968147e-03,  6.63796961e-02,\n",
       "        1.05481811e-01, -5.63070029e-02,  3.03516258e-02,  8.87928084e-02,\n",
       "       -2.64777336e-02,  1.34941088e-02,  3.78628485e-02, -3.87629978e-02,\n",
       "        2.07801443e-02, -8.33132640e-02, -2.41598003e-02, -2.72390209e-02,\n",
       "       -6.00422733e-02, -6.08556019e-03, -4.38937880e-02,  7.01569244e-02,\n",
       "       -4.66247685e-02,  6.15856946e-02,  6.50582090e-02, -6.64792880e-02,\n",
       "        1.84320919e-02,  1.39361536e-02, -9.68083180e-03, -7.91382194e-02,\n",
       "        5.56492954e-02, -1.72894541e-02, -2.55149379e-02, -1.69787407e-02,\n",
       "        1.81452446e-02,  1.60844084e-02, -7.28238449e-02,  3.27652395e-02,\n",
       "       -7.49455057e-06,  7.32183177e-03, -1.27674460e-01,  3.03660389e-02,\n",
       "        4.30279076e-02,  1.08795278e-01, -2.00166255e-02, -1.73934627e-08,\n",
       "       -1.86785739e-02, -2.00015325e-02,  9.54984576e-02, -7.12312851e-03,\n",
       "       -4.78650220e-02,  2.97502652e-02, -2.67147347e-02, -3.63789052e-02,\n",
       "       -1.83510929e-02, -2.68845893e-02, -5.18046580e-02, -3.26254554e-02,\n",
       "       -5.03238104e-02,  8.83155093e-02,  4.90497192e-03, -2.27385424e-02,\n",
       "       -9.94581450e-03,  7.33412988e-03, -5.41010909e-02, -5.33642508e-02,\n",
       "        8.37619156e-02,  1.02688251e-02, -4.49591130e-02, -3.01003214e-02,\n",
       "        5.52828349e-02,  6.18670471e-02,  3.49136442e-02,  4.82837930e-02,\n",
       "       -3.85402590e-02,  1.11713588e-01, -2.91655716e-02,  4.63978983e-02,\n",
       "       -4.92276065e-02,  4.34273295e-02, -4.58180383e-02, -6.43259510e-02,\n",
       "        5.66153079e-02,  6.79784035e-03, -1.05941920e-02,  2.45272312e-02,\n",
       "       -4.31408323e-02,  4.06064168e-02, -9.76803247e-03,  3.19002979e-02,\n",
       "        7.25364387e-02,  2.04477143e-02, -4.28118929e-02, -4.50793952e-02,\n",
       "       -4.13366444e-02,  7.49546885e-02,  1.56080509e-02,  1.79778133e-02,\n",
       "        4.95951958e-02, -2.47065369e-02,  2.59174071e-02,  6.39269724e-02,\n",
       "        1.51848784e-02,  8.43745321e-02, -7.12880399e-03, -1.35279791e-02,\n",
       "       -5.72945457e-03,  5.82991168e-03, -1.50446286e-02,  6.25091642e-02],\n",
       "      dtype=float32)"
      ]
     },
     "execution_count": 30,
     "metadata": {},
     "output_type": "execute_result"
    }
   ],
   "source": [
    "doc_vector1=list(X['question1'].apply(model.encode))\n",
    "doc_vector2=list(X['question2'].apply(model.encode))\n",
    "doc_vector1[1]"
   ]
  },
  {
   "cell_type": "code",
   "execution_count": 31,
   "metadata": {},
   "outputs": [
    {
     "data": {
      "text/plain": [
       "array([-6.20567314e-02,  5.39890118e-02,  2.93683093e-02, -2.33581234e-02,\n",
       "        5.62864244e-02,  2.61585396e-02,  6.58342540e-02,  8.76721889e-02,\n",
       "        1.94700633e-03,  7.35021532e-02, -1.24935851e-01,  3.31838280e-02,\n",
       "       -2.02498976e-02,  5.67612201e-02, -7.64385052e-03, -4.16389145e-02,\n",
       "        5.41087054e-02,  5.79914972e-02, -3.28915901e-02, -2.59643067e-02,\n",
       "        2.33133957e-02,  4.10606526e-03,  2.06255354e-02, -9.57493950e-03,\n",
       "        2.73575727e-02,  7.26657137e-02,  8.25548321e-02, -4.13578711e-02,\n",
       "        8.73708278e-02, -5.55741899e-02,  2.58158557e-02,  8.47959965e-02,\n",
       "       -5.72243892e-03, -2.95786932e-03, -2.33343132e-02,  1.53466418e-01,\n",
       "       -4.76352125e-02,  8.42541307e-02,  3.41713503e-02, -8.92207399e-02,\n",
       "       -8.43812749e-02, -7.89517944e-04, -1.11386208e-02,  2.00423989e-02,\n",
       "        1.08121246e-01, -1.01457343e-01,  5.75345345e-02, -3.31759406e-03,\n",
       "        6.11875243e-02, -2.58813016e-02, -3.53461727e-02, -7.21092969e-02,\n",
       "       -5.16545065e-02, -6.77951127e-02, -7.32786804e-02, -1.54987043e-02,\n",
       "        5.05273789e-02,  1.41195385e-02, -1.23282932e-02, -9.59563032e-02,\n",
       "        2.29410138e-02,  7.46340156e-02,  2.50676014e-02, -5.47088450e-03,\n",
       "        6.35102913e-02,  4.58230264e-02,  3.86561379e-02,  1.55235589e-01,\n",
       "       -6.27589449e-02,  3.66620682e-02,  1.16708748e-01,  3.94172259e-02,\n",
       "       -2.60377973e-02,  4.79350165e-02,  4.70339917e-02,  2.61742175e-02,\n",
       "        2.46827258e-03, -8.27829167e-03, -6.42657056e-02, -2.68981457e-02,\n",
       "       -4.66696024e-02,  3.94442379e-02,  1.09990509e-02,  5.63372038e-02,\n",
       "       -2.00088099e-02,  5.83135150e-02,  1.61789283e-02,  4.53769602e-02,\n",
       "        5.17969318e-02, -2.27892920e-02, -1.58487409e-02,  4.61127274e-02,\n",
       "       -2.02991012e-02, -5.83377406e-02,  2.21751127e-02,  3.46811935e-02,\n",
       "       -3.71926241e-02, -6.51661903e-02,  6.78106546e-02,  7.30229840e-02,\n",
       "       -4.04937053e-03,  1.75660904e-02,  2.89480761e-02, -7.89347738e-02,\n",
       "        3.07733789e-02, -8.04476663e-02, -5.84500004e-03, -5.14138602e-02,\n",
       "       -5.21557173e-03,  3.28318514e-02, -3.85391600e-02,  1.26881013e-02,\n",
       "       -8.56628492e-02,  5.39197661e-02,  1.69535894e-02, -9.65124182e-03,\n",
       "        6.07700497e-02, -1.24303885e-02, -1.11637376e-02, -7.18763843e-03,\n",
       "        7.92872086e-02,  4.50476781e-02,  4.06738073e-02, -1.17702875e-02,\n",
       "       -7.83601403e-02, -4.54538651e-02, -1.83134973e-02, -5.33691186e-33,\n",
       "        1.44149608e-03,  4.55048755e-02,  1.32071767e-02,  1.20995075e-01,\n",
       "        1.90113168e-02, -7.09944172e-03,  3.92872244e-02,  1.89751741e-02,\n",
       "        3.60261835e-03,  4.94113527e-02,  6.36252537e-02,  4.04666066e-02,\n",
       "        3.65911275e-02,  6.33112714e-02,  6.51578158e-02, -5.88062480e-02,\n",
       "       -9.43469107e-02, -5.13462769e-03, -5.46015613e-02, -4.28206138e-02,\n",
       "       -7.60130957e-02, -6.06074445e-02,  4.54161465e-02, -2.50779353e-02,\n",
       "       -1.36672165e-02,  1.37895932e-02,  3.11357677e-02,  7.02629425e-03,\n",
       "       -8.35017040e-02, -3.91586982e-02,  7.19860867e-02,  3.80336330e-03,\n",
       "       -2.98788566e-02,  9.20719095e-03, -5.80319054e-02,  5.05788736e-02,\n",
       "       -4.67346497e-02, -5.85902259e-02,  8.29714090e-02,  9.84336529e-03,\n",
       "       -3.66021059e-02,  1.60624478e-02,  8.24756548e-02, -4.25690711e-02,\n",
       "        9.00784060e-02,  8.52177292e-02,  7.08005577e-02, -1.19167501e-02,\n",
       "       -2.44963113e-02,  9.76773910e-04,  6.19962029e-02,  3.71892527e-02,\n",
       "        5.66567518e-02, -8.25578198e-02, -4.78404872e-02, -6.60369545e-02,\n",
       "       -2.66941693e-02, -1.26224205e-01,  8.34627002e-02, -7.73269609e-02,\n",
       "        4.76744175e-02, -4.14484218e-02,  1.44820791e-02,  7.71198273e-02,\n",
       "       -5.80792800e-02,  8.41103569e-02, -8.17182139e-02, -2.17220001e-02,\n",
       "        2.34061778e-02, -9.71077159e-02, -2.48432755e-02,  3.27869691e-02,\n",
       "       -6.19126204e-03, -6.05025387e-04, -9.10462737e-02, -3.76395397e-02,\n",
       "       -2.25964151e-02, -5.27509972e-02,  2.41693892e-02, -1.55907439e-03,\n",
       "       -4.28126603e-02, -5.23244729e-03, -4.93342504e-02, -3.91029641e-02,\n",
       "       -3.69018242e-02,  1.70837697e-02,  7.89336711e-02,  5.52586094e-02,\n",
       "       -4.95268479e-02,  5.12880506e-03, -9.54436138e-02, -2.42734402e-02,\n",
       "        5.50781190e-03, -8.50621015e-02,  2.03716047e-02,  1.85347523e-33,\n",
       "       -3.40211131e-02, -7.20577687e-02, -1.30514903e-02,  1.95812099e-02,\n",
       "        7.04252496e-02, -1.42719122e-02, -9.79135707e-02, -5.61060198e-02,\n",
       "       -4.82031628e-02,  5.19901179e-02,  1.27335666e-02, -3.68794613e-02,\n",
       "       -1.64741948e-02, -2.24438254e-02, -7.41355494e-02, -5.66210523e-02,\n",
       "       -7.18198158e-03,  1.79147292e-02,  4.08390239e-02, -1.26919514e-02,\n",
       "       -5.64702898e-02,  4.37933812e-03, -2.41315998e-02, -9.05829761e-03,\n",
       "        1.74997970e-02, -2.08308033e-04, -5.43497354e-02, -5.28180152e-02,\n",
       "       -3.74293737e-02, -1.04901306e-02, -4.82447483e-02, -9.51098651e-02,\n",
       "       -2.87877880e-02, -1.51882730e-02, -5.02177104e-02,  4.61650863e-02,\n",
       "        3.29966471e-02, -2.35306025e-02, -4.91121691e-03, -1.65572856e-04,\n",
       "        6.06568705e-04, -3.51782739e-02, -5.01291305e-02, -1.71884131e-02,\n",
       "       -5.84456027e-02, -5.34166545e-02, -5.39987534e-02,  8.13394133e-03,\n",
       "        1.23371892e-02,  2.06299545e-03,  9.14235562e-02,  3.16447727e-02,\n",
       "        3.53882015e-02, -1.26796544e-01,  2.01879106e-02,  7.04136267e-02,\n",
       "        6.11730441e-02, -4.74460423e-02, -6.22106390e-03,  7.60449171e-02,\n",
       "       -3.23178619e-02,  3.51694822e-02,  4.03380170e-02, -3.77828814e-02,\n",
       "       -4.71743615e-03, -8.18218142e-02,  1.43325189e-02, -8.61887820e-03,\n",
       "       -7.34161511e-02, -8.72512627e-03, -5.83174787e-02,  5.87566607e-02,\n",
       "       -3.64280529e-02,  7.61622563e-02,  4.44087647e-02, -5.00729047e-02,\n",
       "        4.36926670e-02, -1.72126237e-02, -1.76985636e-02, -7.04859942e-02,\n",
       "        2.96156760e-02, -3.58653888e-02, -5.25483638e-02, -1.15374988e-02,\n",
       "        3.15221702e-03,  6.47578563e-04, -8.82666782e-02,  1.01959845e-02,\n",
       "        8.26979056e-03,  6.68399269e-04, -1.50778398e-01, -6.74538594e-03,\n",
       "        3.84483337e-02,  9.25678834e-02, -2.67216209e-02, -2.14888178e-08,\n",
       "       -2.91470066e-02,  3.32240621e-03,  8.72270241e-02, -1.47079146e-02,\n",
       "       -4.75683436e-02,  2.71381307e-02, -2.38391086e-02, -9.48951056e-04,\n",
       "       -1.95506122e-02, -4.01459411e-02, -4.12826426e-02, -3.94743867e-02,\n",
       "       -6.74254894e-02,  9.29128900e-02, -6.49631629e-03, -3.40540409e-02,\n",
       "        5.64794568e-03,  1.31171400e-04, -7.24246055e-02, -4.39501479e-02,\n",
       "        8.84356648e-02,  1.27750058e-02, -6.30545244e-02, -4.18276377e-02,\n",
       "        6.06407970e-02,  4.67673875e-02,  4.96577136e-02,  7.91621283e-02,\n",
       "       -3.47760282e-02,  9.10611078e-02, -3.52351516e-02,  3.43918651e-02,\n",
       "       -5.53486422e-02,  5.54390065e-02, -3.91072072e-02, -6.78488165e-02,\n",
       "        8.59574080e-02,  1.08724805e-02,  1.68340392e-02,  5.33332638e-02,\n",
       "       -2.20568180e-02,  3.37610543e-02,  4.83959884e-04,  4.54786979e-02,\n",
       "        6.68088645e-02,  6.01597549e-03, -5.09728268e-02, -1.66698974e-02,\n",
       "       -4.83912937e-02,  3.42726968e-02, -1.09957065e-03, -1.01476545e-02,\n",
       "        2.88674701e-02, -2.74629593e-02,  2.00683698e-02,  4.92034368e-02,\n",
       "        9.60193947e-03,  9.38390866e-02, -4.24337387e-03, -2.85481452e-03,\n",
       "        7.32004642e-03,  2.37785885e-03, -2.88862661e-02,  7.90509954e-02],\n",
       "      dtype=float32)"
      ]
     },
     "execution_count": 31,
     "metadata": {},
     "output_type": "execute_result"
    }
   ],
   "source": [
    "doc_vector2[1]"
   ]
  },
  {
   "cell_type": "markdown",
   "metadata": {},
   "source": [
    "<h2 style=\"color:blue; background:pink; line-height:1.5\">Finalizing input and output features</h2>"
   ]
  },
  {
   "cell_type": "code",
   "execution_count": 32,
   "metadata": {},
   "outputs": [
    {
     "name": "stdout",
     "output_type": "stream",
     "text": [
      "(49998, 790) (49998,)\n"
     ]
    }
   ],
   "source": [
    "extracted_features_array=np.array(extracted_features)\n",
    "embedded_document_array=np.hstack((doc_vector1, doc_vector2))\n",
    "X_final=np.hstack((extracted_features_array, embedded_document_array))\n",
    "y_final=np.array(y)\n",
    "print(X_final.shape, y_final.shape)"
   ]
  },
  {
   "cell_type": "markdown",
   "metadata": {},
   "source": [
    "<h2 style=\"color:blue; background:pink; line-height:1.5\">Train test split</h2>"
   ]
  },
  {
   "cell_type": "code",
   "execution_count": 33,
   "metadata": {},
   "outputs": [
    {
     "name": "stdout",
     "output_type": "stream",
     "text": [
      "(39998, 790) (39998,) (10000, 790) (10000,)\n"
     ]
    }
   ],
   "source": [
    "from sklearn.model_selection import train_test_split\n",
    "x_train, x_test, y_train, y_test = train_test_split(X_final, y_final, test_size=0.2, random_state=42)\n",
    "print(x_train.shape, y_train.shape,x_test.shape,y_test.shape)"
   ]
  },
  {
   "cell_type": "markdown",
   "metadata": {},
   "source": [
    "<h2 style=\"color:blue; background:lightgreen; line-height:1.5\">XG Boost</h2>"
   ]
  },
  {
   "cell_type": "code",
   "execution_count": 34,
   "metadata": {},
   "outputs": [
    {
     "name": "stdout",
     "output_type": "stream",
     "text": [
      "----------------------------------------------------------\n",
      "Acuuracy=0.8251\n",
      "Precission=0.7987949607449334\n",
      "Recall=0.8711668657905217\n",
      "F1 Score=0.8334127059719975\n",
      "----------------------------------------------------------\n",
      "Confusion Matrix=\n",
      "\n"
     ]
    },
    {
     "data": {
      "image/png": "[encoded data removed]",
      "text/plain": [
       "<Figure size 432x288 with 1 Axes>"
      ]
     },
     "metadata": {},
     "output_type": "display_data"
    },
    {
     "name": "stdout",
     "output_type": "stream",
     "text": [
      "----------------------------------------------------------\n",
      "Out of 10000 testing values 1749 are mis-classified.\n",
      "----------------------------------------------------------\n",
      "Classification Report=\n",
      "               precision    recall  f1-score   support\n",
      "\n",
      "           0       0.86      0.78      0.82      4978\n",
      "           1       0.80      0.87      0.83      5022\n",
      "\n",
      "    accuracy                           0.83     10000\n",
      "   macro avg       0.83      0.82      0.82     10000\n",
      "weighted avg       0.83      0.83      0.82     10000\n",
      "\n",
      "----------------------------------------------------------\n"
     ]
    }
   ],
   "source": [
    "from xgboost import XGBClassifier\n",
    "from sklearn.metrics import classification_report, accuracy_score, recall_score, f1_score, precision_score, confusion_matrix\n",
    "import pickle\n",
    "with mlflow.start_run():\n",
    "    mlflow.set_tag(\"Owner\",\"Suraj H\")\n",
    "    mlflow.set_tag(\"Algorithm\", \"XG Boost bert extr\")\n",
    "    \n",
    "    xgb_classifier=XGBClassifier()\n",
    "    xgb_classifier.fit(x_train,y_train)\n",
    "    pickle.dump(xgb_classifier, open(\"resources_advance_approach_using_pre_trained_model/xgboost_bert_extr.pkl\",\"wb\"))\n",
    "    \n",
    "    y_pred=xgb_classifier.predict(x_test)\n",
    "    acc=accuracy_score(y_test,y_pred)\n",
    "    precision=precision_score(y_test,y_pred)\n",
    "    recall=recall_score(y_test,y_pred)\n",
    "    f1=f1_score(y_test,y_pred)\n",
    "    \n",
    "    print(\"----------------------------------------------------------\")\n",
    "    print(\"Acuuracy={}\\nPrecission={}\\nRecall={}\\nF1 Score={}\".format(acc, precision, recall, f1))\n",
    "    print(\"----------------------------------------------------------\")\n",
    "    print(\"Confusion Matrix=\\n\")\n",
    "    sns.heatmap(confusion_matrix(y_test,y_pred), annot=True, annot_kws={\"fontsize\":15}, linewidths=5, linecolor='blue',\n",
    "                yticklabels=[\"Non-Duplicate\",\"Duplicate\"], xticklabels=[\"Non-Duplicate\",\"Duplicate\"], cbar=None, fmt='g')\n",
    "    plt.xlabel(\"Predicted\",fontsize=18)\n",
    "    plt.ylabel(\"Actual\",fontsize=18)\n",
    "    plt.savefig(\"resources_advance_approach_using_pre_trained_model/xgboost_bert_extr_conf_matrix.png\")\n",
    "    plt.show()\n",
    "    print(\"----------------------------------------------------------\")\n",
    "    print(\"Out of {} testing values {} are mis-classified.\".format(y_test.shape[0], sum(y_test!=y_pred)))\n",
    "    print(\"----------------------------------------------------------\")\n",
    "    print(\"Classification Report=\\n\", classification_report(y_test,y_pred))\n",
    "    print(\"----------------------------------------------------------\")\n",
    "    \n",
    "    mlflow.log_metrics({\"Accuracy\":acc, \"Precision\":precision, \"Recall\":recall, \"F1 Score\":f1})\n",
    "    mlflow.sklearn.log_model(xgb_classifier, artifact_path=\"models\")\n",
    "    mlflow.log_artifact(\"resources_advance_approach_using_pre_trained_model/xgboost_bert_extr_conf_matrix.png\")"
   ]
  },
  {
   "cell_type": "markdown",
   "metadata": {},
   "source": [
    "<h2 style=\"color:blue; background:lightgreen; line-height:1.5\">Random Forest</h2>"
   ]
  },
  {
   "cell_type": "code",
   "execution_count": 35,
   "metadata": {},
   "outputs": [
    {
     "name": "stdout",
     "output_type": "stream",
     "text": [
      "----------------------------------------------------------\n",
      "Acuuracy=0.7915\n",
      "Precission=0.7436535589845694\n",
      "Recall=0.8924731182795699\n",
      "F1 Score=0.8112951398316589\n",
      "----------------------------------------------------------\n",
      "Confusion Matrix=\n",
      "\n"
     ]
    },
    {
     "data": {
      "image/png": "[encoded data removed]",
      "text/plain": [
       "<Figure size 432x288 with 1 Axes>"
      ]
     },
     "metadata": {},
     "output_type": "display_data"
    },
    {
     "name": "stdout",
     "output_type": "stream",
     "text": [
      "----------------------------------------------------------\n",
      "Out of 10000 testing values 2085 are mis-classified.\n",
      "----------------------------------------------------------\n",
      "Classification Report=\n",
      "               precision    recall  f1-score   support\n",
      "\n",
      "           0       0.86      0.69      0.77      4978\n",
      "           1       0.74      0.89      0.81      5022\n",
      "\n",
      "    accuracy                           0.79     10000\n",
      "   macro avg       0.80      0.79      0.79     10000\n",
      "weighted avg       0.80      0.79      0.79     10000\n",
      "\n",
      "----------------------------------------------------------\n"
     ]
    }
   ],
   "source": [
    "from sklearn.ensemble import RandomForestClassifier\n",
    "from sklearn.metrics import classification_report, accuracy_score, recall_score, f1_score, precision_score, confusion_matrix\n",
    "import pickle\n",
    "with mlflow.start_run():\n",
    "    mlflow.set_tag(\"Owner\",\"Suraj H\")\n",
    "    mlflow.set_tag(\"Algorithm\", \"Random Forest bert extr\")\n",
    "    \n",
    "    rf_classifier=RandomForestClassifier()\n",
    "    rf_classifier.fit(x_train,y_train)\n",
    "    pickle.dump(rf_classifier, open(\"resources_advance_approach_using_pre_trained_model/random_forest_bert_extr.pkl\",\"wb\"))\n",
    "    \n",
    "    y_pred=rf_classifier.predict(x_test)\n",
    "    acc=accuracy_score(y_test,y_pred)\n",
    "    precision=precision_score(y_test,y_pred)\n",
    "    recall=recall_score(y_test,y_pred)\n",
    "    f1=f1_score(y_test,y_pred)\n",
    "    \n",
    "    print(\"----------------------------------------------------------\")\n",
    "    print(\"Acuuracy={}\\nPrecission={}\\nRecall={}\\nF1 Score={}\".format(acc, precision, recall, f1))\n",
    "    print(\"----------------------------------------------------------\")\n",
    "    print(\"Confusion Matrix=\\n\")\n",
    "    sns.heatmap(confusion_matrix(y_test,y_pred), annot=True, annot_kws={\"fontsize\":15}, linewidths=5, linecolor='blue',\n",
    "                yticklabels=[\"Non-Duplicate\",\"Duplicate\"], xticklabels=[\"Non-Duplicate\",\"Duplicate\"], cbar=None, fmt='g')\n",
    "    plt.xlabel(\"Predicted\",fontsize=18)\n",
    "    plt.ylabel(\"Actual\",fontsize=18)\n",
    "    plt.savefig(\"resources_advance_approach_using_pre_trained_model/random_forest_bert_extr_conf_matrix.png\")\n",
    "    plt.show()\n",
    "    print(\"----------------------------------------------------------\")\n",
    "    print(\"Out of {} testing values {} are mis-classified.\".format(y_test.shape[0], sum(y_test!=y_pred)))\n",
    "    print(\"----------------------------------------------------------\")\n",
    "    print(\"Classification Report=\\n\", classification_report(y_test,y_pred))\n",
    "    print(\"----------------------------------------------------------\")\n",
    "    \n",
    "    mlflow.log_metrics({\"Accuracy\":acc, \"Precision\":precision, \"Recall\":recall, \"F1 Score\":f1})\n",
    "    mlflow.sklearn.log_model(rf_classifier, artifact_path=\"models\")\n",
    "    mlflow.log_artifact(\"resources_advance_approach_using_pre_trained_model/random_forest_bert_extr_conf_matrix.png\")"
   ]
  },
  {
   "cell_type": "markdown",
   "metadata": {},
   "source": [
    "### Highest Accuracy is 83% in XGBoost model."
   ]
  },
  {
   "cell_type": "code",
   "execution_count": null,
   "metadata": {},
   "outputs": [],
   "source": []
  }
 ],
 "metadata": {
  "accelerator": "GPU",
  "colab": {
   "provenance": []
  },
  "gpuClass": "standard",
  "kernelspec": {
   "display_name": "Python 3 (ipykernel)",
   "language": "python",
   "name": "python3"
  },
  "language_info": {
   "codemirror_mode": {
    "name": "ipython",
    "version": 3
   },
   "file_extension": ".py",
   "mimetype": "text/x-python",
   "name": "python",
   "nbconvert_exporter": "python",
   "pygments_lexer": "ipython3",
   "version": "3.9.7"
  }
 },
 "nbformat": 4,
 "nbformat_minor": 1
}
