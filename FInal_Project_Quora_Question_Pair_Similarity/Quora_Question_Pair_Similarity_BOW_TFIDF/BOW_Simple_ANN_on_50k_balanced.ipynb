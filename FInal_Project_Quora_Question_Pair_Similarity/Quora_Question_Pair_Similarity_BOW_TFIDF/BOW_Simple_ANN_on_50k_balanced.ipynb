{
 "cells": [
  {
   "cell_type": "markdown",
   "metadata": {},
   "source": [
    "<h1 style=\"color:blue; background:lightblue; line-height:2; text-align:center;\">* Quora Question Pair Similarity using BOW and Simple ANN *</h1>"
   ]
  },
  {
   "cell_type": "markdown",
   "metadata": {
    "id": "Otc6YCTHO1Xk"
   },
   "source": [
    "<h2 style=\"color:blue; background:pink; line-height:1.5\">Import basic libraries</h2>"
   ]
  },
  {
   "cell_type": "code",
   "execution_count": 1,
   "metadata": {
    "id": "xkaJ8EHINokP"
   },
   "outputs": [],
   "source": [
    "import pandas as pd\n",
    "import numpy as np\n",
    "import seaborn as sns\n",
    "import matplotlib.pyplot as plt\n",
    "import warnings\n",
    "warnings.filterwarnings('ignore')"
   ]
  },
  {
   "cell_type": "markdown",
   "metadata": {
    "id": "AdY23xwZOuD-"
   },
   "source": [
    "<h2 style=\"color:blue; background:pink; line-height:1.5\">Load Preprocessed and balalced data</h2>"
   ]
  },
  {
   "cell_type": "code",
   "execution_count": 2,
   "metadata": {
    "colab": {
     "base_uri": "https://localhost:8080/",
     "height": 327
    },
    "id": "l4M38IGhOKLN",
    "outputId": "c6a7ee89-c4fe-40e4-c13a-eddf6b9e193a"
   },
   "outputs": [
    {
     "data": {
      "text/html": [
       "\n",
       "  <div id=\"df-94c9f480-aecf-4d57-bc37-98b66fcfc59c\">\n",
       "    <div class=\"colab-df-container\">\n",
       "      <div>\n",
       "<style scoped>\n",
       "    .dataframe tbody tr th:only-of-type {\n",
       "        vertical-align: middle;\n",
       "    }\n",
       "\n",
       "    .dataframe tbody tr th {\n",
       "        vertical-align: top;\n",
       "    }\n",
       "\n",
       "    .dataframe thead th {\n",
       "        text-align: right;\n",
       "    }\n",
       "</style>\n",
       "<table border=\"1\" class=\"dataframe\">\n",
       "  <thead>\n",
       "    <tr style=\"text-align: right;\">\n",
       "      <th></th>\n",
       "      <th>question1</th>\n",
       "      <th>question2</th>\n",
       "      <th>is_duplicate</th>\n",
       "      <th>que1_len</th>\n",
       "      <th>que2_len</th>\n",
       "      <th>que1_num_words</th>\n",
       "      <th>que2_num_words</th>\n",
       "      <th>total_words</th>\n",
       "      <th>common_words</th>\n",
       "      <th>shared_words</th>\n",
       "      <th>...</th>\n",
       "      <th>ctc_max</th>\n",
       "      <th>last_word_eq</th>\n",
       "      <th>first_word_eq</th>\n",
       "      <th>abs_len_diff</th>\n",
       "      <th>mean_len</th>\n",
       "      <th>long_substr_ratio</th>\n",
       "      <th>fuzz_ratio</th>\n",
       "      <th>fuzz_partial_ratio</th>\n",
       "      <th>token_sort_ratio</th>\n",
       "      <th>token_set_ratio</th>\n",
       "    </tr>\n",
       "  </thead>\n",
       "  <tbody>\n",
       "    <tr>\n",
       "      <th>0</th>\n",
       "      <td>what minor would complement a computer science...</td>\n",
       "      <td>what is a good minor that will compliment a co...</td>\n",
       "      <td>1</td>\n",
       "      <td>52</td>\n",
       "      <td>66</td>\n",
       "      <td>8</td>\n",
       "      <td>12</td>\n",
       "      <td>19</td>\n",
       "      <td>8</td>\n",
       "      <td>0.42</td>\n",
       "      <td>...</td>\n",
       "      <td>0.499996</td>\n",
       "      <td>1.0</td>\n",
       "      <td>1.0</td>\n",
       "      <td>4.0</td>\n",
       "      <td>10.0</td>\n",
       "      <td>0.547170</td>\n",
       "      <td>81</td>\n",
       "      <td>85</td>\n",
       "      <td>81</td>\n",
       "      <td>83</td>\n",
       "    </tr>\n",
       "    <tr>\n",
       "      <th>1</th>\n",
       "      <td>how can i materialize an idea</td>\n",
       "      <td>what is the best way to materialize on an idea</td>\n",
       "      <td>1</td>\n",
       "      <td>29</td>\n",
       "      <td>46</td>\n",
       "      <td>6</td>\n",
       "      <td>10</td>\n",
       "      <td>16</td>\n",
       "      <td>2</td>\n",
       "      <td>0.12</td>\n",
       "      <td>...</td>\n",
       "      <td>0.299997</td>\n",
       "      <td>1.0</td>\n",
       "      <td>0.0</td>\n",
       "      <td>4.0</td>\n",
       "      <td>8.0</td>\n",
       "      <td>0.433333</td>\n",
       "      <td>64</td>\n",
       "      <td>72</td>\n",
       "      <td>53</td>\n",
       "      <td>79</td>\n",
       "    </tr>\n",
       "  </tbody>\n",
       "</table>\n",
       "<p>2 rows × 25 columns</p>\n",
       "</div>\n",
       "      <button class=\"colab-df-convert\" onclick=\"convertToInteractive('df-94c9f480-aecf-4d57-bc37-98b66fcfc59c')\"\n",
       "              title=\"Convert this dataframe to an interactive table.\"\n",
       "              style=\"display:none;\">\n",
       "        \n",
       "  <svg xmlns=\"http://www.w3.org/2000/svg\" height=\"24px\"viewBox=\"0 0 24 24\"\n",
       "       width=\"24px\">\n",
       "    <path d=\"M0 0h24v24H0V0z\" fill=\"none\"/>\n",
       "    <path d=\"M18.56 5.44l.94 2.06.94-2.06 2.06-.94-2.06-.94-.94-2.06-.94 2.06-2.06.94zm-11 1L8.5 8.5l.94-2.06 2.06-.94-2.06-.94L8.5 2.5l-.94 2.06-2.06.94zm10 10l.94 2.06.94-2.06 2.06-.94-2.06-.94-.94-2.06-.94 2.06-2.06.94z\"/><path d=\"M17.41 7.96l-1.37-1.37c-.4-.4-.92-.59-1.43-.59-.52 0-1.04.2-1.43.59L10.3 9.45l-7.72 7.72c-.78.78-.78 2.05 0 2.83L4 21.41c.39.39.9.59 1.41.59.51 0 1.02-.2 1.41-.59l7.78-7.78 2.81-2.81c.8-.78.8-2.07 0-2.86zM5.41 20L4 18.59l7.72-7.72 1.47 1.35L5.41 20z\"/>\n",
       "  </svg>\n",
       "      </button>\n",
       "      \n",
       "  <style>\n",
       "    .colab-df-container {\n",
       "      display:flex;\n",
       "      flex-wrap:wrap;\n",
       "      gap: 12px;\n",
       "    }\n",
       "\n",
       "    .colab-df-convert {\n",
       "      background-color: #E8F0FE;\n",
       "      border: none;\n",
       "      border-radius: 50%;\n",
       "      cursor: pointer;\n",
       "      display: none;\n",
       "      fill: #1967D2;\n",
       "      height: 32px;\n",
       "      padding: 0 0 0 0;\n",
       "      width: 32px;\n",
       "    }\n",
       "\n",
       "    .colab-df-convert:hover {\n",
       "      background-color: #E2EBFA;\n",
       "      box-shadow: 0px 1px 2px rgba(60, 64, 67, 0.3), 0px 1px 3px 1px rgba(60, 64, 67, 0.15);\n",
       "      fill: #174EA6;\n",
       "    }\n",
       "\n",
       "    [theme=dark] .colab-df-convert {\n",
       "      background-color: #3B4455;\n",
       "      fill: #D2E3FC;\n",
       "    }\n",
       "\n",
       "    [theme=dark] .colab-df-convert:hover {\n",
       "      background-color: #434B5C;\n",
       "      box-shadow: 0px 1px 3px 1px rgba(0, 0, 0, 0.15);\n",
       "      filter: drop-shadow(0px 1px 2px rgba(0, 0, 0, 0.3));\n",
       "      fill: #FFFFFF;\n",
       "    }\n",
       "  </style>\n",
       "\n",
       "      <script>\n",
       "        const buttonEl =\n",
       "          document.querySelector('#df-94c9f480-aecf-4d57-bc37-98b66fcfc59c button.colab-df-convert');\n",
       "        buttonEl.style.display =\n",
       "          google.colab.kernel.accessAllowed ? 'block' : 'none';\n",
       "\n",
       "        async function convertToInteractive(key) {\n",
       "          const element = document.querySelector('#df-94c9f480-aecf-4d57-bc37-98b66fcfc59c');\n",
       "          const dataTable =\n",
       "            await google.colab.kernel.invokeFunction('convertToInteractive',\n",
       "                                                     [key], {});\n",
       "          if (!dataTable) return;\n",
       "\n",
       "          const docLinkHtml = 'Like what you see? Visit the ' +\n",
       "            '<a target=\"_blank\" href=https://colab.research.google.com/notebooks/data_table.ipynb>data table notebook</a>'\n",
       "            + ' to learn more about interactive tables.';\n",
       "          element.innerHTML = '';\n",
       "          dataTable['output_type'] = 'display_data';\n",
       "          await google.colab.output.renderOutput(dataTable, element);\n",
       "          const docLink = document.createElement('div');\n",
       "          docLink.innerHTML = docLinkHtml;\n",
       "          element.appendChild(docLink);\n",
       "        }\n",
       "      </script>\n",
       "    </div>\n",
       "  </div>\n",
       "  "
      ],
      "text/plain": [
       "                                           question1  \\\n",
       "0  what minor would complement a computer science...   \n",
       "1                      how can i materialize an idea   \n",
       "\n",
       "                                           question2  is_duplicate  que1_len  \\\n",
       "0  what is a good minor that will compliment a co...             1        52   \n",
       "1     what is the best way to materialize on an idea             1        29   \n",
       "\n",
       "   que2_len  que1_num_words  que2_num_words  total_words  common_words  \\\n",
       "0        66               8              12           19             8   \n",
       "1        46               6              10           16             2   \n",
       "\n",
       "   shared_words  ...   ctc_max  last_word_eq  first_word_eq  abs_len_diff  \\\n",
       "0          0.42  ...  0.499996           1.0            1.0           4.0   \n",
       "1          0.12  ...  0.299997           1.0            0.0           4.0   \n",
       "\n",
       "   mean_len  long_substr_ratio  fuzz_ratio  fuzz_partial_ratio  \\\n",
       "0      10.0           0.547170          81                  85   \n",
       "1       8.0           0.433333          64                  72   \n",
       "\n",
       "   token_sort_ratio  token_set_ratio  \n",
       "0                81               83  \n",
       "1                53               79  \n",
       "\n",
       "[2 rows x 25 columns]"
      ]
     },
     "execution_count": 2,
     "metadata": {},
     "output_type": "execute_result"
    }
   ],
   "source": [
    "balanced=pd.read_csv('/content/drive/MyDrive/Colab Notebooks/AI & Deep Learning/Final_ Project_Quora_Question_Pair_Similarity/data/feat_extr_data.csv')\n",
    "balanced.head(2)"
   ]
  },
  {
   "cell_type": "code",
   "execution_count": 3,
   "metadata": {
    "colab": {
     "base_uri": "https://localhost:8080/"
    },
    "id": "FLAYU8PUORtO",
    "outputId": "bac076b2-6c8e-4e93-8ce3-5275b94d1f63"
   },
   "outputs": [
    {
     "data": {
      "text/plain": [
       "1    25000\n",
       "0    24998\n",
       "Name: is_duplicate, dtype: int64"
      ]
     },
     "execution_count": 3,
     "metadata": {},
     "output_type": "execute_result"
    }
   ],
   "source": [
    "balanced['is_duplicate'].value_counts()"
   ]
  },
  {
   "cell_type": "markdown",
   "metadata": {
    "id": "9QbTw0KyPL4z"
   },
   "source": [
    "<h2 style=\"color:blue; background:pink; line-height:1.5\">Import required Tensorflow packages</h2>"
   ]
  },
  {
   "cell_type": "code",
   "execution_count": 4,
   "metadata": {
    "id": "bmE0m2rTOTCi"
   },
   "outputs": [],
   "source": [
    "from sklearn.model_selection import train_test_split\n",
    "from tensorflow.keras.models import Sequential\n",
    "from tensorflow.keras.layers import Dense, Dropout"
   ]
  },
  {
   "cell_type": "markdown",
   "metadata": {
    "id": "sI9OUaBDPR1c"
   },
   "source": [
    "<h2 style=\"color:blue; background:pink; line-height:1.5\">Input and output features</h2>"
   ]
  },
  {
   "cell_type": "code",
   "execution_count": 5,
   "metadata": {
    "id": "omxowaIzOaBI"
   },
   "outputs": [],
   "source": [
    "X=balanced.drop(\"is_duplicate\", axis=1)\n",
    "y=balanced['is_duplicate']"
   ]
  },
  {
   "cell_type": "markdown",
   "metadata": {
    "id": "uhCTuuErPe5W"
   },
   "source": [
    "<h2 style=\"color:blue; background:pink; line-height:1.5\">Train Test split</h2>"
   ]
  },
  {
   "cell_type": "code",
   "execution_count": 6,
   "metadata": {
    "id": "YTj8aabyPbyb"
   },
   "outputs": [],
   "source": [
    "x_train,x_test,y_train,y_test=train_test_split(X, y, test_size=0.2, random_state=0)\n",
    "questions_train=list(x_train['question1'])+list(x_train['question2'])\n",
    "questions_test=list(x_test['question1'])+list(x_test['question2'])"
   ]
  },
  {
   "cell_type": "markdown",
   "metadata": {
    "id": "Iim5OHuvPi2M"
   },
   "source": [
    "<h2 style=\"color:blue; background:pink; line-height:1.5\">Seperate features which need to vectorize</h2>"
   ]
  },
  {
   "cell_type": "code",
   "execution_count": 7,
   "metadata": {
    "id": "pFLr79CFPkaF"
   },
   "outputs": [],
   "source": [
    "extracted_features=['que1_len', 'que2_len', 'que1_num_words', 'que2_num_words', 'total_words', 'common_words',\n",
    "       'shared_words', 'cwc_min', 'cwc_max', 'csc_min', 'csc_max', 'ctc_min', 'ctc_max', 'last_word_eq', \n",
    "       'first_word_eq', 'abs_len_diff', 'mean_len', 'long_substr_ratio', 'fuzz_ratio', 'fuzz_partial_ratio',\n",
    "       'token_sort_ratio', 'token_set_ratio']\n",
    "extracted_features_train=x_train[extracted_features]\n",
    "extracted_features_test=x_test[extracted_features]"
   ]
  },
  {
   "cell_type": "markdown",
   "metadata": {
    "id": "dQ0O0oyFPsoP"
   },
   "source": [
    "<h2 style=\"color:blue; background:pink; line-height:1.5\">Vectorization using BOW</h2>"
   ]
  },
  {
   "cell_type": "code",
   "execution_count": 8,
   "metadata": {
    "colab": {
     "base_uri": "https://localhost:8080/"
    },
    "id": "adewTVRSOba4",
    "outputId": "e3ff1ded-fd4d-47dc-b567-8620acd06bc0"
   },
   "outputs": [
    {
     "name": "stdout",
     "output_type": "stream",
     "text": [
      "X train Transformed Shape (39998, 12022)\n",
      "y train Shape (39998,)\n",
      "X test Transformed Shape (10000, 12022)\n",
      "y test Shape (10000,)\n"
     ]
    }
   ],
   "source": [
    "from sklearn.feature_extraction.text import CountVectorizer\n",
    "from scipy.sparse import hstack\n",
    "cnv=CountVectorizer(max_features=6000)\n",
    "cnv_fit=cnv.fit(questions_train)\n",
    "x_train_ques=cnv_fit.transform(questions_train)\n",
    "q1_array=x_train_ques[:(x_train_ques.shape[0]//2),]  #Vector containing question1\n",
    "q2_array=x_train_ques[(x_train_ques.shape[0]//2):,]  #Vector containing question2\n",
    "x_train_tf = hstack((q1_array, q2_array, extracted_features_train)).toarray()  #Concatenating as a single Vector\n",
    "print(\"X train Transformed Shape\", x_train_tf.shape)\n",
    "print(\"y train Shape\", y_train.shape)\n",
    "\n",
    "x_test_ques=cnv_fit.transform(questions_test)\n",
    "q1_array=x_test_ques[:(x_test_ques.shape[0]//2),]\n",
    "q2_array=x_test_ques[(x_test_ques.shape[0]//2):,]\n",
    "x_test_tf = hstack((q1_array, q2_array, extracted_features_test)).toarray()\n",
    "print(\"X test Transformed Shape\", x_test_tf.shape)\n",
    "print(\"y test Shape\", y_test.shape)"
   ]
  },
  {
   "cell_type": "code",
   "execution_count": 9,
   "metadata": {
    "colab": {
     "base_uri": "https://localhost:8080/"
    },
    "id": "7f9MpcEwWQp3",
    "outputId": "7aac0442-dd01-4704-8946-c87f71e50046"
   },
   "outputs": [
    {
     "name": "stdout",
     "output_type": "stream",
     "text": [
      "6000\n"
     ]
    }
   ],
   "source": [
    "print(len(cnv.vocabulary_))"
   ]
  },
  {
   "cell_type": "markdown",
   "metadata": {
    "id": "wOTXr8a9P1SI"
   },
   "source": [
    "<h2 style=\"color:blue; background:pink; line-height:1.5\">Standardize the features</h2>"
   ]
  },
  {
   "cell_type": "code",
   "execution_count": 10,
   "metadata": {
    "colab": {
     "base_uri": "https://localhost:8080/"
    },
    "id": "9X4s9pMNOiEa",
    "outputId": "447b944d-cf95-4b79-b01b-7e391813d438"
   },
   "outputs": [
    {
     "name": "stdout",
     "output_type": "stream",
     "text": [
      "[[-0.01000075 -0.02245988 -0.01658582 ...  0.70291371  0.54194062\n",
      "   0.53003139]\n",
      " [-0.01000075 -0.02245988 -0.01658582 ...  0.86616788  1.24101736\n",
      "   0.68149489]]\n"
     ]
    }
   ],
   "source": [
    "from sklearn.preprocessing import StandardScaler\n",
    "scaler=StandardScaler()\n",
    "scaler_fit=scaler.fit(x_train_tf)\n",
    "x_train_tf_std=scaler_fit.transform(x_train_tf)\n",
    "x_test_tf_std=scaler_fit.transform(x_test_tf)\n",
    "print(x_test_tf_std[:2])"
   ]
  },
  {
   "cell_type": "markdown",
   "metadata": {
    "id": "jIhynXXJP8SL"
   },
   "source": [
    "<h2 style=\"color:blue; background:pink; line-height:1.5\">Build ANN model and store the experiment using MLFLOW</h2>"
   ]
  },
  {
   "cell_type": "code",
   "execution_count": 14,
   "metadata": {
    "id": "GShvtsd1QDfd"
   },
   "outputs": [],
   "source": [
    "#!pip install mlflow"
   ]
  },
  {
   "cell_type": "code",
   "execution_count": 15,
   "metadata": {
    "id": "g1f91Ax8QLUO"
   },
   "outputs": [],
   "source": [
    "import mlflow\n",
    "from sklearn.metrics import precision_score, recall_score, accuracy_score, f1_score, confusion_matrix, classification_report"
   ]
  },
  {
   "cell_type": "code",
   "execution_count": 16,
   "metadata": {
    "colab": {
     "base_uri": "https://localhost:8080/"
    },
    "id": "LKaabFLeQiBY",
    "outputId": "2f0a387b-6352-4f54-a6b5-57c21fe7a83f"
   },
   "outputs": [
    {
     "name": "stderr",
     "output_type": "stream",
     "text": [
      "2023/06/01 11:04:36 INFO mlflow.tracking.fluent: Experiment with name 'Advance Approach using extracted features' does not exist. Creating a new experiment.\n"
     ]
    },
    {
     "data": {
      "text/plain": [
       "<Experiment: artifact_location='file:///content/mlruns/578313837121169563', creation_time=1685617476736, experiment_id='578313837121169563', last_update_time=1685617476736, lifecycle_stage='active', name='Advance Approach using extracted features', tags={}>"
      ]
     },
     "execution_count": 16,
     "metadata": {},
     "output_type": "execute_result"
    }
   ],
   "source": [
    "mlflow.set_experiment(\"Advance Approach using extracted features\")"
   ]
  },
  {
   "cell_type": "code",
   "execution_count": 17,
   "metadata": {
    "colab": {
     "base_uri": "https://localhost:8080/",
     "height": 1000
    },
    "id": "RrUCVe46Omfy",
    "outputId": "337f337f-17c3-44b7-922c-0873fba516f5",
    "scrolled": false
   },
   "outputs": [
    {
     "name": "stdout",
     "output_type": "stream",
     "text": [
      "Epoch 1/100\n",
      "1250/1250 [==============================] - 16s 11ms/step - loss: 0.5045 - accuracy: 0.7444 - val_loss: 0.4682 - val_accuracy: 0.7705\n",
      "Epoch 2/100\n",
      "1250/1250 [==============================] - 13s 11ms/step - loss: 0.3424 - accuracy: 0.8394 - val_loss: 0.5022 - val_accuracy: 0.7731\n",
      "Epoch 3/100\n",
      "1250/1250 [==============================] - 14s 11ms/step - loss: 0.2370 - accuracy: 0.8943 - val_loss: 0.6460 - val_accuracy: 0.7647\n",
      "Epoch 4/100\n",
      "1250/1250 [==============================] - 13s 11ms/step - loss: 0.1551 - accuracy: 0.9359 - val_loss: 0.9321 - val_accuracy: 0.7586\n",
      "Epoch 5/100\n",
      "1250/1250 [==============================] - 22s 18ms/step - loss: 0.0965 - accuracy: 0.9623 - val_loss: 0.9633 - val_accuracy: 0.7589\n",
      "Epoch 6/100\n",
      "1250/1250 [==============================] - 17s 13ms/step - loss: 0.0648 - accuracy: 0.9763 - val_loss: 1.2207 - val_accuracy: 0.7552\n",
      "Epoch 7/100\n",
      "1250/1250 [==============================] - 13s 11ms/step - loss: 0.0466 - accuracy: 0.9840 - val_loss: 1.3144 - val_accuracy: 0.7494\n",
      "Epoch 8/100\n",
      "1250/1250 [==============================] - 13s 10ms/step - loss: 0.0368 - accuracy: 0.9870 - val_loss: 1.4889 - val_accuracy: 0.7589\n",
      "Epoch 9/100\n",
      "1250/1250 [==============================] - 13s 10ms/step - loss: 0.0293 - accuracy: 0.9898 - val_loss: 1.4848 - val_accuracy: 0.7571\n",
      "Epoch 10/100\n",
      "1250/1250 [==============================] - 13s 10ms/step - loss: 0.0288 - accuracy: 0.9901 - val_loss: 1.6761 - val_accuracy: 0.7593\n",
      "Epoch 11/100\n",
      "1250/1250 [==============================] - 12s 9ms/step - loss: 0.0247 - accuracy: 0.9911 - val_loss: 2.1527 - val_accuracy: 0.7533\n",
      "Epoch 12/100\n",
      "1250/1250 [==============================] - 13s 10ms/step - loss: 0.0237 - accuracy: 0.9923 - val_loss: 1.8927 - val_accuracy: 0.7550\n",
      "Epoch 13/100\n",
      "1250/1250 [==============================] - 14s 11ms/step - loss: 0.0179 - accuracy: 0.9937 - val_loss: 2.5364 - val_accuracy: 0.7563\n",
      "Epoch 14/100\n",
      "1250/1250 [==============================] - 14s 11ms/step - loss: 0.0173 - accuracy: 0.9946 - val_loss: 2.0407 - val_accuracy: 0.7493\n",
      "Epoch 15/100\n",
      "1250/1250 [==============================] - 13s 10ms/step - loss: 0.0222 - accuracy: 0.9939 - val_loss: 2.0573 - val_accuracy: 0.7482\n",
      "Epoch 16/100\n",
      "1250/1250 [==============================] - 13s 11ms/step - loss: 0.0174 - accuracy: 0.9941 - val_loss: 1.9175 - val_accuracy: 0.7547\n",
      "Epoch 17/100\n",
      "1250/1250 [==============================] - 12s 10ms/step - loss: 0.0146 - accuracy: 0.9955 - val_loss: 1.9678 - val_accuracy: 0.7502\n",
      "Epoch 18/100\n",
      "1250/1250 [==============================] - 12s 9ms/step - loss: 0.0155 - accuracy: 0.9952 - val_loss: 2.0292 - val_accuracy: 0.7515\n",
      "Epoch 19/100\n",
      "1250/1250 [==============================] - 13s 10ms/step - loss: 0.0133 - accuracy: 0.9957 - val_loss: 2.8651 - val_accuracy: 0.7505\n",
      "Epoch 20/100\n",
      "1250/1250 [==============================] - 13s 11ms/step - loss: 0.0110 - accuracy: 0.9964 - val_loss: 1.7553 - val_accuracy: 0.7491\n",
      "Epoch 21/100\n",
      "1250/1250 [==============================] - 14s 11ms/step - loss: 0.0114 - accuracy: 0.9961 - val_loss: 2.3658 - val_accuracy: 0.7482\n",
      "Epoch 22/100\n",
      "1250/1250 [==============================] - 13s 10ms/step - loss: 0.0127 - accuracy: 0.9961 - val_loss: 2.8043 - val_accuracy: 0.7506\n",
      "Epoch 23/100\n",
      "1250/1250 [==============================] - 12s 10ms/step - loss: 0.0115 - accuracy: 0.9964 - val_loss: 2.6781 - val_accuracy: 0.7500\n",
      "Epoch 24/100\n",
      "1250/1250 [==============================] - 12s 9ms/step - loss: 0.0101 - accuracy: 0.9969 - val_loss: 2.0472 - val_accuracy: 0.7534\n",
      "Epoch 25/100\n",
      "1250/1250 [==============================] - 13s 10ms/step - loss: 0.0092 - accuracy: 0.9970 - val_loss: 2.6300 - val_accuracy: 0.7474\n",
      "Epoch 26/100\n",
      "1250/1250 [==============================] - 14s 11ms/step - loss: 0.0093 - accuracy: 0.9967 - val_loss: 2.6293 - val_accuracy: 0.7508\n",
      "Epoch 27/100\n",
      "1250/1250 [==============================] - 13s 11ms/step - loss: 0.0084 - accuracy: 0.9975 - val_loss: 2.6393 - val_accuracy: 0.7452\n",
      "Epoch 28/100\n",
      "1250/1250 [==============================] - 13s 11ms/step - loss: 0.0075 - accuracy: 0.9973 - val_loss: 3.1242 - val_accuracy: 0.7536\n",
      "Epoch 29/100\n",
      "1250/1250 [==============================] - 13s 10ms/step - loss: 0.0087 - accuracy: 0.9970 - val_loss: 3.4726 - val_accuracy: 0.7504\n",
      "Epoch 30/100\n",
      "1250/1250 [==============================] - 12s 9ms/step - loss: 0.0064 - accuracy: 0.9976 - val_loss: 3.2393 - val_accuracy: 0.7539\n",
      "Epoch 31/100\n",
      "1250/1250 [==============================] - 13s 10ms/step - loss: 0.0086 - accuracy: 0.9974 - val_loss: 3.2634 - val_accuracy: 0.7518\n",
      "Epoch 32/100\n",
      "1250/1250 [==============================] - 13s 11ms/step - loss: 0.0099 - accuracy: 0.9978 - val_loss: 3.0631 - val_accuracy: 0.7556\n",
      "Epoch 33/100\n",
      "1250/1250 [==============================] - 13s 11ms/step - loss: 0.0088 - accuracy: 0.9974 - val_loss: 2.9779 - val_accuracy: 0.7514\n",
      "Epoch 34/100\n",
      "1250/1250 [==============================] - 13s 10ms/step - loss: 0.0088 - accuracy: 0.9973 - val_loss: 3.5564 - val_accuracy: 0.7509\n",
      "Epoch 35/100\n",
      "1250/1250 [==============================] - 12s 10ms/step - loss: 0.0074 - accuracy: 0.9977 - val_loss: 2.8129 - val_accuracy: 0.7483\n",
      "Epoch 36/100\n",
      "1250/1250 [==============================] - 12s 10ms/step - loss: 0.0066 - accuracy: 0.9978 - val_loss: 2.9152 - val_accuracy: 0.7524\n",
      "Epoch 37/100\n",
      "1250/1250 [==============================] - 13s 10ms/step - loss: 0.0058 - accuracy: 0.9981 - val_loss: 3.7708 - val_accuracy: 0.7543\n",
      "Epoch 38/100\n",
      "1250/1250 [==============================] - 17s 14ms/step - loss: 0.0048 - accuracy: 0.9984 - val_loss: 3.5616 - val_accuracy: 0.7507\n",
      "Epoch 39/100\n",
      "1250/1250 [==============================] - 14s 11ms/step - loss: 0.0053 - accuracy: 0.9982 - val_loss: 3.4247 - val_accuracy: 0.7539\n",
      "Epoch 40/100\n",
      "1250/1250 [==============================] - 15s 12ms/step - loss: 0.0064 - accuracy: 0.9980 - val_loss: 4.5438 - val_accuracy: 0.7565\n",
      "Epoch 41/100\n",
      "1250/1250 [==============================] - 13s 11ms/step - loss: 0.0064 - accuracy: 0.9981 - val_loss: 5.0332 - val_accuracy: 0.7525\n",
      "Epoch 42/100\n",
      "1250/1250 [==============================] - 16s 13ms/step - loss: 0.0080 - accuracy: 0.9976 - val_loss: 4.3444 - val_accuracy: 0.7521\n",
      "Epoch 43/100\n",
      "1250/1250 [==============================] - 18s 14ms/step - loss: 0.0069 - accuracy: 0.9982 - val_loss: 3.1069 - val_accuracy: 0.7531\n",
      "Epoch 44/100\n",
      "1250/1250 [==============================] - 13s 11ms/step - loss: 0.0055 - accuracy: 0.9985 - val_loss: 3.7169 - val_accuracy: 0.7540\n",
      "Epoch 45/100\n",
      "1250/1250 [==============================] - 13s 10ms/step - loss: 0.0065 - accuracy: 0.9982 - val_loss: 3.0049 - val_accuracy: 0.7477\n",
      "Epoch 46/100\n",
      "1250/1250 [==============================] - 13s 10ms/step - loss: 0.0033 - accuracy: 0.9990 - val_loss: 2.6262 - val_accuracy: 0.7486\n",
      "Epoch 47/100\n",
      "1250/1250 [==============================] - 12s 9ms/step - loss: 0.0059 - accuracy: 0.9985 - val_loss: 3.2649 - val_accuracy: 0.7551\n",
      "Epoch 48/100\n",
      "1250/1250 [==============================] - 13s 11ms/step - loss: 0.0047 - accuracy: 0.9985 - val_loss: 4.0546 - val_accuracy: 0.7530\n",
      "Epoch 49/100\n",
      "1250/1250 [==============================] - 13s 11ms/step - loss: 0.0065 - accuracy: 0.9982 - val_loss: 3.4459 - val_accuracy: 0.7515\n",
      "Epoch 50/100\n",
      "1250/1250 [==============================] - 13s 10ms/step - loss: 0.0066 - accuracy: 0.9981 - val_loss: 3.6857 - val_accuracy: 0.7580\n",
      "Epoch 51/100\n",
      "1250/1250 [==============================] - 13s 11ms/step - loss: 0.0048 - accuracy: 0.9985 - val_loss: 3.0294 - val_accuracy: 0.7536\n",
      "Epoch 52/100\n",
      "1250/1250 [==============================] - 12s 10ms/step - loss: 0.0047 - accuracy: 0.9985 - val_loss: 2.7074 - val_accuracy: 0.7531\n",
      "Epoch 53/100\n",
      "1250/1250 [==============================] - 12s 10ms/step - loss: 0.0043 - accuracy: 0.9989 - val_loss: 3.4127 - val_accuracy: 0.7522\n",
      "Epoch 54/100\n",
      "1250/1250 [==============================] - 14s 11ms/step - loss: 0.0027 - accuracy: 0.9990 - val_loss: 4.1268 - val_accuracy: 0.7534\n",
      "Epoch 55/100\n",
      "1250/1250 [==============================] - 13s 11ms/step - loss: 0.0055 - accuracy: 0.9983 - val_loss: 2.6553 - val_accuracy: 0.7524\n",
      "Epoch 56/100\n",
      "1250/1250 [==============================] - 13s 11ms/step - loss: 0.0038 - accuracy: 0.9986 - val_loss: 4.9914 - val_accuracy: 0.7553\n",
      "Epoch 57/100\n",
      "1250/1250 [==============================] - 13s 11ms/step - loss: 0.0033 - accuracy: 0.9989 - val_loss: 3.5504 - val_accuracy: 0.7583\n",
      "Epoch 58/100\n",
      "1250/1250 [==============================] - 12s 10ms/step - loss: 0.0055 - accuracy: 0.9985 - val_loss: 2.9802 - val_accuracy: 0.7581\n",
      "Epoch 59/100\n",
      "1250/1250 [==============================] - 12s 9ms/step - loss: 0.0036 - accuracy: 0.9990 - val_loss: 3.5318 - val_accuracy: 0.7534\n",
      "Epoch 60/100\n",
      "1250/1250 [==============================] - 13s 10ms/step - loss: 0.0049 - accuracy: 0.9989 - val_loss: 2.9927 - val_accuracy: 0.7536\n",
      "Epoch 61/100\n",
      "1250/1250 [==============================] - 13s 10ms/step - loss: 0.0041 - accuracy: 0.9986 - val_loss: 4.4214 - val_accuracy: 0.7505\n",
      "Epoch 62/100\n",
      "1250/1250 [==============================] - 13s 11ms/step - loss: 0.0061 - accuracy: 0.9987 - val_loss: 3.2370 - val_accuracy: 0.7509\n",
      "Epoch 63/100\n",
      "1250/1250 [==============================] - 13s 10ms/step - loss: 0.0026 - accuracy: 0.9991 - val_loss: 4.3767 - val_accuracy: 0.7487\n",
      "Epoch 64/100\n",
      "1250/1250 [==============================] - 12s 10ms/step - loss: 0.0044 - accuracy: 0.9987 - val_loss: 3.6700 - val_accuracy: 0.7557\n",
      "Epoch 65/100\n",
      "1250/1250 [==============================] - 12s 10ms/step - loss: 0.0023 - accuracy: 0.9993 - val_loss: 6.3245 - val_accuracy: 0.7468\n",
      "Epoch 66/100\n",
      "1250/1250 [==============================] - 13s 10ms/step - loss: 0.0060 - accuracy: 0.9983 - val_loss: 5.8640 - val_accuracy: 0.7561\n",
      "Epoch 67/100\n",
      "1250/1250 [==============================] - 13s 10ms/step - loss: 0.0035 - accuracy: 0.9986 - val_loss: 4.5231 - val_accuracy: 0.7541\n",
      "Epoch 68/100\n",
      "1250/1250 [==============================] - 14s 11ms/step - loss: 0.0033 - accuracy: 0.9990 - val_loss: 2.8828 - val_accuracy: 0.7556\n",
      "Epoch 69/100\n",
      "1250/1250 [==============================] - 13s 10ms/step - loss: 0.0031 - accuracy: 0.9989 - val_loss: 4.1851 - val_accuracy: 0.7546\n",
      "Epoch 70/100\n",
      "1250/1250 [==============================] - 12s 9ms/step - loss: 0.0031 - accuracy: 0.9990 - val_loss: 7.0369 - val_accuracy: 0.7545\n",
      "Epoch 71/100\n",
      "1250/1250 [==============================] - 13s 10ms/step - loss: 0.0057 - accuracy: 0.9982 - val_loss: 4.1171 - val_accuracy: 0.7514\n",
      "Epoch 72/100\n",
      "1250/1250 [==============================] - 13s 10ms/step - loss: 0.0030 - accuracy: 0.9991 - val_loss: 4.1498 - val_accuracy: 0.7522\n",
      "Epoch 73/100\n",
      "1250/1250 [==============================] - 13s 10ms/step - loss: 0.0032 - accuracy: 0.9992 - val_loss: 5.2382 - val_accuracy: 0.7542\n",
      "Epoch 74/100\n",
      "1250/1250 [==============================] - 13s 11ms/step - loss: 0.0069 - accuracy: 0.9983 - val_loss: 3.0365 - val_accuracy: 0.7579\n",
      "Epoch 75/100\n",
      "1250/1250 [==============================] - 12s 10ms/step - loss: 0.0026 - accuracy: 0.9991 - val_loss: 3.7821 - val_accuracy: 0.7549\n",
      "Epoch 76/100\n",
      "1250/1250 [==============================] - 12s 10ms/step - loss: 0.0033 - accuracy: 0.9991 - val_loss: 2.9146 - val_accuracy: 0.7523\n",
      "Epoch 77/100\n",
      "1250/1250 [==============================] - 13s 10ms/step - loss: 0.0026 - accuracy: 0.9992 - val_loss: 3.6437 - val_accuracy: 0.7563\n",
      "Epoch 78/100\n",
      "1250/1250 [==============================] - 13s 11ms/step - loss: 0.0040 - accuracy: 0.9989 - val_loss: 5.2575 - val_accuracy: 0.7548\n",
      "Epoch 79/100\n",
      "1250/1250 [==============================] - 13s 11ms/step - loss: 0.0024 - accuracy: 0.9995 - val_loss: 4.1437 - val_accuracy: 0.7593\n",
      "Epoch 80/100\n",
      "1250/1250 [==============================] - 12s 10ms/step - loss: 0.0032 - accuracy: 0.9990 - val_loss: 4.5540 - val_accuracy: 0.7535\n",
      "Epoch 81/100\n",
      "1250/1250 [==============================] - 12s 10ms/step - loss: 0.0022 - accuracy: 0.9991 - val_loss: 6.6071 - val_accuracy: 0.7582\n",
      "Epoch 82/100\n",
      "1250/1250 [==============================] - 13s 10ms/step - loss: 0.0029 - accuracy: 0.9991 - val_loss: 6.5809 - val_accuracy: 0.7587\n",
      "Epoch 83/100\n",
      "1250/1250 [==============================] - 13s 11ms/step - loss: 0.0046 - accuracy: 0.9989 - val_loss: 6.5832 - val_accuracy: 0.7531\n",
      "Epoch 84/100\n",
      "1250/1250 [==============================] - 13s 10ms/step - loss: 0.0050 - accuracy: 0.9988 - val_loss: 4.4175 - val_accuracy: 0.7551\n",
      "Epoch 85/100\n",
      "1250/1250 [==============================] - 13s 11ms/step - loss: 0.0017 - accuracy: 0.9994 - val_loss: 6.7967 - val_accuracy: 0.7526\n",
      "Epoch 86/100\n",
      "1250/1250 [==============================] - 12s 10ms/step - loss: 0.0044 - accuracy: 0.9988 - val_loss: 4.6504 - val_accuracy: 0.7555\n",
      "Epoch 87/100\n",
      "1250/1250 [==============================] - 12s 9ms/step - loss: 0.0032 - accuracy: 0.9989 - val_loss: 4.1788 - val_accuracy: 0.7582\n",
      "Epoch 88/100\n",
      "1250/1250 [==============================] - 12s 10ms/step - loss: 0.0018 - accuracy: 0.9994 - val_loss: 4.2570 - val_accuracy: 0.7581\n",
      "Epoch 89/100\n",
      "1250/1250 [==============================] - 13s 11ms/step - loss: 0.0036 - accuracy: 0.9992 - val_loss: 4.5651 - val_accuracy: 0.7624\n",
      "Epoch 90/100\n",
      "1250/1250 [==============================] - 13s 11ms/step - loss: 0.0033 - accuracy: 0.9992 - val_loss: 5.4106 - val_accuracy: 0.7583\n",
      "Epoch 91/100\n",
      "1250/1250 [==============================] - 15s 12ms/step - loss: 0.0031 - accuracy: 0.9990 - val_loss: 7.2751 - val_accuracy: 0.7529\n",
      "Epoch 92/100\n",
      "1250/1250 [==============================] - 16s 13ms/step - loss: 0.0016 - accuracy: 0.9994 - val_loss: 6.8046 - val_accuracy: 0.7562\n",
      "Epoch 93/100\n",
      "1250/1250 [==============================] - 13s 10ms/step - loss: 0.0024 - accuracy: 0.9991 - val_loss: 4.8245 - val_accuracy: 0.7555\n",
      "Epoch 94/100\n",
      "1250/1250 [==============================] - 12s 9ms/step - loss: 0.0026 - accuracy: 0.9990 - val_loss: 5.7346 - val_accuracy: 0.7543\n",
      "Epoch 95/100\n",
      "1250/1250 [==============================] - 12s 10ms/step - loss: 0.0041 - accuracy: 0.9987 - val_loss: 7.8867 - val_accuracy: 0.7564\n",
      "Epoch 96/100\n",
      "1250/1250 [==============================] - 13s 11ms/step - loss: 0.0018 - accuracy: 0.9994 - val_loss: 5.5846 - val_accuracy: 0.7572\n",
      "Epoch 97/100\n",
      "1250/1250 [==============================] - 13s 11ms/step - loss: 0.0023 - accuracy: 0.9993 - val_loss: 10.1613 - val_accuracy: 0.7587\n",
      "Epoch 98/100\n",
      "1250/1250 [==============================] - 13s 11ms/step - loss: 0.0016 - accuracy: 0.9994 - val_loss: 9.3615 - val_accuracy: 0.7553\n",
      "Epoch 99/100\n",
      "1250/1250 [==============================] - 13s 10ms/step - loss: 0.0021 - accuracy: 0.9994 - val_loss: 10.7302 - val_accuracy: 0.7613\n",
      "Epoch 100/100\n",
      "1250/1250 [==============================] - 12s 10ms/step - loss: 0.0016 - accuracy: 0.9994 - val_loss: 13.9523 - val_accuracy: 0.7541\n",
      "313/313 [==============================] - 1s 2ms/step\n",
      "----------------------------------------------------------\n",
      "Acuuracy=0.7541\n",
      "Precission=0.7652013147082991\n",
      "Recall=0.7389406863717516\n",
      "F1 Score=0.751841760016147\n",
      "----------------------------------------------------------\n",
      "Confusion Matrix=\n",
      "\n"
     ]
    },
    {
     "data": {
      "image/png": "[encoded data removed]",
      "text/plain": [
       "<Figure size 640x480 with 1 Axes>"
      ]
     },
     "metadata": {},
     "output_type": "display_data"
    },
    {
     "name": "stdout",
     "output_type": "stream",
     "text": [
      "----------------------------------------------------------\n",
      "Out of 10000 testing values 2459 are mis-classified.\n",
      "----------------------------------------------------------\n",
      "Classification Report=\n",
      "               precision    recall  f1-score   support\n",
      "\n",
      "           0       0.74      0.77      0.76      4959\n",
      "           1       0.77      0.74      0.75      5041\n",
      "\n",
      "    accuracy                           0.75     10000\n",
      "   macro avg       0.75      0.75      0.75     10000\n",
      "weighted avg       0.75      0.75      0.75     10000\n",
      "\n",
      "----------------------------------------------------------\n"
     ]
    }
   ],
   "source": [
    "with mlflow.start_run():\n",
    "    mlflow.set_tag(\"Owner\",\"Suraj H\")\n",
    "    mlflow.set_tag(\"Algorithm\", \"ANN adv\")\n",
    "\n",
    "    model=Sequential()\n",
    "    model.add(Dense(units=32, activation='relu'))\n",
    "    model.add(Dense(units=64, activation='relu'))\n",
    "    model.add(Dense(units=128, activation='relu'))\n",
    "    model.add(Dense(units=256, activation='relu'))\n",
    "    model.add(Dense(units=1, activation='sigmoid'))\n",
    "    model.compile(loss='binary_crossentropy',optimizer='adam',metrics=['accuracy'])\n",
    "    model.fit(x_train_tf_std, y_train, epochs=100, batch_size=32,validation_data=(x_test_tf_std, y_test))\n",
    "\n",
    "    y_pred=model.predict(x_test_tf_std)\n",
    "    y_pred=np.where(y_pred>0.5, 1, 0)\n",
    "    y_pred=y_pred.flatten()\n",
    "    acc=accuracy_score(y_test,y_pred)\n",
    "    precision=precision_score(y_test,y_pred)\n",
    "    recall=recall_score(y_test,y_pred)\n",
    "    f1=f1_score(y_test,y_pred)\n",
    "    \n",
    "    print(\"----------------------------------------------------------\")\n",
    "    print(\"Acuuracy={}\\nPrecission={}\\nRecall={}\\nF1 Score={}\".format(acc, precision, recall, f1))\n",
    "    print(\"----------------------------------------------------------\")\n",
    "    print(\"Confusion Matrix=\\n\")\n",
    "    sns.heatmap(confusion_matrix(y_test,y_pred), annot=True, annot_kws={\"fontsize\":15}, linewidths=5, linecolor='blue',\n",
    "                yticklabels=[\"Non-Duplicate\",\"Duplicate\"], xticklabels=[\"Non-Duplicate\",\"Duplicate\"], cbar=None, fmt='g')\n",
    "    plt.xlabel(\"Predicted\",fontsize=18)\n",
    "    plt.ylabel(\"Actual\",fontsize=18)\n",
    "    plt.savefig(\"resources_advance_approach_using_extracted_features/ANN_adv_conf_matrix.png\")\n",
    "    plt.show()\n",
    "    print(\"----------------------------------------------------------\")\n",
    "    print(\"Out of {} testing values {} are mis-classified.\".format(y_test.shape[0], sum(y_test!=y_pred)))\n",
    "    print(\"----------------------------------------------------------\")\n",
    "    print(\"Classification Report=\\n\", classification_report(y_test,y_pred))\n",
    "    print(\"----------------------------------------------------------\")\n",
    "    \n",
    "    mlflow.log_metrics({\"Accuracy\":acc, \"Precision\":precision, \"Recall\":recall, \"F1 Score\":f1})\n",
    "    #mlflow.sklearn.log_model(model, artifact_path=\"models\")\n",
    "    mlflow.log_artifact(\"resources_advance_approach_using_extracted_features/ANN_adv_conf_matrix.png\")"
   ]
  },
  {
   "cell_type": "markdown",
   "metadata": {},
   "source": [
    "<h4 style=\"color:blue; line-height:1.5\">Accuracy is 75%</h4>"
   ]
  },
  {
   "cell_type": "code",
   "execution_count": null,
   "metadata": {},
   "outputs": [],
   "source": []
  }
 ],
 "metadata": {
  "colab": {
   "gpuType": "T4",
   "provenance": []
  },
  "kernelspec": {
   "display_name": "Python 3 (ipykernel)",
   "language": "python",
   "name": "python3"
  },
  "language_info": {
   "codemirror_mode": {
    "name": "ipython",
    "version": 3
   },
   "file_extension": ".py",
   "mimetype": "text/x-python",
   "name": "python",
   "nbconvert_exporter": "python",
   "pygments_lexer": "ipython3",
   "version": "3.9.7"
  }
 },
 "nbformat": 4,
 "nbformat_minor": 1
}
