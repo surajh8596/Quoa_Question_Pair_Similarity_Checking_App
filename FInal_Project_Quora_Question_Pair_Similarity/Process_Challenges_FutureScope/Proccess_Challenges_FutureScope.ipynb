{
 "cells": [
  {
   "cell_type": "markdown",
   "id": "2640a366",
   "metadata": {},
   "source": [
    "<h1 style=\"background:lightgreen; color:blue; line-height:3; text-align:center; font-family:Arial Black\">* Project Details *</h1>"
   ]
  },
  {
   "cell_type": "markdown",
   "id": "330aba03",
   "metadata": {},
   "source": [
    "<h1 style=\"background:lightblue; color:blue; line-height:3; text-align:center; font-family:Arial Black\">* Problem Statement *</h1>"
   ]
  },
  {
   "cell_type": "markdown",
   "id": "b660f75d",
   "metadata": {},
   "source": [
    "<h3 style=\"color:gray; line-height:1.2\">Over 100 million people visit Quora every month, so it's no surprise that many people ask similarly worded questions. Multiple questions with the same intent can cause seekers to spend more time finding the best answer to their question, and make writers feel they need to answer multiple versions of the same question. Quora values canonical questions because they provide a better experience to active seekers and writers, and offer more value to both of these groups in the long term. The main aim of the project is to predict whether a pair of questions are similar or not. </h3>"
   ]
  },
  {
   "cell_type": "markdown",
   "id": "067b11a1",
   "metadata": {},
   "source": [
    "<h1 style=\"background:lightblue; color:blue; line-height:3; text-align:center; font-family:Arial Black\">* Business Objectives and Constraints *</h1>"
   ]
  },
  {
   "cell_type": "markdown",
   "id": "faf532b9",
   "metadata": {},
   "source": [
    "<h3 style=\"color:gray; line-height:1.2\">1. The cost of a Mis-Classification can be very high.<br>\n",
    "2. We need probability of a pair of questions to be duplicates so that we can choose any threshold of choice.<br>\n",
    "3. No strict latency concerns.<br>\n",
    "4. Interpretability is partially important.</h3>"
   ]
  },
  {
   "cell_type": "markdown",
   "id": "21b213f4",
   "metadata": {},
   "source": [
    "<h1 style=\"background:lightblue; color:blue; line-height:3; text-align:center; font-family:Arial Black\">* Type of Machine Learning Problem *</h1>"
   ]
  },
  {
   "cell_type": "markdown",
   "id": "15f1469b",
   "metadata": {},
   "source": [
    "<h3 style=\"color:gray; line-height:1.2\">It is a binary classification problem, for a given pair of questions we need to predict if they are duplicate or not.</h3>"
   ]
  },
  {
   "cell_type": "markdown",
   "id": "a50dc054",
   "metadata": {},
   "source": [
    "<h1 style=\"background:lightblue; color:blue; line-height:3; text-align:center; font-family:Arial Black\">* Approaches or Methods Used In Project *</h1>"
   ]
  },
  {
   "cell_type": "markdown",
   "id": "df6f24fe",
   "metadata": {},
   "source": [
    "<h3 style=\"color:gray; line-height:1.5\">1. Basic Approach with No Preprocessing of text and using BOW<br>\n",
    "                                         2. Basic Approach with Preprocessed data and using BOW and TF-IDF<br>\n",
    "                                         3. Advance Approach with Extracted Features and using BOW and TF-IDF<br>\n",
    "                                         4. Advance Approach with Own Word Emebeding Techniques.<br>\n",
    "                                         5. Advance Approach with Pre-trained Models(Transfer Learning).<br>"
   ]
  },
  {
   "cell_type": "markdown",
   "id": "c123ce84",
   "metadata": {},
   "source": [
    "<h1 style=\"background:lightblue; color:blue; line-height:3; text-align:center; font-family:Arial Black\">* Challenges Faced *</h1>"
   ]
  },
  {
   "cell_type": "markdown",
   "id": "864eb8b5",
   "metadata": {},
   "source": [
    "<h3 style=\"color:gray; line-height:1.5\">1. Main Challenge we faced is the type of data. Working with textual data is bit difficult.<br>\n",
    "                                         2. Class imbalance in the dataset.<br>\n",
    "                                         3. Selecting Best Vectorization technique. Hence we tried all possible vectorization techniques.<br> \n",
    "                                         4. Handling Vector in BOW and TFIDF. Vectors created by these two vectorization techniques are dense with high dimension.<br>"
   ]
  },
  {
   "cell_type": "markdown",
   "id": "5b538646",
   "metadata": {},
   "source": [
    "<h1 style=\"background:lightblue; color:blue; line-height:3; text-align:center; font-family:Arial Black\">* What We Have To Try? *</h1>"
   ]
  },
  {
   "cell_type": "markdown",
   "id": "87de0061",
   "metadata": {},
   "source": [
    "<h3 style=\"color:gray; line-height:1.5\">1. We would have been extracted more advance feature which might improve occcure model performance.<br>\n",
    "                                         2. We should have been tried Deep Learning Techniques like RNN, LSTM.<br>\n",
    "                                         3. As our data consist two questions, Siamese Network will be the best suited model.<br>"
   ]
  },
  {
   "cell_type": "markdown",
   "id": "768f44b8",
   "metadata": {},
   "source": [
    "**+---------------------------------+-------------------------------------------+------------------------------------------+-----------------------------------------+--------------------------------------+ +---------------------------------+-------------------------------------------+------------------------------------------+-----------------------------------------+--------------------------------------+**"
   ]
  },
  {
   "cell_type": "code",
   "execution_count": null,
   "id": "0b9e4c9c",
   "metadata": {},
   "outputs": [],
   "source": []
  }
 ],
 "metadata": {
  "kernelspec": {
   "display_name": "Python 3 (ipykernel)",
   "language": "python",
   "name": "python3"
  },
  "language_info": {
   "codemirror_mode": {
    "name": "ipython",
    "version": 3
   },
   "file_extension": ".py",
   "mimetype": "text/x-python",
   "name": "python",
   "nbconvert_exporter": "python",
   "pygments_lexer": "ipython3",
   "version": "3.9.7"
  }
 },
 "nbformat": 4,
 "nbformat_minor": 5
}
