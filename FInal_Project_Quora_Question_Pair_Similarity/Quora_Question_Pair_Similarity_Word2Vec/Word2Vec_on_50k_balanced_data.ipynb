{
 "cells": [
  {
   "cell_type": "markdown",
   "metadata": {},
   "source": [
    "<h1 style=\"color:blue; background:lightblue; line-height:1.5; text-align:center\">* Quora Question Pair Similarity using Word2Vec and ML Models*</h1>"
   ]
  },
  {
   "cell_type": "markdown",
   "metadata": {
    "id": "VHwRS2YE3iN8"
   },
   "source": [
    "<h2 style=\"color:blue; background:pink; line-height:1.5\">Import required libraries</h2>"
   ]
  },
  {
   "cell_type": "code",
   "execution_count": 1,
   "metadata": {
    "id": "eMKo8YWgkQa7"
   },
   "outputs": [],
   "source": [
    "import pandas as pd\n",
    "import numpy as np\n",
    "import warnings\n",
    "warnings.filterwarnings('ignore')\n",
    "import seaborn as sns\n",
    "sns.set_style('darkgrid')\n",
    "import matplotlib.pyplot as plt"
   ]
  },
  {
   "cell_type": "markdown",
   "metadata": {
    "id": "trwoA6njhc2d"
   },
   "source": [
    "<h2 style=\"color:blue; background:pink; line-height:1.5\">Loading Dataset which has extracted features and Preprocessed</h2>"
   ]
  },
  {
   "cell_type": "markdown",
   "metadata": {
    "id": "WOnWl3nIRYA6"
   },
   "source": [
    "**Dataset link:** https://drive.google.com/file/d/1rxPJHAvSXzOPEpIqmaAsXvhJK8p4K4JN/view?usp=sharing\n",
    "\n",
    "**Preprocessed Dataset link:** https://drive.google.com/file/d/1gKfuAAzJRs-l-0ftJgb-NQj8-PQrLqtn/view?usp=sharing"
   ]
  },
  {
   "cell_type": "code",
   "execution_count": 65,
   "metadata": {
    "colab": {
     "base_uri": "https://localhost:8080/",
     "height": 646
    },
    "id": "3zwShP5bqHtd",
    "outputId": "574f448e-9db8-400d-aec0-76b1a068cd4c"
   },
   "outputs": [
    {
     "data": {
      "text/html": [
       "<div>\n",
       "<style scoped>\n",
       "    .dataframe tbody tr th:only-of-type {\n",
       "        vertical-align: middle;\n",
       "    }\n",
       "\n",
       "    .dataframe tbody tr th {\n",
       "        vertical-align: top;\n",
       "    }\n",
       "\n",
       "    .dataframe thead th {\n",
       "        text-align: right;\n",
       "    }\n",
       "</style>\n",
       "<table border=\"1\" class=\"dataframe\">\n",
       "  <thead>\n",
       "    <tr style=\"text-align: right;\">\n",
       "      <th></th>\n",
       "      <th>question1</th>\n",
       "      <th>question2</th>\n",
       "      <th>is_duplicate</th>\n",
       "      <th>que1_len</th>\n",
       "      <th>que2_len</th>\n",
       "      <th>que1_num_words</th>\n",
       "      <th>que2_num_words</th>\n",
       "      <th>total_words</th>\n",
       "      <th>common_words</th>\n",
       "      <th>shared_words</th>\n",
       "      <th>...</th>\n",
       "      <th>ctc_max</th>\n",
       "      <th>last_word_eq</th>\n",
       "      <th>first_word_eq</th>\n",
       "      <th>abs_len_diff</th>\n",
       "      <th>mean_len</th>\n",
       "      <th>long_substr_ratio</th>\n",
       "      <th>fuzz_ratio</th>\n",
       "      <th>fuzz_partial_ratio</th>\n",
       "      <th>token_sort_ratio</th>\n",
       "      <th>token_set_ratio</th>\n",
       "    </tr>\n",
       "  </thead>\n",
       "  <tbody>\n",
       "    <tr>\n",
       "      <th>0</th>\n",
       "      <td>what minor would complement a computer science...</td>\n",
       "      <td>what is a good minor that will compliment a co...</td>\n",
       "      <td>1</td>\n",
       "      <td>52</td>\n",
       "      <td>66</td>\n",
       "      <td>8</td>\n",
       "      <td>12</td>\n",
       "      <td>19</td>\n",
       "      <td>8</td>\n",
       "      <td>0.42</td>\n",
       "      <td>...</td>\n",
       "      <td>0.499996</td>\n",
       "      <td>1.0</td>\n",
       "      <td>1.0</td>\n",
       "      <td>4.0</td>\n",
       "      <td>10.0</td>\n",
       "      <td>0.547170</td>\n",
       "      <td>81</td>\n",
       "      <td>85</td>\n",
       "      <td>81</td>\n",
       "      <td>83</td>\n",
       "    </tr>\n",
       "    <tr>\n",
       "      <th>1</th>\n",
       "      <td>how can i materialize an idea</td>\n",
       "      <td>what is the best way to materialize on an idea</td>\n",
       "      <td>1</td>\n",
       "      <td>29</td>\n",
       "      <td>46</td>\n",
       "      <td>6</td>\n",
       "      <td>10</td>\n",
       "      <td>16</td>\n",
       "      <td>2</td>\n",
       "      <td>0.12</td>\n",
       "      <td>...</td>\n",
       "      <td>0.299997</td>\n",
       "      <td>1.0</td>\n",
       "      <td>0.0</td>\n",
       "      <td>4.0</td>\n",
       "      <td>8.0</td>\n",
       "      <td>0.433333</td>\n",
       "      <td>64</td>\n",
       "      <td>72</td>\n",
       "      <td>53</td>\n",
       "      <td>79</td>\n",
       "    </tr>\n",
       "    <tr>\n",
       "      <th>2</th>\n",
       "      <td>what was the happiest day of your life and why...</td>\n",
       "      <td>what was is will be the happiest day of your life</td>\n",
       "      <td>1</td>\n",
       "      <td>53</td>\n",
       "      <td>49</td>\n",
       "      <td>12</td>\n",
       "      <td>11</td>\n",
       "      <td>22</td>\n",
       "      <td>11</td>\n",
       "      <td>0.50</td>\n",
       "      <td>...</td>\n",
       "      <td>0.666661</td>\n",
       "      <td>0.0</td>\n",
       "      <td>1.0</td>\n",
       "      <td>1.0</td>\n",
       "      <td>11.5</td>\n",
       "      <td>0.600000</td>\n",
       "      <td>75</td>\n",
       "      <td>78</td>\n",
       "      <td>84</td>\n",
       "      <td>88</td>\n",
       "    </tr>\n",
       "    <tr>\n",
       "      <th>3</th>\n",
       "      <td>what role project manager has in agile projects</td>\n",
       "      <td>what is the role of project management in agil...</td>\n",
       "      <td>1</td>\n",
       "      <td>47</td>\n",
       "      <td>68</td>\n",
       "      <td>8</td>\n",
       "      <td>11</td>\n",
       "      <td>19</td>\n",
       "      <td>8</td>\n",
       "      <td>0.42</td>\n",
       "      <td>...</td>\n",
       "      <td>0.454541</td>\n",
       "      <td>0.0</td>\n",
       "      <td>1.0</td>\n",
       "      <td>3.0</td>\n",
       "      <td>9.5</td>\n",
       "      <td>0.312500</td>\n",
       "      <td>64</td>\n",
       "      <td>70</td>\n",
       "      <td>59</td>\n",
       "      <td>71</td>\n",
       "    </tr>\n",
       "    <tr>\n",
       "      <th>4</th>\n",
       "      <td>who will win in america presidential elections...</td>\n",
       "      <td>between trump and clinton who will win us pres...</td>\n",
       "      <td>1</td>\n",
       "      <td>54</td>\n",
       "      <td>63</td>\n",
       "      <td>9</td>\n",
       "      <td>10</td>\n",
       "      <td>18</td>\n",
       "      <td>8</td>\n",
       "      <td>0.44</td>\n",
       "      <td>...</td>\n",
       "      <td>0.399996</td>\n",
       "      <td>0.0</td>\n",
       "      <td>0.0</td>\n",
       "      <td>1.0</td>\n",
       "      <td>9.5</td>\n",
       "      <td>0.400000</td>\n",
       "      <td>60</td>\n",
       "      <td>77</td>\n",
       "      <td>65</td>\n",
       "      <td>68</td>\n",
       "    </tr>\n",
       "  </tbody>\n",
       "</table>\n",
       "<p>5 rows × 25 columns</p>\n",
       "</div>"
      ],
      "text/plain": [
       "                                           question1  \\\n",
       "0  what minor would complement a computer science...   \n",
       "1                      how can i materialize an idea   \n",
       "2  what was the happiest day of your life and why...   \n",
       "3    what role project manager has in agile projects   \n",
       "4  who will win in america presidential elections...   \n",
       "\n",
       "                                           question2  is_duplicate  que1_len  \\\n",
       "0  what is a good minor that will compliment a co...             1        52   \n",
       "1     what is the best way to materialize on an idea             1        29   \n",
       "2  what was is will be the happiest day of your life             1        53   \n",
       "3  what is the role of project management in agil...             1        47   \n",
       "4  between trump and clinton who will win us pres...             1        54   \n",
       "\n",
       "   que2_len  que1_num_words  que2_num_words  total_words  common_words  \\\n",
       "0        66               8              12           19             8   \n",
       "1        46               6              10           16             2   \n",
       "2        49              12              11           22            11   \n",
       "3        68               8              11           19             8   \n",
       "4        63               9              10           18             8   \n",
       "\n",
       "   shared_words  ...   ctc_max  last_word_eq  first_word_eq  abs_len_diff  \\\n",
       "0          0.42  ...  0.499996           1.0            1.0           4.0   \n",
       "1          0.12  ...  0.299997           1.0            0.0           4.0   \n",
       "2          0.50  ...  0.666661           0.0            1.0           1.0   \n",
       "3          0.42  ...  0.454541           0.0            1.0           3.0   \n",
       "4          0.44  ...  0.399996           0.0            0.0           1.0   \n",
       "\n",
       "   mean_len  long_substr_ratio  fuzz_ratio  fuzz_partial_ratio  \\\n",
       "0      10.0           0.547170          81                  85   \n",
       "1       8.0           0.433333          64                  72   \n",
       "2      11.5           0.600000          75                  78   \n",
       "3       9.5           0.312500          64                  70   \n",
       "4       9.5           0.400000          60                  77   \n",
       "\n",
       "   token_sort_ratio  token_set_ratio  \n",
       "0                81               83  \n",
       "1                53               79  \n",
       "2                84               88  \n",
       "3                59               71  \n",
       "4                65               68  \n",
       "\n",
       "[5 rows x 25 columns]"
      ]
     },
     "execution_count": 65,
     "metadata": {},
     "output_type": "execute_result"
    }
   ],
   "source": [
    "df=pd.read_csv('data/feat_extr_data.csv')\n",
    "df.head()"
   ]
  },
  {
   "cell_type": "markdown",
   "metadata": {
    "id": "gwsUc9uL3_AV"
   },
   "source": [
    "<h2 style=\"color:blue; background:pink; line-height:1.5\">Dataset information</h2>"
   ]
  },
  {
   "cell_type": "code",
   "execution_count": 66,
   "metadata": {
    "colab": {
     "base_uri": "https://localhost:8080/"
    },
    "id": "NVHK4gBmkQa8",
    "outputId": "f10d5cab-de6d-412f-9d7a-383d315dd38d"
   },
   "outputs": [
    {
     "data": {
      "text/plain": [
       "(49998, 25)"
      ]
     },
     "execution_count": 66,
     "metadata": {},
     "output_type": "execute_result"
    }
   ],
   "source": [
    "df.shape"
   ]
  },
  {
   "cell_type": "code",
   "execution_count": 67,
   "metadata": {
    "colab": {
     "base_uri": "https://localhost:8080/"
    },
    "id": "gE9zCHN74GIO",
    "outputId": "4bdd356e-14c5-46a0-ce49-dc62af98695d"
   },
   "outputs": [
    {
     "name": "stdout",
     "output_type": "stream",
     "text": [
      "<class 'pandas.core.frame.DataFrame'>\n",
      "RangeIndex: 49998 entries, 0 to 49997\n",
      "Data columns (total 25 columns):\n",
      " #   Column              Non-Null Count  Dtype  \n",
      "---  ------              --------------  -----  \n",
      " 0   question1           49998 non-null  object \n",
      " 1   question2           49998 non-null  object \n",
      " 2   is_duplicate        49998 non-null  int64  \n",
      " 3   que1_len            49998 non-null  int64  \n",
      " 4   que2_len            49998 non-null  int64  \n",
      " 5   que1_num_words      49998 non-null  int64  \n",
      " 6   que2_num_words      49998 non-null  int64  \n",
      " 7   total_words         49998 non-null  int64  \n",
      " 8   common_words        49998 non-null  int64  \n",
      " 9   shared_words        49998 non-null  float64\n",
      " 10  cwc_min             49998 non-null  float64\n",
      " 11  cwc_max             49998 non-null  float64\n",
      " 12  csc_min             49998 non-null  float64\n",
      " 13  csc_max             49998 non-null  float64\n",
      " 14  ctc_min             49998 non-null  float64\n",
      " 15  ctc_max             49998 non-null  float64\n",
      " 16  last_word_eq        49998 non-null  float64\n",
      " 17  first_word_eq       49998 non-null  float64\n",
      " 18  abs_len_diff        49998 non-null  float64\n",
      " 19  mean_len            49998 non-null  float64\n",
      " 20  long_substr_ratio   49998 non-null  float64\n",
      " 21  fuzz_ratio          49998 non-null  int64  \n",
      " 22  fuzz_partial_ratio  49998 non-null  int64  \n",
      " 23  token_sort_ratio    49998 non-null  int64  \n",
      " 24  token_set_ratio     49998 non-null  int64  \n",
      "dtypes: float64(12), int64(11), object(2)\n",
      "memory usage: 9.5+ MB\n"
     ]
    }
   ],
   "source": [
    "df.info()"
   ]
  },
  {
   "cell_type": "markdown",
   "metadata": {
    "id": "JzO9JYN34JNr"
   },
   "source": [
    "<h2 style=\"color:blue; background:pink; line-height:1.5\">Missing values</h2>"
   ]
  },
  {
   "cell_type": "code",
   "execution_count": 68,
   "metadata": {
    "colab": {
     "base_uri": "https://localhost:8080/"
    },
    "id": "rpP-K8lYqk8S",
    "outputId": "6465bc4c-3c39-4419-ad56-09f19f0c115d"
   },
   "outputs": [
    {
     "data": {
      "text/plain": [
       "question1             0\n",
       "question2             0\n",
       "is_duplicate          0\n",
       "que1_len              0\n",
       "que2_len              0\n",
       "que1_num_words        0\n",
       "que2_num_words        0\n",
       "total_words           0\n",
       "common_words          0\n",
       "shared_words          0\n",
       "cwc_min               0\n",
       "cwc_max               0\n",
       "csc_min               0\n",
       "csc_max               0\n",
       "ctc_min               0\n",
       "ctc_max               0\n",
       "last_word_eq          0\n",
       "first_word_eq         0\n",
       "abs_len_diff          0\n",
       "mean_len              0\n",
       "long_substr_ratio     0\n",
       "fuzz_ratio            0\n",
       "fuzz_partial_ratio    0\n",
       "token_sort_ratio      0\n",
       "token_set_ratio       0\n",
       "dtype: int64"
      ]
     },
     "execution_count": 68,
     "metadata": {},
     "output_type": "execute_result"
    }
   ],
   "source": [
    "df.isnull().sum()"
   ]
  },
  {
   "cell_type": "markdown",
   "metadata": {
    "id": "3JaViFSbRqkm"
   },
   "source": [
    "<h2 style=\"color:blue; background:pink; line-height:1.5\">Data Balance check</h2>"
   ]
  },
  {
   "cell_type": "code",
   "execution_count": 69,
   "metadata": {
    "colab": {
     "base_uri": "https://localhost:8080/",
     "height": 112
    },
    "id": "dlVNa9BuRtrU",
    "outputId": "5e4a7f1c-83e2-49d5-e1c1-080855662035"
   },
   "outputs": [
    {
     "data": {
      "text/html": [
       "<div>\n",
       "<style scoped>\n",
       "    .dataframe tbody tr th:only-of-type {\n",
       "        vertical-align: middle;\n",
       "    }\n",
       "\n",
       "    .dataframe tbody tr th {\n",
       "        vertical-align: top;\n",
       "    }\n",
       "\n",
       "    .dataframe thead th {\n",
       "        text-align: right;\n",
       "    }\n",
       "</style>\n",
       "<table border=\"1\" class=\"dataframe\">\n",
       "  <thead>\n",
       "    <tr style=\"text-align: right;\">\n",
       "      <th></th>\n",
       "      <th>Class</th>\n",
       "      <th>Count</th>\n",
       "      <th>Percentage</th>\n",
       "    </tr>\n",
       "  </thead>\n",
       "  <tbody>\n",
       "    <tr>\n",
       "      <th>0</th>\n",
       "      <td>1</td>\n",
       "      <td>25000</td>\n",
       "      <td>50.002</td>\n",
       "    </tr>\n",
       "    <tr>\n",
       "      <th>1</th>\n",
       "      <td>0</td>\n",
       "      <td>24998</td>\n",
       "      <td>49.998</td>\n",
       "    </tr>\n",
       "  </tbody>\n",
       "</table>\n",
       "</div>"
      ],
      "text/plain": [
       "   Class  Count  Percentage\n",
       "0      1  25000      50.002\n",
       "1      0  24998      49.998"
      ]
     },
     "execution_count": 69,
     "metadata": {},
     "output_type": "execute_result"
    }
   ],
   "source": [
    "class_balance=pd.DataFrame(df['is_duplicate'].value_counts()).reset_index()\n",
    "class_balance.columns=[\"Class\", \"Count\"]\n",
    "class_balance['Percentage']=(class_balance['Count']/df.shape[0])*100\n",
    "class_balance"
   ]
  },
  {
   "cell_type": "code",
   "execution_count": 70,
   "metadata": {
    "colab": {
     "base_uri": "https://localhost:8080/",
     "height": 526
    },
    "id": "2gedp0ryR1CG",
    "outputId": "cfbe7db5-a8ea-4145-d4a7-5e0cf11ccbcb"
   },
   "outputs": [
    {
     "data": {
      "image/png": "[encoded data removed]",
      "text/plain": [
       "<Figure size 432x432 with 1 Axes>"
      ]
     },
     "metadata": {},
     "output_type": "display_data"
    }
   ],
   "source": [
    "label=['Non-Duplicate', 'Duplicate'] \n",
    "color=sns.color_palette('rainbow')[4:6]\n",
    "plt.figure(figsize=(6,6))\n",
    "plt.pie(x=class_balance['Count'], labels=label, colors=color, autopct='%.0f%%' , labeldistance=0.5)\n",
    "plt.title(\"Count of Non-Duplicate and Duplicate questions\", fontsize=18, color='green');"
   ]
  },
  {
   "cell_type": "markdown",
   "metadata": {},
   "source": [
    "<h2 style=\"color:blue; background:pink; line-height:1.5\">Combine question1 and question2</h2>"
   ]
  },
  {
   "cell_type": "code",
   "execution_count": 71,
   "metadata": {},
   "outputs": [
    {
     "data": {
      "text/html": [
       "<div>\n",
       "<style scoped>\n",
       "    .dataframe tbody tr th:only-of-type {\n",
       "        vertical-align: middle;\n",
       "    }\n",
       "\n",
       "    .dataframe tbody tr th {\n",
       "        vertical-align: top;\n",
       "    }\n",
       "\n",
       "    .dataframe thead th {\n",
       "        text-align: right;\n",
       "    }\n",
       "</style>\n",
       "<table border=\"1\" class=\"dataframe\">\n",
       "  <thead>\n",
       "    <tr style=\"text-align: right;\">\n",
       "      <th></th>\n",
       "      <th>is_duplicate</th>\n",
       "      <th>question1</th>\n",
       "      <th>question2</th>\n",
       "      <th>combine_question</th>\n",
       "    </tr>\n",
       "  </thead>\n",
       "  <tbody>\n",
       "    <tr>\n",
       "      <th>0</th>\n",
       "      <td>1</td>\n",
       "      <td>what minor would complement a computer science...</td>\n",
       "      <td>what is a good minor that will compliment a co...</td>\n",
       "      <td>what minor would complement a computer science...</td>\n",
       "    </tr>\n",
       "    <tr>\n",
       "      <th>1</th>\n",
       "      <td>1</td>\n",
       "      <td>how can i materialize an idea</td>\n",
       "      <td>what is the best way to materialize on an idea</td>\n",
       "      <td>how can i materialize an idea what is the best...</td>\n",
       "    </tr>\n",
       "  </tbody>\n",
       "</table>\n",
       "</div>"
      ],
      "text/plain": [
       "   is_duplicate                                          question1  \\\n",
       "0             1  what minor would complement a computer science...   \n",
       "1             1                      how can i materialize an idea   \n",
       "\n",
       "                                           question2  \\\n",
       "0  what is a good minor that will compliment a co...   \n",
       "1     what is the best way to materialize on an idea   \n",
       "\n",
       "                                    combine_question  \n",
       "0  what minor would complement a computer science...  \n",
       "1  how can i materialize an idea what is the best...  "
      ]
     },
     "execution_count": 71,
     "metadata": {},
     "output_type": "execute_result"
    }
   ],
   "source": [
    "data=df[['is_duplicate','question1','question2']]\n",
    "data['combine_question']=data['question1']+\" \"+data['question2']\n",
    "data.head(2)"
   ]
  },
  {
   "cell_type": "markdown",
   "metadata": {
    "id": "TASr03i5498_"
   },
   "source": [
    "<h2 style=\"color:blue; background:pink; line-height:1.5\">Input and output feaures</h2>"
   ]
  },
  {
   "cell_type": "code",
   "execution_count": 72,
   "metadata": {
    "colab": {
     "base_uri": "https://localhost:8080/"
    },
    "id": "kuhG3nL9kQa-",
    "outputId": "0d48815a-8f04-468a-edac-50e94eb289d0"
   },
   "outputs": [
    {
     "name": "stdout",
     "output_type": "stream",
     "text": [
      "(49998, 3) (49998,)\n"
     ]
    }
   ],
   "source": [
    "X=data.drop('is_duplicate', axis=1)\n",
    "y=data['is_duplicate']\n",
    "print(X.shape, y.shape)"
   ]
  },
  {
   "cell_type": "markdown",
   "metadata": {},
   "source": [
    "<h2 style=\"color:blue; background:pink; line-height:1.5\">Train Test Split</h2>"
   ]
  },
  {
   "cell_type": "code",
   "execution_count": 73,
   "metadata": {},
   "outputs": [
    {
     "name": "stdout",
     "output_type": "stream",
     "text": [
      "x train shape= (39998, 3)\n",
      "y train shape= (39998,)\n",
      "x test shape= (10000, 3)\n",
      "y test shape= (10000,)\n"
     ]
    }
   ],
   "source": [
    "from sklearn.model_selection import train_test_split\n",
    "x_train, x_test, y_train, y_test = train_test_split(X, y, test_size=0.2, random_state=42)\n",
    "print(\"x train shape=\", x_train.shape)\n",
    "print(\"y train shape=\", y_train.shape)\n",
    "print(\"x test shape=\", x_test.shape)\n",
    "print(\"y test shape=\", y_test.shape)"
   ]
  },
  {
   "cell_type": "markdown",
   "metadata": {},
   "source": [
    "### No need of text preprocessing because we loaded clean data"
   ]
  },
  {
   "cell_type": "markdown",
   "metadata": {
    "id": "0gCnp0hzkQbB"
   },
   "source": [
    "<h2 style=\"color:blue; background:pink; line-height:1.5\">Convert Text to Numerical Vectors using Word2Vec</h2>"
   ]
  },
  {
   "cell_type": "code",
   "execution_count": 16,
   "metadata": {},
   "outputs": [
    {
     "name": "stdout",
     "output_type": "stream",
     "text": [
      "Requirement already satisfied: gensim in c:\\users\\user\\anaconda3\\lib\\site-packages (3.8.3)\n",
      "Collecting gensim\n",
      "  Downloading gensim-4.3.1-cp39-cp39-win_amd64.whl (24.0 MB)\n",
      "Requirement already satisfied: smart-open>=1.8.1 in c:\\users\\user\\anaconda3\\lib\\site-packages (from gensim) (5.2.1)\n",
      "Requirement already satisfied: scipy>=1.7.0 in c:\\users\\user\\anaconda3\\lib\\site-packages (from gensim) (1.7.1)\n",
      "Requirement already satisfied: numpy>=1.18.5 in c:\\users\\user\\anaconda3\\lib\\site-packages (from gensim) (1.22.4)\n",
      "Installing collected packages: gensim\n",
      "  Attempting uninstall: gensim\n",
      "    Found existing installation: gensim 3.8.3\n",
      "    Uninstalling gensim-3.8.3:\n",
      "      Successfully uninstalled gensim-3.8.3\n",
      "Successfully installed gensim-4.3.1\n"
     ]
    }
   ],
   "source": [
    "!pip install --upgrade gensim"
   ]
  },
  {
   "cell_type": "code",
   "execution_count": 17,
   "metadata": {},
   "outputs": [
    {
     "name": "stdout",
     "output_type": "stream",
     "text": [
      "4.3.1\n"
     ]
    }
   ],
   "source": [
    "import gensim\n",
    "print(gensim.__version__)"
   ]
  },
  {
   "cell_type": "code",
   "execution_count": 18,
   "metadata": {},
   "outputs": [],
   "source": [
    "from gensim.models import Word2Vec"
   ]
  },
  {
   "cell_type": "markdown",
   "metadata": {
    "id": "9RHWcCWQkQbD"
   },
   "source": [
    "<h2 style=\"color:blue; background:pink; line-height:1.5\">Tokenize question 1 and question 2 in both train and test set</h2>"
   ]
  },
  {
   "cell_type": "code",
   "execution_count": 74,
   "metadata": {
    "scrolled": false
   },
   "outputs": [
    {
     "data": {
      "text/html": [
       "<div>\n",
       "<style scoped>\n",
       "    .dataframe tbody tr th:only-of-type {\n",
       "        vertical-align: middle;\n",
       "    }\n",
       "\n",
       "    .dataframe tbody tr th {\n",
       "        vertical-align: top;\n",
       "    }\n",
       "\n",
       "    .dataframe thead th {\n",
       "        text-align: right;\n",
       "    }\n",
       "</style>\n",
       "<table border=\"1\" class=\"dataframe\">\n",
       "  <thead>\n",
       "    <tr style=\"text-align: right;\">\n",
       "      <th></th>\n",
       "      <th>question1</th>\n",
       "      <th>question2</th>\n",
       "      <th>combine_question</th>\n",
       "      <th>tokenised_que</th>\n",
       "    </tr>\n",
       "  </thead>\n",
       "  <tbody>\n",
       "    <tr>\n",
       "      <th>39085</th>\n",
       "      <td>which laptop should i buy under 60k</td>\n",
       "      <td>which laptop should i buy under 60k</td>\n",
       "      <td>which laptop should i buy under 60k which lapt...</td>\n",
       "      <td>[which, laptop, should, i, buy, under, 60k, wh...</td>\n",
       "    </tr>\n",
       "    <tr>\n",
       "      <th>30892</th>\n",
       "      <td>how hair grow after hair transplant surgery</td>\n",
       "      <td>how long does a hair transplant surgery take</td>\n",
       "      <td>how hair grow after hair transplant surgery ho...</td>\n",
       "      <td>[how, hair, grow, after, hair, transplant, sur...</td>\n",
       "    </tr>\n",
       "  </tbody>\n",
       "</table>\n",
       "</div>"
      ],
      "text/plain": [
       "                                         question1  \\\n",
       "39085          which laptop should i buy under 60k   \n",
       "30892  how hair grow after hair transplant surgery   \n",
       "\n",
       "                                          question2  \\\n",
       "39085           which laptop should i buy under 60k   \n",
       "30892  how long does a hair transplant surgery take   \n",
       "\n",
       "                                        combine_question  \\\n",
       "39085  which laptop should i buy under 60k which lapt...   \n",
       "30892  how hair grow after hair transplant surgery ho...   \n",
       "\n",
       "                                           tokenised_que  \n",
       "39085  [which, laptop, should, i, buy, under, 60k, wh...  \n",
       "30892  [how, hair, grow, after, hair, transplant, sur...  "
      ]
     },
     "execution_count": 74,
     "metadata": {},
     "output_type": "execute_result"
    }
   ],
   "source": [
    "x_train['tokenised_que']=x_train['combine_question'].apply(lambda sent : sent.split())\n",
    "x_test['tokenised_que']=x_test['combine_question'].apply(lambda sent : sent.split())\n",
    "x_train.head(2)"
   ]
  },
  {
   "cell_type": "code",
   "execution_count": 75,
   "metadata": {},
   "outputs": [
    {
     "data": {
      "text/html": [
       "<div>\n",
       "<style scoped>\n",
       "    .dataframe tbody tr th:only-of-type {\n",
       "        vertical-align: middle;\n",
       "    }\n",
       "\n",
       "    .dataframe tbody tr th {\n",
       "        vertical-align: top;\n",
       "    }\n",
       "\n",
       "    .dataframe thead th {\n",
       "        text-align: right;\n",
       "    }\n",
       "</style>\n",
       "<table border=\"1\" class=\"dataframe\">\n",
       "  <thead>\n",
       "    <tr style=\"text-align: right;\">\n",
       "      <th></th>\n",
       "      <th>question1</th>\n",
       "      <th>question2</th>\n",
       "      <th>combine_question</th>\n",
       "      <th>tokenised_que</th>\n",
       "    </tr>\n",
       "  </thead>\n",
       "  <tbody>\n",
       "    <tr>\n",
       "      <th>33552</th>\n",
       "      <td>i am skinny fat what strategy should i follow ...</td>\n",
       "      <td>what will be future for r profile within few y...</td>\n",
       "      <td>i am skinny fat what strategy should i follow ...</td>\n",
       "      <td>[i, am, skinny, fat, what, strategy, should, i...</td>\n",
       "    </tr>\n",
       "    <tr>\n",
       "      <th>9427</th>\n",
       "      <td>do rich people worry about anything</td>\n",
       "      <td>what do wealthy people worry about</td>\n",
       "      <td>do rich people worry about anything what do we...</td>\n",
       "      <td>[do, rich, people, worry, about, anything, wha...</td>\n",
       "    </tr>\n",
       "  </tbody>\n",
       "</table>\n",
       "</div>"
      ],
      "text/plain": [
       "                                               question1  \\\n",
       "33552  i am skinny fat what strategy should i follow ...   \n",
       "9427                 do rich people worry about anything   \n",
       "\n",
       "                                               question2  \\\n",
       "33552  what will be future for r profile within few y...   \n",
       "9427                  what do wealthy people worry about   \n",
       "\n",
       "                                        combine_question  \\\n",
       "33552  i am skinny fat what strategy should i follow ...   \n",
       "9427   do rich people worry about anything what do we...   \n",
       "\n",
       "                                           tokenised_que  \n",
       "33552  [i, am, skinny, fat, what, strategy, should, i...  \n",
       "9427   [do, rich, people, worry, about, anything, wha...  "
      ]
     },
     "execution_count": 75,
     "metadata": {},
     "output_type": "execute_result"
    }
   ],
   "source": [
    "x_test.head(2)"
   ]
  },
  {
   "cell_type": "markdown",
   "metadata": {
    "id": "WRfVWOm3J6r_"
   },
   "source": [
    "<h2 style=\"color:blue; background:pink; line-height:1.5\">Train Word2vec</h2>"
   ]
  },
  {
   "cell_type": "code",
   "execution_count": 76,
   "metadata": {},
   "outputs": [
    {
     "name": "stdout",
     "output_type": "stream",
     "text": [
      "Word2Vec<vocab=28384, vector_size=300, alpha=0.025>\n"
     ]
    }
   ],
   "source": [
    "model=Word2Vec(list(x_train['tokenised_que']), vector_size=300, min_count=1)\n",
    "print(model)"
   ]
  },
  {
   "cell_type": "code",
   "execution_count": 77,
   "metadata": {},
   "outputs": [
    {
     "name": "stdout",
     "output_type": "stream",
     "text": [
      "(28384, 300)\n"
     ]
    }
   ],
   "source": [
    "print(model.wv.__getitem__(model.wv.index_to_key).shape) #shape and vectors"
   ]
  },
  {
   "cell_type": "markdown",
   "metadata": {},
   "source": [
    "<h2 style=\"color:blue; background:pink; line-height:1.5\">Drop out of vocabulary words</h2>"
   ]
  },
  {
   "cell_type": "code",
   "execution_count": 78,
   "metadata": {},
   "outputs": [
    {
     "data": {
      "text/html": [
       "<div>\n",
       "<style scoped>\n",
       "    .dataframe tbody tr th:only-of-type {\n",
       "        vertical-align: middle;\n",
       "    }\n",
       "\n",
       "    .dataframe tbody tr th {\n",
       "        vertical-align: top;\n",
       "    }\n",
       "\n",
       "    .dataframe thead th {\n",
       "        text-align: right;\n",
       "    }\n",
       "</style>\n",
       "<table border=\"1\" class=\"dataframe\">\n",
       "  <thead>\n",
       "    <tr style=\"text-align: right;\">\n",
       "      <th></th>\n",
       "      <th>question1</th>\n",
       "      <th>question2</th>\n",
       "      <th>combine_question</th>\n",
       "      <th>tokenised_que</th>\n",
       "      <th>doc_vector</th>\n",
       "    </tr>\n",
       "  </thead>\n",
       "  <tbody>\n",
       "    <tr>\n",
       "      <th>39085</th>\n",
       "      <td>which laptop should i buy under 60k</td>\n",
       "      <td>which laptop should i buy under 60k</td>\n",
       "      <td>which laptop should i buy under 60k which lapt...</td>\n",
       "      <td>[which, laptop, should, i, buy, under, 60k, wh...</td>\n",
       "      <td>[0.5163089, 1.143327, -0.3765736, -0.15969498,...</td>\n",
       "    </tr>\n",
       "    <tr>\n",
       "      <th>30892</th>\n",
       "      <td>how hair grow after hair transplant surgery</td>\n",
       "      <td>how long does a hair transplant surgery take</td>\n",
       "      <td>how hair grow after hair transplant surgery ho...</td>\n",
       "      <td>[how, hair, grow, after, hair, transplant, sur...</td>\n",
       "      <td>[-0.093336016, -0.12793809, -0.391397, 0.05191...</td>\n",
       "    </tr>\n",
       "  </tbody>\n",
       "</table>\n",
       "</div>"
      ],
      "text/plain": [
       "                                         question1  \\\n",
       "39085          which laptop should i buy under 60k   \n",
       "30892  how hair grow after hair transplant surgery   \n",
       "\n",
       "                                          question2  \\\n",
       "39085           which laptop should i buy under 60k   \n",
       "30892  how long does a hair transplant surgery take   \n",
       "\n",
       "                                        combine_question  \\\n",
       "39085  which laptop should i buy under 60k which lapt...   \n",
       "30892  how hair grow after hair transplant surgery ho...   \n",
       "\n",
       "                                           tokenised_que  \\\n",
       "39085  [which, laptop, should, i, buy, under, 60k, wh...   \n",
       "30892  [how, hair, grow, after, hair, transplant, sur...   \n",
       "\n",
       "                                              doc_vector  \n",
       "39085  [0.5163089, 1.143327, -0.3765736, -0.15969498,...  \n",
       "30892  [-0.093336016, -0.12793809, -0.391397, 0.05191...  "
      ]
     },
     "execution_count": 78,
     "metadata": {},
     "output_type": "execute_result"
    }
   ],
   "source": [
    "def document_vector(doc, keyed_vectors):\n",
    "    vocab_tokens=[word for word in doc if word in keyed_vectors.index_to_key]\n",
    "    return np.mean(keyed_vectors.__getitem__(vocab_tokens), axis=0)\n",
    "\n",
    "x_train['doc_vector']=x_train['tokenised_que'].apply(lambda x : document_vector(x, model.wv))\n",
    "x_test['doc_vector']=x_test['tokenised_que'].apply(lambda x : document_vector(x, model.wv))\n",
    "x_train.head(2)"
   ]
  },
  {
   "cell_type": "code",
   "execution_count": 79,
   "metadata": {},
   "outputs": [
    {
     "data": {
      "text/html": [
       "<div>\n",
       "<style scoped>\n",
       "    .dataframe tbody tr th:only-of-type {\n",
       "        vertical-align: middle;\n",
       "    }\n",
       "\n",
       "    .dataframe tbody tr th {\n",
       "        vertical-align: top;\n",
       "    }\n",
       "\n",
       "    .dataframe thead th {\n",
       "        text-align: right;\n",
       "    }\n",
       "</style>\n",
       "<table border=\"1\" class=\"dataframe\">\n",
       "  <thead>\n",
       "    <tr style=\"text-align: right;\">\n",
       "      <th></th>\n",
       "      <th>question1</th>\n",
       "      <th>question2</th>\n",
       "      <th>combine_question</th>\n",
       "      <th>tokenised_que</th>\n",
       "      <th>doc_vector</th>\n",
       "    </tr>\n",
       "  </thead>\n",
       "  <tbody>\n",
       "    <tr>\n",
       "      <th>33552</th>\n",
       "      <td>i am skinny fat what strategy should i follow ...</td>\n",
       "      <td>what will be future for r profile within few y...</td>\n",
       "      <td>i am skinny fat what strategy should i follow ...</td>\n",
       "      <td>[i, am, skinny, fat, what, strategy, should, i...</td>\n",
       "      <td>[0.17294537, 0.56007135, -0.4449971, -0.068539...</td>\n",
       "    </tr>\n",
       "    <tr>\n",
       "      <th>9427</th>\n",
       "      <td>do rich people worry about anything</td>\n",
       "      <td>what do wealthy people worry about</td>\n",
       "      <td>do rich people worry about anything what do we...</td>\n",
       "      <td>[do, rich, people, worry, about, anything, wha...</td>\n",
       "      <td>[0.39128634, 0.058248285, -0.67435503, -0.3872...</td>\n",
       "    </tr>\n",
       "  </tbody>\n",
       "</table>\n",
       "</div>"
      ],
      "text/plain": [
       "                                               question1  \\\n",
       "33552  i am skinny fat what strategy should i follow ...   \n",
       "9427                 do rich people worry about anything   \n",
       "\n",
       "                                               question2  \\\n",
       "33552  what will be future for r profile within few y...   \n",
       "9427                  what do wealthy people worry about   \n",
       "\n",
       "                                        combine_question  \\\n",
       "33552  i am skinny fat what strategy should i follow ...   \n",
       "9427   do rich people worry about anything what do we...   \n",
       "\n",
       "                                           tokenised_que  \\\n",
       "33552  [i, am, skinny, fat, what, strategy, should, i...   \n",
       "9427   [do, rich, people, worry, about, anything, wha...   \n",
       "\n",
       "                                              doc_vector  \n",
       "33552  [0.17294537, 0.56007135, -0.4449971, -0.068539...  \n",
       "9427   [0.39128634, 0.058248285, -0.67435503, -0.3872...  "
      ]
     },
     "execution_count": 79,
     "metadata": {},
     "output_type": "execute_result"
    }
   ],
   "source": [
    "x_test.head(2)"
   ]
  },
  {
   "cell_type": "markdown",
   "metadata": {},
   "source": [
    "<h2 style=\"color:blue; background:pink; line-height:1.5\">Final Training and Testing Input data</h2>"
   ]
  },
  {
   "cell_type": "code",
   "execution_count": 82,
   "metadata": {},
   "outputs": [
    {
     "data": {
      "text/plain": [
       "array([-0.09333602, -0.12793809, -0.391397  ,  0.0519123 , -0.23897293,\n",
       "       -0.21923965,  0.3099154 ,  1.0145055 ,  0.01033034,  0.06290798,\n",
       "       -0.02614345, -0.02081918, -0.03921925, -0.00570612, -0.1671398 ,\n",
       "       -0.05938331,  0.21705747, -0.03821615,  0.46537787, -0.11892756,\n",
       "       -0.19223522,  0.03990458, -0.017566  , -0.05015099,  0.16709834,\n",
       "       -0.20037146, -0.07295357, -0.13245575, -0.0687195 ,  0.0032609 ,\n",
       "        0.23972768, -0.27767038,  0.5468002 ,  0.10485564, -0.15738791,\n",
       "        0.46408483, -0.04125812, -0.2368692 , -0.06996179, -0.04705787,\n",
       "       -0.22185168,  0.27795488, -0.02744282, -0.19848941,  0.12682888,\n",
       "        0.18774766, -0.08351521,  0.0972618 , -0.10540547,  0.23188826,\n",
       "        0.39744905,  0.4212891 , -0.04985746,  0.1030757 ,  0.19495712,\n",
       "        0.27039587,  0.15764578,  0.07369027,  0.6434805 ,  0.31360474,\n",
       "       -0.5148569 , -0.04711368, -0.06254349, -0.17264405, -0.2402419 ,\n",
       "       -0.13743769, -0.15940125, -0.06281202, -0.31807563,  0.05814199,\n",
       "       -0.10004818, -0.07575447, -0.07383917, -0.28340003,  0.46939754,\n",
       "       -0.13281368, -0.12094054,  0.14315955, -0.0090293 ,  0.28021318,\n",
       "       -0.23949042,  0.05249925,  0.12308798,  0.46776628,  0.10070615,\n",
       "        0.15698859, -0.16412328,  0.3118036 ,  0.67422044,  0.05359647,\n",
       "        0.17064337, -0.06682499,  0.35522592,  0.11282896,  0.29101402,\n",
       "       -0.11977872,  0.19560178,  0.19654647, -0.03809026,  0.5888369 ,\n",
       "        0.4532503 ,  0.12804955,  0.22940749, -0.2081178 , -0.31678808,\n",
       "       -0.14873794, -0.02795844,  0.1430888 , -0.44685215, -0.26153925,\n",
       "       -0.25913104, -0.33728325,  0.08096681,  0.0737143 ,  0.09550725,\n",
       "        0.1734332 ,  0.21612701,  0.03485927,  0.2616137 , -0.4756747 ,\n",
       "        0.38870415,  0.20917143, -0.13313311, -0.19240418, -0.12199002,\n",
       "        0.59235984,  0.12199829, -0.52713984, -0.10484469,  0.3924189 ,\n",
       "       -0.00308491,  0.24847393,  0.25139657,  0.04969066,  0.13258804,\n",
       "        0.22578861,  0.28637186,  0.00220202, -0.39496523, -0.6117148 ,\n",
       "       -0.28620327,  0.16385932,  0.01643112,  0.3011739 ,  0.06092909,\n",
       "       -0.50746346,  0.134916  , -0.24977055, -0.16356221, -0.1368702 ,\n",
       "       -0.6116789 , -0.4895129 , -0.29787108, -0.19135028,  0.04690174,\n",
       "       -0.2932244 , -0.19276528, -0.21857347,  0.1742144 ,  0.15679626,\n",
       "       -0.31441614,  0.05759807,  0.13287283,  0.25103414, -0.52956617,\n",
       "        0.50899893, -0.25621274, -0.07147695,  0.05966143,  0.25752172,\n",
       "       -0.18067919,  0.20892556,  0.19652764,  0.08300006,  0.10240102,\n",
       "        0.37888697,  0.444213  , -0.3402451 , -0.18675199,  0.2172894 ,\n",
       "       -0.02598655,  0.17773089, -0.08087525,  0.04723763, -0.38645265,\n",
       "        0.01117499,  0.40470263,  0.6812214 , -0.08573451, -0.40727413,\n",
       "        0.2263773 ,  0.1922654 , -0.44159794,  0.02569463, -0.5265288 ,\n",
       "       -0.36730537,  0.4849462 , -0.16703549,  0.31322366, -0.08384652,\n",
       "        0.03487898,  0.04131631,  0.22679375, -0.14395472,  0.04028563,\n",
       "       -0.2596673 ,  0.23255913,  0.09967946,  0.30644614, -0.29682618,\n",
       "       -0.08130191, -0.11904971, -0.17072612, -0.19469547, -0.28134605,\n",
       "       -0.25900626, -0.11164816, -0.5828375 , -0.09989074, -0.5820391 ,\n",
       "        0.3831154 ,  0.0488101 , -0.0292536 , -0.24657075, -0.45856184,\n",
       "       -0.0983778 , -0.03877891, -0.39755347, -0.05418495, -0.10478744,\n",
       "       -0.01906287,  0.12099401,  0.05414982,  0.6132098 , -0.2724323 ,\n",
       "       -0.0140827 , -0.00316325,  0.2165046 , -0.4140608 , -0.36019897,\n",
       "        0.08774331,  0.24049343, -0.14333704, -0.12417347, -0.09758687,\n",
       "       -0.41234428, -0.08624605, -0.28519535,  0.32290283,  0.08752227,\n",
       "        0.37472904,  0.4236558 ,  0.17484063, -0.0038914 , -0.8920418 ,\n",
       "       -0.25796402,  0.1686834 , -0.04534646, -0.7043145 , -0.2939164 ,\n",
       "        0.05994668,  0.1768109 , -0.03331706, -0.5911404 , -0.01422212,\n",
       "        0.1987563 ,  0.03809105, -0.05730408, -0.14146121,  0.07618254,\n",
       "       -0.24245319,  0.44454676,  0.16194387,  0.0014846 ,  0.33725578,\n",
       "        0.19275787,  0.324561  ,  0.5322718 , -0.00700626, -0.10015842,\n",
       "       -0.55311877,  0.08343878,  0.14350532, -0.26655853,  0.06111207,\n",
       "        0.02908068, -0.09247169, -0.03591531,  0.09399761, -0.01076206,\n",
       "        0.3980507 , -0.02786488, -0.17519705, -0.19032036,  0.0652812 ,\n",
       "       -0.10596343, -0.5250382 , -0.04133532, -0.35592955,  0.38870817],\n",
       "      dtype=float32)"
      ]
     },
     "execution_count": 82,
     "metadata": {},
     "output_type": "execute_result"
    }
   ],
   "source": [
    "x_train=list(x_train['doc_vector'])\n",
    "x_test=list(x_test['doc_vector'])\n",
    "x_train[1]"
   ]
  },
  {
   "cell_type": "code",
   "execution_count": 83,
   "metadata": {},
   "outputs": [
    {
     "data": {
      "text/plain": [
       "array([ 0.39128634,  0.05824829, -0.67435503, -0.38728067,  0.25870463,\n",
       "       -0.27101484,  0.4099125 ,  0.60150933,  0.08744105, -0.0018364 ,\n",
       "        0.20282757, -0.3130145 , -0.39530775, -0.2780495 , -0.0829564 ,\n",
       "       -0.12778904,  0.4756894 ,  0.16766985, -0.04829387, -0.5090552 ,\n",
       "        0.48300648,  0.10350715, -0.30921862, -0.06873912, -0.05845067,\n",
       "       -0.25837114,  0.30407965, -0.01068853, -0.24240045, -0.20717983,\n",
       "        0.27365038, -0.01577092, -0.22768529,  0.13769305, -0.04404704,\n",
       "        0.0536281 ,  0.92454046, -0.20397647,  0.10033055,  0.30085748,\n",
       "        0.23441292, -0.03329952, -0.00433078, -0.37221575,  0.27377126,\n",
       "        0.2133765 ,  0.8497443 ,  0.60444564,  0.1178433 , -0.29766312,\n",
       "        0.10803308,  0.3013216 ,  0.04755261,  0.21548289, -0.05833216,\n",
       "        0.9097007 ,  0.20131718,  0.185331  ,  0.4600242 ,  0.61587846,\n",
       "        0.43731704, -0.34796777,  0.00312727,  0.05753926,  0.27910993,\n",
       "        0.250416  , -0.31572747,  0.00565565, -0.1635577 , -0.11069209,\n",
       "       -0.02292064, -0.16346757,  0.00258726, -0.55527025,  0.09510676,\n",
       "        0.27354863, -0.28539953, -0.0306552 , -0.27709743,  0.13699035,\n",
       "       -0.10822467,  0.15313159, -0.2491665 ,  0.9734358 ,  0.10768118,\n",
       "        0.20014465,  0.01234216, -0.19954441,  0.47285354, -0.56784755,\n",
       "        0.3167    , -0.24873805, -0.04975407, -0.01896484,  0.18892205,\n",
       "       -0.04916741,  0.5039831 , -0.1287423 , -0.06523737, -0.17689891,\n",
       "        0.16614671,  0.13055068, -0.0711901 ,  0.04336931, -0.1114812 ,\n",
       "       -0.30306688, -0.05610219,  0.02822406, -0.02389438,  0.22888762,\n",
       "       -0.29708555, -0.2009903 ,  0.15317525,  0.09225482, -0.36732784,\n",
       "        0.46945405, -0.06141229, -0.664693  ,  0.10953165, -0.30524713,\n",
       "       -0.25368223,  0.3044242 ,  0.74375653, -0.4869652 , -0.04216234,\n",
       "       -0.00579525,  0.20535053, -0.08742002,  0.346027  ,  0.4256554 ,\n",
       "        0.42054257,  0.35180882,  0.10322487, -0.32429785,  0.04654397,\n",
       "        0.59027153,  0.02879511, -0.27592093, -0.12051766, -0.7075018 ,\n",
       "       -0.04593334, -0.31215945, -0.12435817,  0.01669569, -0.20779978,\n",
       "       -0.38775983,  0.00486739,  0.0124199 ,  0.0024492 , -0.570164  ,\n",
       "       -0.35544148, -0.33482096,  0.08045078, -0.22833078, -0.02248093,\n",
       "        0.02355085, -0.07419208, -0.1939287 , -0.04355052,  0.44511893,\n",
       "        0.10042197,  0.09202858, -0.04252303,  0.16168801, -0.24338536,\n",
       "        0.0939566 ,  0.21398754, -0.02440487,  0.10560703, -0.11020726,\n",
       "       -0.12656392, -0.1576049 ,  0.23060441,  0.23302923,  0.42118385,\n",
       "        0.2450409 , -0.18904506, -0.29098633,  0.0069392 , -0.02919027,\n",
       "        0.15408407,  0.40335563,  0.08204896, -0.3406165 , -0.5486112 ,\n",
       "        0.3794917 ,  0.10762584,  0.3255491 , -0.18754561,  0.06935493,\n",
       "        0.09894184,  0.47658038, -0.5974689 , -0.08650565,  0.07429573,\n",
       "       -0.6086408 ,  0.14058974, -0.03065133, -0.2602156 ,  0.2593914 ,\n",
       "       -0.17957841, -0.4443301 , -0.29842502,  0.03464275,  0.10560439,\n",
       "        0.04732119, -0.07465447,  0.28582767, -0.08218693,  0.10265612,\n",
       "        0.35871205, -0.08743574,  0.04993355, -0.4406329 , -0.13559663,\n",
       "       -0.13704187, -0.28259733, -0.7327492 , -0.04057483, -0.17723507,\n",
       "        0.14346011, -0.09288367,  0.54244226, -0.3590596 ,  0.14554332,\n",
       "       -0.19135462, -0.1405262 , -0.07794507,  0.05228694,  0.20732278,\n",
       "       -0.01991945,  0.0718594 , -0.197833  ,  0.50127584, -0.06398574,\n",
       "        0.07950663, -0.6032055 , -0.17414963,  0.1488046 , -0.66827065,\n",
       "        0.4021208 , -0.05111323, -0.22511385,  0.59418756,  0.4110603 ,\n",
       "       -0.5508385 ,  0.22108735, -0.11352491,  0.25783524,  0.29528406,\n",
       "        0.01897501, -0.06065438,  0.15544565,  0.15048188, -0.44375083,\n",
       "       -0.29131365,  0.45304576, -0.04009615, -0.5697313 , -0.42303362,\n",
       "        0.3117557 ,  0.02578997,  0.28803903, -0.64310485, -0.37001026,\n",
       "        0.06419294, -0.04436084,  0.48186746, -0.473001  ,  0.12685637,\n",
       "       -0.02793526, -0.24965249, -0.05191325, -0.4661672 ,  0.40342572,\n",
       "       -0.09023774,  0.11499568,  0.12103936, -0.10006425, -0.12741825,\n",
       "       -0.09461547,  0.14415038, -0.22950721, -0.09134091,  0.10620144,\n",
       "       -0.289314  , -0.2027722 ,  0.46678057,  0.11110493,  0.15978853,\n",
       "        0.4039301 ,  0.32157782, -0.1357264 ,  0.49758744,  0.20477478,\n",
       "        0.19650543,  0.07377069,  0.00696857,  0.23856103, -0.32173738],\n",
       "      dtype=float32)"
      ]
     },
     "execution_count": 83,
     "metadata": {},
     "output_type": "execute_result"
    }
   ],
   "source": [
    "x_test[1]"
   ]
  },
  {
   "cell_type": "markdown",
   "metadata": {
    "id": "rDj1UQJKKnR-"
   },
   "source": [
    "<h2 style=\"color:blue; background:pink; line-height:1.5\">Building model</h2>"
   ]
  },
  {
   "cell_type": "markdown",
   "metadata": {},
   "source": [
    "<h2 style=\"color:blue; background:pink;\">Set Experiment<h2>"
   ]
  },
  {
   "cell_type": "code",
   "execution_count": 84,
   "metadata": {},
   "outputs": [
    {
     "name": "stderr",
     "output_type": "stream",
     "text": [
      "2023/06/04 12:53:10 INFO mlflow.tracking.fluent: Experiment with name 'Advance_approach_using_pre_trained_models' does not exist. Creating a new experiment.\n"
     ]
    },
    {
     "data": {
      "text/plain": [
       "<Experiment: artifact_location='file:///D:/DATA%20SCIENCE%20Internship%20with%20Innomatics/Final_%20Project_Quora_Question_Pair_Similarity/mlruns/591167485821976991', creation_time=1685863390057, experiment_id='591167485821976991', last_update_time=1685863390057, lifecycle_stage='active', name='Advance_approach_using_pre_trained_models', tags={}>"
      ]
     },
     "execution_count": 84,
     "metadata": {},
     "output_type": "execute_result"
    }
   ],
   "source": [
    "import mlflow\n",
    "mlflow.set_experiment(\"Advance_approach_using_pre_trained_models\")"
   ]
  },
  {
   "cell_type": "markdown",
   "metadata": {
    "id": "_INAemcqsZ00"
   },
   "source": [
    "<h2 style=\"color:blue; background:lightgreen; line-height:1\">1. Logistic Regression<h2>"
   ]
  },
  {
   "cell_type": "code",
   "execution_count": 87,
   "metadata": {},
   "outputs": [
    {
     "name": "stdout",
     "output_type": "stream",
     "text": [
      "----------------------------------------------------------\n",
      "Acuuracy=0.6666\n",
      "Precission=0.673305954825462\n",
      "Recall=0.6529271206690561\n",
      "F1 Score=0.6629599676506268\n",
      "----------------------------------------------------------\n",
      "Confusion Matrix=\n",
      "\n"
     ]
    },
    {
     "data": {
      "image/png": "[encoded data removed]",
      "text/plain": [
       "<Figure size 432x288 with 1 Axes>"
      ]
     },
     "metadata": {},
     "output_type": "display_data"
    },
    {
     "name": "stdout",
     "output_type": "stream",
     "text": [
      "----------------------------------------------------------\n",
      "Out of 10000 testing values 3334 are mis-classified.\n",
      "----------------------------------------------------------\n",
      "Classification Report=\n",
      "               precision    recall  f1-score   support\n",
      "\n",
      "           0       0.66      0.68      0.67      4978\n",
      "           1       0.67      0.65      0.66      5022\n",
      "\n",
      "    accuracy                           0.67     10000\n",
      "   macro avg       0.67      0.67      0.67     10000\n",
      "weighted avg       0.67      0.67      0.67     10000\n",
      "\n",
      "----------------------------------------------------------\n"
     ]
    }
   ],
   "source": [
    "from sklearn.linear_model import LogisticRegression\n",
    "from sklearn.metrics import classification_report, accuracy_score, recall_score, f1_score, precision_score, confusion_matrix\n",
    "import pickle\n",
    "with mlflow.start_run():\n",
    "    mlflow.set_tag(\"Owner\",\"Suraj H\")\n",
    "    mlflow.set_tag(\"Algorithm\", \"Logistic word2vec\")\n",
    "    \n",
    "    log_regression=LogisticRegression()\n",
    "    log_regression.fit(x_train,y_train)\n",
    "    pickle.dump(log_regression, open(\"resources_advance_approach_using_pre_trained_model/logistic_regression_word2vec.pkl\",\"wb\"))\n",
    "    \n",
    "    y_pred=log_regression.predict(x_test)\n",
    "    acc=accuracy_score(y_test,y_pred)\n",
    "    precision=precision_score(y_test,y_pred)\n",
    "    recall=recall_score(y_test,y_pred)\n",
    "    f1=f1_score(y_test,y_pred)\n",
    "    \n",
    "    print(\"----------------------------------------------------------\")\n",
    "    print(\"Acuuracy={}\\nPrecission={}\\nRecall={}\\nF1 Score={}\".format(acc, precision, recall, f1))\n",
    "    print(\"----------------------------------------------------------\")\n",
    "    print(\"Confusion Matrix=\\n\")\n",
    "    sns.heatmap(confusion_matrix(y_test,y_pred), annot=True, annot_kws={\"fontsize\":15}, linewidths=5, linecolor='blue',\n",
    "                yticklabels=[\"Non-Duplicate\",\"Duplicate\"], xticklabels=[\"Non-Duplicate\",\"Duplicate\"], cbar=None, fmt='g')\n",
    "    plt.xlabel(\"Predicted\",fontsize=18)\n",
    "    plt.ylabel(\"Actual\",fontsize=18)\n",
    "    plt.savefig(\"resources_advance_approach_using_pre_trained_model/log_reg_word2vec_conf_matrix.png\")\n",
    "    plt.show()\n",
    "    print(\"----------------------------------------------------------\")\n",
    "    print(\"Out of {} testing values {} are mis-classified.\".format(y_test.shape[0], sum(y_test!=y_pred)))\n",
    "    print(\"----------------------------------------------------------\")\n",
    "    print(\"Classification Report=\\n\", classification_report(y_test,y_pred))\n",
    "    print(\"----------------------------------------------------------\")\n",
    "    \n",
    "    mlflow.log_metrics({\"Accuracy\":acc, \"Precision\":precision, \"Recall\":recall, \"F1 Score\":f1})\n",
    "    mlflow.sklearn.log_model(log_regression, artifact_path=\"models\")\n",
    "    mlflow.log_artifact(\"resources_advance_approach_using_pre_trained_model/log_reg_word2vec_conf_matrix.png\")"
   ]
  },
  {
   "cell_type": "markdown",
   "metadata": {},
   "source": [
    "<h2 style=\"color:blue; background:lightgreen; line-height:1\">2. Naive Bayes<h2>"
   ]
  },
  {
   "cell_type": "code",
   "execution_count": 89,
   "metadata": {},
   "outputs": [
    {
     "name": "stdout",
     "output_type": "stream",
     "text": [
      "----------------------------------------------------------\n",
      "Acuuracy=0.6693\n",
      "Precission=0.693610295777828\n",
      "Recall=0.6117084826762246\n",
      "F1 Score=0.6500899375727436\n",
      "----------------------------------------------------------\n",
      "Confusion Matrix=\n",
      "\n"
     ]
    },
    {
     "data": {
      "image/png": "[encoded data removed]",
      "text/plain": [
       "<Figure size 432x288 with 1 Axes>"
      ]
     },
     "metadata": {},
     "output_type": "display_data"
    },
    {
     "name": "stdout",
     "output_type": "stream",
     "text": [
      "----------------------------------------------------------\n",
      "Out of 10000 testing values 3307 are mis-classified.\n",
      "----------------------------------------------------------\n",
      "Classification Report=\n",
      "               precision    recall  f1-score   support\n",
      "\n",
      "           0       0.65      0.73      0.69      4978\n",
      "           1       0.69      0.61      0.65      5022\n",
      "\n",
      "    accuracy                           0.67     10000\n",
      "   macro avg       0.67      0.67      0.67     10000\n",
      "weighted avg       0.67      0.67      0.67     10000\n",
      "\n",
      "----------------------------------------------------------\n"
     ]
    }
   ],
   "source": [
    "from sklearn.naive_bayes import GaussianNB\n",
    "with mlflow.start_run():\n",
    "    mlflow.set_tag(\"Owner\",\"Suraj H\")\n",
    "    mlflow.set_tag(\"Algorithm\", \"Naive Bayes word2vec\")\n",
    "    \n",
    "    naive_classifier=GaussianNB()\n",
    "    naive_classifier.fit(x_train,y_train)\n",
    "    pickle.dump(naive_classifier, open(\"resources_advance_approach_using_pre_trained_model/naive_word2vec.pkl\",\"wb\"))\n",
    "    \n",
    "    y_pred=naive_classifier.predict(x_test)\n",
    "    acc=accuracy_score(y_test,y_pred)\n",
    "    precision=precision_score(y_test,y_pred)\n",
    "    recall=recall_score(y_test,y_pred)\n",
    "    f1=f1_score(y_test,y_pred)\n",
    "    \n",
    "    print(\"----------------------------------------------------------\")\n",
    "    print(\"Acuuracy={}\\nPrecission={}\\nRecall={}\\nF1 Score={}\".format(acc, precision, recall, f1))\n",
    "    print(\"----------------------------------------------------------\")\n",
    "    print(\"Confusion Matrix=\\n\")\n",
    "    sns.heatmap(confusion_matrix(y_test,y_pred), annot=True, annot_kws={\"fontsize\":15}, linewidths=5, linecolor='blue',\n",
    "                yticklabels=[\"Non-Duplicate\",\"Duplicate\"], xticklabels=[\"Non-Duplicate\",\"Duplicate\"], cbar=None, fmt='g')\n",
    "    plt.xlabel(\"Predicted\",fontsize=18)\n",
    "    plt.ylabel(\"Actual\",fontsize=18)\n",
    "    plt.savefig(\"resources_advance_approach_using_pre_trained_model/naive_word2vec_conf_matrix.png\")\n",
    "    plt.show()\n",
    "    print(\"----------------------------------------------------------\")\n",
    "    print(\"Out of {} testing values {} are mis-classified.\".format(y_test.shape[0], sum(y_test!=y_pred)))\n",
    "    print(\"----------------------------------------------------------\")\n",
    "    print(\"Classification Report=\\n\", classification_report(y_test,y_pred))\n",
    "    print(\"----------------------------------------------------------\")\n",
    "    \n",
    "    mlflow.log_metrics({\"Accuracy\":acc, \"Precision\":precision, \"Recall\":recall, \"F1 Score\":f1})\n",
    "    mlflow.sklearn.log_model(naive_classifier, artifact_path=\"models\")\n",
    "    mlflow.log_artifact(\"resources_advance_approach_using_pre_trained_model/naive_word2vec_conf_matrix.png\")"
   ]
  },
  {
   "cell_type": "markdown",
   "metadata": {},
   "source": [
    "<h2 style=\"color:blue; background:lightgreen; line-height:1\">3. Decision Tree</h2>"
   ]
  },
  {
   "cell_type": "code",
   "execution_count": 90,
   "metadata": {},
   "outputs": [
    {
     "name": "stdout",
     "output_type": "stream",
     "text": [
      "----------------------------------------------------------\n",
      "Acuuracy=0.6337\n",
      "Precission=0.635872825434913\n",
      "Recall=0.6332138590203107\n",
      "F1 Score=0.634540556719545\n",
      "----------------------------------------------------------\n",
      "Confusion Matrix=\n",
      "\n"
     ]
    },
    {
     "data": {
      "image/png": "[encoded data removed]",
      "text/plain": [
       "<Figure size 432x288 with 1 Axes>"
      ]
     },
     "metadata": {},
     "output_type": "display_data"
    },
    {
     "name": "stdout",
     "output_type": "stream",
     "text": [
      "----------------------------------------------------------\n",
      "Out of 10000 testing values 3663 are mis-classified.\n",
      "----------------------------------------------------------\n",
      "Classification Report=\n",
      "               precision    recall  f1-score   support\n",
      "\n",
      "           0       0.63      0.63      0.63      4978\n",
      "           1       0.64      0.63      0.63      5022\n",
      "\n",
      "    accuracy                           0.63     10000\n",
      "   macro avg       0.63      0.63      0.63     10000\n",
      "weighted avg       0.63      0.63      0.63     10000\n",
      "\n",
      "----------------------------------------------------------\n"
     ]
    }
   ],
   "source": [
    "from sklearn.tree import DecisionTreeClassifier\n",
    "from sklearn.metrics import classification_report, accuracy_score, recall_score, f1_score, precision_score, confusion_matrix\n",
    "import pickle\n",
    "with mlflow.start_run():\n",
    "    mlflow.set_tag(\"Owner\",\"Suraj H\")\n",
    "    mlflow.set_tag(\"Algorithm\", \"Decision Tree word2vec\")\n",
    "    \n",
    "    dt_classifier=DecisionTreeClassifier()\n",
    "    dt_classifier.fit(x_train,y_train)\n",
    "    pickle.dump(dt_classifier, open(\"resources_advance_approach_using_pre_trained_model/decision_tree_word2vec.pkl\",\"wb\"))\n",
    "    \n",
    "    y_pred=dt_classifier.predict(x_test)\n",
    "    acc=accuracy_score(y_test,y_pred)\n",
    "    precision=precision_score(y_test,y_pred)\n",
    "    recall=recall_score(y_test,y_pred)\n",
    "    f1=f1_score(y_test,y_pred)\n",
    "    \n",
    "    print(\"----------------------------------------------------------\")\n",
    "    print(\"Acuuracy={}\\nPrecission={}\\nRecall={}\\nF1 Score={}\".format(acc, precision, recall, f1))\n",
    "    print(\"----------------------------------------------------------\")\n",
    "    print(\"Confusion Matrix=\\n\")\n",
    "    sns.heatmap(confusion_matrix(y_test,y_pred), annot=True, annot_kws={\"fontsize\":15}, linewidths=5, linecolor='blue',\n",
    "                yticklabels=[\"Non-Duplicate\",\"Duplicate\"], xticklabels=[\"Non-Duplicate\",\"Duplicate\"], cbar=None, fmt='g')\n",
    "    plt.xlabel(\"Predicted\",fontsize=18)\n",
    "    plt.ylabel(\"Actual\",fontsize=18)\n",
    "    plt.savefig(\"resources_advance_approach_using_pre_trained_model/decision_tree_word2vec_conf_matrix.png\")\n",
    "    plt.show()\n",
    "    print(\"----------------------------------------------------------\")\n",
    "    print(\"Out of {} testing values {} are mis-classified.\".format(y_test.shape[0], sum(y_test!=y_pred)))\n",
    "    print(\"----------------------------------------------------------\")\n",
    "    print(\"Classification Report=\\n\", classification_report(y_test,y_pred))\n",
    "    print(\"----------------------------------------------------------\")\n",
    "    \n",
    "    mlflow.log_metrics({\"Accuracy\":acc, \"Precision\":precision, \"Recall\":recall, \"F1 Score\":f1})\n",
    "    mlflow.sklearn.log_model(dt_classifier, artifact_path=\"models\")\n",
    "    mlflow.log_artifact(\"resources_advance_approach_using_pre_trained_model/decision_tree_word2vec_conf_matrix.png\")"
   ]
  },
  {
   "cell_type": "markdown",
   "metadata": {},
   "source": [
    "<h2 style=\"color:blue; background:lightgreen; line-height:1\">4. Random Forest</h2>"
   ]
  },
  {
   "cell_type": "code",
   "execution_count": 95,
   "metadata": {},
   "outputs": [
    {
     "name": "stdout",
     "output_type": "stream",
     "text": [
      "----------------------------------------------------------\n",
      "Acuuracy=0.7255\n",
      "Precission=0.7181452385514466\n",
      "Recall=0.7463162086818\n",
      "F1 Score=0.7319597695537545\n",
      "----------------------------------------------------------\n",
      "Confusion Matrix=\n",
      "\n"
     ]
    },
    {
     "data": {
      "image/png": "[encoded data removed]",
      "text/plain": [
       "<Figure size 432x288 with 1 Axes>"
      ]
     },
     "metadata": {},
     "output_type": "display_data"
    },
    {
     "name": "stdout",
     "output_type": "stream",
     "text": [
      "----------------------------------------------------------\n",
      "Out of 10000 testing values 2745 are mis-classified.\n",
      "----------------------------------------------------------\n",
      "Classification Report=\n",
      "               precision    recall  f1-score   support\n",
      "\n",
      "           0       0.73      0.70      0.72      4978\n",
      "           1       0.72      0.75      0.73      5022\n",
      "\n",
      "    accuracy                           0.73     10000\n",
      "   macro avg       0.73      0.73      0.73     10000\n",
      "weighted avg       0.73      0.73      0.73     10000\n",
      "\n",
      "----------------------------------------------------------\n"
     ]
    }
   ],
   "source": [
    "from sklearn.ensemble import RandomForestClassifier\n",
    "from sklearn.metrics import classification_report, accuracy_score, recall_score, f1_score, precision_score, confusion_matrix\n",
    "import pickle\n",
    "with mlflow.start_run():\n",
    "    mlflow.set_tag(\"Owner\",\"Suraj H\")\n",
    "    mlflow.set_tag(\"Algorithm\", \"Random Forest word2vec\")\n",
    "    \n",
    "    rf_classifier=RandomForestClassifier()\n",
    "    rf_classifier.fit(x_train,y_train)\n",
    "    pickle.dump(rf_classifier, open(\"resources_advance_approach_using_pre_trained_model/random_forest_word2vec.pkl\",\"wb\"))\n",
    "    \n",
    "    y_pred=rf_classifier.predict(x_test)\n",
    "    acc=accuracy_score(y_test,y_pred)\n",
    "    precision=precision_score(y_test,y_pred)\n",
    "    recall=recall_score(y_test,y_pred)\n",
    "    f1=f1_score(y_test,y_pred)\n",
    "    \n",
    "    print(\"----------------------------------------------------------\")\n",
    "    print(\"Acuuracy={}\\nPrecission={}\\nRecall={}\\nF1 Score={}\".format(acc, precision, recall, f1))\n",
    "    print(\"----------------------------------------------------------\")\n",
    "    print(\"Confusion Matrix=\\n\")\n",
    "    sns.heatmap(confusion_matrix(y_test,y_pred), annot=True, annot_kws={\"fontsize\":15}, linewidths=5, linecolor='blue',\n",
    "                yticklabels=[\"Non-Duplicate\",\"Duplicate\"], xticklabels=[\"Non-Duplicate\",\"Duplicate\"], cbar=None, fmt='g')\n",
    "    plt.xlabel(\"Predicted\",fontsize=18)\n",
    "    plt.ylabel(\"Actual\",fontsize=18)\n",
    "    plt.savefig(\"resources_advance_approach_using_pre_trained_model/random_forest_word2vec_conf_matrix.png\")\n",
    "    plt.show()\n",
    "    print(\"----------------------------------------------------------\")\n",
    "    print(\"Out of {} testing values {} are mis-classified.\".format(y_test.shape[0], sum(y_test!=y_pred)))\n",
    "    print(\"----------------------------------------------------------\")\n",
    "    print(\"Classification Report=\\n\", classification_report(y_test,y_pred))\n",
    "    print(\"----------------------------------------------------------\")\n",
    "    \n",
    "    mlflow.log_metrics({\"Accuracy\":acc, \"Precision\":precision, \"Recall\":recall, \"F1 Score\":f1})\n",
    "    mlflow.sklearn.log_model(rf_classifier, artifact_path=\"models\")\n",
    "    mlflow.log_artifact(\"resources_advance_approach_using_pre_trained_model/random_forest_word2vec_conf_matrix.png\")"
   ]
  },
  {
   "cell_type": "markdown",
   "metadata": {},
   "source": [
    "<h2 style=\"color:blue; background:lightgreen; line-height:1\">5. Gradient Boosting</h2>"
   ]
  },
  {
   "cell_type": "code",
   "execution_count": 94,
   "metadata": {},
   "outputs": [
    {
     "name": "stdout",
     "output_type": "stream",
     "text": [
      "----------------------------------------------------------\n",
      "Acuuracy=0.7001\n",
      "Precission=0.7077428630108852\n",
      "Recall=0.6861808044603743\n",
      "F1 Score=0.6967950662218177\n",
      "----------------------------------------------------------\n",
      "Confusion Matrix=\n",
      "\n"
     ]
    },
    {
     "data": {
      "image/png": "[encoded data removed]",
      "text/plain": [
       "<Figure size 432x288 with 1 Axes>"
      ]
     },
     "metadata": {},
     "output_type": "display_data"
    },
    {
     "name": "stdout",
     "output_type": "stream",
     "text": [
      "----------------------------------------------------------\n",
      "Out of 10000 testing values 2999 are mis-classified.\n",
      "----------------------------------------------------------\n",
      "Classification Report=\n",
      "               precision    recall  f1-score   support\n",
      "\n",
      "           0       0.69      0.71      0.70      4978\n",
      "           1       0.71      0.69      0.70      5022\n",
      "\n",
      "    accuracy                           0.70     10000\n",
      "   macro avg       0.70      0.70      0.70     10000\n",
      "weighted avg       0.70      0.70      0.70     10000\n",
      "\n",
      "----------------------------------------------------------\n"
     ]
    }
   ],
   "source": [
    "from sklearn.ensemble import GradientBoostingClassifier\n",
    "with mlflow.start_run():\n",
    "    mlflow.set_tag(\"Owner\",\"Suraj H\")\n",
    "    mlflow.set_tag(\"Algorithm\", \"Gradient Boost word2vec\")\n",
    "    \n",
    "    gb_classifier=GradientBoostingClassifier()\n",
    "    gb_classifier.fit(x_train,y_train)\n",
    "    pickle.dump(gb_classifier, open(\"resources_advance_approach_using_pre_trained_model/gradient_boostig_word2vec.pkl\",\"wb\"))\n",
    "    \n",
    "    y_pred=gb_classifier.predict(x_test)\n",
    "    acc=accuracy_score(y_test,y_pred)\n",
    "    precision=precision_score(y_test,y_pred)\n",
    "    recall=recall_score(y_test,y_pred)\n",
    "    f1=f1_score(y_test,y_pred)\n",
    "    \n",
    "    print(\"----------------------------------------------------------\")\n",
    "    print(\"Acuuracy={}\\nPrecission={}\\nRecall={}\\nF1 Score={}\".format(acc, precision, recall, f1))\n",
    "    print(\"----------------------------------------------------------\")\n",
    "    print(\"Confusion Matrix=\\n\")\n",
    "    sns.heatmap(confusion_matrix(y_test,y_pred), annot=True, annot_kws={\"fontsize\":15}, linewidths=5, linecolor='blue',\n",
    "                yticklabels=[\"Non-Duplicate\",\"Duplicate\"], xticklabels=[\"Non-Duplicate\",\"Duplicate\"], cbar=None, fmt='g')\n",
    "    plt.xlabel(\"Predicted\",fontsize=18)\n",
    "    plt.ylabel(\"Actual\",fontsize=18)\n",
    "    plt.savefig(\"resources_advance_approach_using_pre_trained_model/gradient_boost_word2vec_conf_matrix.png\")\n",
    "    plt.show()\n",
    "    print(\"----------------------------------------------------------\")\n",
    "    print(\"Out of {} testing values {} are mis-classified.\".format(y_test.shape[0], sum(y_test!=y_pred)))\n",
    "    print(\"----------------------------------------------------------\")\n",
    "    print(\"Classification Report=\\n\", classification_report(y_test,y_pred))\n",
    "    print(\"----------------------------------------------------------\")\n",
    "    \n",
    "    mlflow.log_metrics({\"Accuracy\":acc, \"Precision\":precision, \"Recall\":recall, \"F1 Score\":f1})\n",
    "    mlflow.sklearn.log_model(gb_classifier, artifact_path=\"models\")\n",
    "    mlflow.log_artifact(\"resources_advance_approach_using_pre_trained_model/gradient_boost_word2vec_conf_matrix.png\")"
   ]
  },
  {
   "cell_type": "markdown",
   "metadata": {},
   "source": [
    "<h2 style=\"color:blue; background:lightgreen; line-height:1\">6. Ada Boost</h2>"
   ]
  },
  {
   "cell_type": "code",
   "execution_count": 92,
   "metadata": {},
   "outputs": [
    {
     "name": "stdout",
     "output_type": "stream",
     "text": [
      "----------------------------------------------------------\n",
      "Acuuracy=0.6792\n",
      "Precission=0.689194826866917\n",
      "Recall=0.657905217045002\n",
      "F1 Score=0.6731866340668297\n",
      "----------------------------------------------------------\n",
      "Confusion Matrix=\n",
      "\n"
     ]
    },
    {
     "data": {
      "image/png": "[encoded data removed]",
      "text/plain": [
       "<Figure size 432x288 with 1 Axes>"
      ]
     },
     "metadata": {},
     "output_type": "display_data"
    },
    {
     "name": "stdout",
     "output_type": "stream",
     "text": [
      "----------------------------------------------------------\n",
      "Out of 10000 testing values 3208 are mis-classified.\n",
      "----------------------------------------------------------\n",
      "Classification Report=\n",
      "               precision    recall  f1-score   support\n",
      "\n",
      "           0       0.67      0.70      0.68      4978\n",
      "           1       0.69      0.66      0.67      5022\n",
      "\n",
      "    accuracy                           0.68     10000\n",
      "   macro avg       0.68      0.68      0.68     10000\n",
      "weighted avg       0.68      0.68      0.68     10000\n",
      "\n",
      "----------------------------------------------------------\n"
     ]
    }
   ],
   "source": [
    "from sklearn.ensemble import AdaBoostClassifier\n",
    "with mlflow.start_run():\n",
    "    mlflow.set_tag(\"Owner\",\"Suraj H\")\n",
    "    mlflow.set_tag(\"Algorithm\", \"Ada Boost word2vec\")\n",
    "    \n",
    "    ada_classifier=AdaBoostClassifier()\n",
    "    ada_classifier.fit(x_train,y_train)\n",
    "    pickle.dump(ada_classifier, open(\"resources_advance_approach_using_pre_trained_model/ada_boosting_word2vec.pkl\",\"wb\"))\n",
    "    \n",
    "    y_pred=ada_classifier.predict(x_test)\n",
    "    acc=accuracy_score(y_test,y_pred)\n",
    "    precision=precision_score(y_test,y_pred)\n",
    "    recall=recall_score(y_test,y_pred)\n",
    "    f1=f1_score(y_test,y_pred)\n",
    "    \n",
    "    print(\"----------------------------------------------------------\")\n",
    "    print(\"Acuuracy={}\\nPrecission={}\\nRecall={}\\nF1 Score={}\".format(acc, precision, recall, f1))\n",
    "    print(\"----------------------------------------------------------\")\n",
    "    print(\"Confusion Matrix=\\n\")\n",
    "    sns.heatmap(confusion_matrix(y_test,y_pred), annot=True, annot_kws={\"fontsize\":15}, linewidths=5, linecolor='blue',\n",
    "                yticklabels=[\"Non-Duplicate\",\"Duplicate\"], xticklabels=[\"Non-Duplicate\",\"Duplicate\"], cbar=None, fmt='g')\n",
    "    plt.xlabel(\"Predicted\",fontsize=18)\n",
    "    plt.ylabel(\"Actual\",fontsize=18)\n",
    "    plt.savefig(\"resources_advance_approach_using_pre_trained_model/ada_boost_word2vec_conf_matrix.png\")\n",
    "    plt.show()\n",
    "    print(\"----------------------------------------------------------\")\n",
    "    print(\"Out of {} testing values {} are mis-classified.\".format(y_test.shape[0], sum(y_test!=y_pred)))\n",
    "    print(\"----------------------------------------------------------\")\n",
    "    print(\"Classification Report=\\n\", classification_report(y_test,y_pred))\n",
    "    print(\"----------------------------------------------------------\")\n",
    "    \n",
    "    mlflow.log_metrics({\"Accuracy\":acc, \"Precision\":precision, \"Recall\":recall, \"F1 Score\":f1})\n",
    "    mlflow.sklearn.log_model(ada_classifier, artifact_path=\"models\")\n",
    "    mlflow.log_artifact(\"resources_advance_approach_using_pre_trained_model/ada_boost_word2vec_conf_matrix.png\")"
   ]
  },
  {
   "cell_type": "markdown",
   "metadata": {},
   "source": [
    "<h2 style=\"color:blue; background:lightgreen; line-height:1\">7. XG Boost</h2>"
   ]
  },
  {
   "cell_type": "code",
   "execution_count": 91,
   "metadata": {},
   "outputs": [
    {
     "name": "stdout",
     "output_type": "stream",
     "text": [
      "----------------------------------------------------------\n",
      "Acuuracy=0.7091\n",
      "Precission=0.7140830800405269\n",
      "Recall=0.7017124651533254\n",
      "F1 Score=0.7078437280305312\n",
      "----------------------------------------------------------\n",
      "Confusion Matrix=\n",
      "\n"
     ]
    },
    {
     "data": {
      "image/png": "[encoded data removed]",
      "text/plain": [
       "<Figure size 432x288 with 1 Axes>"
      ]
     },
     "metadata": {},
     "output_type": "display_data"
    },
    {
     "name": "stdout",
     "output_type": "stream",
     "text": [
      "----------------------------------------------------------\n",
      "Out of 10000 testing values 2909 are mis-classified.\n",
      "----------------------------------------------------------\n",
      "Classification Report=\n",
      "               precision    recall  f1-score   support\n",
      "\n",
      "           0       0.70      0.72      0.71      4978\n",
      "           1       0.71      0.70      0.71      5022\n",
      "\n",
      "    accuracy                           0.71     10000\n",
      "   macro avg       0.71      0.71      0.71     10000\n",
      "weighted avg       0.71      0.71      0.71     10000\n",
      "\n",
      "----------------------------------------------------------\n"
     ]
    }
   ],
   "source": [
    "from xgboost import XGBClassifier\n",
    "from sklearn.metrics import classification_report, accuracy_score, recall_score, f1_score, precision_score, confusion_matrix\n",
    "import pickle\n",
    "with mlflow.start_run():\n",
    "    mlflow.set_tag(\"Owner\",\"Suraj H\")\n",
    "    mlflow.set_tag(\"Algorithm\", \"XG Boost word2vec\")\n",
    "    \n",
    "    xgb_classifier=XGBClassifier()\n",
    "    xgb_classifier.fit(x_train,y_train)\n",
    "    pickle.dump(xgb_classifier, open(\"resources_advance_approach_using_pre_trained_model/xgboost_word2vec.pkl\",\"wb\"))\n",
    "    \n",
    "    y_pred=xgb_classifier.predict(x_test)\n",
    "    acc=accuracy_score(y_test,y_pred)\n",
    "    precision=precision_score(y_test,y_pred)\n",
    "    recall=recall_score(y_test,y_pred)\n",
    "    f1=f1_score(y_test,y_pred)\n",
    "    \n",
    "    print(\"----------------------------------------------------------\")\n",
    "    print(\"Acuuracy={}\\nPrecission={}\\nRecall={}\\nF1 Score={}\".format(acc, precision, recall, f1))\n",
    "    print(\"----------------------------------------------------------\")\n",
    "    print(\"Confusion Matrix=\\n\")\n",
    "    sns.heatmap(confusion_matrix(y_test,y_pred), annot=True, annot_kws={\"fontsize\":15}, linewidths=5, linecolor='blue',\n",
    "                yticklabels=[\"Non-Duplicate\",\"Duplicate\"], xticklabels=[\"Non-Duplicate\",\"Duplicate\"], cbar=None, fmt='g')\n",
    "    plt.xlabel(\"Predicted\",fontsize=18)\n",
    "    plt.ylabel(\"Actual\",fontsize=18)\n",
    "    plt.savefig(\"resources_advance_approach_using_pre_trained_model/xgboost_word2vec_conf_matrix.png\")\n",
    "    plt.show()\n",
    "    print(\"----------------------------------------------------------\")\n",
    "    print(\"Out of {} testing values {} are mis-classified.\".format(y_test.shape[0], sum(y_test!=y_pred)))\n",
    "    print(\"----------------------------------------------------------\")\n",
    "    print(\"Classification Report=\\n\", classification_report(y_test,y_pred))\n",
    "    print(\"----------------------------------------------------------\")\n",
    "    \n",
    "    mlflow.log_metrics({\"Accuracy\":acc, \"Precision\":precision, \"Recall\":recall, \"F1 Score\":f1})\n",
    "    mlflow.sklearn.log_model(xgb_classifier, artifact_path=\"models\")\n",
    "    mlflow.log_artifact(\"resources_advance_approach_using_pre_trained_model/xgboost_word2vec_conf_matrix.png\")"
   ]
  },
  {
   "cell_type": "markdown",
   "metadata": {},
   "source": [
    "### Inference:\n",
    " **Accuracy of Random Forest model is high(73%).**"
   ]
  },
  {
   "cell_type": "code",
   "execution_count": null,
   "metadata": {},
   "outputs": [],
   "source": []
  }
 ],
 "metadata": {
  "accelerator": "GPU",
  "colab": {
   "provenance": []
  },
  "gpuClass": "standard",
  "kernelspec": {
   "display_name": "Python 3 (ipykernel)",
   "language": "python",
   "name": "python3"
  },
  "language_info": {
   "codemirror_mode": {
    "name": "ipython",
    "version": 3
   },
   "file_extension": ".py",
   "mimetype": "text/x-python",
   "name": "python",
   "nbconvert_exporter": "python",
   "pygments_lexer": "ipython3",
   "version": "3.9.7"
  }
 },
 "nbformat": 4,
 "nbformat_minor": 1
}
