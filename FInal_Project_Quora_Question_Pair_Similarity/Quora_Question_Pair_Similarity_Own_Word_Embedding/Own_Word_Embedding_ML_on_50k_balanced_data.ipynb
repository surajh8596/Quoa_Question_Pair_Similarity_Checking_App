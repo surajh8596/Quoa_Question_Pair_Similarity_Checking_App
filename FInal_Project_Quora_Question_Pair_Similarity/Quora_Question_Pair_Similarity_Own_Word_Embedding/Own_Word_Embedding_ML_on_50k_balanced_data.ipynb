{
 "cells": [
  {
   "cell_type": "markdown",
   "metadata": {},
   "source": [
    "<h1 style=\"color:blue; background:lightblue; line-height:1.5; text-align:center\">* Quora Question Pair Similarity using Own Word Embedding and ML Models*</h1>"
   ]
  },
  {
   "cell_type": "markdown",
   "metadata": {
    "id": "VHwRS2YE3iN8"
   },
   "source": [
    "<h2 style=\"color:blue; background:pink; line-height:1.5\">Import required libraries</h2>"
   ]
  },
  {
   "cell_type": "code",
   "execution_count": 1,
   "metadata": {
    "id": "eMKo8YWgkQa7"
   },
   "outputs": [],
   "source": [
    "import pandas as pd\n",
    "import numpy as np\n",
    "import warnings\n",
    "warnings.filterwarnings('ignore')\n",
    "import seaborn as sns\n",
    "sns.set_style('darkgrid')\n",
    "import matplotlib.pyplot as plt"
   ]
  },
  {
   "cell_type": "markdown",
   "metadata": {
    "id": "trwoA6njhc2d"
   },
   "source": [
    "<h2 style=\"color:blue; background:pink; line-height:1.5\">Loading Dataset which has extracted features and Preprocessed</h2>"
   ]
  },
  {
   "cell_type": "markdown",
   "metadata": {
    "id": "WOnWl3nIRYA6"
   },
   "source": [
    "**Dataset link:** https://drive.google.com/file/d/1rxPJHAvSXzOPEpIqmaAsXvhJK8p4K4JN/view?usp=sharing\n",
    "\n",
    "**Preprocessed Dataset link:** https://drive.google.com/file/d/1gKfuAAzJRs-l-0ftJgb-NQj8-PQrLqtn/view?usp=sharing"
   ]
  },
  {
   "cell_type": "code",
   "execution_count": 2,
   "metadata": {
    "colab": {
     "base_uri": "https://localhost:8080/",
     "height": 646
    },
    "id": "3zwShP5bqHtd",
    "outputId": "574f448e-9db8-400d-aec0-76b1a068cd4c"
   },
   "outputs": [
    {
     "data": {
      "text/html": [
       "<div>\n",
       "<style scoped>\n",
       "    .dataframe tbody tr th:only-of-type {\n",
       "        vertical-align: middle;\n",
       "    }\n",
       "\n",
       "    .dataframe tbody tr th {\n",
       "        vertical-align: top;\n",
       "    }\n",
       "\n",
       "    .dataframe thead th {\n",
       "        text-align: right;\n",
       "    }\n",
       "</style>\n",
       "<table border=\"1\" class=\"dataframe\">\n",
       "  <thead>\n",
       "    <tr style=\"text-align: right;\">\n",
       "      <th></th>\n",
       "      <th>question1</th>\n",
       "      <th>question2</th>\n",
       "      <th>is_duplicate</th>\n",
       "      <th>que1_len</th>\n",
       "      <th>que2_len</th>\n",
       "      <th>que1_num_words</th>\n",
       "      <th>que2_num_words</th>\n",
       "      <th>total_words</th>\n",
       "      <th>common_words</th>\n",
       "      <th>shared_words</th>\n",
       "      <th>...</th>\n",
       "      <th>ctc_max</th>\n",
       "      <th>last_word_eq</th>\n",
       "      <th>first_word_eq</th>\n",
       "      <th>abs_len_diff</th>\n",
       "      <th>mean_len</th>\n",
       "      <th>long_substr_ratio</th>\n",
       "      <th>fuzz_ratio</th>\n",
       "      <th>fuzz_partial_ratio</th>\n",
       "      <th>token_sort_ratio</th>\n",
       "      <th>token_set_ratio</th>\n",
       "    </tr>\n",
       "  </thead>\n",
       "  <tbody>\n",
       "    <tr>\n",
       "      <th>0</th>\n",
       "      <td>what minor would complement a computer science...</td>\n",
       "      <td>what is a good minor that will compliment a co...</td>\n",
       "      <td>1</td>\n",
       "      <td>52</td>\n",
       "      <td>66</td>\n",
       "      <td>8</td>\n",
       "      <td>12</td>\n",
       "      <td>19</td>\n",
       "      <td>8</td>\n",
       "      <td>0.42</td>\n",
       "      <td>...</td>\n",
       "      <td>0.499996</td>\n",
       "      <td>1.0</td>\n",
       "      <td>1.0</td>\n",
       "      <td>4.0</td>\n",
       "      <td>10.0</td>\n",
       "      <td>0.547170</td>\n",
       "      <td>81</td>\n",
       "      <td>85</td>\n",
       "      <td>81</td>\n",
       "      <td>83</td>\n",
       "    </tr>\n",
       "    <tr>\n",
       "      <th>1</th>\n",
       "      <td>how can i materialize an idea</td>\n",
       "      <td>what is the best way to materialize on an idea</td>\n",
       "      <td>1</td>\n",
       "      <td>29</td>\n",
       "      <td>46</td>\n",
       "      <td>6</td>\n",
       "      <td>10</td>\n",
       "      <td>16</td>\n",
       "      <td>2</td>\n",
       "      <td>0.12</td>\n",
       "      <td>...</td>\n",
       "      <td>0.299997</td>\n",
       "      <td>1.0</td>\n",
       "      <td>0.0</td>\n",
       "      <td>4.0</td>\n",
       "      <td>8.0</td>\n",
       "      <td>0.433333</td>\n",
       "      <td>64</td>\n",
       "      <td>72</td>\n",
       "      <td>53</td>\n",
       "      <td>79</td>\n",
       "    </tr>\n",
       "    <tr>\n",
       "      <th>2</th>\n",
       "      <td>what was the happiest day of your life and why...</td>\n",
       "      <td>what was is will be the happiest day of your life</td>\n",
       "      <td>1</td>\n",
       "      <td>53</td>\n",
       "      <td>49</td>\n",
       "      <td>12</td>\n",
       "      <td>11</td>\n",
       "      <td>22</td>\n",
       "      <td>11</td>\n",
       "      <td>0.50</td>\n",
       "      <td>...</td>\n",
       "      <td>0.666661</td>\n",
       "      <td>0.0</td>\n",
       "      <td>1.0</td>\n",
       "      <td>1.0</td>\n",
       "      <td>11.5</td>\n",
       "      <td>0.600000</td>\n",
       "      <td>75</td>\n",
       "      <td>78</td>\n",
       "      <td>84</td>\n",
       "      <td>88</td>\n",
       "    </tr>\n",
       "    <tr>\n",
       "      <th>3</th>\n",
       "      <td>what role project manager has in agile projects</td>\n",
       "      <td>what is the role of project management in agil...</td>\n",
       "      <td>1</td>\n",
       "      <td>47</td>\n",
       "      <td>68</td>\n",
       "      <td>8</td>\n",
       "      <td>11</td>\n",
       "      <td>19</td>\n",
       "      <td>8</td>\n",
       "      <td>0.42</td>\n",
       "      <td>...</td>\n",
       "      <td>0.454541</td>\n",
       "      <td>0.0</td>\n",
       "      <td>1.0</td>\n",
       "      <td>3.0</td>\n",
       "      <td>9.5</td>\n",
       "      <td>0.312500</td>\n",
       "      <td>64</td>\n",
       "      <td>70</td>\n",
       "      <td>59</td>\n",
       "      <td>71</td>\n",
       "    </tr>\n",
       "    <tr>\n",
       "      <th>4</th>\n",
       "      <td>who will win in america presidential elections...</td>\n",
       "      <td>between trump and clinton who will win us pres...</td>\n",
       "      <td>1</td>\n",
       "      <td>54</td>\n",
       "      <td>63</td>\n",
       "      <td>9</td>\n",
       "      <td>10</td>\n",
       "      <td>18</td>\n",
       "      <td>8</td>\n",
       "      <td>0.44</td>\n",
       "      <td>...</td>\n",
       "      <td>0.399996</td>\n",
       "      <td>0.0</td>\n",
       "      <td>0.0</td>\n",
       "      <td>1.0</td>\n",
       "      <td>9.5</td>\n",
       "      <td>0.400000</td>\n",
       "      <td>60</td>\n",
       "      <td>77</td>\n",
       "      <td>65</td>\n",
       "      <td>68</td>\n",
       "    </tr>\n",
       "  </tbody>\n",
       "</table>\n",
       "<p>5 rows × 25 columns</p>\n",
       "</div>"
      ],
      "text/plain": [
       "                                           question1  \\\n",
       "0  what minor would complement a computer science...   \n",
       "1                      how can i materialize an idea   \n",
       "2  what was the happiest day of your life and why...   \n",
       "3    what role project manager has in agile projects   \n",
       "4  who will win in america presidential elections...   \n",
       "\n",
       "                                           question2  is_duplicate  que1_len  \\\n",
       "0  what is a good minor that will compliment a co...             1        52   \n",
       "1     what is the best way to materialize on an idea             1        29   \n",
       "2  what was is will be the happiest day of your life             1        53   \n",
       "3  what is the role of project management in agil...             1        47   \n",
       "4  between trump and clinton who will win us pres...             1        54   \n",
       "\n",
       "   que2_len  que1_num_words  que2_num_words  total_words  common_words  \\\n",
       "0        66               8              12           19             8   \n",
       "1        46               6              10           16             2   \n",
       "2        49              12              11           22            11   \n",
       "3        68               8              11           19             8   \n",
       "4        63               9              10           18             8   \n",
       "\n",
       "   shared_words  ...   ctc_max  last_word_eq  first_word_eq  abs_len_diff  \\\n",
       "0          0.42  ...  0.499996           1.0            1.0           4.0   \n",
       "1          0.12  ...  0.299997           1.0            0.0           4.0   \n",
       "2          0.50  ...  0.666661           0.0            1.0           1.0   \n",
       "3          0.42  ...  0.454541           0.0            1.0           3.0   \n",
       "4          0.44  ...  0.399996           0.0            0.0           1.0   \n",
       "\n",
       "   mean_len  long_substr_ratio  fuzz_ratio  fuzz_partial_ratio  \\\n",
       "0      10.0           0.547170          81                  85   \n",
       "1       8.0           0.433333          64                  72   \n",
       "2      11.5           0.600000          75                  78   \n",
       "3       9.5           0.312500          64                  70   \n",
       "4       9.5           0.400000          60                  77   \n",
       "\n",
       "   token_sort_ratio  token_set_ratio  \n",
       "0                81               83  \n",
       "1                53               79  \n",
       "2                84               88  \n",
       "3                59               71  \n",
       "4                65               68  \n",
       "\n",
       "[5 rows x 25 columns]"
      ]
     },
     "execution_count": 2,
     "metadata": {},
     "output_type": "execute_result"
    }
   ],
   "source": [
    "df=pd.read_csv('data/feat_extr_data.csv')\n",
    "df.head()"
   ]
  },
  {
   "cell_type": "markdown",
   "metadata": {
    "id": "gwsUc9uL3_AV"
   },
   "source": [
    "<h2 style=\"color:blue; background:pink; line-height:1.5\">Dataset information</h2>"
   ]
  },
  {
   "cell_type": "code",
   "execution_count": 3,
   "metadata": {
    "colab": {
     "base_uri": "https://localhost:8080/"
    },
    "id": "NVHK4gBmkQa8",
    "outputId": "f10d5cab-de6d-412f-9d7a-383d315dd38d"
   },
   "outputs": [
    {
     "data": {
      "text/plain": [
       "(49998, 25)"
      ]
     },
     "execution_count": 3,
     "metadata": {},
     "output_type": "execute_result"
    }
   ],
   "source": [
    "df.shape"
   ]
  },
  {
   "cell_type": "code",
   "execution_count": 4,
   "metadata": {
    "colab": {
     "base_uri": "https://localhost:8080/"
    },
    "id": "gE9zCHN74GIO",
    "outputId": "4bdd356e-14c5-46a0-ce49-dc62af98695d"
   },
   "outputs": [
    {
     "name": "stdout",
     "output_type": "stream",
     "text": [
      "<class 'pandas.core.frame.DataFrame'>\n",
      "RangeIndex: 49998 entries, 0 to 49997\n",
      "Data columns (total 25 columns):\n",
      " #   Column              Non-Null Count  Dtype  \n",
      "---  ------              --------------  -----  \n",
      " 0   question1           49998 non-null  object \n",
      " 1   question2           49998 non-null  object \n",
      " 2   is_duplicate        49998 non-null  int64  \n",
      " 3   que1_len            49998 non-null  int64  \n",
      " 4   que2_len            49998 non-null  int64  \n",
      " 5   que1_num_words      49998 non-null  int64  \n",
      " 6   que2_num_words      49998 non-null  int64  \n",
      " 7   total_words         49998 non-null  int64  \n",
      " 8   common_words        49998 non-null  int64  \n",
      " 9   shared_words        49998 non-null  float64\n",
      " 10  cwc_min             49998 non-null  float64\n",
      " 11  cwc_max             49998 non-null  float64\n",
      " 12  csc_min             49998 non-null  float64\n",
      " 13  csc_max             49998 non-null  float64\n",
      " 14  ctc_min             49998 non-null  float64\n",
      " 15  ctc_max             49998 non-null  float64\n",
      " 16  last_word_eq        49998 non-null  float64\n",
      " 17  first_word_eq       49998 non-null  float64\n",
      " 18  abs_len_diff        49998 non-null  float64\n",
      " 19  mean_len            49998 non-null  float64\n",
      " 20  long_substr_ratio   49998 non-null  float64\n",
      " 21  fuzz_ratio          49998 non-null  int64  \n",
      " 22  fuzz_partial_ratio  49998 non-null  int64  \n",
      " 23  token_sort_ratio    49998 non-null  int64  \n",
      " 24  token_set_ratio     49998 non-null  int64  \n",
      "dtypes: float64(12), int64(11), object(2)\n",
      "memory usage: 9.5+ MB\n"
     ]
    }
   ],
   "source": [
    "df.info()"
   ]
  },
  {
   "cell_type": "markdown",
   "metadata": {
    "id": "JzO9JYN34JNr"
   },
   "source": [
    "<h2 style=\"color:blue; background:pink; line-height:1.5\">Missing values</h2>"
   ]
  },
  {
   "cell_type": "code",
   "execution_count": 5,
   "metadata": {
    "colab": {
     "base_uri": "https://localhost:8080/"
    },
    "id": "rpP-K8lYqk8S",
    "outputId": "6465bc4c-3c39-4419-ad56-09f19f0c115d"
   },
   "outputs": [
    {
     "data": {
      "text/plain": [
       "question1             0\n",
       "question2             0\n",
       "is_duplicate          0\n",
       "que1_len              0\n",
       "que2_len              0\n",
       "que1_num_words        0\n",
       "que2_num_words        0\n",
       "total_words           0\n",
       "common_words          0\n",
       "shared_words          0\n",
       "cwc_min               0\n",
       "cwc_max               0\n",
       "csc_min               0\n",
       "csc_max               0\n",
       "ctc_min               0\n",
       "ctc_max               0\n",
       "last_word_eq          0\n",
       "first_word_eq         0\n",
       "abs_len_diff          0\n",
       "mean_len              0\n",
       "long_substr_ratio     0\n",
       "fuzz_ratio            0\n",
       "fuzz_partial_ratio    0\n",
       "token_sort_ratio      0\n",
       "token_set_ratio       0\n",
       "dtype: int64"
      ]
     },
     "execution_count": 5,
     "metadata": {},
     "output_type": "execute_result"
    }
   ],
   "source": [
    "df.isnull().sum()"
   ]
  },
  {
   "cell_type": "markdown",
   "metadata": {
    "id": "3JaViFSbRqkm"
   },
   "source": [
    "<h2 style=\"color:blue; background:pink; line-height:1.5\">Data Balance check</h2>"
   ]
  },
  {
   "cell_type": "code",
   "execution_count": 6,
   "metadata": {
    "colab": {
     "base_uri": "https://localhost:8080/",
     "height": 112
    },
    "id": "dlVNa9BuRtrU",
    "outputId": "5e4a7f1c-83e2-49d5-e1c1-080855662035"
   },
   "outputs": [
    {
     "data": {
      "text/html": [
       "<div>\n",
       "<style scoped>\n",
       "    .dataframe tbody tr th:only-of-type {\n",
       "        vertical-align: middle;\n",
       "    }\n",
       "\n",
       "    .dataframe tbody tr th {\n",
       "        vertical-align: top;\n",
       "    }\n",
       "\n",
       "    .dataframe thead th {\n",
       "        text-align: right;\n",
       "    }\n",
       "</style>\n",
       "<table border=\"1\" class=\"dataframe\">\n",
       "  <thead>\n",
       "    <tr style=\"text-align: right;\">\n",
       "      <th></th>\n",
       "      <th>Class</th>\n",
       "      <th>Count</th>\n",
       "      <th>Percentage</th>\n",
       "    </tr>\n",
       "  </thead>\n",
       "  <tbody>\n",
       "    <tr>\n",
       "      <th>0</th>\n",
       "      <td>1</td>\n",
       "      <td>25000</td>\n",
       "      <td>50.002</td>\n",
       "    </tr>\n",
       "    <tr>\n",
       "      <th>1</th>\n",
       "      <td>0</td>\n",
       "      <td>24998</td>\n",
       "      <td>49.998</td>\n",
       "    </tr>\n",
       "  </tbody>\n",
       "</table>\n",
       "</div>"
      ],
      "text/plain": [
       "   Class  Count  Percentage\n",
       "0      1  25000      50.002\n",
       "1      0  24998      49.998"
      ]
     },
     "execution_count": 6,
     "metadata": {},
     "output_type": "execute_result"
    }
   ],
   "source": [
    "class_balance=pd.DataFrame(df['is_duplicate'].value_counts()).reset_index()\n",
    "class_balance.columns=[\"Class\", \"Count\"]\n",
    "class_balance['Percentage']=(class_balance['Count']/df.shape[0])*100\n",
    "class_balance"
   ]
  },
  {
   "cell_type": "code",
   "execution_count": 7,
   "metadata": {
    "colab": {
     "base_uri": "https://localhost:8080/",
     "height": 526
    },
    "id": "2gedp0ryR1CG",
    "outputId": "cfbe7db5-a8ea-4145-d4a7-5e0cf11ccbcb"
   },
   "outputs": [
    {
     "data": {
      "image/png": "[encoded data removed]",
      "text/plain": [
       "<Figure size 432x432 with 1 Axes>"
      ]
     },
     "metadata": {},
     "output_type": "display_data"
    }
   ],
   "source": [
    "label=['Non-Duplicate', 'Duplicate'] \n",
    "color=sns.color_palette('rainbow')[4:6]\n",
    "plt.figure(figsize=(6,6))\n",
    "plt.pie(x=class_balance['Count'], labels=label, colors=color, autopct='%.0f%%' , labeldistance=0.5)\n",
    "plt.title(\"Count of Non-Duplicate and Duplicate questions\", fontsize=18, color='green');"
   ]
  },
  {
   "cell_type": "markdown",
   "metadata": {
    "id": "TASr03i5498_"
   },
   "source": [
    "<h2 style=\"color:blue; background:pink; line-height:1.5\">Input and output feaures</h2>"
   ]
  },
  {
   "cell_type": "code",
   "execution_count": 8,
   "metadata": {
    "colab": {
     "base_uri": "https://localhost:8080/"
    },
    "id": "kuhG3nL9kQa-",
    "outputId": "0d48815a-8f04-468a-edac-50e94eb289d0"
   },
   "outputs": [
    {
     "name": "stdout",
     "output_type": "stream",
     "text": [
      "(49998, 24) (49998,)\n"
     ]
    }
   ],
   "source": [
    "X=df.drop('is_duplicate', axis=1)\n",
    "y=df['is_duplicate']\n",
    "print(X.shape, y.shape)"
   ]
  },
  {
   "cell_type": "markdown",
   "metadata": {
    "id": "-SBbjF-pFKBM"
   },
   "source": [
    "<h2 style=\"color:blue; background:pink; line-height:1.5\">Import necessary libraries for creating one hot representation and Embedding layer</h2>"
   ]
  },
  {
   "cell_type": "code",
   "execution_count": 9,
   "metadata": {
    "colab": {
     "base_uri": "https://localhost:8080/",
     "height": 36
    },
    "id": "wu0OKMEDkQa_",
    "outputId": "abd0346a-9a82-4c23-c783-a74595b96e4b"
   },
   "outputs": [
    {
     "data": {
      "text/plain": [
       "'2.11.0'"
      ]
     },
     "execution_count": 9,
     "metadata": {},
     "output_type": "execute_result"
    }
   ],
   "source": [
    "import tensorflow as tf\n",
    "tf.__version__"
   ]
  },
  {
   "cell_type": "code",
   "execution_count": 10,
   "metadata": {
    "id": "s_Hrmau7kQbA"
   },
   "outputs": [],
   "source": [
    "from tensorflow.keras.layers import Embedding\n",
    "from tensorflow.keras.preprocessing.sequence import pad_sequences\n",
    "from tensorflow.keras.models import Sequential\n",
    "from tensorflow.keras.preprocessing.text import one_hot\n",
    "from tensorflow.keras.layers import LSTM, Dense"
   ]
  },
  {
   "cell_type": "markdown",
   "metadata": {
    "id": "5Js8VpKyif_D"
   },
   "source": [
    "<h2 style=\"color:blue; background:pink; line-height:1.5\">Seperate Extracted features and apply word embedding to Question1 and Question2 Seperately and while splitting train test concatenate extracted features.</h2>"
   ]
  },
  {
   "cell_type": "code",
   "execution_count": 11,
   "metadata": {
    "colab": {
     "base_uri": "https://localhost:8080/"
    },
    "id": "MNKSULwciylO",
    "outputId": "83e25b5a-2750-43d4-877e-bdda4e52d1da"
   },
   "outputs": [
    {
     "name": "stdout",
     "output_type": "stream",
     "text": [
      "['what minor would complement a computer science major', 'how can i materialize an idea']\n",
      "['what is a good minor that will compliment a computer science major', 'what is the best way to materialize on an idea']\n"
     ]
    }
   ],
   "source": [
    "questions1=list(X['question1'])\n",
    "questions2=list(X['question2'])\n",
    "print(questions1[:2])\n",
    "print(questions2[:2])"
   ]
  },
  {
   "cell_type": "code",
   "execution_count": 12,
   "metadata": {
    "colab": {
     "base_uri": "https://localhost:8080/",
     "height": 299
    },
    "id": "J91Jt-E1jHQM",
    "outputId": "1696ed97-0682-4505-f092-3d0b9b47852e"
   },
   "outputs": [
    {
     "data": {
      "text/html": [
       "<div>\n",
       "<style scoped>\n",
       "    .dataframe tbody tr th:only-of-type {\n",
       "        vertical-align: middle;\n",
       "    }\n",
       "\n",
       "    .dataframe tbody tr th {\n",
       "        vertical-align: top;\n",
       "    }\n",
       "\n",
       "    .dataframe thead th {\n",
       "        text-align: right;\n",
       "    }\n",
       "</style>\n",
       "<table border=\"1\" class=\"dataframe\">\n",
       "  <thead>\n",
       "    <tr style=\"text-align: right;\">\n",
       "      <th></th>\n",
       "      <th>que1_len</th>\n",
       "      <th>que2_len</th>\n",
       "      <th>que1_num_words</th>\n",
       "      <th>que2_num_words</th>\n",
       "      <th>total_words</th>\n",
       "      <th>common_words</th>\n",
       "      <th>shared_words</th>\n",
       "      <th>cwc_min</th>\n",
       "      <th>cwc_max</th>\n",
       "      <th>csc_min</th>\n",
       "      <th>...</th>\n",
       "      <th>ctc_max</th>\n",
       "      <th>last_word_eq</th>\n",
       "      <th>first_word_eq</th>\n",
       "      <th>abs_len_diff</th>\n",
       "      <th>mean_len</th>\n",
       "      <th>long_substr_ratio</th>\n",
       "      <th>fuzz_ratio</th>\n",
       "      <th>fuzz_partial_ratio</th>\n",
       "      <th>token_sort_ratio</th>\n",
       "      <th>token_set_ratio</th>\n",
       "    </tr>\n",
       "  </thead>\n",
       "  <tbody>\n",
       "    <tr>\n",
       "      <th>0</th>\n",
       "      <td>52</td>\n",
       "      <td>66</td>\n",
       "      <td>8</td>\n",
       "      <td>12</td>\n",
       "      <td>19</td>\n",
       "      <td>8</td>\n",
       "      <td>0.42</td>\n",
       "      <td>0.666656</td>\n",
       "      <td>0.666656</td>\n",
       "      <td>0.999950</td>\n",
       "      <td>...</td>\n",
       "      <td>0.499996</td>\n",
       "      <td>1.0</td>\n",
       "      <td>1.0</td>\n",
       "      <td>4.0</td>\n",
       "      <td>10.0</td>\n",
       "      <td>0.547170</td>\n",
       "      <td>81</td>\n",
       "      <td>85</td>\n",
       "      <td>81</td>\n",
       "      <td>83</td>\n",
       "    </tr>\n",
       "    <tr>\n",
       "      <th>1</th>\n",
       "      <td>29</td>\n",
       "      <td>46</td>\n",
       "      <td>6</td>\n",
       "      <td>10</td>\n",
       "      <td>16</td>\n",
       "      <td>2</td>\n",
       "      <td>0.12</td>\n",
       "      <td>0.999950</td>\n",
       "      <td>0.499988</td>\n",
       "      <td>0.249994</td>\n",
       "      <td>...</td>\n",
       "      <td>0.299997</td>\n",
       "      <td>1.0</td>\n",
       "      <td>0.0</td>\n",
       "      <td>4.0</td>\n",
       "      <td>8.0</td>\n",
       "      <td>0.433333</td>\n",
       "      <td>64</td>\n",
       "      <td>72</td>\n",
       "      <td>53</td>\n",
       "      <td>79</td>\n",
       "    </tr>\n",
       "    <tr>\n",
       "      <th>2</th>\n",
       "      <td>53</td>\n",
       "      <td>49</td>\n",
       "      <td>12</td>\n",
       "      <td>11</td>\n",
       "      <td>22</td>\n",
       "      <td>11</td>\n",
       "      <td>0.50</td>\n",
       "      <td>0.999967</td>\n",
       "      <td>0.999967</td>\n",
       "      <td>0.624992</td>\n",
       "      <td>...</td>\n",
       "      <td>0.666661</td>\n",
       "      <td>0.0</td>\n",
       "      <td>1.0</td>\n",
       "      <td>1.0</td>\n",
       "      <td>11.5</td>\n",
       "      <td>0.600000</td>\n",
       "      <td>75</td>\n",
       "      <td>78</td>\n",
       "      <td>84</td>\n",
       "      <td>88</td>\n",
       "    </tr>\n",
       "    <tr>\n",
       "      <th>3</th>\n",
       "      <td>47</td>\n",
       "      <td>68</td>\n",
       "      <td>8</td>\n",
       "      <td>11</td>\n",
       "      <td>19</td>\n",
       "      <td>8</td>\n",
       "      <td>0.42</td>\n",
       "      <td>0.599988</td>\n",
       "      <td>0.499992</td>\n",
       "      <td>0.666644</td>\n",
       "      <td>...</td>\n",
       "      <td>0.454541</td>\n",
       "      <td>0.0</td>\n",
       "      <td>1.0</td>\n",
       "      <td>3.0</td>\n",
       "      <td>9.5</td>\n",
       "      <td>0.312500</td>\n",
       "      <td>64</td>\n",
       "      <td>70</td>\n",
       "      <td>59</td>\n",
       "      <td>71</td>\n",
       "    </tr>\n",
       "    <tr>\n",
       "      <th>4</th>\n",
       "      <td>54</td>\n",
       "      <td>63</td>\n",
       "      <td>9</td>\n",
       "      <td>10</td>\n",
       "      <td>18</td>\n",
       "      <td>8</td>\n",
       "      <td>0.44</td>\n",
       "      <td>0.399992</td>\n",
       "      <td>0.333328</td>\n",
       "      <td>0.666644</td>\n",
       "      <td>...</td>\n",
       "      <td>0.399996</td>\n",
       "      <td>0.0</td>\n",
       "      <td>0.0</td>\n",
       "      <td>1.0</td>\n",
       "      <td>9.5</td>\n",
       "      <td>0.400000</td>\n",
       "      <td>60</td>\n",
       "      <td>77</td>\n",
       "      <td>65</td>\n",
       "      <td>68</td>\n",
       "    </tr>\n",
       "  </tbody>\n",
       "</table>\n",
       "<p>5 rows × 22 columns</p>\n",
       "</div>"
      ],
      "text/plain": [
       "   que1_len  que2_len  que1_num_words  que2_num_words  total_words  \\\n",
       "0        52        66               8              12           19   \n",
       "1        29        46               6              10           16   \n",
       "2        53        49              12              11           22   \n",
       "3        47        68               8              11           19   \n",
       "4        54        63               9              10           18   \n",
       "\n",
       "   common_words  shared_words   cwc_min   cwc_max   csc_min  ...   ctc_max  \\\n",
       "0             8          0.42  0.666656  0.666656  0.999950  ...  0.499996   \n",
       "1             2          0.12  0.999950  0.499988  0.249994  ...  0.299997   \n",
       "2            11          0.50  0.999967  0.999967  0.624992  ...  0.666661   \n",
       "3             8          0.42  0.599988  0.499992  0.666644  ...  0.454541   \n",
       "4             8          0.44  0.399992  0.333328  0.666644  ...  0.399996   \n",
       "\n",
       "   last_word_eq  first_word_eq  abs_len_diff  mean_len  long_substr_ratio  \\\n",
       "0           1.0            1.0           4.0      10.0           0.547170   \n",
       "1           1.0            0.0           4.0       8.0           0.433333   \n",
       "2           0.0            1.0           1.0      11.5           0.600000   \n",
       "3           0.0            1.0           3.0       9.5           0.312500   \n",
       "4           0.0            0.0           1.0       9.5           0.400000   \n",
       "\n",
       "   fuzz_ratio  fuzz_partial_ratio  token_sort_ratio  token_set_ratio  \n",
       "0          81                  85                81               83  \n",
       "1          64                  72                53               79  \n",
       "2          75                  78                84               88  \n",
       "3          64                  70                59               71  \n",
       "4          60                  77                65               68  \n",
       "\n",
       "[5 rows x 22 columns]"
      ]
     },
     "execution_count": 12,
     "metadata": {},
     "output_type": "execute_result"
    }
   ],
   "source": [
    "extracted_features=['que1_len', 'que2_len',\n",
    "       'que1_num_words', 'que2_num_words', 'total_words', 'common_words',\n",
    "       'shared_words', 'cwc_min', 'cwc_max', 'csc_min', 'csc_max', 'ctc_min',\n",
    "       'ctc_max', 'last_word_eq', 'first_word_eq', 'abs_len_diff', 'mean_len',\n",
    "       'long_substr_ratio', 'fuzz_ratio', 'fuzz_partial_ratio',\n",
    "       'token_sort_ratio', 'token_set_ratio']\n",
    "\n",
    "extracted_features=X[extracted_features]\n",
    "extracted_features[:5]"
   ]
  },
  {
   "cell_type": "markdown",
   "metadata": {
    "id": "0gCnp0hzkQbB"
   },
   "source": [
    "<h2 style=\"color:blue; background:pink; line-height:1.5\">Onehot Representation of corpus</h2>"
   ]
  },
  {
   "cell_type": "code",
   "execution_count": 13,
   "metadata": {
    "colab": {
     "base_uri": "https://localhost:8080/"
    },
    "id": "IX_kw5HSkQbC",
    "outputId": "9425070b-8b50-4b1f-e750-9c77d35c14b3"
   },
   "outputs": [
    {
     "name": "stdout",
     "output_type": "stream",
     "text": [
      "[[786798, 847368, 851600, 742914, 536193, 74896, 760774, 453240]]\n",
      "[[786798, 554008, 536193, 493213, 847368, 368225, 13684, 560368, 536193, 74896, 760774, 453240]]\n"
     ]
    }
   ],
   "source": [
    "voc_size=1000000\n",
    "onehot_representation1=[one_hot(words,voc_size)for words in questions1]\n",
    "onehot_representation2=[one_hot(words,voc_size)for words in questions2] \n",
    "print(onehot_representation1[:1])\n",
    "print(onehot_representation2[:1])"
   ]
  },
  {
   "cell_type": "code",
   "execution_count": 14,
   "metadata": {
    "colab": {
     "base_uri": "https://localhost:8080/"
    },
    "id": "TgcXQ40quCku",
    "outputId": "eae5dbd1-4875-43a0-eb06-68fda333f157"
   },
   "outputs": [
    {
     "name": "stdout",
     "output_type": "stream",
     "text": [
      "how can i materialize an idea\n",
      "[949749, 372004, 621832, 119357, 808650, 244068]\n",
      "what is the best way to materialize on an idea\n",
      "[786798, 554008, 117267, 397848, 908698, 571876, 119357, 636646, 808650, 244068]\n"
     ]
    }
   ],
   "source": [
    "print(questions1[1])\n",
    "print(onehot_representation1[1])\n",
    "print(questions2[1])\n",
    "print(onehot_representation2[1])"
   ]
  },
  {
   "cell_type": "code",
   "execution_count": 15,
   "metadata": {
    "colab": {
     "base_uri": "https://localhost:8080/"
    },
    "id": "HLqoVXm_HYvS",
    "outputId": "9cda9034-7029-4f88-a296-44c1973e1ee6"
   },
   "outputs": [
    {
     "name": "stdout",
     "output_type": "stream",
     "text": [
      "83\n",
      "128\n"
     ]
    }
   ],
   "source": [
    "tot_words_df1=pd.DataFrame(questions1)\n",
    "tot_words_df1.columns=['sentences']\n",
    "tot_words_df1['word_count']=tot_words_df1['sentences'].apply(lambda x: len(x.split(\" \")))\n",
    "print(tot_words_df1['word_count'].max())\n",
    "\n",
    "tot_words_df2=pd.DataFrame(questions2)\n",
    "tot_words_df2.columns=['sentences']\n",
    "tot_words_df2['word_count']=tot_words_df2['sentences'].apply(lambda x: len(x.split(\" \")))\n",
    "print(tot_words_df2['word_count'].max())"
   ]
  },
  {
   "cell_type": "markdown",
   "metadata": {
    "id": "ETWaMTy0JRHu"
   },
   "source": [
    "**Maximum words in our document is 128 so select maxlen parameter as 130**"
   ]
  },
  {
   "cell_type": "markdown",
   "metadata": {
    "id": "9RHWcCWQkQbD"
   },
   "source": [
    "<h2 style=\"color:blue; background:pink; line-height:1.5\">Word Embedding and padding</h2>"
   ]
  },
  {
   "cell_type": "code",
   "execution_count": 16,
   "metadata": {
    "colab": {
     "base_uri": "https://localhost:8080/"
    },
    "id": "-GTV29eMkQbD",
    "outputId": "5a5f60e9-0722-4e5e-c12f-192f13b1ff1f"
   },
   "outputs": [
    {
     "name": "stdout",
     "output_type": "stream",
     "text": [
      "[[786798 847368 851600 742914 536193  74896 760774 453240      0      0\n",
      "       0      0      0      0      0      0      0      0      0      0\n",
      "       0      0      0      0      0      0      0      0      0      0\n",
      "       0      0      0      0      0      0      0      0      0      0\n",
      "       0      0      0      0      0      0      0      0      0      0\n",
      "       0      0      0      0      0      0      0      0      0      0\n",
      "       0      0      0      0      0      0      0      0      0      0\n",
      "       0      0      0      0      0      0      0      0      0      0\n",
      "       0      0      0      0      0      0      0      0      0      0\n",
      "       0      0      0      0      0      0      0      0      0      0\n",
      "       0      0      0      0      0      0      0      0      0      0\n",
      "       0      0      0      0      0      0      0      0      0      0\n",
      "       0      0      0      0      0      0      0      0      0      0]]\n",
      "[[786798 554008 536193 493213 847368 368225  13684 560368 536193  74896\n",
      "  760774 453240      0      0      0      0      0      0      0      0\n",
      "       0      0      0      0      0      0      0      0      0      0\n",
      "       0      0      0      0      0      0      0      0      0      0\n",
      "       0      0      0      0      0      0      0      0      0      0\n",
      "       0      0      0      0      0      0      0      0      0      0\n",
      "       0      0      0      0      0      0      0      0      0      0\n",
      "       0      0      0      0      0      0      0      0      0      0\n",
      "       0      0      0      0      0      0      0      0      0      0\n",
      "       0      0      0      0      0      0      0      0      0      0\n",
      "       0      0      0      0      0      0      0      0      0      0\n",
      "       0      0      0      0      0      0      0      0      0      0\n",
      "       0      0      0      0      0      0      0      0      0      0]]\n"
     ]
    }
   ],
   "source": [
    "total_words_sentence=130\n",
    "embedded_document1=pad_sequences(onehot_representation1, padding='post', maxlen=total_words_sentence)\n",
    "embedded_document2=pad_sequences(onehot_representation2, padding='post', maxlen=total_words_sentence)\n",
    "print(embedded_document1[:1])\n",
    "print(embedded_document2[:1])"
   ]
  },
  {
   "cell_type": "code",
   "execution_count": 17,
   "metadata": {
    "colab": {
     "base_uri": "https://localhost:8080/"
    },
    "id": "CoflxkPAurrN",
    "outputId": "ae65e848-963a-453a-def2-582eef4a1bf9"
   },
   "outputs": [
    {
     "name": "stdout",
     "output_type": "stream",
     "text": [
      "how can i materialize an idea\n",
      "[949749, 372004, 621832, 119357, 808650, 244068]\n",
      "[949749 372004 621832 119357 808650 244068      0      0      0      0\n",
      "      0      0      0      0      0      0      0      0      0      0\n",
      "      0      0      0      0      0      0      0      0      0      0\n",
      "      0      0      0      0      0      0      0      0      0      0\n",
      "      0      0      0      0      0      0      0      0      0      0\n",
      "      0      0      0      0      0      0      0      0      0      0\n",
      "      0      0      0      0      0      0      0      0      0      0\n",
      "      0      0      0      0      0      0      0      0      0      0\n",
      "      0      0      0      0      0      0      0      0      0      0\n",
      "      0      0      0      0      0      0      0      0      0      0\n",
      "      0      0      0      0      0      0      0      0      0      0\n",
      "      0      0      0      0      0      0      0      0      0      0\n",
      "      0      0      0      0      0      0      0      0      0      0]\n",
      "------------------------------------------------------------\n",
      "what is the best way to materialize on an idea\n",
      "[786798, 554008, 117267, 397848, 908698, 571876, 119357, 636646, 808650, 244068]\n",
      "[786798 554008 117267 397848 908698 571876 119357 636646 808650 244068\n",
      "      0      0      0      0      0      0      0      0      0      0\n",
      "      0      0      0      0      0      0      0      0      0      0\n",
      "      0      0      0      0      0      0      0      0      0      0\n",
      "      0      0      0      0      0      0      0      0      0      0\n",
      "      0      0      0      0      0      0      0      0      0      0\n",
      "      0      0      0      0      0      0      0      0      0      0\n",
      "      0      0      0      0      0      0      0      0      0      0\n",
      "      0      0      0      0      0      0      0      0      0      0\n",
      "      0      0      0      0      0      0      0      0      0      0\n",
      "      0      0      0      0      0      0      0      0      0      0\n",
      "      0      0      0      0      0      0      0      0      0      0\n",
      "      0      0      0      0      0      0      0      0      0      0]\n"
     ]
    }
   ],
   "source": [
    "print(questions1[1])\n",
    "print(onehot_representation1[1])\n",
    "print(embedded_document1[1])\n",
    "print(\"--\"*30)\n",
    "print(questions2[1])\n",
    "print(onehot_representation2[1])\n",
    "print(embedded_document2[1])"
   ]
  },
  {
   "cell_type": "markdown",
   "metadata": {
    "id": "WRfVWOm3J6r_"
   },
   "source": [
    "<h2 style=\"color:blue; background:pink; line-height:1.5\">Finalizing input and output features</h2>"
   ]
  },
  {
   "cell_type": "code",
   "execution_count": 18,
   "metadata": {
    "colab": {
     "base_uri": "https://localhost:8080/"
    },
    "id": "7fOgV89qmvum",
    "outputId": "b15e04fa-96e6-4c8e-e45a-23207588c2be"
   },
   "outputs": [
    {
     "name": "stdout",
     "output_type": "stream",
     "text": [
      "(49998, 282) (49998,)\n"
     ]
    }
   ],
   "source": [
    "extracted_features_array=np.array(extracted_features)\n",
    "embedded_document_array=np.hstack((embedded_document1, embedded_document2))\n",
    "X_final=np.hstack((extracted_features_array, embedded_document_array))\n",
    "y_final=np.array(y)\n",
    "print(X_final.shape, y_final.shape)"
   ]
  },
  {
   "cell_type": "markdown",
   "metadata": {
    "id": "7iHbqzOeKRqo"
   },
   "source": [
    "<h2 style=\"color:blue; background:pink; line-height:1.5\">Train test split</h2>"
   ]
  },
  {
   "cell_type": "code",
   "execution_count": 19,
   "metadata": {
    "colab": {
     "base_uri": "https://localhost:8080/"
    },
    "id": "0e_yQ-jzKUnZ",
    "outputId": "33df40de-e43d-408a-ad3c-1a19499cd936"
   },
   "outputs": [
    {
     "name": "stdout",
     "output_type": "stream",
     "text": [
      "(39998, 282) (39998,) (10000, 282) (10000,)\n"
     ]
    }
   ],
   "source": [
    "from sklearn.model_selection import train_test_split\n",
    "x_train, x_test, y_train, y_test = train_test_split(X_final, y_final, test_size=0.2, random_state=42)\n",
    "print(x_train.shape, y_train.shape,x_test.shape,y_test.shape)"
   ]
  },
  {
   "cell_type": "markdown",
   "metadata": {
    "id": "rDj1UQJKKnR-"
   },
   "source": [
    "<h2 style=\"color:blue; background:pink; line-height:1.5\">Building model</h2>"
   ]
  },
  {
   "cell_type": "markdown",
   "metadata": {
    "id": "3O5ZCgEUQEHk"
   },
   "source": [
    "#### Parameters:\n",
    "- input_dim : Size of the vocabulary\n",
    "- output_dim : Length of the vector for each word\n",
    "- input_length : Maximum length of a sequence"
   ]
  },
  {
   "cell_type": "markdown",
   "metadata": {},
   "source": [
    "<h2 style=\"color:blue; background:pink; line-height:1.5\">Set Experiment<h2>"
   ]
  },
  {
   "cell_type": "code",
   "execution_count": 25,
   "metadata": {},
   "outputs": [
    {
     "name": "stderr",
     "output_type": "stream",
     "text": [
      "2023/06/03 10:32:41 INFO mlflow.tracking.fluent: Experiment with name 'Advance_approach_using_Word_Embedding' does not exist. Creating a new experiment.\n"
     ]
    },
    {
     "data": {
      "text/plain": [
       "<Experiment: artifact_location='file:///D:/DATA%20SCIENCE%20Internship%20with%20Innomatics/Final_%20Project_Quora_Question_Pair_Similarity/mlruns/873137812390974611', creation_time=1685768561198, experiment_id='873137812390974611', last_update_time=1685768561198, lifecycle_stage='active', name='Advance_approach_using_Word_Embedding', tags={}>"
      ]
     },
     "execution_count": 25,
     "metadata": {},
     "output_type": "execute_result"
    }
   ],
   "source": [
    "import mlflow\n",
    "mlflow.set_experiment(\"Advance_approach_using_Word_Embedding\")"
   ]
  },
  {
   "cell_type": "markdown",
   "metadata": {
    "id": "_INAemcqsZ00"
   },
   "source": [
    "<h2 style=\"color:blue; background:lightgreen; line-height:1\">1. Logistic Regression<h2>"
   ]
  },
  {
   "cell_type": "code",
   "execution_count": 27,
   "metadata": {},
   "outputs": [
    {
     "name": "stdout",
     "output_type": "stream",
     "text": [
      "----------------------------------------------------------\n",
      "Acuuracy=0.594\n",
      "Precission=0.5762040557667935\n",
      "Recall=0.7242134607726005\n",
      "F1 Score=0.6417857773072173\n",
      "----------------------------------------------------------\n",
      "Confusion Matrix=\n",
      "\n"
     ]
    },
    {
     "data": {
      "image/png": "[encoded data removed]",
      "text/plain": [
       "<Figure size 432x288 with 1 Axes>"
      ]
     },
     "metadata": {},
     "output_type": "display_data"
    },
    {
     "name": "stdout",
     "output_type": "stream",
     "text": [
      "----------------------------------------------------------\n",
      "Out of 10000 testing values 4060 are mis-classified.\n",
      "----------------------------------------------------------\n",
      "Classification Report=\n",
      "               precision    recall  f1-score   support\n",
      "\n",
      "           0       0.62      0.46      0.53      4978\n",
      "           1       0.58      0.72      0.64      5022\n",
      "\n",
      "    accuracy                           0.59     10000\n",
      "   macro avg       0.60      0.59      0.59     10000\n",
      "weighted avg       0.60      0.59      0.59     10000\n",
      "\n",
      "----------------------------------------------------------\n"
     ]
    }
   ],
   "source": [
    "from sklearn.linear_model import LogisticRegression\n",
    "from sklearn.metrics import classification_report, accuracy_score, recall_score, f1_score, precision_score, confusion_matrix\n",
    "import pickle\n",
    "with mlflow.start_run():\n",
    "    mlflow.set_tag(\"Owner\",\"Suraj H\")\n",
    "    mlflow.set_tag(\"Algorithm\", \"Logistic\")\n",
    "    \n",
    "    log_regression=LogisticRegression()\n",
    "    log_regression.fit(x_train,y_train)\n",
    "    #pickle.dump(log_regression, open(\"resources_simple_approach/logistic_regression.pkl\",\"wb\"))\n",
    "    \n",
    "    y_pred=log_regression.predict(x_test)\n",
    "    acc=accuracy_score(y_test,y_pred)\n",
    "    precision=precision_score(y_test,y_pred)\n",
    "    recall=recall_score(y_test,y_pred)\n",
    "    f1=f1_score(y_test,y_pred)\n",
    "    \n",
    "    print(\"----------------------------------------------------------\")\n",
    "    print(\"Acuuracy={}\\nPrecission={}\\nRecall={}\\nF1 Score={}\".format(acc, precision, recall, f1))\n",
    "    print(\"----------------------------------------------------------\")\n",
    "    print(\"Confusion Matrix=\\n\")\n",
    "    sns.heatmap(confusion_matrix(y_test,y_pred), annot=True, annot_kws={\"fontsize\":15}, linewidths=5, linecolor='blue',\n",
    "                yticklabels=[\"Non-Duplicate\",\"Duplicate\"], xticklabels=[\"Non-Duplicate\",\"Duplicate\"], cbar=None, fmt='g')\n",
    "    plt.xlabel(\"Predicted\",fontsize=18)\n",
    "    plt.ylabel(\"Actual\",fontsize=18)\n",
    "    plt.savefig(\"resources_advance_approach_word_embedding/log_reg_conf_matrix.png\")\n",
    "    plt.show()\n",
    "    print(\"----------------------------------------------------------\")\n",
    "    print(\"Out of {} testing values {} are mis-classified.\".format(y_test.shape[0], sum(y_test!=y_pred)))\n",
    "    print(\"----------------------------------------------------------\")\n",
    "    print(\"Classification Report=\\n\", classification_report(y_test,y_pred))\n",
    "    print(\"----------------------------------------------------------\")\n",
    "    \n",
    "    mlflow.log_metrics({\"Accuracy\":acc, \"Precision\":precision, \"Recall\":recall, \"F1 Score\":f1})\n",
    "    mlflow.sklearn.log_model(log_regression, artifact_path=\"models\")\n",
    "    mlflow.log_artifact(\"resources_advance_approach_word_embedding/log_reg_conf_matrix.png\")"
   ]
  },
  {
   "cell_type": "markdown",
   "metadata": {},
   "source": [
    "<h2 style=\"color:blue; background:lightgreen; line-height:1\">2. Naive Bayes<h2>"
   ]
  },
  {
   "cell_type": "code",
   "execution_count": 28,
   "metadata": {},
   "outputs": [
    {
     "name": "stdout",
     "output_type": "stream",
     "text": [
      "----------------------------------------------------------\n",
      "Acuuracy=0.52\n",
      "Precission=0.5113589848546869\n",
      "Recall=0.9950219036240542\n",
      "F1 Score=0.67554413951602\n",
      "----------------------------------------------------------\n",
      "Confusion Matrix=\n",
      "\n"
     ]
    },
    {
     "data": {
      "image/png": "[encoded data removed]",
      "text/plain": [
       "<Figure size 432x288 with 1 Axes>"
      ]
     },
     "metadata": {},
     "output_type": "display_data"
    },
    {
     "name": "stdout",
     "output_type": "stream",
     "text": [
      "----------------------------------------------------------\n",
      "Out of 10000 testing values 4800 are mis-classified.\n",
      "----------------------------------------------------------\n",
      "Classification Report=\n",
      "               precision    recall  f1-score   support\n",
      "\n",
      "           0       0.89      0.04      0.08      4978\n",
      "           1       0.51      1.00      0.68      5022\n",
      "\n",
      "    accuracy                           0.52     10000\n",
      "   macro avg       0.70      0.52      0.38     10000\n",
      "weighted avg       0.70      0.52      0.38     10000\n",
      "\n",
      "----------------------------------------------------------\n"
     ]
    }
   ],
   "source": [
    "from sklearn.naive_bayes import GaussianNB\n",
    "with mlflow.start_run():\n",
    "    mlflow.set_tag(\"Owner\",\"Suraj H\")\n",
    "    mlflow.set_tag(\"Algorithm\", \"Naive Bayes\")\n",
    "    \n",
    "    naive_classifier=GaussianNB()\n",
    "    naive_classifier.fit(x_train,y_train)\n",
    "    #pickle.dump(naive_classifier, open(\"resources_special _cases/naive.pkl\",\"wb\"))\n",
    "    \n",
    "    y_pred=naive_classifier.predict(x_test)\n",
    "    acc=accuracy_score(y_test,y_pred)\n",
    "    precision=precision_score(y_test,y_pred)\n",
    "    recall=recall_score(y_test,y_pred)\n",
    "    f1=f1_score(y_test,y_pred)\n",
    "    \n",
    "    print(\"----------------------------------------------------------\")\n",
    "    print(\"Acuuracy={}\\nPrecission={}\\nRecall={}\\nF1 Score={}\".format(acc, precision, recall, f1))\n",
    "    print(\"----------------------------------------------------------\")\n",
    "    print(\"Confusion Matrix=\\n\")\n",
    "    sns.heatmap(confusion_matrix(y_test,y_pred), annot=True, annot_kws={\"fontsize\":15}, linewidths=5, linecolor='blue',\n",
    "                yticklabels=[\"Non-Duplicate\",\"Duplicate\"], xticklabels=[\"Non-Duplicate\",\"Duplicate\"], cbar=None, fmt='g')\n",
    "    plt.xlabel(\"Predicted\",fontsize=18)\n",
    "    plt.ylabel(\"Actual\",fontsize=18)\n",
    "    plt.savefig(\"resources_advance_approach_word_embedding/naive_conf_matrix.png\")\n",
    "    plt.show()\n",
    "    print(\"----------------------------------------------------------\")\n",
    "    print(\"Out of {} testing values {} are mis-classified.\".format(y_test.shape[0], sum(y_test!=y_pred)))\n",
    "    print(\"----------------------------------------------------------\")\n",
    "    print(\"Classification Report=\\n\", classification_report(y_test,y_pred))\n",
    "    print(\"----------------------------------------------------------\")\n",
    "    \n",
    "    mlflow.log_metrics({\"Accuracy\":acc, \"Precision\":precision, \"Recall\":recall, \"F1 Score\":f1})\n",
    "    #mlflow.sklearn.log_model(naive_classifier, artifact_path=\"models\")\n",
    "    mlflow.log_artifact(\"resources_advance_approach_word_embedding/naive_conf_matrix.png\")"
   ]
  },
  {
   "cell_type": "markdown",
   "metadata": {},
   "source": [
    "<h2 style=\"color:blue; background:lightgreen; line-height:1\">3. Decision Tree</h2>"
   ]
  },
  {
   "cell_type": "code",
   "execution_count": 30,
   "metadata": {},
   "outputs": [
    {
     "name": "stdout",
     "output_type": "stream",
     "text": [
      "----------------------------------------------------------\n",
      "Acuuracy=0.6924\n",
      "Precission=0.6960902861749295\n",
      "Recall=0.6877737953006771\n",
      "F1 Score=0.6919070512820513\n",
      "----------------------------------------------------------\n",
      "Confusion Matrix=\n",
      "\n"
     ]
    },
    {
     "data": {
      "image/png": "[encoded data removed]",
      "text/plain": [
       "<Figure size 432x288 with 1 Axes>"
      ]
     },
     "metadata": {},
     "output_type": "display_data"
    },
    {
     "name": "stdout",
     "output_type": "stream",
     "text": [
      "----------------------------------------------------------\n",
      "Out of 10000 testing values 3076 are mis-classified.\n",
      "----------------------------------------------------------\n",
      "Classification Report=\n",
      "               precision    recall  f1-score   support\n",
      "\n",
      "           0       0.69      0.70      0.69      4978\n",
      "           1       0.70      0.69      0.69      5022\n",
      "\n",
      "    accuracy                           0.69     10000\n",
      "   macro avg       0.69      0.69      0.69     10000\n",
      "weighted avg       0.69      0.69      0.69     10000\n",
      "\n",
      "----------------------------------------------------------\n"
     ]
    }
   ],
   "source": [
    "from sklearn.tree import DecisionTreeClassifier\n",
    "from sklearn.metrics import classification_report, accuracy_score, recall_score, f1_score, precision_score, confusion_matrix\n",
    "import pickle\n",
    "with mlflow.start_run():\n",
    "    mlflow.set_tag(\"Owner\",\"Suraj H\")\n",
    "    mlflow.set_tag(\"Algorithm\", \"Decision Tree\")\n",
    "    \n",
    "    dt_classifier=DecisionTreeClassifier()\n",
    "    dt_classifier.fit(x_train,y_train)\n",
    "    #pickle.dump(dt_classifier, open(\"resources_advance_approach_with_TFIDF/decision_tree.pkl\",\"wb\"))\n",
    "    \n",
    "    y_pred=dt_classifier.predict(x_test)\n",
    "    acc=accuracy_score(y_test,y_pred)\n",
    "    precision=precision_score(y_test,y_pred)\n",
    "    recall=recall_score(y_test,y_pred)\n",
    "    f1=f1_score(y_test,y_pred)\n",
    "    \n",
    "    print(\"----------------------------------------------------------\")\n",
    "    print(\"Acuuracy={}\\nPrecission={}\\nRecall={}\\nF1 Score={}\".format(acc, precision, recall, f1))\n",
    "    print(\"----------------------------------------------------------\")\n",
    "    print(\"Confusion Matrix=\\n\")\n",
    "    sns.heatmap(confusion_matrix(y_test,y_pred), annot=True, annot_kws={\"fontsize\":15}, linewidths=5, linecolor='blue',\n",
    "                yticklabels=[\"Non-Duplicate\",\"Duplicate\"], xticklabels=[\"Non-Duplicate\",\"Duplicate\"], cbar=None, fmt='g')\n",
    "    plt.xlabel(\"Predicted\",fontsize=18)\n",
    "    plt.ylabel(\"Actual\",fontsize=18)\n",
    "    plt.savefig(\"resources_advance_approach_word_embedding/decision_tree_conf_matrix.png\")\n",
    "    plt.show()\n",
    "    print(\"----------------------------------------------------------\")\n",
    "    print(\"Out of {} testing values {} are mis-classified.\".format(y_test.shape[0], sum(y_test!=y_pred)))\n",
    "    print(\"----------------------------------------------------------\")\n",
    "    print(\"Classification Report=\\n\", classification_report(y_test,y_pred))\n",
    "    print(\"----------------------------------------------------------\")\n",
    "    \n",
    "    mlflow.log_metrics({\"Accuracy\":acc, \"Precision\":precision, \"Recall\":recall, \"F1 Score\":f1})\n",
    "    mlflow.sklearn.log_model(dt_classifier, artifact_path=\"models\")\n",
    "    mlflow.log_artifact(\"resources_advance_approach_word_embedding/decision_tree_conf_matrix.png\")"
   ]
  },
  {
   "cell_type": "markdown",
   "metadata": {},
   "source": [
    "<h2 style=\"color:blue; background:lightgreen; line-height:1\">4. Random Forest</h2>"
   ]
  },
  {
   "cell_type": "code",
   "execution_count": 34,
   "metadata": {},
   "outputs": [
    {
     "name": "stdout",
     "output_type": "stream",
     "text": [
      "----------------------------------------------------------\n",
      "Acuuracy=0.7736\n",
      "Precission=0.7303708653524892\n",
      "Recall=0.8705694942254082\n",
      "F1 Score=0.7943313953488372\n",
      "----------------------------------------------------------\n",
      "Confusion Matrix=\n",
      "\n"
     ]
    },
    {
     "data": {
      "image/png": "[encoded data removed]",
      "text/plain": [
       "<Figure size 432x288 with 1 Axes>"
      ]
     },
     "metadata": {},
     "output_type": "display_data"
    },
    {
     "name": "stdout",
     "output_type": "stream",
     "text": [
      "----------------------------------------------------------\n",
      "Out of 10000 testing values 2264 are mis-classified.\n",
      "----------------------------------------------------------\n",
      "Classification Report=\n",
      "               precision    recall  f1-score   support\n",
      "\n",
      "           0       0.84      0.68      0.75      4978\n",
      "           1       0.73      0.87      0.79      5022\n",
      "\n",
      "    accuracy                           0.77     10000\n",
      "   macro avg       0.78      0.77      0.77     10000\n",
      "weighted avg       0.78      0.77      0.77     10000\n",
      "\n",
      "----------------------------------------------------------\n"
     ]
    }
   ],
   "source": [
    "from sklearn.ensemble import RandomForestClassifier\n",
    "from sklearn.metrics import classification_report, accuracy_score, recall_score, f1_score, precision_score, confusion_matrix\n",
    "import pickle\n",
    "with mlflow.start_run():\n",
    "    mlflow.set_tag(\"Owner\",\"Suraj H\")\n",
    "    mlflow.set_tag(\"Algorithm\", \"Random Forest\")\n",
    "    \n",
    "    rf_classifier=RandomForestClassifier()\n",
    "    rf_classifier.fit(x_train,y_train)\n",
    "    #pickle.dump(rf_classifier, open(\"resources_advance_approach_with_TFIDF/random_forest.pkl\",\"wb\"))\n",
    "    \n",
    "    y_pred=rf_classifier.predict(x_test)\n",
    "    acc=accuracy_score(y_test,y_pred)\n",
    "    precision=precision_score(y_test,y_pred)\n",
    "    recall=recall_score(y_test,y_pred)\n",
    "    f1=f1_score(y_test,y_pred)\n",
    "    \n",
    "    print(\"----------------------------------------------------------\")\n",
    "    print(\"Acuuracy={}\\nPrecission={}\\nRecall={}\\nF1 Score={}\".format(acc, precision, recall, f1))\n",
    "    print(\"----------------------------------------------------------\")\n",
    "    print(\"Confusion Matrix=\\n\")\n",
    "    sns.heatmap(confusion_matrix(y_test,y_pred), annot=True, annot_kws={\"fontsize\":15}, linewidths=5, linecolor='blue',\n",
    "                yticklabels=[\"Non-Duplicate\",\"Duplicate\"], xticklabels=[\"Non-Duplicate\",\"Duplicate\"], cbar=None, fmt='g')\n",
    "    plt.xlabel(\"Predicted\",fontsize=18)\n",
    "    plt.ylabel(\"Actual\",fontsize=18)\n",
    "    plt.savefig(\"resources_advance_approach_word_embedding/random_forest_conf_matrix.png\")\n",
    "    plt.show()\n",
    "    print(\"----------------------------------------------------------\")\n",
    "    print(\"Out of {} testing values {} are mis-classified.\".format(y_test.shape[0], sum(y_test!=y_pred)))\n",
    "    print(\"----------------------------------------------------------\")\n",
    "    print(\"Classification Report=\\n\", classification_report(y_test,y_pred))\n",
    "    print(\"----------------------------------------------------------\")\n",
    "    \n",
    "    mlflow.log_metrics({\"Accuracy\":acc, \"Precision\":precision, \"Recall\":recall, \"F1 Score\":f1})\n",
    "    #mlflow.sklearn.log_model(rf_classifier, artifact_path=\"models\")\n",
    "    mlflow.log_artifact(\"resources_advance_approach_word_embedding/random_forest_conf_matrix.png\")"
   ]
  },
  {
   "cell_type": "markdown",
   "metadata": {},
   "source": [
    "<h2 style=\"color:blue; background:lightgreen; line-height:1\">5. Gradient Boosting</h2>"
   ]
  },
  {
   "cell_type": "code",
   "execution_count": 32,
   "metadata": {},
   "outputs": [
    {
     "name": "stdout",
     "output_type": "stream",
     "text": [
      "----------------------------------------------------------\n",
      "Acuuracy=0.7605\n",
      "Precission=0.7062333176322814\n",
      "Recall=0.8956590999601752\n",
      "F1 Score=0.7897462909314372\n",
      "----------------------------------------------------------\n",
      "Confusion Matrix=\n",
      "\n"
     ]
    },
    {
     "data": {
      "image/png": "[encoded data removed]",
      "text/plain": [
       "<Figure size 432x288 with 1 Axes>"
      ]
     },
     "metadata": {},
     "output_type": "display_data"
    },
    {
     "name": "stdout",
     "output_type": "stream",
     "text": [
      "----------------------------------------------------------\n",
      "Out of 10000 testing values 2395 are mis-classified.\n",
      "----------------------------------------------------------\n",
      "Classification Report=\n",
      "               precision    recall  f1-score   support\n",
      "\n",
      "           0       0.86      0.62      0.72      4978\n",
      "           1       0.71      0.90      0.79      5022\n",
      "\n",
      "    accuracy                           0.76     10000\n",
      "   macro avg       0.78      0.76      0.76     10000\n",
      "weighted avg       0.78      0.76      0.76     10000\n",
      "\n",
      "----------------------------------------------------------\n"
     ]
    }
   ],
   "source": [
    "from sklearn.ensemble import GradientBoostingClassifier\n",
    "with mlflow.start_run():\n",
    "    mlflow.set_tag(\"Owner\",\"Suraj H\")\n",
    "    mlflow.set_tag(\"Algorithm\", \"Gradient Boost\")\n",
    "    \n",
    "    gb_classifier=GradientBoostingClassifier()\n",
    "    gb_classifier.fit(x_train,y_train)\n",
    "    #pickle.dump(gb_classifier, open(\"resources_advance_approach_with_TFIDF/gradient_boostig.pkl\",\"wb\"))\n",
    "    \n",
    "    y_pred=gb_classifier.predict(x_test)\n",
    "    acc=accuracy_score(y_test,y_pred)\n",
    "    precision=precision_score(y_test,y_pred)\n",
    "    recall=recall_score(y_test,y_pred)\n",
    "    f1=f1_score(y_test,y_pred)\n",
    "    \n",
    "    print(\"----------------------------------------------------------\")\n",
    "    print(\"Acuuracy={}\\nPrecission={}\\nRecall={}\\nF1 Score={}\".format(acc, precision, recall, f1))\n",
    "    print(\"----------------------------------------------------------\")\n",
    "    print(\"Confusion Matrix=\\n\")\n",
    "    sns.heatmap(confusion_matrix(y_test,y_pred), annot=True, annot_kws={\"fontsize\":15}, linewidths=5, linecolor='blue',\n",
    "                yticklabels=[\"Non-Duplicate\",\"Duplicate\"], xticklabels=[\"Non-Duplicate\",\"Duplicate\"], cbar=None, fmt='g')\n",
    "    plt.xlabel(\"Predicted\",fontsize=18)\n",
    "    plt.ylabel(\"Actual\",fontsize=18)\n",
    "    plt.savefig(\"resources_advance_approach_word_embedding/gradient_boost_conf_matrix.png\")\n",
    "    plt.show()\n",
    "    print(\"----------------------------------------------------------\")\n",
    "    print(\"Out of {} testing values {} are mis-classified.\".format(y_test.shape[0], sum(y_test!=y_pred)))\n",
    "    print(\"----------------------------------------------------------\")\n",
    "    print(\"Classification Report=\\n\", classification_report(y_test,y_pred))\n",
    "    print(\"----------------------------------------------------------\")\n",
    "    \n",
    "    mlflow.log_metrics({\"Accuracy\":acc, \"Precision\":precision, \"Recall\":recall, \"F1 Score\":f1})\n",
    "    #mlflow.sklearn.log_model(gb_classifier, artifact_path=\"models\")\n",
    "    mlflow.log_artifact(\"resources_advance_approach_word_embedding/gradient_boost_conf_matrix.png\")"
   ]
  },
  {
   "cell_type": "markdown",
   "metadata": {},
   "source": [
    "<h2 style=\"color:blue; background:lightgreen; line-height:1\">6. Ada Boost</h2>"
   ]
  },
  {
   "cell_type": "code",
   "execution_count": 33,
   "metadata": {},
   "outputs": [
    {
     "name": "stdout",
     "output_type": "stream",
     "text": [
      "----------------------------------------------------------\n",
      "Acuuracy=0.7411\n",
      "Precission=0.6968128134606051\n",
      "Recall=0.857626443647949\n",
      "F1 Score=0.7689011871820048\n",
      "----------------------------------------------------------\n",
      "Confusion Matrix=\n",
      "\n"
     ]
    },
    {
     "data": {
      "image/png": "[encoded data removed]",
      "text/plain": [
       "<Figure size 432x288 with 1 Axes>"
      ]
     },
     "metadata": {},
     "output_type": "display_data"
    },
    {
     "name": "stdout",
     "output_type": "stream",
     "text": [
      "----------------------------------------------------------\n",
      "Out of 10000 testing values 2589 are mis-classified.\n",
      "----------------------------------------------------------\n",
      "Classification Report=\n",
      "               precision    recall  f1-score   support\n",
      "\n",
      "           0       0.81      0.62      0.71      4978\n",
      "           1       0.70      0.86      0.77      5022\n",
      "\n",
      "    accuracy                           0.74     10000\n",
      "   macro avg       0.75      0.74      0.74     10000\n",
      "weighted avg       0.75      0.74      0.74     10000\n",
      "\n",
      "----------------------------------------------------------\n"
     ]
    }
   ],
   "source": [
    "from sklearn.ensemble import AdaBoostClassifier\n",
    "with mlflow.start_run():\n",
    "    mlflow.set_tag(\"Owner\",\"Suraj H\")\n",
    "    mlflow.set_tag(\"Algorithm\", \"Ada Boost\")\n",
    "    \n",
    "    ada_classifier=AdaBoostClassifier()\n",
    "    ada_classifier.fit(x_train,y_train)\n",
    "    #pickle.dump(ada_classifier, open(\"resources_advance_approach_with_TFIDF/ada_boosting.pkl\",\"wb\"))\n",
    "    \n",
    "    y_pred=ada_classifier.predict(x_test)\n",
    "    acc=accuracy_score(y_test,y_pred)\n",
    "    precision=precision_score(y_test,y_pred)\n",
    "    recall=recall_score(y_test,y_pred)\n",
    "    f1=f1_score(y_test,y_pred)\n",
    "    \n",
    "    print(\"----------------------------------------------------------\")\n",
    "    print(\"Acuuracy={}\\nPrecission={}\\nRecall={}\\nF1 Score={}\".format(acc, precision, recall, f1))\n",
    "    print(\"----------------------------------------------------------\")\n",
    "    print(\"Confusion Matrix=\\n\")\n",
    "    sns.heatmap(confusion_matrix(y_test,y_pred), annot=True, annot_kws={\"fontsize\":15}, linewidths=5, linecolor='blue',\n",
    "                yticklabels=[\"Non-Duplicate\",\"Duplicate\"], xticklabels=[\"Non-Duplicate\",\"Duplicate\"], cbar=None, fmt='g')\n",
    "    plt.xlabel(\"Predicted\",fontsize=18)\n",
    "    plt.ylabel(\"Actual\",fontsize=18)\n",
    "    plt.savefig(\"resources_advance_approach_word_embedding/ada_boost_conf_matrix.png\")\n",
    "    plt.show()\n",
    "    print(\"----------------------------------------------------------\")\n",
    "    print(\"Out of {} testing values {} are mis-classified.\".format(y_test.shape[0], sum(y_test!=y_pred)))\n",
    "    print(\"----------------------------------------------------------\")\n",
    "    print(\"Classification Report=\\n\", classification_report(y_test,y_pred))\n",
    "    print(\"----------------------------------------------------------\")\n",
    "    \n",
    "    mlflow.log_metrics({\"Accuracy\":acc, \"Precision\":precision, \"Recall\":recall, \"F1 Score\":f1})\n",
    "    mlflow.sklearn.log_model(ada_classifier, artifact_path=\"models\")\n",
    "    mlflow.log_artifact(\"resources_advance_approach_word_embedding/ada_boost_conf_matrix.png\")"
   ]
  },
  {
   "cell_type": "markdown",
   "metadata": {},
   "source": [
    "<h2 style=\"color:blue; background:lightgreen; line-height:1\">7. XG Boost</h2>"
   ]
  },
  {
   "cell_type": "code",
   "execution_count": 31,
   "metadata": {},
   "outputs": [
    {
     "name": "stdout",
     "output_type": "stream",
     "text": [
      "----------------------------------------------------------\n",
      "Acuuracy=0.7795\n",
      "Precission=0.7452550931568866\n",
      "Recall=0.8522500995619275\n",
      "F1 Score=0.7951695308871342\n",
      "----------------------------------------------------------\n",
      "Confusion Matrix=\n",
      "\n"
     ]
    },
    {
     "data": {
      "image/png": "[encoded data removed]",
      "text/plain": [
       "<Figure size 432x288 with 1 Axes>"
      ]
     },
     "metadata": {},
     "output_type": "display_data"
    },
    {
     "name": "stdout",
     "output_type": "stream",
     "text": [
      "----------------------------------------------------------\n",
      "Out of 10000 testing values 2205 are mis-classified.\n",
      "----------------------------------------------------------\n",
      "Classification Report=\n",
      "               precision    recall  f1-score   support\n",
      "\n",
      "           0       0.83      0.71      0.76      4978\n",
      "           1       0.75      0.85      0.80      5022\n",
      "\n",
      "    accuracy                           0.78     10000\n",
      "   macro avg       0.79      0.78      0.78     10000\n",
      "weighted avg       0.79      0.78      0.78     10000\n",
      "\n",
      "----------------------------------------------------------\n"
     ]
    }
   ],
   "source": [
    "from xgboost import XGBClassifier\n",
    "from sklearn.metrics import classification_report, accuracy_score, recall_score, f1_score, precision_score, confusion_matrix\n",
    "import pickle\n",
    "with mlflow.start_run():\n",
    "    mlflow.set_tag(\"Owner\",\"Suraj H\")\n",
    "    mlflow.set_tag(\"Algorithm\", \"XG Boost\")\n",
    "    \n",
    "    xgb_classifier=XGBClassifier()\n",
    "    xgb_classifier.fit(x_train,y_train)\n",
    "    #pickle.dump(xgb_classifier, open(\"resources_simple_approach/xgboost.pkl\",\"wb\"))\n",
    "    \n",
    "    y_pred=xgb_classifier.predict(x_test)\n",
    "    acc=accuracy_score(y_test,y_pred)\n",
    "    precision=precision_score(y_test,y_pred)\n",
    "    recall=recall_score(y_test,y_pred)\n",
    "    f1=f1_score(y_test,y_pred)\n",
    "    \n",
    "    print(\"----------------------------------------------------------\")\n",
    "    print(\"Acuuracy={}\\nPrecission={}\\nRecall={}\\nF1 Score={}\".format(acc, precision, recall, f1))\n",
    "    print(\"----------------------------------------------------------\")\n",
    "    print(\"Confusion Matrix=\\n\")\n",
    "    sns.heatmap(confusion_matrix(y_test,y_pred), annot=True, annot_kws={\"fontsize\":15}, linewidths=5, linecolor='blue',\n",
    "                yticklabels=[\"Non-Duplicate\",\"Duplicate\"], xticklabels=[\"Non-Duplicate\",\"Duplicate\"], cbar=None, fmt='g')\n",
    "    plt.xlabel(\"Predicted\",fontsize=18)\n",
    "    plt.ylabel(\"Actual\",fontsize=18)\n",
    "    plt.savefig(\"resources_advance_approach_word_embedding/xgboost_conf_matrix.png\")\n",
    "    plt.show()\n",
    "    print(\"----------------------------------------------------------\")\n",
    "    print(\"Out of {} testing values {} are mis-classified.\".format(y_test.shape[0], sum(y_test!=y_pred)))\n",
    "    print(\"----------------------------------------------------------\")\n",
    "    print(\"Classification Report=\\n\", classification_report(y_test,y_pred))\n",
    "    print(\"----------------------------------------------------------\")\n",
    "    \n",
    "    mlflow.log_metrics({\"Accuracy\":acc, \"Precision\":precision, \"Recall\":recall, \"F1 Score\":f1})\n",
    "    #mlflow.sklearn.log_model(xgb_classifier, artifact_path=\"models\")\n",
    "    mlflow.log_artifact(\"resources_advance_approach_word_embedding/xgboost_conf_matrix.png\")"
   ]
  },
  {
   "cell_type": "markdown",
   "metadata": {},
   "source": [
    "### Inference:\n",
    " **Accuracy of XG Boost model is high(78%).**"
   ]
  },
  {
   "cell_type": "code",
   "execution_count": null,
   "metadata": {},
   "outputs": [],
   "source": []
  }
 ],
 "metadata": {
  "accelerator": "GPU",
  "colab": {
   "provenance": []
  },
  "gpuClass": "standard",
  "kernelspec": {
   "display_name": "Python 3 (ipykernel)",
   "language": "python",
   "name": "python3"
  },
  "language_info": {
   "codemirror_mode": {
    "name": "ipython",
    "version": 3
   },
   "file_extension": ".py",
   "mimetype": "text/x-python",
   "name": "python",
   "nbconvert_exporter": "python",
   "pygments_lexer": "ipython3",
   "version": "3.9.7"
  }
 },
 "nbformat": 4,
 "nbformat_minor": 1
}
