{
 "cells": [
  {
   "cell_type": "markdown",
   "metadata": {},
   "source": [
    "<h1 style=\"color:blue; background:lightblue; line-height:1.5; text-align:center\">* Quora Question Pair Similarity using Glove\n",
    "    and ML Models*</h1>"
   ]
  },
  {
   "cell_type": "markdown",
   "metadata": {
    "id": "VHwRS2YE3iN8"
   },
   "source": [
    "<h2 style=\"color:blue; background:pink; line-height:1.5\">Import required libraries</h2>"
   ]
  },
  {
   "cell_type": "code",
   "execution_count": 1,
   "metadata": {
    "id": "eMKo8YWgkQa7"
   },
   "outputs": [],
   "source": [
    "import pandas as pd\n",
    "import numpy as np\n",
    "import warnings\n",
    "warnings.filterwarnings('ignore')\n",
    "import seaborn as sns\n",
    "sns.set_style('darkgrid')\n",
    "import matplotlib.pyplot as plt"
   ]
  },
  {
   "cell_type": "markdown",
   "metadata": {
    "id": "trwoA6njhc2d"
   },
   "source": [
    "<h2 style=\"color:blue; background:pink; line-height:1.5\">Loading Dataset which has extracted features and Preprocessed</h2>"
   ]
  },
  {
   "cell_type": "markdown",
   "metadata": {
    "id": "WOnWl3nIRYA6"
   },
   "source": [
    "**Dataset link:** https://drive.google.com/file/d/1rxPJHAvSXzOPEpIqmaAsXvhJK8p4K4JN/view?usp=sharing\n",
    "\n",
    "**Preprocessed Dataset link:** https://drive.google.com/file/d/1gKfuAAzJRs-l-0ftJgb-NQj8-PQrLqtn/view?usp=sharing"
   ]
  },
  {
   "cell_type": "code",
   "execution_count": 2,
   "metadata": {
    "colab": {
     "base_uri": "https://localhost:8080/",
     "height": 646
    },
    "id": "3zwShP5bqHtd",
    "outputId": "574f448e-9db8-400d-aec0-76b1a068cd4c"
   },
   "outputs": [
    {
     "data": {
      "text/html": [
       "<div>\n",
       "<style scoped>\n",
       "    .dataframe tbody tr th:only-of-type {\n",
       "        vertical-align: middle;\n",
       "    }\n",
       "\n",
       "    .dataframe tbody tr th {\n",
       "        vertical-align: top;\n",
       "    }\n",
       "\n",
       "    .dataframe thead th {\n",
       "        text-align: right;\n",
       "    }\n",
       "</style>\n",
       "<table border=\"1\" class=\"dataframe\">\n",
       "  <thead>\n",
       "    <tr style=\"text-align: right;\">\n",
       "      <th></th>\n",
       "      <th>question1</th>\n",
       "      <th>question2</th>\n",
       "      <th>is_duplicate</th>\n",
       "      <th>que1_len</th>\n",
       "      <th>que2_len</th>\n",
       "      <th>que1_num_words</th>\n",
       "      <th>que2_num_words</th>\n",
       "      <th>total_words</th>\n",
       "      <th>common_words</th>\n",
       "      <th>shared_words</th>\n",
       "      <th>...</th>\n",
       "      <th>ctc_max</th>\n",
       "      <th>last_word_eq</th>\n",
       "      <th>first_word_eq</th>\n",
       "      <th>abs_len_diff</th>\n",
       "      <th>mean_len</th>\n",
       "      <th>long_substr_ratio</th>\n",
       "      <th>fuzz_ratio</th>\n",
       "      <th>fuzz_partial_ratio</th>\n",
       "      <th>token_sort_ratio</th>\n",
       "      <th>token_set_ratio</th>\n",
       "    </tr>\n",
       "  </thead>\n",
       "  <tbody>\n",
       "    <tr>\n",
       "      <th>0</th>\n",
       "      <td>what minor would complement a computer science...</td>\n",
       "      <td>what is a good minor that will compliment a co...</td>\n",
       "      <td>1</td>\n",
       "      <td>52</td>\n",
       "      <td>66</td>\n",
       "      <td>8</td>\n",
       "      <td>12</td>\n",
       "      <td>19</td>\n",
       "      <td>8</td>\n",
       "      <td>0.42</td>\n",
       "      <td>...</td>\n",
       "      <td>0.499996</td>\n",
       "      <td>1.0</td>\n",
       "      <td>1.0</td>\n",
       "      <td>4.0</td>\n",
       "      <td>10.0</td>\n",
       "      <td>0.547170</td>\n",
       "      <td>81</td>\n",
       "      <td>85</td>\n",
       "      <td>81</td>\n",
       "      <td>83</td>\n",
       "    </tr>\n",
       "    <tr>\n",
       "      <th>1</th>\n",
       "      <td>how can i materialize an idea</td>\n",
       "      <td>what is the best way to materialize on an idea</td>\n",
       "      <td>1</td>\n",
       "      <td>29</td>\n",
       "      <td>46</td>\n",
       "      <td>6</td>\n",
       "      <td>10</td>\n",
       "      <td>16</td>\n",
       "      <td>2</td>\n",
       "      <td>0.12</td>\n",
       "      <td>...</td>\n",
       "      <td>0.299997</td>\n",
       "      <td>1.0</td>\n",
       "      <td>0.0</td>\n",
       "      <td>4.0</td>\n",
       "      <td>8.0</td>\n",
       "      <td>0.433333</td>\n",
       "      <td>64</td>\n",
       "      <td>72</td>\n",
       "      <td>53</td>\n",
       "      <td>79</td>\n",
       "    </tr>\n",
       "    <tr>\n",
       "      <th>2</th>\n",
       "      <td>what was the happiest day of your life and why...</td>\n",
       "      <td>what was is will be the happiest day of your life</td>\n",
       "      <td>1</td>\n",
       "      <td>53</td>\n",
       "      <td>49</td>\n",
       "      <td>12</td>\n",
       "      <td>11</td>\n",
       "      <td>22</td>\n",
       "      <td>11</td>\n",
       "      <td>0.50</td>\n",
       "      <td>...</td>\n",
       "      <td>0.666661</td>\n",
       "      <td>0.0</td>\n",
       "      <td>1.0</td>\n",
       "      <td>1.0</td>\n",
       "      <td>11.5</td>\n",
       "      <td>0.600000</td>\n",
       "      <td>75</td>\n",
       "      <td>78</td>\n",
       "      <td>84</td>\n",
       "      <td>88</td>\n",
       "    </tr>\n",
       "    <tr>\n",
       "      <th>3</th>\n",
       "      <td>what role project manager has in agile projects</td>\n",
       "      <td>what is the role of project management in agil...</td>\n",
       "      <td>1</td>\n",
       "      <td>47</td>\n",
       "      <td>68</td>\n",
       "      <td>8</td>\n",
       "      <td>11</td>\n",
       "      <td>19</td>\n",
       "      <td>8</td>\n",
       "      <td>0.42</td>\n",
       "      <td>...</td>\n",
       "      <td>0.454541</td>\n",
       "      <td>0.0</td>\n",
       "      <td>1.0</td>\n",
       "      <td>3.0</td>\n",
       "      <td>9.5</td>\n",
       "      <td>0.312500</td>\n",
       "      <td>64</td>\n",
       "      <td>70</td>\n",
       "      <td>59</td>\n",
       "      <td>71</td>\n",
       "    </tr>\n",
       "    <tr>\n",
       "      <th>4</th>\n",
       "      <td>who will win in america presidential elections...</td>\n",
       "      <td>between trump and clinton who will win us pres...</td>\n",
       "      <td>1</td>\n",
       "      <td>54</td>\n",
       "      <td>63</td>\n",
       "      <td>9</td>\n",
       "      <td>10</td>\n",
       "      <td>18</td>\n",
       "      <td>8</td>\n",
       "      <td>0.44</td>\n",
       "      <td>...</td>\n",
       "      <td>0.399996</td>\n",
       "      <td>0.0</td>\n",
       "      <td>0.0</td>\n",
       "      <td>1.0</td>\n",
       "      <td>9.5</td>\n",
       "      <td>0.400000</td>\n",
       "      <td>60</td>\n",
       "      <td>77</td>\n",
       "      <td>65</td>\n",
       "      <td>68</td>\n",
       "    </tr>\n",
       "  </tbody>\n",
       "</table>\n",
       "<p>5 rows × 25 columns</p>\n",
       "</div>"
      ],
      "text/plain": [
       "                                           question1  \\\n",
       "0  what minor would complement a computer science...   \n",
       "1                      how can i materialize an idea   \n",
       "2  what was the happiest day of your life and why...   \n",
       "3    what role project manager has in agile projects   \n",
       "4  who will win in america presidential elections...   \n",
       "\n",
       "                                           question2  is_duplicate  que1_len  \\\n",
       "0  what is a good minor that will compliment a co...             1        52   \n",
       "1     what is the best way to materialize on an idea             1        29   \n",
       "2  what was is will be the happiest day of your life             1        53   \n",
       "3  what is the role of project management in agil...             1        47   \n",
       "4  between trump and clinton who will win us pres...             1        54   \n",
       "\n",
       "   que2_len  que1_num_words  que2_num_words  total_words  common_words  \\\n",
       "0        66               8              12           19             8   \n",
       "1        46               6              10           16             2   \n",
       "2        49              12              11           22            11   \n",
       "3        68               8              11           19             8   \n",
       "4        63               9              10           18             8   \n",
       "\n",
       "   shared_words  ...   ctc_max  last_word_eq  first_word_eq  abs_len_diff  \\\n",
       "0          0.42  ...  0.499996           1.0            1.0           4.0   \n",
       "1          0.12  ...  0.299997           1.0            0.0           4.0   \n",
       "2          0.50  ...  0.666661           0.0            1.0           1.0   \n",
       "3          0.42  ...  0.454541           0.0            1.0           3.0   \n",
       "4          0.44  ...  0.399996           0.0            0.0           1.0   \n",
       "\n",
       "   mean_len  long_substr_ratio  fuzz_ratio  fuzz_partial_ratio  \\\n",
       "0      10.0           0.547170          81                  85   \n",
       "1       8.0           0.433333          64                  72   \n",
       "2      11.5           0.600000          75                  78   \n",
       "3       9.5           0.312500          64                  70   \n",
       "4       9.5           0.400000          60                  77   \n",
       "\n",
       "   token_sort_ratio  token_set_ratio  \n",
       "0                81               83  \n",
       "1                53               79  \n",
       "2                84               88  \n",
       "3                59               71  \n",
       "4                65               68  \n",
       "\n",
       "[5 rows x 25 columns]"
      ]
     },
     "execution_count": 2,
     "metadata": {},
     "output_type": "execute_result"
    }
   ],
   "source": [
    "df=pd.read_csv('data/feat_extr_data.csv')\n",
    "df.head()"
   ]
  },
  {
   "cell_type": "markdown",
   "metadata": {
    "id": "gwsUc9uL3_AV"
   },
   "source": [
    "<h2 style=\"color:blue; background:pink; line-height:1.5\">Dataset information</h2>"
   ]
  },
  {
   "cell_type": "code",
   "execution_count": 3,
   "metadata": {
    "colab": {
     "base_uri": "https://localhost:8080/"
    },
    "id": "NVHK4gBmkQa8",
    "outputId": "f10d5cab-de6d-412f-9d7a-383d315dd38d"
   },
   "outputs": [
    {
     "data": {
      "text/plain": [
       "(49998, 25)"
      ]
     },
     "execution_count": 3,
     "metadata": {},
     "output_type": "execute_result"
    }
   ],
   "source": [
    "df.shape"
   ]
  },
  {
   "cell_type": "code",
   "execution_count": 4,
   "metadata": {
    "colab": {
     "base_uri": "https://localhost:8080/"
    },
    "id": "gE9zCHN74GIO",
    "outputId": "4bdd356e-14c5-46a0-ce49-dc62af98695d"
   },
   "outputs": [
    {
     "name": "stdout",
     "output_type": "stream",
     "text": [
      "<class 'pandas.core.frame.DataFrame'>\n",
      "RangeIndex: 49998 entries, 0 to 49997\n",
      "Data columns (total 25 columns):\n",
      " #   Column              Non-Null Count  Dtype  \n",
      "---  ------              --------------  -----  \n",
      " 0   question1           49998 non-null  object \n",
      " 1   question2           49998 non-null  object \n",
      " 2   is_duplicate        49998 non-null  int64  \n",
      " 3   que1_len            49998 non-null  int64  \n",
      " 4   que2_len            49998 non-null  int64  \n",
      " 5   que1_num_words      49998 non-null  int64  \n",
      " 6   que2_num_words      49998 non-null  int64  \n",
      " 7   total_words         49998 non-null  int64  \n",
      " 8   common_words        49998 non-null  int64  \n",
      " 9   shared_words        49998 non-null  float64\n",
      " 10  cwc_min             49998 non-null  float64\n",
      " 11  cwc_max             49998 non-null  float64\n",
      " 12  csc_min             49998 non-null  float64\n",
      " 13  csc_max             49998 non-null  float64\n",
      " 14  ctc_min             49998 non-null  float64\n",
      " 15  ctc_max             49998 non-null  float64\n",
      " 16  last_word_eq        49998 non-null  float64\n",
      " 17  first_word_eq       49998 non-null  float64\n",
      " 18  abs_len_diff        49998 non-null  float64\n",
      " 19  mean_len            49998 non-null  float64\n",
      " 20  long_substr_ratio   49998 non-null  float64\n",
      " 21  fuzz_ratio          49998 non-null  int64  \n",
      " 22  fuzz_partial_ratio  49998 non-null  int64  \n",
      " 23  token_sort_ratio    49998 non-null  int64  \n",
      " 24  token_set_ratio     49998 non-null  int64  \n",
      "dtypes: float64(12), int64(11), object(2)\n",
      "memory usage: 9.5+ MB\n"
     ]
    }
   ],
   "source": [
    "df.info()"
   ]
  },
  {
   "cell_type": "markdown",
   "metadata": {
    "id": "JzO9JYN34JNr"
   },
   "source": [
    "<h2 style=\"color:blue; background:pink; line-height:1.5\">Missing values</h2>"
   ]
  },
  {
   "cell_type": "code",
   "execution_count": 5,
   "metadata": {
    "colab": {
     "base_uri": "https://localhost:8080/"
    },
    "id": "rpP-K8lYqk8S",
    "outputId": "6465bc4c-3c39-4419-ad56-09f19f0c115d"
   },
   "outputs": [
    {
     "data": {
      "text/plain": [
       "question1             0\n",
       "question2             0\n",
       "is_duplicate          0\n",
       "que1_len              0\n",
       "que2_len              0\n",
       "que1_num_words        0\n",
       "que2_num_words        0\n",
       "total_words           0\n",
       "common_words          0\n",
       "shared_words          0\n",
       "cwc_min               0\n",
       "cwc_max               0\n",
       "csc_min               0\n",
       "csc_max               0\n",
       "ctc_min               0\n",
       "ctc_max               0\n",
       "last_word_eq          0\n",
       "first_word_eq         0\n",
       "abs_len_diff          0\n",
       "mean_len              0\n",
       "long_substr_ratio     0\n",
       "fuzz_ratio            0\n",
       "fuzz_partial_ratio    0\n",
       "token_sort_ratio      0\n",
       "token_set_ratio       0\n",
       "dtype: int64"
      ]
     },
     "execution_count": 5,
     "metadata": {},
     "output_type": "execute_result"
    }
   ],
   "source": [
    "df.isnull().sum()"
   ]
  },
  {
   "cell_type": "markdown",
   "metadata": {
    "id": "3JaViFSbRqkm"
   },
   "source": [
    "<h2 style=\"color:blue; background:pink; line-height:1.5\">Data Balance check</h2>"
   ]
  },
  {
   "cell_type": "code",
   "execution_count": 6,
   "metadata": {
    "colab": {
     "base_uri": "https://localhost:8080/",
     "height": 112
    },
    "id": "dlVNa9BuRtrU",
    "outputId": "5e4a7f1c-83e2-49d5-e1c1-080855662035"
   },
   "outputs": [
    {
     "data": {
      "text/html": [
       "<div>\n",
       "<style scoped>\n",
       "    .dataframe tbody tr th:only-of-type {\n",
       "        vertical-align: middle;\n",
       "    }\n",
       "\n",
       "    .dataframe tbody tr th {\n",
       "        vertical-align: top;\n",
       "    }\n",
       "\n",
       "    .dataframe thead th {\n",
       "        text-align: right;\n",
       "    }\n",
       "</style>\n",
       "<table border=\"1\" class=\"dataframe\">\n",
       "  <thead>\n",
       "    <tr style=\"text-align: right;\">\n",
       "      <th></th>\n",
       "      <th>Class</th>\n",
       "      <th>Count</th>\n",
       "      <th>Percentage</th>\n",
       "    </tr>\n",
       "  </thead>\n",
       "  <tbody>\n",
       "    <tr>\n",
       "      <th>0</th>\n",
       "      <td>1</td>\n",
       "      <td>25000</td>\n",
       "      <td>50.002</td>\n",
       "    </tr>\n",
       "    <tr>\n",
       "      <th>1</th>\n",
       "      <td>0</td>\n",
       "      <td>24998</td>\n",
       "      <td>49.998</td>\n",
       "    </tr>\n",
       "  </tbody>\n",
       "</table>\n",
       "</div>"
      ],
      "text/plain": [
       "   Class  Count  Percentage\n",
       "0      1  25000      50.002\n",
       "1      0  24998      49.998"
      ]
     },
     "execution_count": 6,
     "metadata": {},
     "output_type": "execute_result"
    }
   ],
   "source": [
    "class_balance=pd.DataFrame(df['is_duplicate'].value_counts()).reset_index()\n",
    "class_balance.columns=[\"Class\", \"Count\"]\n",
    "class_balance['Percentage']=(class_balance['Count']/df.shape[0])*100\n",
    "class_balance"
   ]
  },
  {
   "cell_type": "code",
   "execution_count": 7,
   "metadata": {
    "colab": {
     "base_uri": "https://localhost:8080/",
     "height": 526
    },
    "id": "2gedp0ryR1CG",
    "outputId": "cfbe7db5-a8ea-4145-d4a7-5e0cf11ccbcb"
   },
   "outputs": [
    {
     "data": {
      "image/png": "[encoded data removed]",
      "text/plain": [
       "<Figure size 432x432 with 1 Axes>"
      ]
     },
     "metadata": {},
     "output_type": "display_data"
    }
   ],
   "source": [
    "label=['Non-Duplicate', 'Duplicate'] \n",
    "color=sns.color_palette('rainbow')[4:6]\n",
    "plt.figure(figsize=(6,6))\n",
    "plt.pie(x=class_balance['Count'], labels=label, colors=color, autopct='%.0f%%' , labeldistance=0.5)\n",
    "plt.title(\"Count of Non-Duplicate and Duplicate questions\", fontsize=18, color='green');"
   ]
  },
  {
   "cell_type": "markdown",
   "metadata": {},
   "source": [
    "<h2 style=\"color:blue; background:pink; line-height:1.5\">Combine question1 and question2</h2>"
   ]
  },
  {
   "cell_type": "code",
   "execution_count": 8,
   "metadata": {},
   "outputs": [
    {
     "data": {
      "text/html": [
       "<div>\n",
       "<style scoped>\n",
       "    .dataframe tbody tr th:only-of-type {\n",
       "        vertical-align: middle;\n",
       "    }\n",
       "\n",
       "    .dataframe tbody tr th {\n",
       "        vertical-align: top;\n",
       "    }\n",
       "\n",
       "    .dataframe thead th {\n",
       "        text-align: right;\n",
       "    }\n",
       "</style>\n",
       "<table border=\"1\" class=\"dataframe\">\n",
       "  <thead>\n",
       "    <tr style=\"text-align: right;\">\n",
       "      <th></th>\n",
       "      <th>is_duplicate</th>\n",
       "      <th>question1</th>\n",
       "      <th>question2</th>\n",
       "      <th>combine_question</th>\n",
       "    </tr>\n",
       "  </thead>\n",
       "  <tbody>\n",
       "    <tr>\n",
       "      <th>0</th>\n",
       "      <td>1</td>\n",
       "      <td>what minor would complement a computer science...</td>\n",
       "      <td>what is a good minor that will compliment a co...</td>\n",
       "      <td>what minor would complement a computer science...</td>\n",
       "    </tr>\n",
       "    <tr>\n",
       "      <th>1</th>\n",
       "      <td>1</td>\n",
       "      <td>how can i materialize an idea</td>\n",
       "      <td>what is the best way to materialize on an idea</td>\n",
       "      <td>how can i materialize an idea what is the best...</td>\n",
       "    </tr>\n",
       "  </tbody>\n",
       "</table>\n",
       "</div>"
      ],
      "text/plain": [
       "   is_duplicate                                          question1  \\\n",
       "0             1  what minor would complement a computer science...   \n",
       "1             1                      how can i materialize an idea   \n",
       "\n",
       "                                           question2  \\\n",
       "0  what is a good minor that will compliment a co...   \n",
       "1     what is the best way to materialize on an idea   \n",
       "\n",
       "                                    combine_question  \n",
       "0  what minor would complement a computer science...  \n",
       "1  how can i materialize an idea what is the best...  "
      ]
     },
     "execution_count": 8,
     "metadata": {},
     "output_type": "execute_result"
    }
   ],
   "source": [
    "data=df[['is_duplicate','question1','question2']]\n",
    "data['combine_question']=data['question1']+\" \"+data['question2']\n",
    "data.head(2)"
   ]
  },
  {
   "cell_type": "markdown",
   "metadata": {
    "id": "TASr03i5498_"
   },
   "source": [
    "<h2 style=\"color:blue; background:pink; line-height:1.5\">Input and output feaures</h2>"
   ]
  },
  {
   "cell_type": "code",
   "execution_count": 9,
   "metadata": {
    "colab": {
     "base_uri": "https://localhost:8080/"
    },
    "id": "kuhG3nL9kQa-",
    "outputId": "0d48815a-8f04-468a-edac-50e94eb289d0"
   },
   "outputs": [
    {
     "name": "stdout",
     "output_type": "stream",
     "text": [
      "(49998, 3) (49998,)\n"
     ]
    }
   ],
   "source": [
    "X=data.drop('is_duplicate', axis=1)\n",
    "y=data['is_duplicate']\n",
    "print(X.shape, y.shape)"
   ]
  },
  {
   "cell_type": "markdown",
   "metadata": {},
   "source": [
    "<h2 style=\"color:blue; background:pink; line-height:1.5\">Train Test Split</h2>"
   ]
  },
  {
   "cell_type": "code",
   "execution_count": 10,
   "metadata": {},
   "outputs": [
    {
     "name": "stdout",
     "output_type": "stream",
     "text": [
      "x train shape= (39998, 3)\n",
      "y train shape= (39998,)\n",
      "x test shape= (10000, 3)\n",
      "y test shape= (10000,)\n"
     ]
    }
   ],
   "source": [
    "from sklearn.model_selection import train_test_split\n",
    "x_train, x_test, y_train, y_test = train_test_split(X, y, test_size=0.2, random_state=42)\n",
    "print(\"x train shape=\", x_train.shape)\n",
    "print(\"y train shape=\", y_train.shape)\n",
    "print(\"x test shape=\", x_test.shape)\n",
    "print(\"y test shape=\", y_test.shape)"
   ]
  },
  {
   "cell_type": "markdown",
   "metadata": {},
   "source": [
    "### No need of text preprocessing because we loaded clean data"
   ]
  },
  {
   "cell_type": "markdown",
   "metadata": {
    "id": "0gCnp0hzkQbB"
   },
   "source": [
    "<h2 style=\"color:blue; background:pink; line-height:1.5\">Convert Text to Numerical Vectors using Pretrained GloVe</h2>"
   ]
  },
  {
   "cell_type": "code",
   "execution_count": 12,
   "metadata": {},
   "outputs": [
    {
     "name": "stdout",
     "output_type": "stream",
     "text": [
      "4.3.1\n"
     ]
    }
   ],
   "source": [
    "import gensim\n",
    "print(gensim.__version__)\n",
    "import gensim.downloader as api"
   ]
  },
  {
   "cell_type": "code",
   "execution_count": 13,
   "metadata": {},
   "outputs": [],
   "source": [
    "wv=api.load('glove-twitter-50')"
   ]
  },
  {
   "cell_type": "code",
   "execution_count": 14,
   "metadata": {},
   "outputs": [
    {
     "data": {
      "text/plain": [
       "1193514"
      ]
     },
     "execution_count": 14,
     "metadata": {},
     "output_type": "execute_result"
    }
   ],
   "source": [
    "len(wv.index_to_key)"
   ]
  },
  {
   "cell_type": "markdown",
   "metadata": {
    "id": "9RHWcCWQkQbD"
   },
   "source": [
    "<h2 style=\"color:blue; background:pink; line-height:1.5\">Tokenize question 1 and question 2 in both train and test set</h2>"
   ]
  },
  {
   "cell_type": "code",
   "execution_count": 15,
   "metadata": {
    "scrolled": false
   },
   "outputs": [
    {
     "data": {
      "text/html": [
       "<div>\n",
       "<style scoped>\n",
       "    .dataframe tbody tr th:only-of-type {\n",
       "        vertical-align: middle;\n",
       "    }\n",
       "\n",
       "    .dataframe tbody tr th {\n",
       "        vertical-align: top;\n",
       "    }\n",
       "\n",
       "    .dataframe thead th {\n",
       "        text-align: right;\n",
       "    }\n",
       "</style>\n",
       "<table border=\"1\" class=\"dataframe\">\n",
       "  <thead>\n",
       "    <tr style=\"text-align: right;\">\n",
       "      <th></th>\n",
       "      <th>question1</th>\n",
       "      <th>question2</th>\n",
       "      <th>combine_question</th>\n",
       "      <th>tokenised_que</th>\n",
       "    </tr>\n",
       "  </thead>\n",
       "  <tbody>\n",
       "    <tr>\n",
       "      <th>39085</th>\n",
       "      <td>which laptop should i buy under 60k</td>\n",
       "      <td>which laptop should i buy under 60k</td>\n",
       "      <td>which laptop should i buy under 60k which lapt...</td>\n",
       "      <td>[which, laptop, should, i, buy, under, 60k, wh...</td>\n",
       "    </tr>\n",
       "    <tr>\n",
       "      <th>30892</th>\n",
       "      <td>how hair grow after hair transplant surgery</td>\n",
       "      <td>how long does a hair transplant surgery take</td>\n",
       "      <td>how hair grow after hair transplant surgery ho...</td>\n",
       "      <td>[how, hair, grow, after, hair, transplant, sur...</td>\n",
       "    </tr>\n",
       "  </tbody>\n",
       "</table>\n",
       "</div>"
      ],
      "text/plain": [
       "                                         question1  \\\n",
       "39085          which laptop should i buy under 60k   \n",
       "30892  how hair grow after hair transplant surgery   \n",
       "\n",
       "                                          question2  \\\n",
       "39085           which laptop should i buy under 60k   \n",
       "30892  how long does a hair transplant surgery take   \n",
       "\n",
       "                                        combine_question  \\\n",
       "39085  which laptop should i buy under 60k which lapt...   \n",
       "30892  how hair grow after hair transplant surgery ho...   \n",
       "\n",
       "                                           tokenised_que  \n",
       "39085  [which, laptop, should, i, buy, under, 60k, wh...  \n",
       "30892  [how, hair, grow, after, hair, transplant, sur...  "
      ]
     },
     "execution_count": 15,
     "metadata": {},
     "output_type": "execute_result"
    }
   ],
   "source": [
    "x_train['tokenised_que']=x_train['combine_question'].apply(lambda sent : sent.split())\n",
    "x_test['tokenised_que']=x_test['combine_question'].apply(lambda sent : sent.split())\n",
    "x_train.head(2)"
   ]
  },
  {
   "cell_type": "code",
   "execution_count": 16,
   "metadata": {},
   "outputs": [
    {
     "data": {
      "text/html": [
       "<div>\n",
       "<style scoped>\n",
       "    .dataframe tbody tr th:only-of-type {\n",
       "        vertical-align: middle;\n",
       "    }\n",
       "\n",
       "    .dataframe tbody tr th {\n",
       "        vertical-align: top;\n",
       "    }\n",
       "\n",
       "    .dataframe thead th {\n",
       "        text-align: right;\n",
       "    }\n",
       "</style>\n",
       "<table border=\"1\" class=\"dataframe\">\n",
       "  <thead>\n",
       "    <tr style=\"text-align: right;\">\n",
       "      <th></th>\n",
       "      <th>question1</th>\n",
       "      <th>question2</th>\n",
       "      <th>combine_question</th>\n",
       "      <th>tokenised_que</th>\n",
       "    </tr>\n",
       "  </thead>\n",
       "  <tbody>\n",
       "    <tr>\n",
       "      <th>33552</th>\n",
       "      <td>i am skinny fat what strategy should i follow ...</td>\n",
       "      <td>what will be future for r profile within few y...</td>\n",
       "      <td>i am skinny fat what strategy should i follow ...</td>\n",
       "      <td>[i, am, skinny, fat, what, strategy, should, i...</td>\n",
       "    </tr>\n",
       "    <tr>\n",
       "      <th>9427</th>\n",
       "      <td>do rich people worry about anything</td>\n",
       "      <td>what do wealthy people worry about</td>\n",
       "      <td>do rich people worry about anything what do we...</td>\n",
       "      <td>[do, rich, people, worry, about, anything, wha...</td>\n",
       "    </tr>\n",
       "  </tbody>\n",
       "</table>\n",
       "</div>"
      ],
      "text/plain": [
       "                                               question1  \\\n",
       "33552  i am skinny fat what strategy should i follow ...   \n",
       "9427                 do rich people worry about anything   \n",
       "\n",
       "                                               question2  \\\n",
       "33552  what will be future for r profile within few y...   \n",
       "9427                  what do wealthy people worry about   \n",
       "\n",
       "                                        combine_question  \\\n",
       "33552  i am skinny fat what strategy should i follow ...   \n",
       "9427   do rich people worry about anything what do we...   \n",
       "\n",
       "                                           tokenised_que  \n",
       "33552  [i, am, skinny, fat, what, strategy, should, i...  \n",
       "9427   [do, rich, people, worry, about, anything, wha...  "
      ]
     },
     "execution_count": 16,
     "metadata": {},
     "output_type": "execute_result"
    }
   ],
   "source": [
    "x_test.head(2)"
   ]
  },
  {
   "cell_type": "markdown",
   "metadata": {},
   "source": [
    "<h2 style=\"color:blue; background:pink; line-height:1.5\">Drop out of vocabulary words</h2>"
   ]
  },
  {
   "cell_type": "code",
   "execution_count": 19,
   "metadata": {},
   "outputs": [
    {
     "data": {
      "text/html": [
       "<div>\n",
       "<style scoped>\n",
       "    .dataframe tbody tr th:only-of-type {\n",
       "        vertical-align: middle;\n",
       "    }\n",
       "\n",
       "    .dataframe tbody tr th {\n",
       "        vertical-align: top;\n",
       "    }\n",
       "\n",
       "    .dataframe thead th {\n",
       "        text-align: right;\n",
       "    }\n",
       "</style>\n",
       "<table border=\"1\" class=\"dataframe\">\n",
       "  <thead>\n",
       "    <tr style=\"text-align: right;\">\n",
       "      <th></th>\n",
       "      <th>question1</th>\n",
       "      <th>question2</th>\n",
       "      <th>combine_question</th>\n",
       "      <th>tokenised_que</th>\n",
       "      <th>doc_vector</th>\n",
       "    </tr>\n",
       "  </thead>\n",
       "  <tbody>\n",
       "    <tr>\n",
       "      <th>39085</th>\n",
       "      <td>which laptop should i buy under 60k</td>\n",
       "      <td>which laptop should i buy under 60k</td>\n",
       "      <td>which laptop should i buy under 60k which lapt...</td>\n",
       "      <td>[which, laptop, should, i, buy, under, 60k, wh...</td>\n",
       "      <td>[-0.14728968, 0.14114876, -0.11543834, -0.0281...</td>\n",
       "    </tr>\n",
       "    <tr>\n",
       "      <th>30892</th>\n",
       "      <td>how hair grow after hair transplant surgery</td>\n",
       "      <td>how long does a hair transplant surgery take</td>\n",
       "      <td>how hair grow after hair transplant surgery ho...</td>\n",
       "      <td>[how, hair, grow, after, hair, transplant, sur...</td>\n",
       "      <td>[-0.4859347, -0.224695, -0.075187884, -0.26588...</td>\n",
       "    </tr>\n",
       "  </tbody>\n",
       "</table>\n",
       "</div>"
      ],
      "text/plain": [
       "                                         question1  \\\n",
       "39085          which laptop should i buy under 60k   \n",
       "30892  how hair grow after hair transplant surgery   \n",
       "\n",
       "                                          question2  \\\n",
       "39085           which laptop should i buy under 60k   \n",
       "30892  how long does a hair transplant surgery take   \n",
       "\n",
       "                                        combine_question  \\\n",
       "39085  which laptop should i buy under 60k which lapt...   \n",
       "30892  how hair grow after hair transplant surgery ho...   \n",
       "\n",
       "                                           tokenised_que  \\\n",
       "39085  [which, laptop, should, i, buy, under, 60k, wh...   \n",
       "30892  [how, hair, grow, after, hair, transplant, sur...   \n",
       "\n",
       "                                              doc_vector  \n",
       "39085  [-0.14728968, 0.14114876, -0.11543834, -0.0281...  \n",
       "30892  [-0.4859347, -0.224695, -0.075187884, -0.26588...  "
      ]
     },
     "execution_count": 19,
     "metadata": {},
     "output_type": "execute_result"
    }
   ],
   "source": [
    "def document_vector(doc, keyed_vectors):\n",
    "    vocab_tokens=[word for word in doc if word in keyed_vectors.index_to_key]\n",
    "    return np.mean(keyed_vectors.__getitem__(vocab_tokens), axis=0)\n",
    "\n",
    "x_train['doc_vector']=x_train['tokenised_que'].apply(lambda x : document_vector(x, wv))\n",
    "x_test['doc_vector']=x_test['tokenised_que'].apply(lambda x : document_vector(x, wv))\n",
    "x_train.head(2)"
   ]
  },
  {
   "cell_type": "code",
   "execution_count": 20,
   "metadata": {},
   "outputs": [
    {
     "data": {
      "text/html": [
       "<div>\n",
       "<style scoped>\n",
       "    .dataframe tbody tr th:only-of-type {\n",
       "        vertical-align: middle;\n",
       "    }\n",
       "\n",
       "    .dataframe tbody tr th {\n",
       "        vertical-align: top;\n",
       "    }\n",
       "\n",
       "    .dataframe thead th {\n",
       "        text-align: right;\n",
       "    }\n",
       "</style>\n",
       "<table border=\"1\" class=\"dataframe\">\n",
       "  <thead>\n",
       "    <tr style=\"text-align: right;\">\n",
       "      <th></th>\n",
       "      <th>question1</th>\n",
       "      <th>question2</th>\n",
       "      <th>combine_question</th>\n",
       "      <th>tokenised_que</th>\n",
       "      <th>doc_vector</th>\n",
       "    </tr>\n",
       "  </thead>\n",
       "  <tbody>\n",
       "    <tr>\n",
       "      <th>33552</th>\n",
       "      <td>i am skinny fat what strategy should i follow ...</td>\n",
       "      <td>what will be future for r profile within few y...</td>\n",
       "      <td>i am skinny fat what strategy should i follow ...</td>\n",
       "      <td>[i, am, skinny, fat, what, strategy, should, i...</td>\n",
       "      <td>[-0.0053916345, 0.0038385887, -0.06900545, -0....</td>\n",
       "    </tr>\n",
       "    <tr>\n",
       "      <th>9427</th>\n",
       "      <td>do rich people worry about anything</td>\n",
       "      <td>what do wealthy people worry about</td>\n",
       "      <td>do rich people worry about anything what do we...</td>\n",
       "      <td>[do, rich, people, worry, about, anything, wha...</td>\n",
       "      <td>[0.5303995, 0.3425142, -0.05356201, 0.33874, -...</td>\n",
       "    </tr>\n",
       "  </tbody>\n",
       "</table>\n",
       "</div>"
      ],
      "text/plain": [
       "                                               question1  \\\n",
       "33552  i am skinny fat what strategy should i follow ...   \n",
       "9427                 do rich people worry about anything   \n",
       "\n",
       "                                               question2  \\\n",
       "33552  what will be future for r profile within few y...   \n",
       "9427                  what do wealthy people worry about   \n",
       "\n",
       "                                        combine_question  \\\n",
       "33552  i am skinny fat what strategy should i follow ...   \n",
       "9427   do rich people worry about anything what do we...   \n",
       "\n",
       "                                           tokenised_que  \\\n",
       "33552  [i, am, skinny, fat, what, strategy, should, i...   \n",
       "9427   [do, rich, people, worry, about, anything, wha...   \n",
       "\n",
       "                                              doc_vector  \n",
       "33552  [-0.0053916345, 0.0038385887, -0.06900545, -0....  \n",
       "9427   [0.5303995, 0.3425142, -0.05356201, 0.33874, -...  "
      ]
     },
     "execution_count": 20,
     "metadata": {},
     "output_type": "execute_result"
    }
   ],
   "source": [
    "x_test.head(2)"
   ]
  },
  {
   "cell_type": "markdown",
   "metadata": {},
   "source": [
    "<h2 style=\"color:blue; background:pink; line-height:1.5\">Final Training and Testing Input data</h2>"
   ]
  },
  {
   "cell_type": "code",
   "execution_count": 21,
   "metadata": {},
   "outputs": [
    {
     "data": {
      "text/plain": [
       "array([-0.4859347 , -0.224695  , -0.07518788, -0.26588246,  0.05303352,\n",
       "       -0.24218853,  0.7209847 ,  0.04958791, -0.13588183,  0.01300734,\n",
       "       -0.13278641, -0.41828325, -4.1051664 ,  0.3920442 , -0.09572928,\n",
       "        0.28764734, -0.10601326, -0.29080328, -0.33808786, -0.5498167 ,\n",
       "       -0.29559   ,  0.5076881 ,  0.11771228,  0.23038414, -0.14262213,\n",
       "        0.7721395 , -0.01161353,  0.55617404,  0.14723572,  0.18185733,\n",
       "       -0.30316526, -0.12574887, -0.0055846 , -0.60573125,  0.06488951,\n",
       "        0.3739986 , -0.11965729,  0.40520602,  0.09362666,  0.17933334,\n",
       "       -0.6329209 , -0.02413607,  0.23115869,  0.28090504,  0.534548  ,\n",
       "       -0.75570744,  0.3039913 ,  0.22927652, -0.18706936,  0.04393585],\n",
       "      dtype=float32)"
      ]
     },
     "execution_count": 21,
     "metadata": {},
     "output_type": "execute_result"
    }
   ],
   "source": [
    "x_train=list(x_train['doc_vector'])\n",
    "x_test=list(x_test['doc_vector'])\n",
    "x_train[1]"
   ]
  },
  {
   "cell_type": "code",
   "execution_count": 22,
   "metadata": {},
   "outputs": [
    {
     "data": {
      "text/plain": [
       "array([ 0.5303995 ,  0.3425142 , -0.05356201,  0.33874   , -0.04516114,\n",
       "        0.20555168,  0.6659558 ,  0.06863333,  0.10900066,  0.35232663,\n",
       "       -0.31585065, -0.22159068, -4.9764333 , -0.05170734, -0.38774335,\n",
       "        0.02752433, -0.22470416, -0.39826468,  0.07516142, -0.36851832,\n",
       "        0.10129017,  0.0483425 , -0.02053583,  0.36733297, -0.09283283,\n",
       "        0.57455164,  0.5189917 ,  0.3091925 ,  0.15283665, -0.5050875 ,\n",
       "        0.21865948, -0.08279916,  0.01122583,  0.35314   , -0.19996317,\n",
       "        0.42614248, -0.2794591 , -0.10605707, -0.28483525, -0.18628241,\n",
       "       -0.6807851 ,  0.4144651 ,  0.5030428 , -0.29857966, -0.11928884,\n",
       "       -0.29761663,  0.2095514 ,  0.52496773, -0.33827516,  0.03742767],\n",
       "      dtype=float32)"
      ]
     },
     "execution_count": 22,
     "metadata": {},
     "output_type": "execute_result"
    }
   ],
   "source": [
    "x_test[1]"
   ]
  },
  {
   "cell_type": "markdown",
   "metadata": {
    "id": "rDj1UQJKKnR-"
   },
   "source": [
    "<h2 style=\"color:blue; background:pink; line-height:1.5\">Building model</h2>"
   ]
  },
  {
   "cell_type": "markdown",
   "metadata": {},
   "source": [
    "<h2 style=\"color:blue; background:pink;\">Set Experiment<h2>"
   ]
  },
  {
   "cell_type": "code",
   "execution_count": 23,
   "metadata": {},
   "outputs": [
    {
     "data": {
      "text/plain": [
       "<Experiment: artifact_location='file:///D:/DATA%20SCIENCE%20Internship%20with%20Innomatics/Final_%20Project_Quora_Question_Pair_Similarity/mlruns/591167485821976991', creation_time=1685863390057, experiment_id='591167485821976991', last_update_time=1685863390057, lifecycle_stage='active', name='Advance_approach_using_pre_trained_models', tags={}>"
      ]
     },
     "execution_count": 23,
     "metadata": {},
     "output_type": "execute_result"
    }
   ],
   "source": [
    "import mlflow\n",
    "mlflow.set_experiment(\"Advance_approach_using_pre_trained_models\")"
   ]
  },
  {
   "cell_type": "markdown",
   "metadata": {
    "id": "_INAemcqsZ00"
   },
   "source": [
    "<h2 style=\"color:blue; background:lightgreen; line-height:1\">1. Logistic Regression<h2>"
   ]
  },
  {
   "cell_type": "code",
   "execution_count": 25,
   "metadata": {},
   "outputs": [
    {
     "name": "stdout",
     "output_type": "stream",
     "text": [
      "----------------------------------------------------------\n",
      "Acuuracy=0.621\n",
      "Precission=0.6265406737880033\n",
      "Recall=0.6073277578653923\n",
      "F1 Score=0.6167846309403439\n",
      "----------------------------------------------------------\n",
      "Confusion Matrix=\n",
      "\n"
     ]
    },
    {
     "data": {
      "image/png": "[encoded data removed]",
      "text/plain": [
       "<Figure size 432x288 with 1 Axes>"
      ]
     },
     "metadata": {},
     "output_type": "display_data"
    },
    {
     "name": "stdout",
     "output_type": "stream",
     "text": [
      "----------------------------------------------------------\n",
      "Out of 10000 testing values 3790 are mis-classified.\n",
      "----------------------------------------------------------\n",
      "Classification Report=\n",
      "               precision    recall  f1-score   support\n",
      "\n",
      "           0       0.62      0.63      0.63      4978\n",
      "           1       0.63      0.61      0.62      5022\n",
      "\n",
      "    accuracy                           0.62     10000\n",
      "   macro avg       0.62      0.62      0.62     10000\n",
      "weighted avg       0.62      0.62      0.62     10000\n",
      "\n",
      "----------------------------------------------------------\n"
     ]
    }
   ],
   "source": [
    "from sklearn.linear_model import LogisticRegression\n",
    "from sklearn.metrics import classification_report, accuracy_score, recall_score, f1_score, precision_score, confusion_matrix\n",
    "import pickle\n",
    "with mlflow.start_run():\n",
    "    mlflow.set_tag(\"Owner\",\"Suraj H\")\n",
    "    mlflow.set_tag(\"Algorithm\", \"Logistic glove\")\n",
    "    \n",
    "    log_regression=LogisticRegression()\n",
    "    log_regression.fit(x_train,y_train)\n",
    "    pickle.dump(log_regression, open(\"resources_advance_approach_using_pre_trained_model/logistic_regression_glove.pkl\",\"wb\"))\n",
    "    \n",
    "    y_pred=log_regression.predict(x_test)\n",
    "    acc=accuracy_score(y_test,y_pred)\n",
    "    precision=precision_score(y_test,y_pred)\n",
    "    recall=recall_score(y_test,y_pred)\n",
    "    f1=f1_score(y_test,y_pred)\n",
    "    \n",
    "    print(\"----------------------------------------------------------\")\n",
    "    print(\"Acuuracy={}\\nPrecission={}\\nRecall={}\\nF1 Score={}\".format(acc, precision, recall, f1))\n",
    "    print(\"----------------------------------------------------------\")\n",
    "    print(\"Confusion Matrix=\\n\")\n",
    "    sns.heatmap(confusion_matrix(y_test,y_pred), annot=True, annot_kws={\"fontsize\":15}, linewidths=5, linecolor='blue',\n",
    "                yticklabels=[\"Non-Duplicate\",\"Duplicate\"], xticklabels=[\"Non-Duplicate\",\"Duplicate\"], cbar=None, fmt='g')\n",
    "    plt.xlabel(\"Predicted\",fontsize=18)\n",
    "    plt.ylabel(\"Actual\",fontsize=18)\n",
    "    plt.savefig(\"resources_advance_approach_using_pre_trained_model/log_reg_glove_conf_matrix.png\")\n",
    "    plt.show()\n",
    "    print(\"----------------------------------------------------------\")\n",
    "    print(\"Out of {} testing values {} are mis-classified.\".format(y_test.shape[0], sum(y_test!=y_pred)))\n",
    "    print(\"----------------------------------------------------------\")\n",
    "    print(\"Classification Report=\\n\", classification_report(y_test,y_pred))\n",
    "    print(\"----------------------------------------------------------\")\n",
    "    \n",
    "    mlflow.log_metrics({\"Accuracy\":acc, \"Precision\":precision, \"Recall\":recall, \"F1 Score\":f1})\n",
    "    mlflow.sklearn.log_model(log_regression, artifact_path=\"models\")\n",
    "    mlflow.log_artifact(\"resources_advance_approach_using_pre_trained_model/log_reg_glove_conf_matrix.png\")"
   ]
  },
  {
   "cell_type": "markdown",
   "metadata": {},
   "source": [
    "<h2 style=\"color:blue; background:lightgreen; line-height:1\">2. Naive Bayes<h2>"
   ]
  },
  {
   "cell_type": "code",
   "execution_count": 26,
   "metadata": {},
   "outputs": [
    {
     "name": "stdout",
     "output_type": "stream",
     "text": [
      "----------------------------------------------------------\n",
      "Acuuracy=0.6149\n",
      "Precission=0.6349389260198203\n",
      "Recall=0.5485862206292313\n",
      "F1 Score=0.5886123277427626\n",
      "----------------------------------------------------------\n",
      "Confusion Matrix=\n",
      "\n"
     ]
    },
    {
     "data": {
      "image/png": "[encoded data removed]",
      "text/plain": [
       "<Figure size 432x288 with 1 Axes>"
      ]
     },
     "metadata": {},
     "output_type": "display_data"
    },
    {
     "name": "stdout",
     "output_type": "stream",
     "text": [
      "----------------------------------------------------------\n",
      "Out of 10000 testing values 3851 are mis-classified.\n",
      "----------------------------------------------------------\n",
      "Classification Report=\n",
      "               precision    recall  f1-score   support\n",
      "\n",
      "           0       0.60      0.68      0.64      4978\n",
      "           1       0.63      0.55      0.59      5022\n",
      "\n",
      "    accuracy                           0.61     10000\n",
      "   macro avg       0.62      0.62      0.61     10000\n",
      "weighted avg       0.62      0.61      0.61     10000\n",
      "\n",
      "----------------------------------------------------------\n"
     ]
    }
   ],
   "source": [
    "from sklearn.naive_bayes import GaussianNB\n",
    "with mlflow.start_run():\n",
    "    mlflow.set_tag(\"Owner\",\"Suraj H\")\n",
    "    mlflow.set_tag(\"Algorithm\", \"Naive Bayes glove\")\n",
    "    \n",
    "    naive_classifier=GaussianNB()\n",
    "    naive_classifier.fit(x_train,y_train)\n",
    "    pickle.dump(naive_classifier, open(\"resources_advance_approach_using_pre_trained_model/naive_glove.pkl\",\"wb\"))\n",
    "    \n",
    "    y_pred=naive_classifier.predict(x_test)\n",
    "    acc=accuracy_score(y_test,y_pred)\n",
    "    precision=precision_score(y_test,y_pred)\n",
    "    recall=recall_score(y_test,y_pred)\n",
    "    f1=f1_score(y_test,y_pred)\n",
    "    \n",
    "    print(\"----------------------------------------------------------\")\n",
    "    print(\"Acuuracy={}\\nPrecission={}\\nRecall={}\\nF1 Score={}\".format(acc, precision, recall, f1))\n",
    "    print(\"----------------------------------------------------------\")\n",
    "    print(\"Confusion Matrix=\\n\")\n",
    "    sns.heatmap(confusion_matrix(y_test,y_pred), annot=True, annot_kws={\"fontsize\":15}, linewidths=5, linecolor='blue',\n",
    "                yticklabels=[\"Non-Duplicate\",\"Duplicate\"], xticklabels=[\"Non-Duplicate\",\"Duplicate\"], cbar=None, fmt='g')\n",
    "    plt.xlabel(\"Predicted\",fontsize=18)\n",
    "    plt.ylabel(\"Actual\",fontsize=18)\n",
    "    plt.savefig(\"resources_advance_approach_using_pre_trained_model/naive_glove_conf_matrix.png\")\n",
    "    plt.show()\n",
    "    print(\"----------------------------------------------------------\")\n",
    "    print(\"Out of {} testing values {} are mis-classified.\".format(y_test.shape[0], sum(y_test!=y_pred)))\n",
    "    print(\"----------------------------------------------------------\")\n",
    "    print(\"Classification Report=\\n\", classification_report(y_test,y_pred))\n",
    "    print(\"----------------------------------------------------------\")\n",
    "    \n",
    "    mlflow.log_metrics({\"Accuracy\":acc, \"Precision\":precision, \"Recall\":recall, \"F1 Score\":f1})\n",
    "    mlflow.sklearn.log_model(naive_classifier, artifact_path=\"models\")\n",
    "    mlflow.log_artifact(\"resources_advance_approach_using_pre_trained_model/naive_glove_conf_matrix.png\")"
   ]
  },
  {
   "cell_type": "markdown",
   "metadata": {},
   "source": [
    "<h2 style=\"color:blue; background:lightgreen; line-height:1\">3. Decision Tree</h2>"
   ]
  },
  {
   "cell_type": "code",
   "execution_count": 27,
   "metadata": {},
   "outputs": [
    {
     "name": "stdout",
     "output_type": "stream",
     "text": [
      "----------------------------------------------------------\n",
      "Acuuracy=0.6046\n",
      "Precission=0.6077481840193705\n",
      "Recall=0.5997610513739546\n",
      "F1 Score=0.6037282020444978\n",
      "----------------------------------------------------------\n",
      "Confusion Matrix=\n",
      "\n"
     ]
    },
    {
     "data": {
      "image/png": "[encoded data removed]",
      "text/plain": [
       "<Figure size 432x288 with 1 Axes>"
      ]
     },
     "metadata": {},
     "output_type": "display_data"
    },
    {
     "name": "stdout",
     "output_type": "stream",
     "text": [
      "----------------------------------------------------------\n",
      "Out of 10000 testing values 3954 are mis-classified.\n",
      "----------------------------------------------------------\n",
      "Classification Report=\n",
      "               precision    recall  f1-score   support\n",
      "\n",
      "           0       0.60      0.61      0.61      4978\n",
      "           1       0.61      0.60      0.60      5022\n",
      "\n",
      "    accuracy                           0.60     10000\n",
      "   macro avg       0.60      0.60      0.60     10000\n",
      "weighted avg       0.60      0.60      0.60     10000\n",
      "\n",
      "----------------------------------------------------------\n"
     ]
    }
   ],
   "source": [
    "from sklearn.tree import DecisionTreeClassifier\n",
    "from sklearn.metrics import classification_report, accuracy_score, recall_score, f1_score, precision_score, confusion_matrix\n",
    "import pickle\n",
    "with mlflow.start_run():\n",
    "    mlflow.set_tag(\"Owner\",\"Suraj H\")\n",
    "    mlflow.set_tag(\"Algorithm\", \"Decision Tree glove\")\n",
    "    \n",
    "    dt_classifier=DecisionTreeClassifier()\n",
    "    dt_classifier.fit(x_train,y_train)\n",
    "    pickle.dump(dt_classifier, open(\"resources_advance_approach_using_pre_trained_model/decision_tree_glove.pkl\",\"wb\"))\n",
    "    \n",
    "    y_pred=dt_classifier.predict(x_test)\n",
    "    acc=accuracy_score(y_test,y_pred)\n",
    "    precision=precision_score(y_test,y_pred)\n",
    "    recall=recall_score(y_test,y_pred)\n",
    "    f1=f1_score(y_test,y_pred)\n",
    "    \n",
    "    print(\"----------------------------------------------------------\")\n",
    "    print(\"Acuuracy={}\\nPrecission={}\\nRecall={}\\nF1 Score={}\".format(acc, precision, recall, f1))\n",
    "    print(\"----------------------------------------------------------\")\n",
    "    print(\"Confusion Matrix=\\n\")\n",
    "    sns.heatmap(confusion_matrix(y_test,y_pred), annot=True, annot_kws={\"fontsize\":15}, linewidths=5, linecolor='blue',\n",
    "                yticklabels=[\"Non-Duplicate\",\"Duplicate\"], xticklabels=[\"Non-Duplicate\",\"Duplicate\"], cbar=None, fmt='g')\n",
    "    plt.xlabel(\"Predicted\",fontsize=18)\n",
    "    plt.ylabel(\"Actual\",fontsize=18)\n",
    "    plt.savefig(\"resources_advance_approach_using_pre_trained_model/decision_tree_glove_conf_matrix.png\")\n",
    "    plt.show()\n",
    "    print(\"----------------------------------------------------------\")\n",
    "    print(\"Out of {} testing values {} are mis-classified.\".format(y_test.shape[0], sum(y_test!=y_pred)))\n",
    "    print(\"----------------------------------------------------------\")\n",
    "    print(\"Classification Report=\\n\", classification_report(y_test,y_pred))\n",
    "    print(\"----------------------------------------------------------\")\n",
    "    \n",
    "    mlflow.log_metrics({\"Accuracy\":acc, \"Precision\":precision, \"Recall\":recall, \"F1 Score\":f1})\n",
    "    mlflow.sklearn.log_model(dt_classifier, artifact_path=\"models\")\n",
    "    mlflow.log_artifact(\"resources_advance_approach_using_pre_trained_model/decision_tree_glove_conf_matrix.png\")"
   ]
  },
  {
   "cell_type": "markdown",
   "metadata": {},
   "source": [
    "<h2 style=\"color:blue; background:lightgreen; line-height:1\">4. Random Forest</h2>"
   ]
  },
  {
   "cell_type": "code",
   "execution_count": 28,
   "metadata": {},
   "outputs": [
    {
     "name": "stdout",
     "output_type": "stream",
     "text": [
      "----------------------------------------------------------\n",
      "Acuuracy=0.704\n",
      "Precission=0.7078629032258065\n",
      "Recall=0.6991238550378336\n",
      "F1 Score=0.7034662392306151\n",
      "----------------------------------------------------------\n",
      "Confusion Matrix=\n",
      "\n"
     ]
    },
    {
     "data": {
      "image/png": "[encoded data removed]",
      "text/plain": [
       "<Figure size 432x288 with 1 Axes>"
      ]
     },
     "metadata": {},
     "output_type": "display_data"
    },
    {
     "name": "stdout",
     "output_type": "stream",
     "text": [
      "----------------------------------------------------------\n",
      "Out of 10000 testing values 2960 are mis-classified.\n",
      "----------------------------------------------------------\n",
      "Classification Report=\n",
      "               precision    recall  f1-score   support\n",
      "\n",
      "           0       0.70      0.71      0.70      4978\n",
      "           1       0.71      0.70      0.70      5022\n",
      "\n",
      "    accuracy                           0.70     10000\n",
      "   macro avg       0.70      0.70      0.70     10000\n",
      "weighted avg       0.70      0.70      0.70     10000\n",
      "\n",
      "----------------------------------------------------------\n"
     ]
    }
   ],
   "source": [
    "from sklearn.ensemble import RandomForestClassifier\n",
    "from sklearn.metrics import classification_report, accuracy_score, recall_score, f1_score, precision_score, confusion_matrix\n",
    "import pickle\n",
    "with mlflow.start_run():\n",
    "    mlflow.set_tag(\"Owner\",\"Suraj H\")\n",
    "    mlflow.set_tag(\"Algorithm\", \"Random Forest glove\")\n",
    "    \n",
    "    rf_classifier=RandomForestClassifier()\n",
    "    rf_classifier.fit(x_train,y_train)\n",
    "    pickle.dump(rf_classifier, open(\"resources_advance_approach_using_pre_trained_model/random_forest_glove.pkl\",\"wb\"))\n",
    "    \n",
    "    y_pred=rf_classifier.predict(x_test)\n",
    "    acc=accuracy_score(y_test,y_pred)\n",
    "    precision=precision_score(y_test,y_pred)\n",
    "    recall=recall_score(y_test,y_pred)\n",
    "    f1=f1_score(y_test,y_pred)\n",
    "    \n",
    "    print(\"----------------------------------------------------------\")\n",
    "    print(\"Acuuracy={}\\nPrecission={}\\nRecall={}\\nF1 Score={}\".format(acc, precision, recall, f1))\n",
    "    print(\"----------------------------------------------------------\")\n",
    "    print(\"Confusion Matrix=\\n\")\n",
    "    sns.heatmap(confusion_matrix(y_test,y_pred), annot=True, annot_kws={\"fontsize\":15}, linewidths=5, linecolor='blue',\n",
    "                yticklabels=[\"Non-Duplicate\",\"Duplicate\"], xticklabels=[\"Non-Duplicate\",\"Duplicate\"], cbar=None, fmt='g')\n",
    "    plt.xlabel(\"Predicted\",fontsize=18)\n",
    "    plt.ylabel(\"Actual\",fontsize=18)\n",
    "    plt.savefig(\"resources_advance_approach_using_pre_trained_model/random_forest_glove_conf_matrix.png\")\n",
    "    plt.show()\n",
    "    print(\"----------------------------------------------------------\")\n",
    "    print(\"Out of {} testing values {} are mis-classified.\".format(y_test.shape[0], sum(y_test!=y_pred)))\n",
    "    print(\"----------------------------------------------------------\")\n",
    "    print(\"Classification Report=\\n\", classification_report(y_test,y_pred))\n",
    "    print(\"----------------------------------------------------------\")\n",
    "    \n",
    "    mlflow.log_metrics({\"Accuracy\":acc, \"Precision\":precision, \"Recall\":recall, \"F1 Score\":f1})\n",
    "    mlflow.sklearn.log_model(rf_classifier, artifact_path=\"models\")\n",
    "    mlflow.log_artifact(\"resources_advance_approach_using_pre_trained_model/random_forest_glove_conf_matrix.png\")"
   ]
  },
  {
   "cell_type": "markdown",
   "metadata": {},
   "source": [
    "<h2 style=\"color:blue; background:lightgreen; line-height:1\">5. Gradient Boosting</h2>"
   ]
  },
  {
   "cell_type": "code",
   "execution_count": 29,
   "metadata": {},
   "outputs": [
    {
     "name": "stdout",
     "output_type": "stream",
     "text": [
      "----------------------------------------------------------\n",
      "Acuuracy=0.6706\n",
      "Precission=0.6842217484008529\n",
      "Recall=0.6389884508164078\n",
      "F1 Score=0.660831960461285\n",
      "----------------------------------------------------------\n",
      "Confusion Matrix=\n",
      "\n"
     ]
    },
    {
     "data": {
      "image/png": "[encoded data removed]",
      "text/plain": [
       "<Figure size 432x288 with 1 Axes>"
      ]
     },
     "metadata": {},
     "output_type": "display_data"
    },
    {
     "name": "stdout",
     "output_type": "stream",
     "text": [
      "----------------------------------------------------------\n",
      "Out of 10000 testing values 3294 are mis-classified.\n",
      "----------------------------------------------------------\n",
      "Classification Report=\n",
      "               precision    recall  f1-score   support\n",
      "\n",
      "           0       0.66      0.70      0.68      4978\n",
      "           1       0.68      0.64      0.66      5022\n",
      "\n",
      "    accuracy                           0.67     10000\n",
      "   macro avg       0.67      0.67      0.67     10000\n",
      "weighted avg       0.67      0.67      0.67     10000\n",
      "\n",
      "----------------------------------------------------------\n"
     ]
    }
   ],
   "source": [
    "from sklearn.ensemble import GradientBoostingClassifier\n",
    "with mlflow.start_run():\n",
    "    mlflow.set_tag(\"Owner\",\"Suraj H\")\n",
    "    mlflow.set_tag(\"Algorithm\", \"Gradient Boost word2vec\")\n",
    "    \n",
    "    gb_classifier=GradientBoostingClassifier()\n",
    "    gb_classifier.fit(x_train,y_train)\n",
    "    pickle.dump(gb_classifier, open(\"resources_advance_approach_using_pre_trained_model/gradient_boostig_glove.pkl\",\"wb\"))\n",
    "    \n",
    "    y_pred=gb_classifier.predict(x_test)\n",
    "    acc=accuracy_score(y_test,y_pred)\n",
    "    precision=precision_score(y_test,y_pred)\n",
    "    recall=recall_score(y_test,y_pred)\n",
    "    f1=f1_score(y_test,y_pred)\n",
    "    \n",
    "    print(\"----------------------------------------------------------\")\n",
    "    print(\"Acuuracy={}\\nPrecission={}\\nRecall={}\\nF1 Score={}\".format(acc, precision, recall, f1))\n",
    "    print(\"----------------------------------------------------------\")\n",
    "    print(\"Confusion Matrix=\\n\")\n",
    "    sns.heatmap(confusion_matrix(y_test,y_pred), annot=True, annot_kws={\"fontsize\":15}, linewidths=5, linecolor='blue',\n",
    "                yticklabels=[\"Non-Duplicate\",\"Duplicate\"], xticklabels=[\"Non-Duplicate\",\"Duplicate\"], cbar=None, fmt='g')\n",
    "    plt.xlabel(\"Predicted\",fontsize=18)\n",
    "    plt.ylabel(\"Actual\",fontsize=18)\n",
    "    plt.savefig(\"resources_advance_approach_using_pre_trained_model/gradient_boost_glove_conf_matrix.png\")\n",
    "    plt.show()\n",
    "    print(\"----------------------------------------------------------\")\n",
    "    print(\"Out of {} testing values {} are mis-classified.\".format(y_test.shape[0], sum(y_test!=y_pred)))\n",
    "    print(\"----------------------------------------------------------\")\n",
    "    print(\"Classification Report=\\n\", classification_report(y_test,y_pred))\n",
    "    print(\"----------------------------------------------------------\")\n",
    "    \n",
    "    mlflow.log_metrics({\"Accuracy\":acc, \"Precision\":precision, \"Recall\":recall, \"F1 Score\":f1})\n",
    "    mlflow.sklearn.log_model(gb_classifier, artifact_path=\"models\")\n",
    "    mlflow.log_artifact(\"resources_advance_approach_using_pre_trained_model/gradient_boost_glove_conf_matrix.png\")"
   ]
  },
  {
   "cell_type": "markdown",
   "metadata": {},
   "source": [
    "<h2 style=\"color:blue; background:lightgreen; line-height:1\">6. Ada Boost</h2>"
   ]
  },
  {
   "cell_type": "code",
   "execution_count": 30,
   "metadata": {},
   "outputs": [
    {
     "name": "stdout",
     "output_type": "stream",
     "text": [
      "----------------------------------------------------------\n",
      "Acuuracy=0.6421\n",
      "Precission=0.6523115896136795\n",
      "Recall=0.6152927120669056\n",
      "F1 Score=0.6332616046726098\n",
      "----------------------------------------------------------\n",
      "Confusion Matrix=\n",
      "\n"
     ]
    },
    {
     "data": {
      "image/png": "[encoded data removed]",
      "text/plain": [
       "<Figure size 432x288 with 1 Axes>"
      ]
     },
     "metadata": {},
     "output_type": "display_data"
    },
    {
     "name": "stdout",
     "output_type": "stream",
     "text": [
      "----------------------------------------------------------\n",
      "Out of 10000 testing values 3579 are mis-classified.\n",
      "----------------------------------------------------------\n",
      "Classification Report=\n",
      "               precision    recall  f1-score   support\n",
      "\n",
      "           0       0.63      0.67      0.65      4978\n",
      "           1       0.65      0.62      0.63      5022\n",
      "\n",
      "    accuracy                           0.64     10000\n",
      "   macro avg       0.64      0.64      0.64     10000\n",
      "weighted avg       0.64      0.64      0.64     10000\n",
      "\n",
      "----------------------------------------------------------\n"
     ]
    }
   ],
   "source": [
    "from sklearn.ensemble import AdaBoostClassifier\n",
    "with mlflow.start_run():\n",
    "    mlflow.set_tag(\"Owner\",\"Suraj H\")\n",
    "    mlflow.set_tag(\"Algorithm\", \"Ada Boost glove\")\n",
    "    \n",
    "    ada_classifier=AdaBoostClassifier()\n",
    "    ada_classifier.fit(x_train,y_train)\n",
    "    pickle.dump(ada_classifier, open(\"resources_advance_approach_using_pre_trained_model/ada_boosting_glove.pkl\",\"wb\"))\n",
    "    \n",
    "    y_pred=ada_classifier.predict(x_test)\n",
    "    acc=accuracy_score(y_test,y_pred)\n",
    "    precision=precision_score(y_test,y_pred)\n",
    "    recall=recall_score(y_test,y_pred)\n",
    "    f1=f1_score(y_test,y_pred)\n",
    "    \n",
    "    print(\"----------------------------------------------------------\")\n",
    "    print(\"Acuuracy={}\\nPrecission={}\\nRecall={}\\nF1 Score={}\".format(acc, precision, recall, f1))\n",
    "    print(\"----------------------------------------------------------\")\n",
    "    print(\"Confusion Matrix=\\n\")\n",
    "    sns.heatmap(confusion_matrix(y_test,y_pred), annot=True, annot_kws={\"fontsize\":15}, linewidths=5, linecolor='blue',\n",
    "                yticklabels=[\"Non-Duplicate\",\"Duplicate\"], xticklabels=[\"Non-Duplicate\",\"Duplicate\"], cbar=None, fmt='g')\n",
    "    plt.xlabel(\"Predicted\",fontsize=18)\n",
    "    plt.ylabel(\"Actual\",fontsize=18)\n",
    "    plt.savefig(\"resources_advance_approach_using_pre_trained_model/ada_boost_glove_conf_matrix.png\")\n",
    "    plt.show()\n",
    "    print(\"----------------------------------------------------------\")\n",
    "    print(\"Out of {} testing values {} are mis-classified.\".format(y_test.shape[0], sum(y_test!=y_pred)))\n",
    "    print(\"----------------------------------------------------------\")\n",
    "    print(\"Classification Report=\\n\", classification_report(y_test,y_pred))\n",
    "    print(\"----------------------------------------------------------\")\n",
    "    \n",
    "    mlflow.log_metrics({\"Accuracy\":acc, \"Precision\":precision, \"Recall\":recall, \"F1 Score\":f1})\n",
    "    mlflow.sklearn.log_model(ada_classifier, artifact_path=\"models\")\n",
    "    mlflow.log_artifact(\"resources_advance_approach_using_pre_trained_model/ada_boost_glove_conf_matrix.png\")"
   ]
  },
  {
   "cell_type": "markdown",
   "metadata": {},
   "source": [
    "<h2 style=\"color:blue; background:lightgreen; line-height:1\">7. XG Boost</h2>"
   ]
  },
  {
   "cell_type": "code",
   "execution_count": 31,
   "metadata": {},
   "outputs": [
    {
     "name": "stdout",
     "output_type": "stream",
     "text": [
      "----------------------------------------------------------\n",
      "Acuuracy=0.6839\n",
      "Precission=0.6911070034914767\n",
      "Recall=0.6700517722023098\n",
      "F1 Score=0.6804165402891517\n",
      "----------------------------------------------------------\n",
      "Confusion Matrix=\n",
      "\n"
     ]
    },
    {
     "data": {
      "image/png": "[encoded data removed]",
      "text/plain": [
       "<Figure size 432x288 with 1 Axes>"
      ]
     },
     "metadata": {},
     "output_type": "display_data"
    },
    {
     "name": "stdout",
     "output_type": "stream",
     "text": [
      "----------------------------------------------------------\n",
      "Out of 10000 testing values 3161 are mis-classified.\n",
      "----------------------------------------------------------\n",
      "Classification Report=\n",
      "               precision    recall  f1-score   support\n",
      "\n",
      "           0       0.68      0.70      0.69      4978\n",
      "           1       0.69      0.67      0.68      5022\n",
      "\n",
      "    accuracy                           0.68     10000\n",
      "   macro avg       0.68      0.68      0.68     10000\n",
      "weighted avg       0.68      0.68      0.68     10000\n",
      "\n",
      "----------------------------------------------------------\n"
     ]
    }
   ],
   "source": [
    "from xgboost import XGBClassifier\n",
    "from sklearn.metrics import classification_report, accuracy_score, recall_score, f1_score, precision_score, confusion_matrix\n",
    "import pickle\n",
    "with mlflow.start_run():\n",
    "    mlflow.set_tag(\"Owner\",\"Suraj H\")\n",
    "    mlflow.set_tag(\"Algorithm\", \"XG Boost glove\")\n",
    "    \n",
    "    xgb_classifier=XGBClassifier()\n",
    "    xgb_classifier.fit(x_train,y_train)\n",
    "    pickle.dump(xgb_classifier, open(\"resources_advance_approach_using_pre_trained_model/xgboost_word2vec.pkl\",\"wb\"))\n",
    "    \n",
    "    y_pred=xgb_classifier.predict(x_test)\n",
    "    acc=accuracy_score(y_test,y_pred)\n",
    "    precision=precision_score(y_test,y_pred)\n",
    "    recall=recall_score(y_test,y_pred)\n",
    "    f1=f1_score(y_test,y_pred)\n",
    "    \n",
    "    print(\"----------------------------------------------------------\")\n",
    "    print(\"Acuuracy={}\\nPrecission={}\\nRecall={}\\nF1 Score={}\".format(acc, precision, recall, f1))\n",
    "    print(\"----------------------------------------------------------\")\n",
    "    print(\"Confusion Matrix=\\n\")\n",
    "    sns.heatmap(confusion_matrix(y_test,y_pred), annot=True, annot_kws={\"fontsize\":15}, linewidths=5, linecolor='blue',\n",
    "                yticklabels=[\"Non-Duplicate\",\"Duplicate\"], xticklabels=[\"Non-Duplicate\",\"Duplicate\"], cbar=None, fmt='g')\n",
    "    plt.xlabel(\"Predicted\",fontsize=18)\n",
    "    plt.ylabel(\"Actual\",fontsize=18)\n",
    "    plt.savefig(\"resources_advance_approach_using_pre_trained_model/xgboost_glove_conf_matrix.png\")\n",
    "    plt.show()\n",
    "    print(\"----------------------------------------------------------\")\n",
    "    print(\"Out of {} testing values {} are mis-classified.\".format(y_test.shape[0], sum(y_test!=y_pred)))\n",
    "    print(\"----------------------------------------------------------\")\n",
    "    print(\"Classification Report=\\n\", classification_report(y_test,y_pred))\n",
    "    print(\"----------------------------------------------------------\")\n",
    "    \n",
    "    mlflow.log_metrics({\"Accuracy\":acc, \"Precision\":precision, \"Recall\":recall, \"F1 Score\":f1})\n",
    "    mlflow.sklearn.log_model(xgb_classifier, artifact_path=\"models\")\n",
    "    mlflow.log_artifact(\"resources_advance_approach_using_pre_trained_model/xgboost_glove_conf_matrix.png\")"
   ]
  },
  {
   "cell_type": "markdown",
   "metadata": {},
   "source": [
    "### Inference:\n",
    " **Accuracy of Random Forest model is high(71%).**"
   ]
  },
  {
   "cell_type": "code",
   "execution_count": null,
   "metadata": {},
   "outputs": [],
   "source": []
  }
 ],
 "metadata": {
  "accelerator": "GPU",
  "colab": {
   "provenance": []
  },
  "gpuClass": "standard",
  "kernelspec": {
   "display_name": "Python 3 (ipykernel)",
   "language": "python",
   "name": "python3"
  },
  "language_info": {
   "codemirror_mode": {
    "name": "ipython",
    "version": 3
   },
   "file_extension": ".py",
   "mimetype": "text/x-python",
   "name": "python",
   "nbconvert_exporter": "python",
   "pygments_lexer": "ipython3",
   "version": "3.9.7"
  }
 },
 "nbformat": 4,
 "nbformat_minor": 1
}
